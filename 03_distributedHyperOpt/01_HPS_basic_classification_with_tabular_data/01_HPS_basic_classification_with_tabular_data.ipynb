{
 "cells": [
  {
   "cell_type": "markdown",
   "id": "f4dc356b",
   "metadata": {},
   "source": [
    "<img src=\"../Figures/Deephyper.png\" style=\"height: 200px;\">\n",
    "\n",
    "<!--<h1><center>Hyperparameter search for classification with Tabular data</center></h1>-->\n",
    "\n",
    "<div class=\"alert alert-info\">\n",
    "    \n",
    "<b>Reference</b>\n",
    "    \n",
    "This tutorial is based on materials from the Keras Documentation:\n",
    "* [Structured data classification from scratch](https://keras.io/examples/structured_data/structured_data_classification_from_scratch/)\n",
    "    \n",
    "</div>\n",
    "\n",
    "\n",
    "<div class=\"alert alert-warning\">\n",
    "\n",
    "<b>Warning</b>\n",
    "    \n",
    "By design asyncio does not allow nested event loops. Jupyter is using Tornado which already starts an event loop. Therefore the following patch is required to run this tutorial.\n",
    "    \n",
    "This tutorial should be run with `tensorFlow>=2.6`.\n",
    "    \n",
    "</div>"
   ]
  },
  {
   "cell_type": "markdown",
   "id": "f7ef2e27",
   "metadata": {},
   "source": [
    "# Hyperparameter search for classification with Tabular data"
   ]
  },
  {
   "cell_type": "code",
   "execution_count": null,
   "id": "bb4474f0",
   "metadata": {
    "ExecuteTime": {
     "end_time": "2021-10-05T13:55:35.991234Z",
     "start_time": "2021-10-05T13:55:35.991218Z"
    },
    "execution": {
     "iopub.execute_input": "2021-10-05T13:19:48.990662Z",
     "iopub.status.busy": "2021-10-05T13:19:48.990282Z",
     "iopub.status.idle": "2021-10-05T13:19:51.780827Z",
     "shell.execute_reply": "2021-10-05T13:19:51.780182Z",
     "shell.execute_reply.started": "2021-10-05T13:19:48.990582Z"
    }
   },
   "outputs": [],
   "source": [
    "!pip install nest_asyncio\n",
    "\n",
    "import nest_asyncio\n",
    "nest_asyncio.apply()"
   ]
  },
  {
   "cell_type": "markdown",
   "id": "38664b59",
   "metadata": {},
   "source": [
    "<div class=\"alert alert-info\">\n",
    "    \n",
    "<b>Note</b>\n",
    "    \n",
    "The following environment variables can be used to avoid the logging of **some** Tensorflow *DEBUG*, *INFO* and *WARNING* statements.\n",
    "    \n",
    "</div>"
   ]
  },
  {
   "cell_type": "code",
   "execution_count": null,
   "id": "320e7d27",
   "metadata": {
    "ExecuteTime": {
     "end_time": "2021-10-05T13:55:35.993697Z",
     "start_time": "2021-10-05T13:55:35.993666Z"
    },
    "execution": {
     "iopub.execute_input": "2021-10-05T13:19:52.492998Z",
     "iopub.status.busy": "2021-10-05T13:19:52.492700Z",
     "iopub.status.idle": "2021-10-05T13:19:52.496874Z",
     "shell.execute_reply": "2021-10-05T13:19:52.496162Z",
     "shell.execute_reply.started": "2021-10-05T13:19:52.492970Z"
    }
   },
   "outputs": [],
   "source": [
    "import os\n",
    "\n",
    "os.environ[\"TF_CPP_MIN_LOG_LEVEL\"] = str(3)\n",
    "os.environ[\"AUTOGRAPH_VERBOSITY\"] = str(0)"
   ]
  },
  {
   "cell_type": "markdown",
   "id": "0360c86e",
   "metadata": {},
   "source": [
    "## Imports\n",
    "\n",
    "<div class=\"alert alert-block alert-danger\">\n",
    "    \n",
    "<b>Danger</b> \n",
    "\n",
    "The following cell contains Tensorflow import `import tensorflow as tf`. It is important to follow this strategy instead of `from tensorflow.keras.layers import ...` to avoid non-serializable data, creating crashes during the search. For example, the original Keras tutorial was using the following set of imports which was creating a serialization error in our use case.\n",
    "    \n",
    "```python\n",
    "from tensorflow import keras\n",
    "from tensorflow.keras import layers\n",
    "...\n",
    "from tensorflow.keras.layers import IntegerLookup\n",
    "from tensorflow.keras.layers import Normalization\n",
    "from tensorflow.keras.layers import StringLookup\n",
    "```\n",
    "    \n",
    "</div>"
   ]
  },
  {
   "cell_type": "code",
   "execution_count": 3,
   "id": "f3a37b1d",
   "metadata": {
    "ExecuteTime": {
     "end_time": "2021-10-05T13:37:44.147278Z",
     "start_time": "2021-10-05T13:37:40.905009Z"
    },
    "execution": {
     "iopub.execute_input": "2021-10-05T13:19:55.476248Z",
     "iopub.status.busy": "2021-10-05T13:19:55.475972Z",
     "iopub.status.idle": "2021-10-05T13:19:59.977776Z",
     "shell.execute_reply": "2021-10-05T13:19:59.976946Z",
     "shell.execute_reply.started": "2021-10-05T13:19:55.476222Z"
    }
   },
   "outputs": [],
   "source": [
    "import ray\n",
    "import pandas as pd\n",
    "import tensorflow as tf"
   ]
  },
  {
   "cell_type": "markdown",
   "id": "e9061925",
   "metadata": {},
   "source": [
    "<div class=\"alert alert-info\">\n",
    "    \n",
    "<b>Note</b>\n",
    "    \n",
    "The following can be used to detect if **GPU** devices are available on the current host. Therefore, this notebook will automatically adapt the parallel execution based on the ressources available locally. However, it will not be the case if many compute nodes are requested.\n",
    "    \n",
    "</div>"
   ]
  },
  {
   "cell_type": "code",
   "execution_count": 4,
   "id": "da5e0602",
   "metadata": {
    "ExecuteTime": {
     "end_time": "2021-10-05T13:37:44.311842Z",
     "start_time": "2021-10-05T13:37:44.157241Z"
    },
    "execution": {
     "iopub.execute_input": "2021-10-05T13:20:04.352206Z",
     "iopub.status.busy": "2021-10-05T13:20:04.351647Z",
     "iopub.status.idle": "2021-10-05T13:20:04.633707Z",
     "shell.execute_reply": "2021-10-05T13:20:04.632997Z",
     "shell.execute_reply.started": "2021-10-05T13:20:04.352152Z"
    }
   },
   "outputs": [
    {
     "name": "stdout",
     "output_type": "stream",
     "text": [
      "No GPU available\n"
     ]
    }
   ],
   "source": [
    "from tensorflow.python.client import device_lib\n",
    "\n",
    "def get_available_gpus():\n",
    "    local_device_protos = device_lib.list_local_devices()\n",
    "    return [x.name for x in local_device_protos if x.device_type == \"GPU\"]\n",
    "\n",
    "n_gpus = len(get_available_gpus())\n",
    "is_gpu_available = n_gpus > 0\n",
    "\n",
    "if is_gpu_available:\n",
    "    print(f\"{n_gpus} GPU{'s are' if n_gpus > 1 else ' is'} available.\")\n",
    "else:\n",
    "    print(\"No GPU available\")"
   ]
  },
  {
   "cell_type": "markdown",
   "id": "c702c644",
   "metadata": {},
   "source": [
    "### The dataset (from Keras.io)\n",
    "\n",
    "The [dataset](https://archive.ics.uci.edu/ml/datasets/heart+Disease) is provided by the\n",
    "Cleveland Clinic Foundation for Heart Disease.\n",
    "It's a CSV file with 303 rows. Each row contains information about a patient (a\n",
    "**sample**), and each column describes an attribute of the patient (a **feature**). We\n",
    "use the features to predict whether a patient has a heart disease (**binary\n",
    "classification**).\n",
    "\n",
    "Here's the description of each feature:\n",
    "\n",
    "Column| Description| Feature Type\n",
    "------------|--------------------|----------------------\n",
    "Age | Age in years | Numerical\n",
    "Sex | (1 = male; 0 = female) | Categorical\n",
    "CP | Chest pain type (0, 1, 2, 3, 4) | Categorical\n",
    "Trestbpd | Resting blood pressure (in mm Hg on admission) | Numerical\n",
    "Chol | Serum cholesterol in mg/dl | Numerical\n",
    "FBS | fasting blood sugar in 120 mg/dl (1 = true; 0 = false) | Categorical\n",
    "RestECG | Resting electrocardiogram results (0, 1, 2) | Categorical\n",
    "Thalach | Maximum heart rate achieved | Numerical\n",
    "Exang | Exercise induced angina (1 = yes; 0 = no) | Categorical\n",
    "Oldpeak | ST depression induced by exercise relative to rest | Numerical\n",
    "Slope | Slope of the peak exercise ST segment | Numerical\n",
    "CA | Number of major vessels (0-3) colored by fluoroscopy | Both numerical & categorical\n",
    "Thal | 3 = normal; 6 = fixed defect; 7 = reversible defect | Categorical\n",
    "Target | Diagnosis of heart disease (1 = true; 0 = false) | Target"
   ]
  },
  {
   "cell_type": "code",
   "execution_count": 5,
   "id": "9499cd94",
   "metadata": {
    "ExecuteTime": {
     "end_time": "2021-10-05T13:39:18.741916Z",
     "start_time": "2021-10-05T13:39:18.736645Z"
    },
    "execution": {
     "iopub.execute_input": "2021-10-05T13:20:09.216293Z",
     "iopub.status.busy": "2021-10-05T13:20:09.215939Z",
     "iopub.status.idle": "2021-10-05T13:20:09.222811Z",
     "shell.execute_reply": "2021-10-05T13:20:09.222055Z",
     "shell.execute_reply.started": "2021-10-05T13:20:09.216257Z"
    }
   },
   "outputs": [],
   "source": [
    "def load_data():\n",
    "#     file_url = \"http://storage.googleapis.com/download.tensorflow.org/data/heart.csv\"\n",
    "    file_url = \"heart.csv\"\n",
    "    dataframe = pd.read_csv(file_url)\n",
    "\n",
    "    val_dataframe = dataframe.sample(frac=0.2, random_state=1337)\n",
    "    train_dataframe = dataframe.drop(val_dataframe.index)\n",
    "\n",
    "    return train_dataframe, val_dataframe\n",
    "\n",
    "\n",
    "def dataframe_to_dataset(dataframe):\n",
    "    dataframe = dataframe.copy()\n",
    "    labels = dataframe.pop(\"target\")\n",
    "    ds = tf.data.Dataset.from_tensor_slices((dict(dataframe), labels))\n",
    "    ds = ds.shuffle(buffer_size=len(dataframe))\n",
    "    return ds"
   ]
  },
  {
   "cell_type": "markdown",
   "id": "6ceb5938",
   "metadata": {},
   "source": [
    "## Preprocessing & encoding of features\n",
    "\n",
    "The next cells use `tf.keras.layers.Normalization()` to apply standard scaling on the features. Then, the `tf.keras.layers.StringLookup` and `tf.keras.layers.IntegerLookup` are used to encode categorical variables."
   ]
  },
  {
   "cell_type": "code",
   "execution_count": 6,
   "id": "996814d7",
   "metadata": {
    "ExecuteTime": {
     "end_time": "2021-10-05T13:39:20.491168Z",
     "start_time": "2021-10-05T13:39:20.485072Z"
    },
    "execution": {
     "iopub.execute_input": "2021-10-05T13:20:10.938147Z",
     "iopub.status.busy": "2021-10-05T13:20:10.937624Z",
     "iopub.status.idle": "2021-10-05T13:20:10.950587Z",
     "shell.execute_reply": "2021-10-05T13:20:10.949641Z",
     "shell.execute_reply.started": "2021-10-05T13:20:10.938088Z"
    }
   },
   "outputs": [],
   "source": [
    "def encode_numerical_feature(feature, name, dataset):\n",
    "    # Create a Normalization layer for our feature\n",
    "    normalizer = tf.keras.layers.Normalization()\n",
    "\n",
    "    # Prepare a Dataset that only yields our feature\n",
    "    feature_ds = dataset.map(lambda x, y: x[name])\n",
    "    feature_ds = feature_ds.map(lambda x: tf.expand_dims(x, -1))\n",
    "\n",
    "    # Learn the statistics of the data\n",
    "    normalizer.adapt(feature_ds)\n",
    "\n",
    "    # Normalize the input feature\n",
    "    encoded_feature = normalizer(feature)\n",
    "    return encoded_feature\n",
    "\n",
    "\n",
    "def encode_categorical_feature(feature, name, dataset, is_string):\n",
    "    lookup_class = (\n",
    "        tf.keras.layers.StringLookup if is_string else tf.keras.layers.IntegerLookup\n",
    "    )\n",
    "    # Create a lookup layer which will turn strings into integer indices\n",
    "    lookup = lookup_class(output_mode=\"binary\")\n",
    "\n",
    "    # Prepare a Dataset that only yields our feature\n",
    "    feature_ds = dataset.map(lambda x, y: x[name])\n",
    "    feature_ds = feature_ds.map(lambda x: tf.expand_dims(x, -1))\n",
    "\n",
    "    # Learn the set of possible string values and assign them a fixed integer index\n",
    "    lookup.adapt(feature_ds)\n",
    "\n",
    "    # Turn the string input into integer indices\n",
    "    encoded_feature = lookup(feature)\n",
    "    return encoded_feature"
   ]
  },
  {
   "cell_type": "markdown",
   "id": "c8743319",
   "metadata": {},
   "source": [
    "## Define the run-function\n",
    "\n",
    "The run-function defines how the objective that we want to maximize is computed. It takes a `config` dictionnary as input and often returns a scalar value that we want to maximize. The `config` contains a sample value of hyperparameters to we want to tune. In this example we will search for:\n",
    "* `units` (default value: `32`)\n",
    "* `activation` (default value: `\"relu\"`)\n",
    "* `dropout_rate` (default value: `0.5`)\n",
    "* `num_epochs` (default value: `50`)\n",
    "* `batch_size` (default value: `32`)\n",
    "* `learning_rate` (default value: `1e-3`)\n",
    "An hyperparameter value can be acessed easily in the dictionnary through the corresponding key, for example `config[\"units\"]`."
   ]
  },
  {
   "cell_type": "code",
   "execution_count": 7,
   "id": "2f99f031",
   "metadata": {
    "ExecuteTime": {
     "end_time": "2021-10-05T13:39:23.089250Z",
     "start_time": "2021-10-05T13:39:23.075398Z"
    },
    "execution": {
     "iopub.execute_input": "2021-10-05T13:20:14.252344Z",
     "iopub.status.busy": "2021-10-05T13:20:14.251894Z",
     "iopub.status.idle": "2021-10-05T13:20:14.269736Z",
     "shell.execute_reply": "2021-10-05T13:20:14.269026Z",
     "shell.execute_reply.started": "2021-10-05T13:20:14.252307Z"
    }
   },
   "outputs": [],
   "source": [
    "def run(config: dict):\n",
    "    tf.autograph.set_verbosity(0)\n",
    "    \n",
    "    train_dataframe, val_dataframe = load_data()\n",
    "\n",
    "    train_ds = dataframe_to_dataset(train_dataframe)\n",
    "    val_ds = dataframe_to_dataset(val_dataframe)\n",
    "\n",
    "    train_ds = train_ds.batch(config[\"batch_size\"])\n",
    "    val_ds = val_ds.batch(config[\"batch_size\"])\n",
    "\n",
    "    # Categorical features encoded as integers\n",
    "    sex = tf.keras.Input(shape=(1,), name=\"sex\", dtype=\"int64\")\n",
    "    cp = tf.keras.Input(shape=(1,), name=\"cp\", dtype=\"int64\")\n",
    "    fbs = tf.keras.Input(shape=(1,), name=\"fbs\", dtype=\"int64\")\n",
    "    restecg = tf.keras.Input(shape=(1,), name=\"restecg\", dtype=\"int64\")\n",
    "    exang = tf.keras.Input(shape=(1,), name=\"exang\", dtype=\"int64\")\n",
    "    ca = tf.keras.Input(shape=(1,), name=\"ca\", dtype=\"int64\")\n",
    "\n",
    "    # Categorical feature encoded as string\n",
    "    thal = tf.keras.Input(shape=(1,), name=\"thal\", dtype=\"string\")\n",
    "\n",
    "    # Numerical features\n",
    "    age = tf.keras.Input(shape=(1,), name=\"age\")\n",
    "    trestbps = tf.keras.Input(shape=(1,), name=\"trestbps\")\n",
    "    chol = tf.keras.Input(shape=(1,), name=\"chol\")\n",
    "    thalach = tf.keras.Input(shape=(1,), name=\"thalach\")\n",
    "    oldpeak = tf.keras.Input(shape=(1,), name=\"oldpeak\")\n",
    "    slope = tf.keras.Input(shape=(1,), name=\"slope\")\n",
    "\n",
    "    all_inputs = [\n",
    "        sex,\n",
    "        cp,\n",
    "        fbs,\n",
    "        restecg,\n",
    "        exang,\n",
    "        ca,\n",
    "        thal,\n",
    "        age,\n",
    "        trestbps,\n",
    "        chol,\n",
    "        thalach,\n",
    "        oldpeak,\n",
    "        slope,\n",
    "    ]\n",
    "\n",
    "    # Integer categorical features\n",
    "    sex_encoded = encode_categorical_feature(sex, \"sex\", train_ds, False)\n",
    "    cp_encoded = encode_categorical_feature(cp, \"cp\", train_ds, False)\n",
    "    fbs_encoded = encode_categorical_feature(fbs, \"fbs\", train_ds, False)\n",
    "    restecg_encoded = encode_categorical_feature(restecg, \"restecg\", train_ds, False)\n",
    "    exang_encoded = encode_categorical_feature(exang, \"exang\", train_ds, False)\n",
    "    ca_encoded = encode_categorical_feature(ca, \"ca\", train_ds, False)\n",
    "\n",
    "    # String categorical features\n",
    "    thal_encoded = encode_categorical_feature(thal, \"thal\", train_ds, True)\n",
    "\n",
    "    # Numerical features\n",
    "    age_encoded = encode_numerical_feature(age, \"age\", train_ds)\n",
    "    trestbps_encoded = encode_numerical_feature(trestbps, \"trestbps\", train_ds)\n",
    "    chol_encoded = encode_numerical_feature(chol, \"chol\", train_ds)\n",
    "    thalach_encoded = encode_numerical_feature(thalach, \"thalach\", train_ds)\n",
    "    oldpeak_encoded = encode_numerical_feature(oldpeak, \"oldpeak\", train_ds)\n",
    "    slope_encoded = encode_numerical_feature(slope, \"slope\", train_ds)\n",
    "\n",
    "    all_features = tf.keras.layers.concatenate(\n",
    "        [\n",
    "            sex_encoded,\n",
    "            cp_encoded,\n",
    "            fbs_encoded,\n",
    "            restecg_encoded,\n",
    "            exang_encoded,\n",
    "            slope_encoded,\n",
    "            ca_encoded,\n",
    "            thal_encoded,\n",
    "            age_encoded,\n",
    "            trestbps_encoded,\n",
    "            chol_encoded,\n",
    "            thalach_encoded,\n",
    "            oldpeak_encoded,\n",
    "        ]\n",
    "    )\n",
    "    x = tf.keras.layers.Dense(config[\"units\"], activation=config[\"activation\"])(\n",
    "        all_features\n",
    "    )\n",
    "    x = tf.keras.layers.Dropout(config[\"dropout_rate\"])(x)\n",
    "    output = tf.keras.layers.Dense(1, activation=\"sigmoid\")(x)\n",
    "    model = tf.keras.Model(all_inputs, output)\n",
    "\n",
    "    optimizer = tf.keras.optimizers.Adam(learning_rate=config[\"learning_rate\"])\n",
    "    model.compile(optimizer, \"binary_crossentropy\", metrics=[\"accuracy\"])\n",
    "\n",
    "    history = model.fit(\n",
    "        train_ds, epochs=config[\"num_epochs\"], validation_data=val_ds, verbose=0\n",
    "    )\n",
    "\n",
    "    return history.history[\"val_accuracy\"][-1]"
   ]
  },
  {
   "cell_type": "markdown",
   "id": "ea800ab1",
   "metadata": {},
   "source": [
    "<div class=\"alert alert-success\">\n",
    "    \n",
    "<b>Important</b>\n",
    "    \n",
    "The objective maximised by DeepHyper is the scalar value returned by the `run`-function. In this tutorial it corresponds to the validation accuracy of the last epoch of training which we retrieve in the `History` object returned by the `model.fit(...)` call.\n",
    "    \n",
    "```python\n",
    "...\n",
    "history = model.fit(\n",
    "    train_ds, epochs=config[\"num_epochs\"], validation_data=val_ds, verbose=0\n",
    ")\n",
    "\n",
    "return history.history[\"val_accuracy\"][-1]\n",
    "...\n",
    "```\n",
    "\n",
    "Using an objective like `max(history.history[\"val_accuracy\"])` can have undesired effect such as training curves passing by a local maximum and then dropping which will not generate a model in capacity of ingesting well more data in the future.\n",
    "    \n",
    "</div>\n",
    "\n"
   ]
  },
  {
   "cell_type": "markdown",
   "id": "9f1719e4",
   "metadata": {},
   "source": [
    "## Evaluate a default configuration\n",
    "\n",
    "We evaluate the performance of the default set of hyperparameters provided in the Keras tutorial."
   ]
  },
  {
   "cell_type": "code",
   "execution_count": 8,
   "id": "5ab7ab0c",
   "metadata": {
    "ExecuteTime": {
     "end_time": "2021-10-05T13:39:38.481185Z",
     "start_time": "2021-10-05T13:39:29.633552Z"
    },
    "execution": {
     "iopub.execute_input": "2021-10-05T13:20:17.560431Z",
     "iopub.status.busy": "2021-10-05T13:20:17.560135Z",
     "iopub.status.idle": "2021-10-05T13:20:33.100905Z",
     "shell.execute_reply": "2021-10-05T13:20:33.100179Z",
     "shell.execute_reply.started": "2021-10-05T13:20:17.560401Z"
    },
    "scrolled": true
   },
   "outputs": [
    {
     "name": "stderr",
     "output_type": "stream",
     "text": [
      "2021-10-05 13:39:31,889\tINFO services.py:1263 -- View the Ray dashboard at \u001b[1m\u001b[32mhttp://127.0.0.1:8265\u001b[39m\u001b[22m\n"
     ]
    },
    {
     "data": {
      "text/plain": [
       "{'node_ip_address': '10.128.9.67',\n",
       " 'raylet_ip_address': '10.128.9.67',\n",
       " 'redis_address': '10.128.9.67:6379',\n",
       " 'object_store_address': '/tmp/ray/session_2021-10-05_13-39-29_641068_1971/sockets/plasma_store',\n",
       " 'raylet_socket_name': '/tmp/ray/session_2021-10-05_13-39-29_641068_1971/sockets/raylet',\n",
       " 'webui_url': '127.0.0.1:8265',\n",
       " 'session_dir': '/tmp/ray/session_2021-10-05_13-39-29_641068_1971',\n",
       " 'metrics_export_port': 35130,\n",
       " 'node_id': '72abf59e47f2371c8b03327da5d2a53af3c3537da7b64b1683318e4a'}"
      ]
     },
     "execution_count": 8,
     "metadata": {},
     "output_type": "execute_result"
    },
    {
     "name": "stdout",
     "output_type": "stream",
     "text": [
      "Accuracy Default Configuration:  0.787\n"
     ]
    }
   ],
   "source": [
    "# We define a dictionnary for the default values\n",
    "default_config = {\n",
    "    \"units\": 32,\n",
    "    \"activation\": \"relu\",\n",
    "    \"dropout_rate\": 0.5,\n",
    "    \"num_epochs\": 50,\n",
    "    \"batch_size\": 32,\n",
    "    \"learning_rate\": 1e-3,\n",
    "}\n",
    "\n",
    "# We launch the Ray run-time depending of the detected local ressources\n",
    "# and execute the `run` function with the default configuration\n",
    "# WARNING: in the case of GPUs it is important to follow this scheme\n",
    "# to avoid multiple processes (Ray workers vs current process) to lock\n",
    "# the same GPU.\n",
    "if is_gpu_available:\n",
    "    \n",
    "    if not(ray.is_initialized()):\n",
    "        ray.init(num_cpus=n_gpus, num_gpus=n_gpus, log_to_driver=False)\n",
    "    \n",
    "    run_default = ray.remote(num_cpus=1, num_gpus=1)(run)\n",
    "    \n",
    "    objective_default = ray.get(run_default.remote(default_config))\n",
    "    \n",
    "else:\n",
    "    \n",
    "    if not(ray.is_initialized()):\n",
    "        ray.init(num_cpus=1, log_to_driver=False)\n",
    "    \n",
    "    run_default = run\n",
    "    \n",
    "    objective_default = run_default(default_config)\n",
    "    \n",
    "print(f\"Accuracy Default Configuration:  {objective_default:.3f}\")"
   ]
  },
  {
   "cell_type": "markdown",
   "id": "3ca589b5",
   "metadata": {},
   "source": [
    "## Define the Hyperparameter optimization problem\n",
    "\n",
    "Hyperparameter ranges are defined using the following syntax:\n",
    "\n",
    "* Discrete integer ranges are generated from a tuple `(lower: int, upper: int)`\n",
    "* Continuous prarameters are generated from a tuple `(lower: float, upper: float)`\n",
    "* Categorical or nonordinal hyperparameter ranges can be given as a list of possible values `[val1, val2, ...]`\n",
    "\n",
    "We provide the default configuration of hyperparameters as a starting point of the problem."
   ]
  },
  {
   "cell_type": "code",
   "execution_count": 9,
   "id": "5813bb59",
   "metadata": {
    "ExecuteTime": {
     "end_time": "2021-10-05T13:39:43.509717Z",
     "start_time": "2021-10-05T13:39:42.856892Z"
    },
    "execution": {
     "iopub.execute_input": "2021-10-05T13:20:33.102492Z",
     "iopub.status.busy": "2021-10-05T13:20:33.102220Z",
     "iopub.status.idle": "2021-10-05T13:20:33.802294Z",
     "shell.execute_reply": "2021-10-05T13:20:33.801558Z",
     "shell.execute_reply.started": "2021-10-05T13:20:33.102451Z"
    }
   },
   "outputs": [
    {
     "data": {
      "text/plain": [
       "units, Type: UniformInteger, Range: [8, 128], Default: 68"
      ]
     },
     "execution_count": 9,
     "metadata": {},
     "output_type": "execute_result"
    },
    {
     "data": {
      "text/plain": [
       "activation, Type: Categorical, Choices: {elu, gelu, hard_sigmoid, linear, relu, selu, sigmoid, softplus, softsign, swish, tanh}, Default: elu"
      ]
     },
     "execution_count": 9,
     "metadata": {},
     "output_type": "execute_result"
    },
    {
     "data": {
      "text/plain": [
       "dropout_rate, Type: UniformFloat, Range: [0.0, 0.6], Default: 0.3"
      ]
     },
     "execution_count": 9,
     "metadata": {},
     "output_type": "execute_result"
    },
    {
     "data": {
      "text/plain": [
       "num_epochs, Type: UniformInteger, Range: [10, 100], Default: 55"
      ]
     },
     "execution_count": 9,
     "metadata": {},
     "output_type": "execute_result"
    },
    {
     "data": {
      "text/plain": [
       "batch_size, Type: UniformInteger, Range: [8, 256], Default: 45, on log-scale"
      ]
     },
     "execution_count": 9,
     "metadata": {},
     "output_type": "execute_result"
    },
    {
     "data": {
      "text/plain": [
       "learning_rate, Type: UniformFloat, Range: [1e-05, 0.01], Default: 0.0003162278, on log-scale"
      ]
     },
     "execution_count": 9,
     "metadata": {},
     "output_type": "execute_result"
    },
    {
     "data": {
      "text/plain": [
       "Configuration space object:\n",
       "  Hyperparameters:\n",
       "    activation, Type: Categorical, Choices: {elu, gelu, hard_sigmoid, linear, relu, selu, sigmoid, softplus, softsign, swish, tanh}, Default: elu\n",
       "    batch_size, Type: UniformInteger, Range: [8, 256], Default: 45, on log-scale\n",
       "    dropout_rate, Type: UniformFloat, Range: [0.0, 0.6], Default: 0.3\n",
       "    learning_rate, Type: UniformFloat, Range: [1e-05, 0.01], Default: 0.0003162278, on log-scale\n",
       "    num_epochs, Type: UniformInteger, Range: [10, 100], Default: 55\n",
       "    units, Type: UniformInteger, Range: [8, 128], Default: 68\n",
       "\n",
       "\n",
       "  Starting Point:\n",
       "{0: {'activation': 'relu',\n",
       "     'batch_size': 32,\n",
       "     'dropout_rate': 0.5,\n",
       "     'learning_rate': 0.001,\n",
       "     'num_epochs': 50,\n",
       "     'units': 32}}"
      ]
     },
     "execution_count": 9,
     "metadata": {},
     "output_type": "execute_result"
    }
   ],
   "source": [
    "from deephyper.problem import HpProblem\n",
    "\n",
    "\n",
    "problem = HpProblem()\n",
    "\n",
    "# Discrete hyperparameter (sampled with uniform prior)\n",
    "problem.add_hyperparameter((8, 128), \"units\")\n",
    "\n",
    "# Categorical hyperparameter (sampled with uniform prior)\n",
    "ACTIVATIONS = [\"elu\", \"gelu\", \"hard_sigmoid\", \"linear\", \"relu\", \"selu\",\n",
    "    \"sigmoid\", \"softplus\", \"softsign\", \"swish\", \"tanh\",\n",
    "]\n",
    "problem.add_hyperparameter(ACTIVATIONS, \"activation\")\n",
    "\n",
    "# Real hyperparameter (sampled with uniform prior)\n",
    "problem.add_hyperparameter((0.0, 0.6), \"dropout_rate\")\n",
    "\n",
    "problem.add_hyperparameter((10, 100), \"num_epochs\")\n",
    "\n",
    "# Discrete and Real hyperparameters (sampled with log-uniform)\n",
    "problem.add_hyperparameter((8, 256, \"log-uniform\"), \"batch_size\")\n",
    "problem.add_hyperparameter((1e-5, 1e-2, \"log-uniform\"), \"learning_rate\")\n",
    "\n",
    "# Add a starting point to try first\n",
    "problem.add_starting_point(**default_config)\n",
    "\n",
    "problem"
   ]
  },
  {
   "cell_type": "markdown",
   "id": "596900f9",
   "metadata": {},
   "source": [
    "## Define the evaluator object\n",
    "\n",
    "The `Evaluator` object allows to change the parallelization backend used by DeepHyper. It is a standalone object which schedule the execution of remote tasks. All evaluators needs a `run_function` to be instantiated. Then a keyword `method` defines the backend (e.g., `\"ray\"`) and the `method_kwargs` corresponds to keyword arguments of this chosen `method`.\n",
    "\n",
    "```python\n",
    "evaluator = Evaluator.create(run_function, method, method_kwargs)\n",
    "```\n",
    "\n",
    "Once created the `evaluator.num_workers` gives access to the number of available parallel workers.\n",
    "\n",
    "Finally, to submit and collect tasks to the evaluator one just needs to use the following interface:\n",
    "\n",
    "```python\n",
    "configs = [...]\n",
    "evaluator.submit(configs)\n",
    "...\n",
    "tasks_done = evaluator.get(\"BATCH\", size=1) # For asynchronous\n",
    "tasks_done = evaluator.get(\"ALL\") # For batch synchronous\n",
    "```\n",
    "\n",
    "<div class=\"alert alert-warning\">\n",
    "\n",
    "<b>Warning</b>\n",
    "\n",
    "Each `Evaluator` saves its own state, therefore it is crutial to create a new evaluator when launching a fresh search.\n",
    "    \n",
    "</div>\n"
   ]
  },
  {
   "cell_type": "code",
   "execution_count": 10,
   "id": "b3f0be13",
   "metadata": {
    "ExecuteTime": {
     "end_time": "2021-10-05T13:39:45.266695Z",
     "start_time": "2021-10-05T13:39:45.252926Z"
    },
    "execution": {
     "iopub.execute_input": "2021-10-05T13:24:26.533483Z",
     "iopub.status.busy": "2021-10-05T13:24:26.533227Z",
     "iopub.status.idle": "2021-10-05T13:24:26.548067Z",
     "shell.execute_reply": "2021-10-05T13:24:26.547597Z",
     "shell.execute_reply.started": "2021-10-05T13:24:26.533457Z"
    }
   },
   "outputs": [
    {
     "name": "stdout",
     "output_type": "stream",
     "text": [
      "Created new evaluator with 1 worker and config: {'num_cpus': 1, 'num_cpus_per_task': 1, 'callbacks': [<deephyper.evaluator.callback.LoggerCallback object at 0x7f0c4c0b5e80>]}\n"
     ]
    }
   ],
   "source": [
    "from deephyper.evaluator.evaluate import Evaluator\n",
    "from deephyper.evaluator.callback import LoggerCallback\n",
    "\n",
    "\n",
    "def get_evaluator(run_function):\n",
    "    \n",
    "    # Default arguments for Ray: 1 worker and 1 worker per evaluation\n",
    "    method_kwargs = {\n",
    "        \"num_cpus\": 1, \n",
    "        \"num_cpus_per_task\": 1,\n",
    "        \"callbacks\": [LoggerCallback()]\n",
    "    }\n",
    "\n",
    "    # If GPU devices are detected then it will create 'n_gpus' workers\n",
    "    # and use 1 worker for each evaluation\n",
    "    if is_gpu_available:\n",
    "        method_kwargs[\"num_cpus\"] = n_gpus\n",
    "        method_kwargs[\"num_gpus\"] = n_gpus\n",
    "        method_kwargs[\"num_cpus_per_task\"] = 1\n",
    "        method_kwargs[\"num_gpus_per_task\"] = 1\n",
    "\n",
    "    evaluator = Evaluator.create(\n",
    "        run_function, \n",
    "        method=\"ray\", \n",
    "        method_kwargs=method_kwargs\n",
    "    )\n",
    "    print(f\"Created new evaluator with {evaluator.num_workers} worker{'s' if evaluator.num_workers > 1 else ''} and config: {method_kwargs}\", )\n",
    "    \n",
    "    return evaluator\n",
    "\n",
    "evaluator_1 = get_evaluator(run)"
   ]
  },
  {
   "cell_type": "markdown",
   "id": "392998bc",
   "metadata": {},
   "source": [
    "## Define and run the asynchronous model-based search\n",
    "\n",
    "A primary pillar of hyperparameter search in DeepHyper is given by an asynchronous parallel model-based search paradigm (henceforth AMBS). AMBS may be described in the following algorithm:\n",
    "\n",
    "&nbsp;   \n",
    "<div class=\"float\" style=\"font-size:2.5em;line-height:2.0;text-align:center;align:center;\">\n",
    "    <ol>\n",
    "        <li> $\\mathcal{X}_{S}\\leftarrow$ <code>random_sample_configs</code>$(\\mathcal{D})$ </li>\n",
    "        <li><code>add_eval_batch</code> $(\\mathcal{X}_{S})$</li>\n",
    "        <li> <b><code>while</code></b> <code>stopping criterion not met</code> <b><code>do</code></b>:</li>\n",
    "        <ul>\n",
    "            <li> $(\\mathcal{X}_{r}, \\mathcal{Y}_{r})\\leftarrow$ <code>get_finished_evals</code>$()$</li>\n",
    "            <li> $s\\leftarrow|\\mathcal{Y}_{r}|$</li>\n",
    "            <li> <b>if</b> $s>0$ <b>then</b>:</li>\n",
    "            <ul>\n",
    "                <li>$\\mathcal{X}_{\\mathrm{out}}\\leftarrow \\mathcal{X}_{\\mathrm{out}}\\bigcup\\mathcal{X}_{r}; \\mathcal{Y}_{\\mathrm{out}}\\leftarrow\\mathcal{Y}_{\\mathrm{out}}\\bigcup\\mathcal{Y}_{r}$</li>\n",
    "                <li> $\\mathcal{M}\\leftarrow$<code>Fit</code>$(\\mathcal{X}_{\\mathrm{out}}, \\mathcal{Y}_{\\mathrm{out}})$</li>\n",
    "                <li>$\\mathcal{D}\\leftarrow \\mathcal{D}-\\mathcal{X}_{r}$</li>\n",
    "                <li>$\\mathcal{X}_{s}\\leftarrow$<code>sample_configs</code>$(\\mathcal{M}, \\mathcal{D})$</li>\n",
    "                <li><code>add_eval_batch</code>$(\\mathcal{X}_{s})$</li>\n",
    "            </ul>\n",
    "            <code>end <b>if</b></code>\n",
    "        </ul>\n",
    "        <code>end <b>while</b></code>\n",
    "    </ol>\n",
    "    <ul>\n",
    "        <li> <b>Output:</b> Best hyperparameter configuration(s) from $\\mathcal{X}_{\\mathrm{out}}$</li>\n",
    "    </ul>\n",
    "</div>\n",
    "\n",
    "\n",
    "<img src=\"./Figures/AMBS.png\" width=40% align=\"center\">\n",
    "\n",
    "Following the parallelized evaluation of these configurations, a low-fidelity and high efficiency model (henceforth \"the surrogate\") is devised to reproduce the relationship between the input variables involved in the model (i.e., the choice of hyperparameters) and the outputs (which are generally a measure of validation data accuracy). After obtaining this surrogate of the validation accuracy, we may utilize ideas from classical methods in Bayesian optimization literature for adaptively sample the search space of hyperparameters.\n",
    "\n",
    "First, the surrogate is used to obtain an estimate for the mean value of the validation accuracy at a certain sampling location $x$ in addition to an estimated variance. The latter requirement restricts us to the use of high efficiency data-driven modeling strategies that have inbuilt variance estimates (such as a Gaussian process or Random Forest regressor). Regions where the mean is high represent opportunities for exploitation and regions where the variance is high represent opportunities for exploration. An optimistic acquisition function called UCB can be constructed using these two quantities:\n",
    "\n",
    "$$L_{\\text{UCB}}(x) = \\mu(x) + \\kappa \\cdot \\sigma(x)$$\n",
    "\n",
    "The *unevaluated* hyperparameter configurations that *maximize* the acquisition function are chosen for the next batch of evaluations. Note that the choice of the variance weighting parameter $\\kappa$ controls the degree of exploration in the hyperparameter search with zero indicating purely exploitation (unseen configurations where the predicted accuracy is highest will be sampled). The top `s` configurations are selected for the new batch. The following schematic demonstrates this process:\n",
    "\n",
    "<img src=\"Figures/BO_AF.png\" width=50%>\n",
    "\n",
    "The process of obtaining `s` configurations relies on the \"constant-liar\" strategy where a sampled configuration is mapped to a dummy output given by a bulk metric of all the evaluated configurations thus far (such as the maximum, mean or median validation accuracy). Prior to sampling the next configuration by acquisition function maximization, the surrogate is retrained with the dummy output as a data point. As the true validation accuracy becomes available for one of the sampled configurations, the dummy output is replaced and the surrogate is updated. This allows for scalable asynchronous (or batch synchronous) sampling of new hyperparameter configurations. \n",
    "\n",
    "####  Choice of surrogate model\n",
    "\n",
    "Users should note that our choice of the surrogate is given by the Random Forest regressor due to its ability to handle non-ordinal data (hyperparameter configurations may not be purely continuous or even numerical). Evidence for how they outperform other methods (such as Gaussian processes) is also available in [1]\n",
    "\n",
    "<img src=\"Figures/RFR.png\" width=45% align=left>\n",
    "\n",
    "<img src=\"Figures/RFR_Superior.png\" width=53% align=right>\n"
   ]
  },
  {
   "cell_type": "code",
   "execution_count": 11,
   "id": "09dc7abd",
   "metadata": {
    "ExecuteTime": {
     "end_time": "2021-10-04T20:15:21.105712Z",
     "start_time": "2021-10-04T20:15:21.103340Z"
    },
    "execution": {
     "iopub.execute_input": "2021-10-05T13:24:31.729788Z",
     "iopub.status.busy": "2021-10-05T13:24:31.729551Z",
     "iopub.status.idle": "2021-10-05T13:24:31.811538Z",
     "shell.execute_reply": "2021-10-05T13:24:31.810828Z",
     "shell.execute_reply.started": "2021-10-05T13:24:31.729764Z"
    }
   },
   "outputs": [],
   "source": [
    "from deephyper.search.hps import AMBS\n",
    "\n",
    "# Uncomment the following line to show the arguments of AMBS.\n",
    "# AMBS?"
   ]
  },
  {
   "cell_type": "code",
   "execution_count": 12,
   "id": "1e00f0f0",
   "metadata": {
    "ExecuteTime": {
     "end_time": "2021-10-04T20:08:04.689439Z",
     "start_time": "2021-10-04T20:08:04.687505Z"
    },
    "execution": {
     "iopub.execute_input": "2021-10-05T13:24:32.484543Z",
     "iopub.status.busy": "2021-10-05T13:24:32.484353Z",
     "iopub.status.idle": "2021-10-05T13:24:32.488491Z",
     "shell.execute_reply": "2021-10-05T13:24:32.487856Z",
     "shell.execute_reply.started": "2021-10-05T13:24:32.484521Z"
    }
   },
   "outputs": [],
   "source": [
    "# Instanciate the search with the problem and a specific evaluator\n",
    "search = AMBS(problem, evaluator_1)"
   ]
  },
  {
   "cell_type": "markdown",
   "id": "5fad52a5",
   "metadata": {},
   "source": [
    "<div class=\"alert alert-info\">\n",
    "    \n",
    "<b>Note</b>\n",
    "    \n",
    "All DeepHyper's search algorithm have two stopping criteria:\n",
    "\n",
    "* `max_evals`: (*int*) which defines the maximum number of evaluations that we want to perform. Default to `-1` for an infinite number.\n",
    "* `timeout`: (positive *int*) which defines a time budget (in secondes) before stopping the search. Default to `None` for an infinite time budget.\n",
    "    \n",
    "</div>"
   ]
  },
  {
   "cell_type": "code",
   "execution_count": 13,
   "id": "457546ce",
   "metadata": {
    "ExecuteTime": {
     "end_time": "2021-10-04T20:11:29.807228Z",
     "start_time": "2021-10-04T20:08:07.668669Z"
    },
    "execution": {
     "iopub.execute_input": "2021-10-05T13:24:34.026578Z",
     "iopub.status.busy": "2021-10-05T13:24:34.026364Z",
     "iopub.status.idle": "2021-10-05T13:25:38.142031Z",
     "shell.execute_reply": "2021-10-05T13:25:38.141494Z",
     "shell.execute_reply.started": "2021-10-05T13:24:34.026553Z"
    },
    "scrolled": true
   },
   "outputs": [
    {
     "name": "stdout",
     "output_type": "stream",
     "text": [
      "[00001] -- best objective: 0.8360655903816223 -- received objective: 0.8360655903816223\n",
      "[00002] -- best objective: 0.8360655903816223 -- received objective: 0.8032786846160889\n",
      "[00003] -- best objective: 0.8360655903816223 -- received objective: 0.8196721076965332\n",
      "[00004] -- best objective: 0.8360655903816223 -- received objective: 0.8032786846160889\n",
      "[00005] -- best objective: 0.8360655903816223 -- received objective: 0.7704917788505554\n",
      "[00006] -- best objective: 0.8360655903816223 -- received objective: 0.8360655903816223\n",
      "[00007] -- best objective: 0.8360655903816223 -- received objective: 0.7868852615356445\n",
      "[00008] -- best objective: 0.8360655903816223 -- received objective: 0.8196721076965332\n",
      "[00009] -- best objective: 0.8360655903816223 -- received objective: 0.8032786846160889\n",
      "[00010] -- best objective: 0.8360655903816223 -- received objective: 0.8032786846160889\n"
     ]
    }
   ],
   "source": [
    "results = search.search(max_evals=10)"
   ]
  },
  {
   "cell_type": "markdown",
   "id": "33c2dd77",
   "metadata": {},
   "source": [
    "<div class=\"alert alert-warning\">\n",
    "\n",
    "<b>Warning</b>\n",
    "    \n",
    "The `search` call does not output any information about the current status of the search. However, `results.csv` file is created in the local directly and can be visualized to see finished tasks.\n",
    "    \n",
    "</div>"
   ]
  },
  {
   "cell_type": "markdown",
   "id": "5c54414b",
   "metadata": {},
   "source": [
    "The returned `results` is a Pandas Dataframe where columns are hyperparameters and information stored by the evaluator:\n",
    "\n",
    "* `id` is a unique identifier corresponding to the order of creation of tasks\n",
    "* `objective` is the value returned by the run-function\n",
    "* `elapsed_sec` is the time (in seconds) when the task completed since the creation of the evaluator.\n",
    "* `duration` is the duration (in seconds) of the task to be computed."
   ]
  },
  {
   "cell_type": "code",
   "execution_count": 14,
   "id": "87bc93b8",
   "metadata": {
    "ExecuteTime": {
     "end_time": "2021-10-04T20:20:16.588367Z",
     "start_time": "2021-10-04T20:20:16.576839Z"
    },
    "execution": {
     "iopub.execute_input": "2021-10-05T13:26:06.857647Z",
     "iopub.status.busy": "2021-10-05T13:26:06.857404Z",
     "iopub.status.idle": "2021-10-05T13:26:06.897524Z",
     "shell.execute_reply": "2021-10-05T13:26:06.897125Z",
     "shell.execute_reply.started": "2021-10-05T13:26:06.857622Z"
    }
   },
   "outputs": [
    {
     "data": {
      "text/html": [
       "<div>\n",
       "<style scoped>\n",
       "    .dataframe tbody tr th:only-of-type {\n",
       "        vertical-align: middle;\n",
       "    }\n",
       "\n",
       "    .dataframe tbody tr th {\n",
       "        vertical-align: top;\n",
       "    }\n",
       "\n",
       "    .dataframe thead th {\n",
       "        text-align: right;\n",
       "    }\n",
       "</style>\n",
       "<table border=\"1\" class=\"dataframe\">\n",
       "  <thead>\n",
       "    <tr style=\"text-align: right;\">\n",
       "      <th></th>\n",
       "      <th>activation</th>\n",
       "      <th>batch_size</th>\n",
       "      <th>dropout_rate</th>\n",
       "      <th>learning_rate</th>\n",
       "      <th>num_epochs</th>\n",
       "      <th>units</th>\n",
       "      <th>id</th>\n",
       "      <th>objective</th>\n",
       "      <th>elapsed_sec</th>\n",
       "      <th>duration</th>\n",
       "    </tr>\n",
       "  </thead>\n",
       "  <tbody>\n",
       "    <tr>\n",
       "      <th>0</th>\n",
       "      <td>relu</td>\n",
       "      <td>32</td>\n",
       "      <td>0.500000</td>\n",
       "      <td>0.001000</td>\n",
       "      <td>50</td>\n",
       "      <td>32</td>\n",
       "      <td>1</td>\n",
       "      <td>0.836066</td>\n",
       "      <td>16.854036</td>\n",
       "      <td>9.364318</td>\n",
       "    </tr>\n",
       "    <tr>\n",
       "      <th>1</th>\n",
       "      <td>elu</td>\n",
       "      <td>10</td>\n",
       "      <td>0.066552</td>\n",
       "      <td>0.004223</td>\n",
       "      <td>87</td>\n",
       "      <td>100</td>\n",
       "      <td>2</td>\n",
       "      <td>0.803279</td>\n",
       "      <td>26.910806</td>\n",
       "      <td>9.720668</td>\n",
       "    </tr>\n",
       "    <tr>\n",
       "      <th>2</th>\n",
       "      <td>selu</td>\n",
       "      <td>76</td>\n",
       "      <td>0.363856</td>\n",
       "      <td>0.003670</td>\n",
       "      <td>51</td>\n",
       "      <td>59</td>\n",
       "      <td>3</td>\n",
       "      <td>0.819672</td>\n",
       "      <td>31.909261</td>\n",
       "      <td>4.786830</td>\n",
       "    </tr>\n",
       "    <tr>\n",
       "      <th>3</th>\n",
       "      <td>relu</td>\n",
       "      <td>51</td>\n",
       "      <td>0.008552</td>\n",
       "      <td>0.001566</td>\n",
       "      <td>45</td>\n",
       "      <td>15</td>\n",
       "      <td>4</td>\n",
       "      <td>0.803279</td>\n",
       "      <td>36.990385</td>\n",
       "      <td>4.704321</td>\n",
       "    </tr>\n",
       "    <tr>\n",
       "      <th>4</th>\n",
       "      <td>relu</td>\n",
       "      <td>25</td>\n",
       "      <td>0.194997</td>\n",
       "      <td>0.000068</td>\n",
       "      <td>72</td>\n",
       "      <td>19</td>\n",
       "      <td>5</td>\n",
       "      <td>0.770492</td>\n",
       "      <td>43.557472</td>\n",
       "      <td>6.348423</td>\n",
       "    </tr>\n",
       "    <tr>\n",
       "      <th>5</th>\n",
       "      <td>selu</td>\n",
       "      <td>13</td>\n",
       "      <td>0.545874</td>\n",
       "      <td>0.000081</td>\n",
       "      <td>14</td>\n",
       "      <td>126</td>\n",
       "      <td>6</td>\n",
       "      <td>0.836066</td>\n",
       "      <td>47.503983</td>\n",
       "      <td>3.715102</td>\n",
       "    </tr>\n",
       "    <tr>\n",
       "      <th>6</th>\n",
       "      <td>swish</td>\n",
       "      <td>29</td>\n",
       "      <td>0.494867</td>\n",
       "      <td>0.001171</td>\n",
       "      <td>78</td>\n",
       "      <td>30</td>\n",
       "      <td>7</td>\n",
       "      <td>0.786885</td>\n",
       "      <td>54.385174</td>\n",
       "      <td>6.665219</td>\n",
       "    </tr>\n",
       "    <tr>\n",
       "      <th>7</th>\n",
       "      <td>selu</td>\n",
       "      <td>14</td>\n",
       "      <td>0.507827</td>\n",
       "      <td>0.000029</td>\n",
       "      <td>60</td>\n",
       "      <td>13</td>\n",
       "      <td>8</td>\n",
       "      <td>0.819672</td>\n",
       "      <td>61.391547</td>\n",
       "      <td>6.790512</td>\n",
       "    </tr>\n",
       "    <tr>\n",
       "      <th>8</th>\n",
       "      <td>gelu</td>\n",
       "      <td>71</td>\n",
       "      <td>0.539577</td>\n",
       "      <td>0.000062</td>\n",
       "      <td>39</td>\n",
       "      <td>30</td>\n",
       "      <td>9</td>\n",
       "      <td>0.803279</td>\n",
       "      <td>66.061311</td>\n",
       "      <td>4.452444</td>\n",
       "    </tr>\n",
       "    <tr>\n",
       "      <th>9</th>\n",
       "      <td>relu</td>\n",
       "      <td>24</td>\n",
       "      <td>0.222418</td>\n",
       "      <td>0.000029</td>\n",
       "      <td>43</td>\n",
       "      <td>44</td>\n",
       "      <td>10</td>\n",
       "      <td>0.803279</td>\n",
       "      <td>71.372907</td>\n",
       "      <td>5.091154</td>\n",
       "    </tr>\n",
       "  </tbody>\n",
       "</table>\n",
       "</div>"
      ],
      "text/plain": [
       "  activation  batch_size  dropout_rate  learning_rate  num_epochs  units  id  \\\n",
       "0       relu          32      0.500000       0.001000          50     32   1   \n",
       "1        elu          10      0.066552       0.004223          87    100   2   \n",
       "2       selu          76      0.363856       0.003670          51     59   3   \n",
       "3       relu          51      0.008552       0.001566          45     15   4   \n",
       "4       relu          25      0.194997       0.000068          72     19   5   \n",
       "5       selu          13      0.545874       0.000081          14    126   6   \n",
       "6      swish          29      0.494867       0.001171          78     30   7   \n",
       "7       selu          14      0.507827       0.000029          60     13   8   \n",
       "8       gelu          71      0.539577       0.000062          39     30   9   \n",
       "9       relu          24      0.222418       0.000029          43     44  10   \n",
       "\n",
       "   objective  elapsed_sec  duration  \n",
       "0   0.836066    16.854036  9.364318  \n",
       "1   0.803279    26.910806  9.720668  \n",
       "2   0.819672    31.909261  4.786830  \n",
       "3   0.803279    36.990385  4.704321  \n",
       "4   0.770492    43.557472  6.348423  \n",
       "5   0.836066    47.503983  3.715102  \n",
       "6   0.786885    54.385174  6.665219  \n",
       "7   0.819672    61.391547  6.790512  \n",
       "8   0.803279    66.061311  4.452444  \n",
       "9   0.803279    71.372907  5.091154  "
      ]
     },
     "execution_count": 14,
     "metadata": {},
     "output_type": "execute_result"
    }
   ],
   "source": [
    "results"
   ]
  },
  {
   "cell_type": "markdown",
   "id": "dbd8b3e4",
   "metadata": {},
   "source": [
    "The search can be continued without any issue."
   ]
  },
  {
   "cell_type": "code",
   "execution_count": 15,
   "id": "f2e6af67",
   "metadata": {
    "ExecuteTime": {
     "end_time": "2021-10-04T20:21:36.364091Z",
     "start_time": "2021-10-04T20:20:23.244853Z"
    },
    "execution": {
     "iopub.execute_input": "2021-10-05T13:26:08.179747Z",
     "iopub.status.busy": "2021-10-05T13:26:08.179499Z",
     "iopub.status.idle": "2021-10-05T13:26:32.492749Z",
     "shell.execute_reply": "2021-10-05T13:26:32.492153Z",
     "shell.execute_reply.started": "2021-10-05T13:26:08.179721Z"
    }
   },
   "outputs": [
    {
     "name": "stdout",
     "output_type": "stream",
     "text": [
      "[00011] -- best objective: 0.8360655903816223 -- received objective: 0.7704917788505554\n",
      "[00012] -- best objective: 0.8360655903816223 -- received objective: 0.8032786846160889\n",
      "[00013] -- best objective: 0.8360655903816223 -- received objective: 0.7868852615356445\n",
      "[00014] -- best objective: 0.8360655903816223 -- received objective: 0.7868852615356445\n",
      "[00015] -- best objective: 0.8360655903816223 -- received objective: 0.8032786846160889\n"
     ]
    },
    {
     "data": {
      "text/html": [
       "<div>\n",
       "<style scoped>\n",
       "    .dataframe tbody tr th:only-of-type {\n",
       "        vertical-align: middle;\n",
       "    }\n",
       "\n",
       "    .dataframe tbody tr th {\n",
       "        vertical-align: top;\n",
       "    }\n",
       "\n",
       "    .dataframe thead th {\n",
       "        text-align: right;\n",
       "    }\n",
       "</style>\n",
       "<table border=\"1\" class=\"dataframe\">\n",
       "  <thead>\n",
       "    <tr style=\"text-align: right;\">\n",
       "      <th></th>\n",
       "      <th>activation</th>\n",
       "      <th>batch_size</th>\n",
       "      <th>dropout_rate</th>\n",
       "      <th>learning_rate</th>\n",
       "      <th>num_epochs</th>\n",
       "      <th>units</th>\n",
       "      <th>id</th>\n",
       "      <th>objective</th>\n",
       "      <th>elapsed_sec</th>\n",
       "      <th>duration</th>\n",
       "    </tr>\n",
       "  </thead>\n",
       "  <tbody>\n",
       "    <tr>\n",
       "      <th>0</th>\n",
       "      <td>relu</td>\n",
       "      <td>32</td>\n",
       "      <td>0.500000</td>\n",
       "      <td>0.001000</td>\n",
       "      <td>50</td>\n",
       "      <td>32</td>\n",
       "      <td>1</td>\n",
       "      <td>0.836066</td>\n",
       "      <td>16.854036</td>\n",
       "      <td>9.364318</td>\n",
       "    </tr>\n",
       "    <tr>\n",
       "      <th>1</th>\n",
       "      <td>elu</td>\n",
       "      <td>10</td>\n",
       "      <td>0.066552</td>\n",
       "      <td>0.004223</td>\n",
       "      <td>87</td>\n",
       "      <td>100</td>\n",
       "      <td>2</td>\n",
       "      <td>0.803279</td>\n",
       "      <td>26.910806</td>\n",
       "      <td>9.720668</td>\n",
       "    </tr>\n",
       "    <tr>\n",
       "      <th>2</th>\n",
       "      <td>selu</td>\n",
       "      <td>76</td>\n",
       "      <td>0.363856</td>\n",
       "      <td>0.003670</td>\n",
       "      <td>51</td>\n",
       "      <td>59</td>\n",
       "      <td>3</td>\n",
       "      <td>0.819672</td>\n",
       "      <td>31.909261</td>\n",
       "      <td>4.786830</td>\n",
       "    </tr>\n",
       "    <tr>\n",
       "      <th>3</th>\n",
       "      <td>relu</td>\n",
       "      <td>51</td>\n",
       "      <td>0.008552</td>\n",
       "      <td>0.001566</td>\n",
       "      <td>45</td>\n",
       "      <td>15</td>\n",
       "      <td>4</td>\n",
       "      <td>0.803279</td>\n",
       "      <td>36.990385</td>\n",
       "      <td>4.704321</td>\n",
       "    </tr>\n",
       "    <tr>\n",
       "      <th>4</th>\n",
       "      <td>relu</td>\n",
       "      <td>25</td>\n",
       "      <td>0.194997</td>\n",
       "      <td>0.000068</td>\n",
       "      <td>72</td>\n",
       "      <td>19</td>\n",
       "      <td>5</td>\n",
       "      <td>0.770492</td>\n",
       "      <td>43.557472</td>\n",
       "      <td>6.348423</td>\n",
       "    </tr>\n",
       "    <tr>\n",
       "      <th>5</th>\n",
       "      <td>selu</td>\n",
       "      <td>13</td>\n",
       "      <td>0.545874</td>\n",
       "      <td>0.000081</td>\n",
       "      <td>14</td>\n",
       "      <td>126</td>\n",
       "      <td>6</td>\n",
       "      <td>0.836066</td>\n",
       "      <td>47.503983</td>\n",
       "      <td>3.715102</td>\n",
       "    </tr>\n",
       "    <tr>\n",
       "      <th>6</th>\n",
       "      <td>swish</td>\n",
       "      <td>29</td>\n",
       "      <td>0.494867</td>\n",
       "      <td>0.001171</td>\n",
       "      <td>78</td>\n",
       "      <td>30</td>\n",
       "      <td>7</td>\n",
       "      <td>0.786885</td>\n",
       "      <td>54.385174</td>\n",
       "      <td>6.665219</td>\n",
       "    </tr>\n",
       "    <tr>\n",
       "      <th>7</th>\n",
       "      <td>selu</td>\n",
       "      <td>14</td>\n",
       "      <td>0.507827</td>\n",
       "      <td>0.000029</td>\n",
       "      <td>60</td>\n",
       "      <td>13</td>\n",
       "      <td>8</td>\n",
       "      <td>0.819672</td>\n",
       "      <td>61.391547</td>\n",
       "      <td>6.790512</td>\n",
       "    </tr>\n",
       "    <tr>\n",
       "      <th>8</th>\n",
       "      <td>gelu</td>\n",
       "      <td>71</td>\n",
       "      <td>0.539577</td>\n",
       "      <td>0.000062</td>\n",
       "      <td>39</td>\n",
       "      <td>30</td>\n",
       "      <td>9</td>\n",
       "      <td>0.803279</td>\n",
       "      <td>66.061311</td>\n",
       "      <td>4.452444</td>\n",
       "    </tr>\n",
       "    <tr>\n",
       "      <th>9</th>\n",
       "      <td>relu</td>\n",
       "      <td>24</td>\n",
       "      <td>0.222418</td>\n",
       "      <td>0.000029</td>\n",
       "      <td>43</td>\n",
       "      <td>44</td>\n",
       "      <td>10</td>\n",
       "      <td>0.803279</td>\n",
       "      <td>71.372907</td>\n",
       "      <td>5.091154</td>\n",
       "    </tr>\n",
       "    <tr>\n",
       "      <th>10</th>\n",
       "      <td>hard_sigmoid</td>\n",
       "      <td>155</td>\n",
       "      <td>0.536512</td>\n",
       "      <td>0.000945</td>\n",
       "      <td>66</td>\n",
       "      <td>76</td>\n",
       "      <td>11</td>\n",
       "      <td>0.770492</td>\n",
       "      <td>101.637618</td>\n",
       "      <td>30.043985</td>\n",
       "    </tr>\n",
       "    <tr>\n",
       "      <th>11</th>\n",
       "      <td>relu</td>\n",
       "      <td>32</td>\n",
       "      <td>0.500000</td>\n",
       "      <td>0.001000</td>\n",
       "      <td>50</td>\n",
       "      <td>32</td>\n",
       "      <td>12</td>\n",
       "      <td>0.803279</td>\n",
       "      <td>106.738488</td>\n",
       "      <td>5.101447</td>\n",
       "    </tr>\n",
       "    <tr>\n",
       "      <th>12</th>\n",
       "      <td>swish</td>\n",
       "      <td>8</td>\n",
       "      <td>0.594678</td>\n",
       "      <td>0.003047</td>\n",
       "      <td>56</td>\n",
       "      <td>88</td>\n",
       "      <td>13</td>\n",
       "      <td>0.786885</td>\n",
       "      <td>114.717317</td>\n",
       "      <td>12.832310</td>\n",
       "    </tr>\n",
       "    <tr>\n",
       "      <th>13</th>\n",
       "      <td>relu</td>\n",
       "      <td>20</td>\n",
       "      <td>0.563657</td>\n",
       "      <td>0.003714</td>\n",
       "      <td>81</td>\n",
       "      <td>101</td>\n",
       "      <td>14</td>\n",
       "      <td>0.786885</td>\n",
       "      <td>122.176982</td>\n",
       "      <td>15.211488</td>\n",
       "    </tr>\n",
       "    <tr>\n",
       "      <th>14</th>\n",
       "      <td>swish</td>\n",
       "      <td>72</td>\n",
       "      <td>0.569813</td>\n",
       "      <td>0.003351</td>\n",
       "      <td>19</td>\n",
       "      <td>107</td>\n",
       "      <td>15</td>\n",
       "      <td>0.803279</td>\n",
       "      <td>125.687670</td>\n",
       "      <td>10.750261</td>\n",
       "    </tr>\n",
       "  </tbody>\n",
       "</table>\n",
       "</div>"
      ],
      "text/plain": [
       "      activation  batch_size  dropout_rate  learning_rate  num_epochs  units  \\\n",
       "0           relu          32      0.500000       0.001000          50     32   \n",
       "1            elu          10      0.066552       0.004223          87    100   \n",
       "2           selu          76      0.363856       0.003670          51     59   \n",
       "3           relu          51      0.008552       0.001566          45     15   \n",
       "4           relu          25      0.194997       0.000068          72     19   \n",
       "5           selu          13      0.545874       0.000081          14    126   \n",
       "6          swish          29      0.494867       0.001171          78     30   \n",
       "7           selu          14      0.507827       0.000029          60     13   \n",
       "8           gelu          71      0.539577       0.000062          39     30   \n",
       "9           relu          24      0.222418       0.000029          43     44   \n",
       "10  hard_sigmoid         155      0.536512       0.000945          66     76   \n",
       "11          relu          32      0.500000       0.001000          50     32   \n",
       "12         swish           8      0.594678       0.003047          56     88   \n",
       "13          relu          20      0.563657       0.003714          81    101   \n",
       "14         swish          72      0.569813       0.003351          19    107   \n",
       "\n",
       "    id  objective  elapsed_sec   duration  \n",
       "0    1   0.836066    16.854036   9.364318  \n",
       "1    2   0.803279    26.910806   9.720668  \n",
       "2    3   0.819672    31.909261   4.786830  \n",
       "3    4   0.803279    36.990385   4.704321  \n",
       "4    5   0.770492    43.557472   6.348423  \n",
       "5    6   0.836066    47.503983   3.715102  \n",
       "6    7   0.786885    54.385174   6.665219  \n",
       "7    8   0.819672    61.391547   6.790512  \n",
       "8    9   0.803279    66.061311   4.452444  \n",
       "9   10   0.803279    71.372907   5.091154  \n",
       "10  11   0.770492   101.637618  30.043985  \n",
       "11  12   0.803279   106.738488   5.101447  \n",
       "12  13   0.786885   114.717317  12.832310  \n",
       "13  14   0.786885   122.176982  15.211488  \n",
       "14  15   0.803279   125.687670  10.750261  "
      ]
     },
     "execution_count": 15,
     "metadata": {},
     "output_type": "execute_result"
    }
   ],
   "source": [
    "results = search.search(max_evals=5)\n",
    "\n",
    "results"
   ]
  },
  {
   "cell_type": "markdown",
   "id": "53d673da",
   "metadata": {},
   "source": [
    "Now that the search is over, let us print the best configuration found during this run."
   ]
  },
  {
   "cell_type": "code",
   "execution_count": 16,
   "id": "f906a04f",
   "metadata": {
    "ExecuteTime": {
     "end_time": "2021-10-04T22:12:13.648726Z",
     "start_time": "2021-10-04T22:12:13.533771Z"
    },
    "execution": {
     "iopub.execute_input": "2021-10-05T13:28:16.309800Z",
     "iopub.status.busy": "2021-10-05T13:28:16.309564Z",
     "iopub.status.idle": "2021-10-05T13:28:16.316422Z",
     "shell.execute_reply": "2021-10-05T13:28:16.315876Z",
     "shell.execute_reply.started": "2021-10-05T13:28:16.309775Z"
    }
   },
   "outputs": [
    {
     "name": "stdout",
     "output_type": "stream",
     "text": [
      "The default configuration has an accuracy of 0.803. The best configuration found by DeepHyper has an accuracy 0.836, trained in 9.36 secondes and finished after 16.85 secondes of search.\n"
     ]
    },
    {
     "data": {
      "text/plain": [
       "{'activation': 'relu',\n",
       " 'batch_size': 32,\n",
       " 'dropout_rate': 0.5,\n",
       " 'learning_rate': 0.001,\n",
       " 'num_epochs': 50,\n",
       " 'units': 32,\n",
       " 'id': 1}"
      ]
     },
     "execution_count": 16,
     "metadata": {},
     "output_type": "execute_result"
    }
   ],
   "source": [
    "i_max = results.objective.argmax()\n",
    "best_config = results.iloc[i_max][:-3].to_dict()\n",
    "\n",
    "print(f\"The default configuration has an accuracy of {objective_default:.3f}. \" \n",
    "      f\"The best configuration found by DeepHyper has an accuracy {results['objective'].iloc[i_max]:.3f}, \" \n",
    "      f\"trained in {results['duration'].iloc[i_max]:.2f} secondes and \"\n",
    "      f\"finished after {results['elapsed_sec'].iloc[i_max]:.2f} secondes of search.\")\n",
    "\n",
    "\n",
    "\n",
    "best_config"
   ]
  },
  {
   "cell_type": "markdown",
   "id": "b8349d84",
   "metadata": {},
   "source": [
    "## Restart from a checkpoint\n",
    "\n",
    "It can often be useful to continue the search from previous results. For example, if the allocation requested was not enough or if an unexpected crash happened. The `AMBS` searhc provides the `fit_surrogate(dataframe_of_results)` method for this use case. \n",
    "\n",
    "To simulate this we create a second evaluator `evaluator_2` and start a fresh AMBS search with strong explotation `kappa=0.001`."
   ]
  },
  {
   "cell_type": "code",
   "execution_count": 17,
   "id": "3e99249c",
   "metadata": {
    "ExecuteTime": {
     "end_time": "2021-10-04T22:12:17.890487Z",
     "start_time": "2021-10-04T22:12:16.015514Z"
    },
    "execution": {
     "iopub.execute_input": "2021-10-05T13:28:18.176620Z",
     "iopub.status.busy": "2021-10-05T13:28:18.176439Z",
     "iopub.status.idle": "2021-10-05T13:28:18.260776Z",
     "shell.execute_reply": "2021-10-05T13:28:18.260306Z",
     "shell.execute_reply.started": "2021-10-05T13:28:18.176598Z"
    }
   },
   "outputs": [
    {
     "name": "stdout",
     "output_type": "stream",
     "text": [
      "Created new evaluator with 1 worker and config: {'num_cpus': 1, 'num_cpus_per_task': 1, 'callbacks': [<deephyper.evaluator.callback.LoggerCallback object at 0x7f7f2459d460>]}\n"
     ]
    }
   ],
   "source": [
    "evaluator_2 = get_evaluator(run)\n",
    "\n",
    "search_from_checkpoint = AMBS(problem, evaluator_2, kappa=0.001)\n",
    "\n",
    "# Initialize surrogate model of Bayesian optization (in AMBS)\n",
    "# With results of previous search\n",
    "search_from_checkpoint.fit_surrogate(results)"
   ]
  },
  {
   "cell_type": "code",
   "execution_count": 18,
   "id": "9baeb24f",
   "metadata": {
    "ExecuteTime": {
     "end_time": "2021-10-04T22:15:36.962249Z",
     "start_time": "2021-10-04T22:12:19.723490Z"
    },
    "execution": {
     "iopub.execute_input": "2021-10-05T13:28:19.996570Z",
     "iopub.status.busy": "2021-10-05T13:28:19.996390Z",
     "iopub.status.idle": "2021-10-05T13:29:18.566650Z",
     "shell.execute_reply": "2021-10-05T13:29:18.566114Z",
     "shell.execute_reply.started": "2021-10-05T13:28:19.996549Z"
    }
   },
   "outputs": [
    {
     "name": "stdout",
     "output_type": "stream",
     "text": [
      "[00001] -- best objective: 0.7868852615356445 -- received objective: 0.7868852615356445\n",
      "[00002] -- best objective: 0.8524590134620667 -- received objective: 0.8524590134620667\n",
      "[00003] -- best objective: 0.8524590134620667 -- received objective: 0.8032786846160889\n",
      "[00004] -- best objective: 0.8524590134620667 -- received objective: 0.8196721076965332\n",
      "[00005] -- best objective: 0.8524590134620667 -- received objective: 0.8032786846160889\n",
      "[00006] -- best objective: 0.8524590134620667 -- received objective: 0.32786884903907776\n",
      "[00007] -- best objective: 0.8524590134620667 -- received objective: 0.8360655903816223\n",
      "[00008] -- best objective: 0.8524590134620667 -- received objective: 0.7868852615356445\n",
      "[00009] -- best objective: 0.8524590134620667 -- received objective: 0.8196721076965332\n",
      "[00010] -- best objective: 0.8524590134620667 -- received objective: 0.8524590134620667\n"
     ]
    }
   ],
   "source": [
    "results_from_checkpoint = search_from_checkpoint.search(max_evals=10)"
   ]
  },
  {
   "cell_type": "code",
   "execution_count": 19,
   "id": "7f293587",
   "metadata": {
    "ExecuteTime": {
     "end_time": "2021-10-04T22:23:12.473362Z",
     "start_time": "2021-10-04T22:23:12.465197Z"
    },
    "execution": {
     "iopub.execute_input": "2021-10-05T13:31:00.645334Z",
     "iopub.status.busy": "2021-10-05T13:31:00.645102Z",
     "iopub.status.idle": "2021-10-05T13:31:00.657401Z",
     "shell.execute_reply": "2021-10-05T13:31:00.656830Z",
     "shell.execute_reply.started": "2021-10-05T13:31:00.645309Z"
    }
   },
   "outputs": [
    {
     "data": {
      "text/html": [
       "<div>\n",
       "<style scoped>\n",
       "    .dataframe tbody tr th:only-of-type {\n",
       "        vertical-align: middle;\n",
       "    }\n",
       "\n",
       "    .dataframe tbody tr th {\n",
       "        vertical-align: top;\n",
       "    }\n",
       "\n",
       "    .dataframe thead th {\n",
       "        text-align: right;\n",
       "    }\n",
       "</style>\n",
       "<table border=\"1\" class=\"dataframe\">\n",
       "  <thead>\n",
       "    <tr style=\"text-align: right;\">\n",
       "      <th></th>\n",
       "      <th>activation</th>\n",
       "      <th>batch_size</th>\n",
       "      <th>dropout_rate</th>\n",
       "      <th>learning_rate</th>\n",
       "      <th>num_epochs</th>\n",
       "      <th>units</th>\n",
       "      <th>id</th>\n",
       "      <th>objective</th>\n",
       "      <th>elapsed_sec</th>\n",
       "      <th>duration</th>\n",
       "    </tr>\n",
       "  </thead>\n",
       "  <tbody>\n",
       "    <tr>\n",
       "      <th>0</th>\n",
       "      <td>selu</td>\n",
       "      <td>15</td>\n",
       "      <td>0.570155</td>\n",
       "      <td>0.008827</td>\n",
       "      <td>17</td>\n",
       "      <td>105</td>\n",
       "      <td>1</td>\n",
       "      <td>0.786885</td>\n",
       "      <td>5.952607</td>\n",
       "      <td>3.990870</td>\n",
       "    </tr>\n",
       "    <tr>\n",
       "      <th>1</th>\n",
       "      <td>selu</td>\n",
       "      <td>8</td>\n",
       "      <td>0.505059</td>\n",
       "      <td>0.000235</td>\n",
       "      <td>37</td>\n",
       "      <td>72</td>\n",
       "      <td>2</td>\n",
       "      <td>0.852459</td>\n",
       "      <td>12.374077</td>\n",
       "      <td>6.199955</td>\n",
       "    </tr>\n",
       "    <tr>\n",
       "      <th>2</th>\n",
       "      <td>selu</td>\n",
       "      <td>9</td>\n",
       "      <td>0.040270</td>\n",
       "      <td>0.000590</td>\n",
       "      <td>59</td>\n",
       "      <td>77</td>\n",
       "      <td>3</td>\n",
       "      <td>0.803279</td>\n",
       "      <td>20.342372</td>\n",
       "      <td>7.748084</td>\n",
       "    </tr>\n",
       "    <tr>\n",
       "      <th>3</th>\n",
       "      <td>hard_sigmoid</td>\n",
       "      <td>8</td>\n",
       "      <td>0.365839</td>\n",
       "      <td>0.001108</td>\n",
       "      <td>33</td>\n",
       "      <td>121</td>\n",
       "      <td>4</td>\n",
       "      <td>0.819672</td>\n",
       "      <td>26.322549</td>\n",
       "      <td>5.666041</td>\n",
       "    </tr>\n",
       "    <tr>\n",
       "      <th>4</th>\n",
       "      <td>softsign</td>\n",
       "      <td>10</td>\n",
       "      <td>0.466625</td>\n",
       "      <td>0.000090</td>\n",
       "      <td>35</td>\n",
       "      <td>55</td>\n",
       "      <td>5</td>\n",
       "      <td>0.803279</td>\n",
       "      <td>32.252039</td>\n",
       "      <td>5.701202</td>\n",
       "    </tr>\n",
       "    <tr>\n",
       "      <th>5</th>\n",
       "      <td>elu</td>\n",
       "      <td>166</td>\n",
       "      <td>0.434878</td>\n",
       "      <td>0.000022</td>\n",
       "      <td>11</td>\n",
       "      <td>118</td>\n",
       "      <td>6</td>\n",
       "      <td>0.327869</td>\n",
       "      <td>35.795487</td>\n",
       "      <td>3.316669</td>\n",
       "    </tr>\n",
       "    <tr>\n",
       "      <th>6</th>\n",
       "      <td>selu</td>\n",
       "      <td>13</td>\n",
       "      <td>0.471462</td>\n",
       "      <td>0.000259</td>\n",
       "      <td>29</td>\n",
       "      <td>103</td>\n",
       "      <td>7</td>\n",
       "      <td>0.836066</td>\n",
       "      <td>40.873278</td>\n",
       "      <td>4.858704</td>\n",
       "    </tr>\n",
       "    <tr>\n",
       "      <th>7</th>\n",
       "      <td>selu</td>\n",
       "      <td>8</td>\n",
       "      <td>0.057613</td>\n",
       "      <td>0.000342</td>\n",
       "      <td>56</td>\n",
       "      <td>83</td>\n",
       "      <td>8</td>\n",
       "      <td>0.786885</td>\n",
       "      <td>48.985490</td>\n",
       "      <td>7.893476</td>\n",
       "    </tr>\n",
       "    <tr>\n",
       "      <th>8</th>\n",
       "      <td>selu</td>\n",
       "      <td>9</td>\n",
       "      <td>0.595284</td>\n",
       "      <td>0.000043</td>\n",
       "      <td>28</td>\n",
       "      <td>76</td>\n",
       "      <td>9</td>\n",
       "      <td>0.819672</td>\n",
       "      <td>54.308821</td>\n",
       "      <td>5.084902</td>\n",
       "    </tr>\n",
       "    <tr>\n",
       "      <th>9</th>\n",
       "      <td>selu</td>\n",
       "      <td>8</td>\n",
       "      <td>0.468896</td>\n",
       "      <td>0.000903</td>\n",
       "      <td>30</td>\n",
       "      <td>13</td>\n",
       "      <td>10</td>\n",
       "      <td>0.852459</td>\n",
       "      <td>60.151635</td>\n",
       "      <td>5.621282</td>\n",
       "    </tr>\n",
       "  </tbody>\n",
       "</table>\n",
       "</div>"
      ],
      "text/plain": [
       "     activation  batch_size  dropout_rate  learning_rate  num_epochs  units  \\\n",
       "0          selu          15      0.570155       0.008827          17    105   \n",
       "1          selu           8      0.505059       0.000235          37     72   \n",
       "2          selu           9      0.040270       0.000590          59     77   \n",
       "3  hard_sigmoid           8      0.365839       0.001108          33    121   \n",
       "4      softsign          10      0.466625       0.000090          35     55   \n",
       "5           elu         166      0.434878       0.000022          11    118   \n",
       "6          selu          13      0.471462       0.000259          29    103   \n",
       "7          selu           8      0.057613       0.000342          56     83   \n",
       "8          selu           9      0.595284       0.000043          28     76   \n",
       "9          selu           8      0.468896       0.000903          30     13   \n",
       "\n",
       "   id  objective  elapsed_sec  duration  \n",
       "0   1   0.786885     5.952607  3.990870  \n",
       "1   2   0.852459    12.374077  6.199955  \n",
       "2   3   0.803279    20.342372  7.748084  \n",
       "3   4   0.819672    26.322549  5.666041  \n",
       "4   5   0.803279    32.252039  5.701202  \n",
       "5   6   0.327869    35.795487  3.316669  \n",
       "6   7   0.836066    40.873278  4.858704  \n",
       "7   8   0.786885    48.985490  7.893476  \n",
       "8   9   0.819672    54.308821  5.084902  \n",
       "9  10   0.852459    60.151635  5.621282  "
      ]
     },
     "execution_count": 19,
     "metadata": {},
     "output_type": "execute_result"
    }
   ],
   "source": [
    "results_from_checkpoint"
   ]
  },
  {
   "cell_type": "code",
   "execution_count": 20,
   "id": "8f28d724",
   "metadata": {
    "ExecuteTime": {
     "end_time": "2021-10-04T22:23:19.068384Z",
     "start_time": "2021-10-04T22:23:19.007382Z"
    },
    "execution": {
     "iopub.execute_input": "2021-10-05T13:31:03.701630Z",
     "iopub.status.busy": "2021-10-05T13:31:03.701435Z",
     "iopub.status.idle": "2021-10-05T13:31:03.708209Z",
     "shell.execute_reply": "2021-10-05T13:31:03.707703Z",
     "shell.execute_reply.started": "2021-10-05T13:31:03.701608Z"
    }
   },
   "outputs": [
    {
     "name": "stdout",
     "output_type": "stream",
     "text": [
      "The default configuration has an accuracy of 0.803. The best configuration found by DeepHyper has an accuracy 0.852, trained in 6.20 secondes and finished after 12.37 secondes of search.\n"
     ]
    },
    {
     "data": {
      "text/plain": [
       "{'activation': 'selu',\n",
       " 'batch_size': 8,\n",
       " 'dropout_rate': 0.5050594136122702,\n",
       " 'learning_rate': 0.0002345033647209,\n",
       " 'num_epochs': 37,\n",
       " 'units': 72,\n",
       " 'id': 2}"
      ]
     },
     "execution_count": 20,
     "metadata": {},
     "output_type": "execute_result"
    }
   ],
   "source": [
    "i_max = results_from_checkpoint.objective.argmax()\n",
    "best_config = results_from_checkpoint.iloc[i_max][:-3].to_dict()\n",
    "\n",
    "print(f\"The default configuration has an accuracy of {objective_default:.3f}. \" \n",
    "      f\"The best configuration found by DeepHyper has an accuracy {results_from_checkpoint['objective'].iloc[i_max]:.3f}, \" \n",
    "      f\"trained in {results_from_checkpoint['duration'].iloc[i_max]:.2f} secondes and \"\n",
    "      f\"finished after {results_from_checkpoint['elapsed_sec'].iloc[i_max]:.2f} secondes of search.\")\n",
    "\n",
    "best_config"
   ]
  },
  {
   "cell_type": "markdown",
   "id": "8b535c9d",
   "metadata": {},
   "source": [
    "## Add conditional hyperparameters\n",
    "\n",
    "Now we want to add the possibility to search for a second fully-connected layer. We simply add two new lines:\n",
    "\n",
    "```python\n",
    "if config.get(\"dense_2\", False):\n",
    "    x = tf.keras.layers.Dense(config[\"dense_2:units\"], activation=config[\"dense_2:activation\"])(x)\n",
    "```"
   ]
  },
  {
   "cell_type": "code",
   "execution_count": 21,
   "id": "8a62e9f5",
   "metadata": {
    "ExecuteTime": {
     "end_time": "2021-10-04T22:23:20.916371Z",
     "start_time": "2021-10-04T22:23:20.905057Z"
    },
    "execution": {
     "iopub.execute_input": "2021-10-05T13:31:06.664412Z",
     "iopub.status.busy": "2021-10-05T13:31:06.664230Z",
     "iopub.status.idle": "2021-10-05T13:31:06.678681Z",
     "shell.execute_reply": "2021-10-05T13:31:06.678208Z",
     "shell.execute_reply.started": "2021-10-05T13:31:06.664391Z"
    }
   },
   "outputs": [],
   "source": [
    "def run_with_condition(config: dict):\n",
    "    tf.autograph.set_verbosity(0)\n",
    "    \n",
    "    train_dataframe, val_dataframe = load_data()\n",
    "\n",
    "    train_ds = dataframe_to_dataset(train_dataframe)\n",
    "    val_ds = dataframe_to_dataset(val_dataframe)\n",
    "\n",
    "    train_ds = train_ds.batch(config[\"batch_size\"])\n",
    "    val_ds = val_ds.batch(config[\"batch_size\"])\n",
    "\n",
    "    # Categorical features encoded as integers\n",
    "    sex = tf.keras.Input(shape=(1,), name=\"sex\", dtype=\"int64\")\n",
    "    cp = tf.keras.Input(shape=(1,), name=\"cp\", dtype=\"int64\")\n",
    "    fbs = tf.keras.Input(shape=(1,), name=\"fbs\", dtype=\"int64\")\n",
    "    restecg = tf.keras.Input(shape=(1,), name=\"restecg\", dtype=\"int64\")\n",
    "    exang = tf.keras.Input(shape=(1,), name=\"exang\", dtype=\"int64\")\n",
    "    ca = tf.keras.Input(shape=(1,), name=\"ca\", dtype=\"int64\")\n",
    "\n",
    "    # Categorical feature encoded as string\n",
    "    thal = tf.keras.Input(shape=(1,), name=\"thal\", dtype=\"string\")\n",
    "\n",
    "    # Numerical features\n",
    "    age = tf.keras.Input(shape=(1,), name=\"age\")\n",
    "    trestbps = tf.keras.Input(shape=(1,), name=\"trestbps\")\n",
    "    chol = tf.keras.Input(shape=(1,), name=\"chol\")\n",
    "    thalach = tf.keras.Input(shape=(1,), name=\"thalach\")\n",
    "    oldpeak = tf.keras.Input(shape=(1,), name=\"oldpeak\")\n",
    "    slope = tf.keras.Input(shape=(1,), name=\"slope\")\n",
    "\n",
    "    all_inputs = [\n",
    "        sex,\n",
    "        cp,\n",
    "        fbs,\n",
    "        restecg,\n",
    "        exang,\n",
    "        ca,\n",
    "        thal,\n",
    "        age,\n",
    "        trestbps,\n",
    "        chol,\n",
    "        thalach,\n",
    "        oldpeak,\n",
    "        slope,\n",
    "    ]\n",
    "\n",
    "    # Integer categorical features\n",
    "    sex_encoded = encode_categorical_feature(sex, \"sex\", train_ds, False)\n",
    "    cp_encoded = encode_categorical_feature(cp, \"cp\", train_ds, False)\n",
    "    fbs_encoded = encode_categorical_feature(fbs, \"fbs\", train_ds, False)\n",
    "    restecg_encoded = encode_categorical_feature(restecg, \"restecg\", train_ds, False)\n",
    "    exang_encoded = encode_categorical_feature(exang, \"exang\", train_ds, False)\n",
    "    ca_encoded = encode_categorical_feature(ca, \"ca\", train_ds, False)\n",
    "\n",
    "    # String categorical features\n",
    "    thal_encoded = encode_categorical_feature(thal, \"thal\", train_ds, True)\n",
    "\n",
    "    # Numerical features\n",
    "    age_encoded = encode_numerical_feature(age, \"age\", train_ds)\n",
    "    trestbps_encoded = encode_numerical_feature(trestbps, \"trestbps\", train_ds)\n",
    "    chol_encoded = encode_numerical_feature(chol, \"chol\", train_ds)\n",
    "    thalach_encoded = encode_numerical_feature(thalach, \"thalach\", train_ds)\n",
    "    oldpeak_encoded = encode_numerical_feature(oldpeak, \"oldpeak\", train_ds)\n",
    "    slope_encoded = encode_numerical_feature(slope, \"slope\", train_ds)\n",
    "\n",
    "    all_features = tf.keras.layers.concatenate(\n",
    "        [\n",
    "            sex_encoded,\n",
    "            cp_encoded,\n",
    "            fbs_encoded,\n",
    "            restecg_encoded,\n",
    "            exang_encoded,\n",
    "            slope_encoded,\n",
    "            ca_encoded,\n",
    "            thal_encoded,\n",
    "            age_encoded,\n",
    "            trestbps_encoded,\n",
    "            chol_encoded,\n",
    "            thalach_encoded,\n",
    "            oldpeak_encoded,\n",
    "        ]\n",
    "    )\n",
    "    x = tf.keras.layers.Dense(config[\"units\"], activation=config[\"activation\"])(\n",
    "        all_features\n",
    "    )\n",
    "    if config.get(\"dense_2\", False):\n",
    "        x = tf.keras.layers.Dense(config[\"dense_2:units\"], activation=config[\"dense_2:activation\"])(x)\n",
    "    x = tf.keras.layers.Dropout(config[\"dropout_rate\"])(x)\n",
    "    output = tf.keras.layers.Dense(1, activation=\"sigmoid\")(x)\n",
    "    model = tf.keras.Model(all_inputs, output)\n",
    "\n",
    "    optimizer = tf.keras.optimizers.Adam(learning_rate=config[\"learning_rate\"])\n",
    "    model.compile(optimizer, \"binary_crossentropy\", metrics=[\"accuracy\"])\n",
    "\n",
    "    history = model.fit(\n",
    "        train_ds, epochs=config[\"num_epochs\"], validation_data=val_ds, verbose=0\n",
    "    )\n",
    "\n",
    "    return history.history[\"val_accuracy\"][-1]"
   ]
  },
  {
   "cell_type": "markdown",
   "id": "5df1c9fb",
   "metadata": {},
   "source": [
    "To defined conditionnal hyperparameters we use [ConfigSpace](https://automl.github.io/ConfigSpace/master/index.html). We define `dense_2:units` and `dense_2:activation` as active hyperparameters only when `dense_2 == True`. The `cs.EqualsCondition` help us do that. Then we call\n",
    "\n",
    "```python\n",
    "problem_with_condition.add_condition(condition)\n",
    "```\n",
    "\n",
    "to register each new condition to the `HpProblem`."
   ]
  },
  {
   "cell_type": "code",
   "execution_count": 22,
   "id": "4cda0275",
   "metadata": {
    "ExecuteTime": {
     "end_time": "2021-10-04T22:23:23.104821Z",
     "start_time": "2021-10-04T22:23:22.827047Z"
    },
    "execution": {
     "iopub.execute_input": "2021-10-05T13:31:13.593610Z",
     "iopub.status.busy": "2021-10-05T13:31:13.593319Z",
     "iopub.status.idle": "2021-10-05T13:31:13.618632Z",
     "shell.execute_reply": "2021-10-05T13:31:13.618023Z",
     "shell.execute_reply.started": "2021-10-05T13:31:13.593579Z"
    }
   },
   "outputs": [
    {
     "data": {
      "text/plain": [
       "units, Type: UniformInteger, Range: [8, 128], Default: 68"
      ]
     },
     "execution_count": 22,
     "metadata": {},
     "output_type": "execute_result"
    },
    {
     "data": {
      "text/plain": [
       "activation, Type: Categorical, Choices: {elu, gelu, hard_sigmoid, linear, relu, selu, sigmoid, softplus, softsign, swish, tanh}, Default: elu"
      ]
     },
     "execution_count": 22,
     "metadata": {},
     "output_type": "execute_result"
    },
    {
     "data": {
      "text/plain": [
       "dropout_rate, Type: UniformFloat, Range: [0.0, 0.6], Default: 0.3"
      ]
     },
     "execution_count": 22,
     "metadata": {},
     "output_type": "execute_result"
    },
    {
     "data": {
      "text/plain": [
       "num_epochs, Type: UniformInteger, Range: [10, 100], Default: 55"
      ]
     },
     "execution_count": 22,
     "metadata": {},
     "output_type": "execute_result"
    },
    {
     "data": {
      "text/plain": [
       "batch_size, Type: UniformInteger, Range: [8, 256], Default: 45, on log-scale"
      ]
     },
     "execution_count": 22,
     "metadata": {},
     "output_type": "execute_result"
    },
    {
     "data": {
      "text/plain": [
       "learning_rate, Type: UniformFloat, Range: [1e-05, 0.01], Default: 0.0003162278, on log-scale"
      ]
     },
     "execution_count": 22,
     "metadata": {},
     "output_type": "execute_result"
    },
    {
     "data": {
      "text/plain": [
       "Configuration space object:\n",
       "  Hyperparameters:\n",
       "    activation, Type: Categorical, Choices: {elu, gelu, hard_sigmoid, linear, relu, selu, sigmoid, softplus, softsign, swish, tanh}, Default: elu\n",
       "    batch_size, Type: UniformInteger, Range: [8, 256], Default: 45, on log-scale\n",
       "    dense_2, Type: Categorical, Choices: {True, False}, Default: True\n",
       "    dense_2:activation, Type: Categorical, Choices: {elu, gelu, hard_sigmoid, linear, relu, selu, sigmoid, softplus, softsign, swish, tanh}, Default: elu\n",
       "    dense_2:units, Type: UniformInteger, Range: [8, 128], Default: 68\n",
       "    dropout_rate, Type: UniformFloat, Range: [0.0, 0.6], Default: 0.3\n",
       "    learning_rate, Type: UniformFloat, Range: [1e-05, 0.01], Default: 0.0003162278, on log-scale\n",
       "    num_epochs, Type: UniformInteger, Range: [10, 100], Default: 55\n",
       "    units, Type: UniformInteger, Range: [8, 128], Default: 68\n",
       "  Conditions:\n",
       "    dense_2:activation | dense_2 == True\n",
       "    dense_2:units | dense_2 == True"
      ]
     },
     "execution_count": 22,
     "metadata": {},
     "output_type": "execute_result"
    }
   ],
   "source": [
    "import ConfigSpace as cs\n",
    "\n",
    "# Define the same hyperparameters as before\n",
    "problem_with_condition = HpProblem()\n",
    "problem_with_condition.add_hyperparameter((8, 128), \"units\")\n",
    "problem_with_condition.add_hyperparameter(ACTIVATIONS, \"activation\")\n",
    "problem_with_condition.add_hyperparameter((0.0, 0.6), \"dropout_rate\")\n",
    "problem_with_condition.add_hyperparameter((10, 100), \"num_epochs\")\n",
    "problem_with_condition.add_hyperparameter((8, 256, \"log-uniform\"), \"batch_size\")\n",
    "problem_with_condition.add_hyperparameter((1e-5, 1e-2, \"log-uniform\"), \"learning_rate\")\n",
    "\n",
    "# Add a new hyperparameter \"dense_2 (bool)\" to decide if a second fully-connected layer should be created\n",
    "hp_dense_2 = problem_with_condition.add_hyperparameter([True, False], \"dense_2\")\n",
    "hp_dense_2_units = problem_with_condition.add_hyperparameter((8, 128), \"dense_2:units\")\n",
    "hp_dense_2_activation = problem_with_condition.add_hyperparameter(ACTIVATIONS, \"dense_2:activation\")\n",
    "\n",
    "problem_with_condition.add_condition(cs.EqualsCondition(hp_dense_2_units, hp_dense_2, True))\n",
    "problem_with_condition.add_condition(cs.EqualsCondition(hp_dense_2_activation, hp_dense_2, True))\n",
    "\n",
    "\n",
    "problem_with_condition"
   ]
  },
  {
   "cell_type": "markdown",
   "id": "fc027194",
   "metadata": {},
   "source": [
    "We create a new evaluator `evaluator_3` and start a fresh AMBS search with this new problem `problem_with_condition`."
   ]
  },
  {
   "cell_type": "code",
   "execution_count": 23,
   "id": "70192b13",
   "metadata": {
    "ExecuteTime": {
     "end_time": "2021-10-04T22:23:26.159890Z",
     "start_time": "2021-10-04T22:23:26.156266Z"
    },
    "execution": {
     "iopub.execute_input": "2021-10-05T13:31:15.311474Z",
     "iopub.status.busy": "2021-10-05T13:31:15.311234Z",
     "iopub.status.idle": "2021-10-05T13:31:15.318532Z",
     "shell.execute_reply": "2021-10-05T13:31:15.317880Z",
     "shell.execute_reply.started": "2021-10-05T13:31:15.311445Z"
    }
   },
   "outputs": [
    {
     "name": "stdout",
     "output_type": "stream",
     "text": [
      "Created new evaluator with 1 worker and config: {'num_cpus': 1, 'num_cpus_per_task': 1, 'callbacks': [<deephyper.evaluator.callback.LoggerCallback object at 0x7f7f34465700>]}\n"
     ]
    }
   ],
   "source": [
    "evaluator_3 = get_evaluator(run_with_condition)\n",
    "\n",
    "search_with_condition = AMBS(problem_with_condition, evaluator_3)"
   ]
  },
  {
   "cell_type": "code",
   "execution_count": 24,
   "id": "7705a8a1",
   "metadata": {
    "ExecuteTime": {
     "end_time": "2021-10-04T22:33:52.722182Z",
     "start_time": "2021-10-04T22:31:13.646678Z"
    },
    "execution": {
     "iopub.execute_input": "2021-10-05T13:31:16.432178Z",
     "iopub.status.busy": "2021-10-05T13:31:16.431994Z",
     "iopub.status.idle": "2021-10-05T13:33:02.931919Z",
     "shell.execute_reply": "2021-10-05T13:33:02.931400Z",
     "shell.execute_reply.started": "2021-10-05T13:31:16.432154Z"
    }
   },
   "outputs": [
    {
     "name": "stdout",
     "output_type": "stream",
     "text": [
      "[00001] -- best objective: 0.39344263076782227 -- received objective: 0.39344263076782227\n",
      "[00002] -- best objective: 0.8196721076965332 -- received objective: 0.8196721076965332\n",
      "[00003] -- best objective: 0.8196721076965332 -- received objective: 0.7868852615356445\n",
      "[00004] -- best objective: 0.8360655903816223 -- received objective: 0.8360655903816223\n",
      "[00005] -- best objective: 0.8360655903816223 -- received objective: 0.7868852615356445\n",
      "[00006] -- best objective: 0.8360655903816223 -- received objective: 0.8032786846160889\n",
      "[00007] -- best objective: 0.8360655903816223 -- received objective: 0.7868852615356445\n",
      "[00008] -- best objective: 0.8360655903816223 -- received objective: 0.7540983557701111\n",
      "[00009] -- best objective: 0.8360655903816223 -- received objective: 0.8196721076965332\n",
      "[00010] -- best objective: 0.8360655903816223 -- received objective: 0.7868852615356445\n",
      "[00011] -- best objective: 0.8360655903816223 -- received objective: 0.8196721076965332\n",
      "[00012] -- best objective: 0.8360655903816223 -- received objective: 0.8196721076965332\n",
      "[00013] -- best objective: 0.8360655903816223 -- received objective: 0.7704917788505554\n",
      "[00014] -- best objective: 0.8360655903816223 -- received objective: 0.8196721076965332\n",
      "[00015] -- best objective: 0.8524590134620667 -- received objective: 0.8524590134620667\n",
      "[00016] -- best objective: 0.8524590134620667 -- received objective: 0.8032786846160889\n",
      "[00017] -- best objective: 0.8524590134620667 -- received objective: 0.7704917788505554\n",
      "[00018] -- best objective: 0.8524590134620667 -- received objective: 0.37704917788505554\n",
      "[00019] -- best objective: 0.8524590134620667 -- received objective: 0.5901639461517334\n",
      "[00020] -- best objective: 0.8524590134620667 -- received objective: 0.7213114500045776\n"
     ]
    }
   ],
   "source": [
    "results_with_condition = search_with_condition.search(max_evals=20)"
   ]
  },
  {
   "cell_type": "code",
   "execution_count": 25,
   "id": "4764b947",
   "metadata": {
    "ExecuteTime": {
     "start_time": "2021-10-04T22:23:28.413Z"
    },
    "execution": {
     "iopub.execute_input": "2021-10-05T13:33:02.932935Z",
     "iopub.status.busy": "2021-10-05T13:33:02.932760Z",
     "iopub.status.idle": "2021-10-05T13:33:02.950032Z",
     "shell.execute_reply": "2021-10-05T13:33:02.949499Z",
     "shell.execute_reply.started": "2021-10-05T13:33:02.932912Z"
    }
   },
   "outputs": [
    {
     "data": {
      "text/html": [
       "<div>\n",
       "<style scoped>\n",
       "    .dataframe tbody tr th:only-of-type {\n",
       "        vertical-align: middle;\n",
       "    }\n",
       "\n",
       "    .dataframe tbody tr th {\n",
       "        vertical-align: top;\n",
       "    }\n",
       "\n",
       "    .dataframe thead th {\n",
       "        text-align: right;\n",
       "    }\n",
       "</style>\n",
       "<table border=\"1\" class=\"dataframe\">\n",
       "  <thead>\n",
       "    <tr style=\"text-align: right;\">\n",
       "      <th></th>\n",
       "      <th>activation</th>\n",
       "      <th>batch_size</th>\n",
       "      <th>dense_2</th>\n",
       "      <th>dropout_rate</th>\n",
       "      <th>learning_rate</th>\n",
       "      <th>num_epochs</th>\n",
       "      <th>units</th>\n",
       "      <th>dense_2:activation</th>\n",
       "      <th>dense_2:units</th>\n",
       "      <th>id</th>\n",
       "      <th>objective</th>\n",
       "      <th>elapsed_sec</th>\n",
       "      <th>duration</th>\n",
       "    </tr>\n",
       "  </thead>\n",
       "  <tbody>\n",
       "    <tr>\n",
       "      <th>0</th>\n",
       "      <td>swish</td>\n",
       "      <td>157</td>\n",
       "      <td>False</td>\n",
       "      <td>0.205900</td>\n",
       "      <td>0.000037</td>\n",
       "      <td>24</td>\n",
       "      <td>101</td>\n",
       "      <td>NaN</td>\n",
       "      <td>NaN</td>\n",
       "      <td>1</td>\n",
       "      <td>0.393443</td>\n",
       "      <td>4.850309</td>\n",
       "      <td>3.563063</td>\n",
       "    </tr>\n",
       "    <tr>\n",
       "      <th>1</th>\n",
       "      <td>linear</td>\n",
       "      <td>91</td>\n",
       "      <td>True</td>\n",
       "      <td>0.198863</td>\n",
       "      <td>0.000029</td>\n",
       "      <td>56</td>\n",
       "      <td>108</td>\n",
       "      <td>relu</td>\n",
       "      <td>35.0</td>\n",
       "      <td>2</td>\n",
       "      <td>0.819672</td>\n",
       "      <td>10.106517</td>\n",
       "      <td>4.976710</td>\n",
       "    </tr>\n",
       "    <tr>\n",
       "      <th>2</th>\n",
       "      <td>softplus</td>\n",
       "      <td>29</td>\n",
       "      <td>True</td>\n",
       "      <td>0.402332</td>\n",
       "      <td>0.000027</td>\n",
       "      <td>56</td>\n",
       "      <td>80</td>\n",
       "      <td>relu</td>\n",
       "      <td>57.0</td>\n",
       "      <td>3</td>\n",
       "      <td>0.786885</td>\n",
       "      <td>16.074215</td>\n",
       "      <td>5.687785</td>\n",
       "    </tr>\n",
       "    <tr>\n",
       "      <th>3</th>\n",
       "      <td>relu</td>\n",
       "      <td>66</td>\n",
       "      <td>True</td>\n",
       "      <td>0.095036</td>\n",
       "      <td>0.000103</td>\n",
       "      <td>58</td>\n",
       "      <td>58</td>\n",
       "      <td>relu</td>\n",
       "      <td>112.0</td>\n",
       "      <td>4</td>\n",
       "      <td>0.836066</td>\n",
       "      <td>21.606031</td>\n",
       "      <td>5.254802</td>\n",
       "    </tr>\n",
       "    <tr>\n",
       "      <th>4</th>\n",
       "      <td>swish</td>\n",
       "      <td>142</td>\n",
       "      <td>True</td>\n",
       "      <td>0.104150</td>\n",
       "      <td>0.000695</td>\n",
       "      <td>91</td>\n",
       "      <td>52</td>\n",
       "      <td>tanh</td>\n",
       "      <td>112.0</td>\n",
       "      <td>5</td>\n",
       "      <td>0.786885</td>\n",
       "      <td>28.211668</td>\n",
       "      <td>6.326180</td>\n",
       "    </tr>\n",
       "    <tr>\n",
       "      <th>5</th>\n",
       "      <td>relu</td>\n",
       "      <td>10</td>\n",
       "      <td>False</td>\n",
       "      <td>0.315562</td>\n",
       "      <td>0.000079</td>\n",
       "      <td>49</td>\n",
       "      <td>46</td>\n",
       "      <td>NaN</td>\n",
       "      <td>NaN</td>\n",
       "      <td>6</td>\n",
       "      <td>0.803279</td>\n",
       "      <td>35.018749</td>\n",
       "      <td>6.528614</td>\n",
       "    </tr>\n",
       "    <tr>\n",
       "      <th>6</th>\n",
       "      <td>swish</td>\n",
       "      <td>92</td>\n",
       "      <td>True</td>\n",
       "      <td>0.053399</td>\n",
       "      <td>0.008950</td>\n",
       "      <td>14</td>\n",
       "      <td>25</td>\n",
       "      <td>relu</td>\n",
       "      <td>36.0</td>\n",
       "      <td>7</td>\n",
       "      <td>0.786885</td>\n",
       "      <td>38.675885</td>\n",
       "      <td>3.377190</td>\n",
       "    </tr>\n",
       "    <tr>\n",
       "      <th>7</th>\n",
       "      <td>relu</td>\n",
       "      <td>29</td>\n",
       "      <td>True</td>\n",
       "      <td>0.190145</td>\n",
       "      <td>0.000056</td>\n",
       "      <td>16</td>\n",
       "      <td>96</td>\n",
       "      <td>softplus</td>\n",
       "      <td>79.0</td>\n",
       "      <td>8</td>\n",
       "      <td>0.754098</td>\n",
       "      <td>42.676129</td>\n",
       "      <td>3.720201</td>\n",
       "    </tr>\n",
       "    <tr>\n",
       "      <th>8</th>\n",
       "      <td>swish</td>\n",
       "      <td>26</td>\n",
       "      <td>True</td>\n",
       "      <td>0.550226</td>\n",
       "      <td>0.000012</td>\n",
       "      <td>76</td>\n",
       "      <td>123</td>\n",
       "      <td>relu</td>\n",
       "      <td>104.0</td>\n",
       "      <td>9</td>\n",
       "      <td>0.819672</td>\n",
       "      <td>49.890837</td>\n",
       "      <td>6.929704</td>\n",
       "    </tr>\n",
       "    <tr>\n",
       "      <th>9</th>\n",
       "      <td>relu</td>\n",
       "      <td>177</td>\n",
       "      <td>True</td>\n",
       "      <td>0.382285</td>\n",
       "      <td>0.000108</td>\n",
       "      <td>60</td>\n",
       "      <td>75</td>\n",
       "      <td>softsign</td>\n",
       "      <td>119.0</td>\n",
       "      <td>10</td>\n",
       "      <td>0.786885</td>\n",
       "      <td>55.358827</td>\n",
       "      <td>5.183737</td>\n",
       "    </tr>\n",
       "    <tr>\n",
       "      <th>10</th>\n",
       "      <td>relu</td>\n",
       "      <td>8</td>\n",
       "      <td>True</td>\n",
       "      <td>0.400070</td>\n",
       "      <td>0.006432</td>\n",
       "      <td>34</td>\n",
       "      <td>21</td>\n",
       "      <td>relu</td>\n",
       "      <td>80.0</td>\n",
       "      <td>11</td>\n",
       "      <td>0.819672</td>\n",
       "      <td>61.642048</td>\n",
       "      <td>6.001729</td>\n",
       "    </tr>\n",
       "    <tr>\n",
       "      <th>11</th>\n",
       "      <td>sigmoid</td>\n",
       "      <td>39</td>\n",
       "      <td>False</td>\n",
       "      <td>0.039784</td>\n",
       "      <td>0.003683</td>\n",
       "      <td>46</td>\n",
       "      <td>56</td>\n",
       "      <td>NaN</td>\n",
       "      <td>NaN</td>\n",
       "      <td>12</td>\n",
       "      <td>0.819672</td>\n",
       "      <td>66.623919</td>\n",
       "      <td>4.698671</td>\n",
       "    </tr>\n",
       "    <tr>\n",
       "      <th>12</th>\n",
       "      <td>swish</td>\n",
       "      <td>18</td>\n",
       "      <td>False</td>\n",
       "      <td>0.065248</td>\n",
       "      <td>0.000027</td>\n",
       "      <td>38</td>\n",
       "      <td>86</td>\n",
       "      <td>NaN</td>\n",
       "      <td>NaN</td>\n",
       "      <td>13</td>\n",
       "      <td>0.770492</td>\n",
       "      <td>71.989122</td>\n",
       "      <td>5.081672</td>\n",
       "    </tr>\n",
       "    <tr>\n",
       "      <th>13</th>\n",
       "      <td>tanh</td>\n",
       "      <td>191</td>\n",
       "      <td>False</td>\n",
       "      <td>0.201678</td>\n",
       "      <td>0.003231</td>\n",
       "      <td>55</td>\n",
       "      <td>36</td>\n",
       "      <td>NaN</td>\n",
       "      <td>NaN</td>\n",
       "      <td>14</td>\n",
       "      <td>0.819672</td>\n",
       "      <td>77.117571</td>\n",
       "      <td>4.847805</td>\n",
       "    </tr>\n",
       "    <tr>\n",
       "      <th>14</th>\n",
       "      <td>swish</td>\n",
       "      <td>156</td>\n",
       "      <td>False</td>\n",
       "      <td>0.135976</td>\n",
       "      <td>0.000543</td>\n",
       "      <td>51</td>\n",
       "      <td>126</td>\n",
       "      <td>NaN</td>\n",
       "      <td>NaN</td>\n",
       "      <td>15</td>\n",
       "      <td>0.852459</td>\n",
       "      <td>82.138472</td>\n",
       "      <td>4.734615</td>\n",
       "    </tr>\n",
       "    <tr>\n",
       "      <th>15</th>\n",
       "      <td>softplus</td>\n",
       "      <td>233</td>\n",
       "      <td>False</td>\n",
       "      <td>0.152350</td>\n",
       "      <td>0.000272</td>\n",
       "      <td>58</td>\n",
       "      <td>114</td>\n",
       "      <td>NaN</td>\n",
       "      <td>NaN</td>\n",
       "      <td>16</td>\n",
       "      <td>0.803279</td>\n",
       "      <td>87.175771</td>\n",
       "      <td>4.747596</td>\n",
       "    </tr>\n",
       "    <tr>\n",
       "      <th>16</th>\n",
       "      <td>sigmoid</td>\n",
       "      <td>30</td>\n",
       "      <td>False</td>\n",
       "      <td>0.046408</td>\n",
       "      <td>0.000143</td>\n",
       "      <td>31</td>\n",
       "      <td>127</td>\n",
       "      <td>NaN</td>\n",
       "      <td>NaN</td>\n",
       "      <td>17</td>\n",
       "      <td>0.770492</td>\n",
       "      <td>91.928853</td>\n",
       "      <td>4.460734</td>\n",
       "    </tr>\n",
       "    <tr>\n",
       "      <th>17</th>\n",
       "      <td>relu</td>\n",
       "      <td>157</td>\n",
       "      <td>False</td>\n",
       "      <td>0.349720</td>\n",
       "      <td>0.000013</td>\n",
       "      <td>62</td>\n",
       "      <td>44</td>\n",
       "      <td>NaN</td>\n",
       "      <td>NaN</td>\n",
       "      <td>18</td>\n",
       "      <td>0.377049</td>\n",
       "      <td>97.291304</td>\n",
       "      <td>5.071302</td>\n",
       "    </tr>\n",
       "    <tr>\n",
       "      <th>18</th>\n",
       "      <td>swish</td>\n",
       "      <td>42</td>\n",
       "      <td>False</td>\n",
       "      <td>0.384769</td>\n",
       "      <td>0.000093</td>\n",
       "      <td>44</td>\n",
       "      <td>11</td>\n",
       "      <td>NaN</td>\n",
       "      <td>NaN</td>\n",
       "      <td>19</td>\n",
       "      <td>0.590164</td>\n",
       "      <td>102.416565</td>\n",
       "      <td>4.829020</td>\n",
       "    </tr>\n",
       "    <tr>\n",
       "      <th>19</th>\n",
       "      <td>relu</td>\n",
       "      <td>186</td>\n",
       "      <td>True</td>\n",
       "      <td>0.281997</td>\n",
       "      <td>0.000029</td>\n",
       "      <td>48</td>\n",
       "      <td>39</td>\n",
       "      <td>tanh</td>\n",
       "      <td>89.0</td>\n",
       "      <td>20</td>\n",
       "      <td>0.721311</td>\n",
       "      <td>107.320501</td>\n",
       "      <td>4.618187</td>\n",
       "    </tr>\n",
       "  </tbody>\n",
       "</table>\n",
       "</div>"
      ],
      "text/plain": [
       "   activation  batch_size  dense_2  dropout_rate  learning_rate  num_epochs  \\\n",
       "0       swish         157    False      0.205900       0.000037          24   \n",
       "1      linear          91     True      0.198863       0.000029          56   \n",
       "2    softplus          29     True      0.402332       0.000027          56   \n",
       "3        relu          66     True      0.095036       0.000103          58   \n",
       "4       swish         142     True      0.104150       0.000695          91   \n",
       "5        relu          10    False      0.315562       0.000079          49   \n",
       "6       swish          92     True      0.053399       0.008950          14   \n",
       "7        relu          29     True      0.190145       0.000056          16   \n",
       "8       swish          26     True      0.550226       0.000012          76   \n",
       "9        relu         177     True      0.382285       0.000108          60   \n",
       "10       relu           8     True      0.400070       0.006432          34   \n",
       "11    sigmoid          39    False      0.039784       0.003683          46   \n",
       "12      swish          18    False      0.065248       0.000027          38   \n",
       "13       tanh         191    False      0.201678       0.003231          55   \n",
       "14      swish         156    False      0.135976       0.000543          51   \n",
       "15   softplus         233    False      0.152350       0.000272          58   \n",
       "16    sigmoid          30    False      0.046408       0.000143          31   \n",
       "17       relu         157    False      0.349720       0.000013          62   \n",
       "18      swish          42    False      0.384769       0.000093          44   \n",
       "19       relu         186     True      0.281997       0.000029          48   \n",
       "\n",
       "    units dense_2:activation  dense_2:units  id  objective  elapsed_sec  \\\n",
       "0     101                NaN            NaN   1   0.393443     4.850309   \n",
       "1     108               relu           35.0   2   0.819672    10.106517   \n",
       "2      80               relu           57.0   3   0.786885    16.074215   \n",
       "3      58               relu          112.0   4   0.836066    21.606031   \n",
       "4      52               tanh          112.0   5   0.786885    28.211668   \n",
       "5      46                NaN            NaN   6   0.803279    35.018749   \n",
       "6      25               relu           36.0   7   0.786885    38.675885   \n",
       "7      96           softplus           79.0   8   0.754098    42.676129   \n",
       "8     123               relu          104.0   9   0.819672    49.890837   \n",
       "9      75           softsign          119.0  10   0.786885    55.358827   \n",
       "10     21               relu           80.0  11   0.819672    61.642048   \n",
       "11     56                NaN            NaN  12   0.819672    66.623919   \n",
       "12     86                NaN            NaN  13   0.770492    71.989122   \n",
       "13     36                NaN            NaN  14   0.819672    77.117571   \n",
       "14    126                NaN            NaN  15   0.852459    82.138472   \n",
       "15    114                NaN            NaN  16   0.803279    87.175771   \n",
       "16    127                NaN            NaN  17   0.770492    91.928853   \n",
       "17     44                NaN            NaN  18   0.377049    97.291304   \n",
       "18     11                NaN            NaN  19   0.590164   102.416565   \n",
       "19     39               tanh           89.0  20   0.721311   107.320501   \n",
       "\n",
       "    duration  \n",
       "0   3.563063  \n",
       "1   4.976710  \n",
       "2   5.687785  \n",
       "3   5.254802  \n",
       "4   6.326180  \n",
       "5   6.528614  \n",
       "6   3.377190  \n",
       "7   3.720201  \n",
       "8   6.929704  \n",
       "9   5.183737  \n",
       "10  6.001729  \n",
       "11  4.698671  \n",
       "12  5.081672  \n",
       "13  4.847805  \n",
       "14  4.734615  \n",
       "15  4.747596  \n",
       "16  4.460734  \n",
       "17  5.071302  \n",
       "18  4.829020  \n",
       "19  4.618187  "
      ]
     },
     "execution_count": 25,
     "metadata": {},
     "output_type": "execute_result"
    }
   ],
   "source": [
    "results_with_condition"
   ]
  },
  {
   "cell_type": "markdown",
   "id": "63ca8219",
   "metadata": {},
   "source": [
    "Finally, let us print out the best configuration found from this conditionned search space."
   ]
  },
  {
   "cell_type": "code",
   "execution_count": 26,
   "id": "34f26be4",
   "metadata": {
    "ExecuteTime": {
     "start_time": "2021-10-04T22:23:35.514Z"
    },
    "execution": {
     "iopub.execute_input": "2021-10-05T13:33:02.951023Z",
     "iopub.status.busy": "2021-10-05T13:33:02.950816Z",
     "iopub.status.idle": "2021-10-05T13:33:03.295308Z",
     "shell.execute_reply": "2021-10-05T13:33:03.294708Z",
     "shell.execute_reply.started": "2021-10-05T13:33:02.950999Z"
    }
   },
   "outputs": [
    {
     "name": "stdout",
     "output_type": "stream",
     "text": [
      "The default configuration has an accuracy of 0.803. The best configuration found by DeepHyper has an accuracy 0.852, trained in 4.73 secondes and finished after 82.14 secondes of search.\n"
     ]
    },
    {
     "data": {
      "text/plain": [
       "{'activation': 'swish',\n",
       " 'batch_size': 156,\n",
       " 'dense_2': False,\n",
       " 'dropout_rate': 0.1359758497942754,\n",
       " 'learning_rate': 0.0005434980114817,\n",
       " 'num_epochs': 51,\n",
       " 'units': 126,\n",
       " 'dense_2:activation': nan,\n",
       " 'dense_2:units': nan,\n",
       " 'id': 15}"
      ]
     },
     "execution_count": 26,
     "metadata": {},
     "output_type": "execute_result"
    }
   ],
   "source": [
    "i_max = results_with_condition.objective.argmax()\n",
    "best_config = results_with_condition.iloc[i_max][:-3].to_dict()\n",
    "\n",
    "print(f\"The default configuration has an accuracy of {objective_default:.3f}. \" \n",
    "      f\"The best configuration found by DeepHyper has an accuracy {results_with_condition['objective'].iloc[i_max]:.3f}, \" \n",
    "      f\"trained in {results_with_condition['duration'].iloc[i_max]:.2f} secondes and \"\n",
    "      f\"finished after {results_with_condition['elapsed_sec'].iloc[i_max]:.2f} secondes of search.\")\n",
    "\n",
    "best_config"
   ]
  },
  {
   "cell_type": "code",
   "execution_count": null,
   "id": "022874d7",
   "metadata": {},
   "outputs": [],
   "source": []
  }
 ],
 "metadata": {
  "kernelspec": {
   "display_name": "thetaKNL-2021-09-22",
   "language": "python",
   "name": "thetaknl-2021-09-22"
  },
  "language_info": {
   "codemirror_mode": {
    "name": "ipython",
    "version": 3
   },
   "file_extension": ".py",
   "mimetype": "text/x-python",
   "name": "python",
   "nbconvert_exporter": "python",
   "pygments_lexer": "ipython3",
   "version": "3.8.10"
  },
  "latex_envs": {
   "LaTeX_envs_menu_present": true,
   "autoclose": false,
   "autocomplete": true,
   "bibliofile": "biblio.bib",
   "cite_by": "apalike",
   "current_citInitial": 1,
   "eqLabelWithNumbers": true,
   "eqNumInitial": 1,
   "hotkeys": {
    "equation": ""
   },
   "labels_anchors": false,
   "latex_user_defs": false,
   "report_style_numbering": false,
   "user_envs_cfg": false
  },
  "toc": {
   "base_numbering": 1,
   "nav_menu": {},
   "number_sections": true,
   "sideBar": true,
   "skip_h1_title": false,
   "title_cell": "Table of Contents",
   "title_sidebar": "Contents",
   "toc_cell": false,
   "toc_position": {},
   "toc_section_display": true,
   "toc_window_display": false
  },
  "varInspector": {
   "cols": {
    "lenName": 16,
    "lenType": 16,
    "lenVar": 40
   },
   "kernels_config": {
    "python": {
     "delete_cmd_postfix": "",
     "delete_cmd_prefix": "del ",
     "library": "var_list.py",
     "varRefreshCmd": "print(var_dic_list())"
    },
    "r": {
     "delete_cmd_postfix": ") ",
     "delete_cmd_prefix": "rm(",
     "library": "var_list.r",
     "varRefreshCmd": "cat(var_dic_list()) "
    }
   },
   "types_to_exclude": [
    "module",
    "function",
    "builtin_function_or_method",
    "instance",
    "_Feature"
   ],
   "window_display": false
  }
 },
 "nbformat": 4,
 "nbformat_minor": 5
}
