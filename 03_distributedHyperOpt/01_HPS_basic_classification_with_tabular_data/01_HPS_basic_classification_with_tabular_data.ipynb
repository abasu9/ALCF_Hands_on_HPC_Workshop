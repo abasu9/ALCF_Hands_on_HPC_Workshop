{
 "cells": [
  {
   "cell_type": "markdown",
   "id": "6b6086c3",
   "metadata": {},
   "source": [
    "<img src=\"Figures/Deephyper.png\" width=20% align=center>\n",
    "\n",
    "<div class=\"alert alert-info\">\n",
    "    \n",
    "<b>Reference</b>\n",
    "    \n",
    "This tutorial is based on materials from the Keras Documentation:\n",
    "<a href=\"https://keras.io/examples/structured_data/structured_data_classification_from_scratch/\">Structured data classification from scratch</a>\n",
    "    \n",
    "</div>\n",
    "\n",
    "\n",
    "<div class=\"alert alert-warning\">\n",
    "\n",
    "<b>Warning</b>\n",
    "    \n",
    "By design asyncio does not allow nested event loops. Jupyter is using Tornado which already starts an event loop. Therefore the following patch is required to run this tutorial.\n",
    "    \n",
    "This tutorial should be run with <code>tensorFlow>=2.6</code>.\n",
    "    \n",
    "</div>"
   ]
  },
  {
   "cell_type": "markdown",
   "id": "f7ef2e27",
   "metadata": {},
   "source": [
    "# Hyperparameter search for classification with Tabular data"
   ]
  },
  {
   "cell_type": "code",
   "execution_count": 2,
   "id": "bb4474f0",
   "metadata": {
    "ExecuteTime": {
     "end_time": "2021-10-05T18:24:33.343370Z",
     "start_time": "2021-10-05T18:24:30.550364Z"
    },
    "execution": {
     "iopub.execute_input": "2021-10-05T13:19:48.990662Z",
     "iopub.status.busy": "2021-10-05T13:19:48.990282Z",
     "iopub.status.idle": "2021-10-05T13:19:51.780827Z",
     "shell.execute_reply": "2021-10-05T13:19:51.780182Z",
     "shell.execute_reply.started": "2021-10-05T13:19:48.990582Z"
    }
   },
   "outputs": [
    {
     "name": "stdout",
     "output_type": "stream",
     "text": [
      "Requirement already satisfied: nest_asyncio in /Users/saforem2/opt/anaconda3/lib/python3.7/site-packages (1.5.1)\r\n"
     ]
    }
   ],
   "source": [
    "!pip install nest_asyncio\n",
    "\n",
    "import nest_asyncio\n",
    "nest_asyncio.apply()"
   ]
  },
  {
   "cell_type": "markdown",
   "id": "38664b59",
   "metadata": {},
   "source": [
    "<div class=\"alert alert-info\">\n",
    "    \n",
    "<b>Note</b>\n",
    "    \n",
    "The following environment variables can be used to avoid the logging of **some** Tensorflow *DEBUG*, *INFO* and *WARNING* statements.\n",
    "    \n",
    "</div>"
   ]
  },
  {
   "cell_type": "code",
   "execution_count": 3,
   "id": "320e7d27",
   "metadata": {
    "ExecuteTime": {
     "end_time": "2021-10-05T18:24:39.993962Z",
     "start_time": "2021-10-05T18:24:39.991317Z"
    },
    "execution": {
     "iopub.execute_input": "2021-10-05T13:19:52.492998Z",
     "iopub.status.busy": "2021-10-05T13:19:52.492700Z",
     "iopub.status.idle": "2021-10-05T13:19:52.496874Z",
     "shell.execute_reply": "2021-10-05T13:19:52.496162Z",
     "shell.execute_reply.started": "2021-10-05T13:19:52.492970Z"
    }
   },
   "outputs": [],
   "source": [
    "import os\n",
    "\n",
    "os.environ[\"TF_CPP_MIN_LOG_LEVEL\"] = str(3)\n",
    "os.environ[\"AUTOGRAPH_VERBOSITY\"] = str(0)"
   ]
  },
  {
   "cell_type": "markdown",
   "id": "0360c86e",
   "metadata": {},
   "source": [
    "## Imports\n",
    "\n",
    "<div class=\"alert alert-block alert-danger\">\n",
    "    \n",
    "<b>Danger</b> \n",
    "\n",
    "The following cell contains Tensorflow import `import tensorflow as tf`. It is important to follow this strategy instead of `from tensorflow.keras.layers import ...` to avoid non-serializable data, creating crashes during the search. For example, the original Keras tutorial was using the following set of imports which was creating a serialization error in our use case.\n",
    "    \n",
    "```python\n",
    "from tensorflow import keras\n",
    "from tensorflow.keras import layers\n",
    "...\n",
    "from tensorflow.keras.layers import IntegerLookup\n",
    "from tensorflow.keras.layers import Normalization\n",
    "from tensorflow.keras.layers import StringLookup\n",
    "```\n",
    "    \n",
    "</div>"
   ]
  },
  {
   "cell_type": "code",
   "execution_count": 4,
   "id": "f3a37b1d",
   "metadata": {
    "ExecuteTime": {
     "end_time": "2021-10-05T18:24:47.785621Z",
     "start_time": "2021-10-05T18:24:44.337158Z"
    },
    "execution": {
     "iopub.execute_input": "2021-10-05T13:19:55.476248Z",
     "iopub.status.busy": "2021-10-05T13:19:55.475972Z",
     "iopub.status.idle": "2021-10-05T13:19:59.977776Z",
     "shell.execute_reply": "2021-10-05T13:19:59.976946Z",
     "shell.execute_reply.started": "2021-10-05T13:19:55.476222Z"
    }
   },
   "outputs": [],
   "source": [
    "import ray\n",
    "import pandas as pd\n",
    "import tensorflow as tf"
   ]
  },
  {
   "cell_type": "markdown",
   "id": "e9061925",
   "metadata": {},
   "source": [
    "<div class=\"alert alert-info\">\n",
    "    \n",
    "<b>Note</b>\n",
    "    \n",
    "The following can be used to detect if <b>GPU</b> devices are available on the current host. Therefore, this notebook will automatically adapt the parallel execution based on the ressources available locally. However, it will not be the case if many compute nodes are requested.\n",
    "    \n",
    "</div>"
   ]
  },
  {
   "cell_type": "code",
   "execution_count": 5,
   "id": "da5e0602",
   "metadata": {
    "ExecuteTime": {
     "end_time": "2021-10-05T18:25:28.800173Z",
     "start_time": "2021-10-05T18:25:28.795284Z"
    },
    "execution": {
     "iopub.execute_input": "2021-10-05T13:20:04.352206Z",
     "iopub.status.busy": "2021-10-05T13:20:04.351647Z",
     "iopub.status.idle": "2021-10-05T13:20:04.633707Z",
     "shell.execute_reply": "2021-10-05T13:20:04.632997Z",
     "shell.execute_reply.started": "2021-10-05T13:20:04.352152Z"
    }
   },
   "outputs": [
    {
     "name": "stdout",
     "output_type": "stream",
     "text": [
      "No GPU available\n"
     ]
    }
   ],
   "source": [
    "from tensorflow.python.client import device_lib\n",
    "\n",
    "def get_available_gpus():\n",
    "    local_device_protos = device_lib.list_local_devices()\n",
    "    return [x.name for x in local_device_protos if x.device_type == \"GPU\"]\n",
    "\n",
    "n_gpus = len(get_available_gpus())\n",
    "is_gpu_available = n_gpus > 0\n",
    "\n",
    "if is_gpu_available:\n",
    "    print(f\"{n_gpus} GPU{'s are' if n_gpus > 1 else ' is'} available.\")\n",
    "else:\n",
    "    print(\"No GPU available\")"
   ]
  },
  {
   "cell_type": "markdown",
   "id": "c702c644",
   "metadata": {},
   "source": [
    "### The dataset (from Keras.io)\n",
    "\n",
    "The [dataset](https://archive.ics.uci.edu/ml/datasets/heart+Disease) is provided by the\n",
    "Cleveland Clinic Foundation for Heart Disease.\n",
    "It's a CSV file with 303 rows. Each row contains information about a patient (a\n",
    "**sample**), and each column describes an attribute of the patient (a **feature**). We\n",
    "use the features to predict whether a patient has a heart disease (**binary\n",
    "classification**).\n",
    "\n",
    "Here's the description of each feature:\n",
    "\n",
    "Column| Description| Feature Type\n",
    "------------|--------------------|----------------------\n",
    "Age | Age in years | Numerical\n",
    "Sex | (1 = male; 0 = female) | Categorical\n",
    "CP | Chest pain type (0, 1, 2, 3, 4) | Categorical\n",
    "Trestbpd | Resting blood pressure (in mm Hg on admission) | Numerical\n",
    "Chol | Serum cholesterol in mg/dl | Numerical\n",
    "FBS | fasting blood sugar in 120 mg/dl (1 = true; 0 = false) | Categorical\n",
    "RestECG | Resting electrocardiogram results (0, 1, 2) | Categorical\n",
    "Thalach | Maximum heart rate achieved | Numerical\n",
    "Exang | Exercise induced angina (1 = yes; 0 = no) | Categorical\n",
    "Oldpeak | ST depression induced by exercise relative to rest | Numerical\n",
    "Slope | Slope of the peak exercise ST segment | Numerical\n",
    "CA | Number of major vessels (0-3) colored by fluoroscopy | Both numerical & categorical\n",
    "Thal | 3 = normal; 6 = fixed defect; 7 = reversible defect | Categorical\n",
    "Target | Diagnosis of heart disease (1 = true; 0 = false) | Target"
   ]
  },
  {
   "cell_type": "code",
   "execution_count": 6,
   "id": "9499cd94",
   "metadata": {
    "ExecuteTime": {
     "end_time": "2021-10-05T18:25:45.557525Z",
     "start_time": "2021-10-05T18:25:45.553886Z"
    },
    "execution": {
     "iopub.execute_input": "2021-10-05T13:20:09.216293Z",
     "iopub.status.busy": "2021-10-05T13:20:09.215939Z",
     "iopub.status.idle": "2021-10-05T13:20:09.222811Z",
     "shell.execute_reply": "2021-10-05T13:20:09.222055Z",
     "shell.execute_reply.started": "2021-10-05T13:20:09.216257Z"
    }
   },
   "outputs": [],
   "source": [
    "def load_data():\n",
    "#     file_url = \"http://storage.googleapis.com/download.tensorflow.org/data/heart.csv\"\n",
    "    file_url = \"heart.csv\"\n",
    "    dataframe = pd.read_csv(file_url)\n",
    "\n",
    "    val_dataframe = dataframe.sample(frac=0.2, random_state=1337)\n",
    "    train_dataframe = dataframe.drop(val_dataframe.index)\n",
    "\n",
    "    return train_dataframe, val_dataframe\n",
    "\n",
    "\n",
    "def dataframe_to_dataset(dataframe):\n",
    "    dataframe = dataframe.copy()\n",
    "    labels = dataframe.pop(\"target\")\n",
    "    ds = tf.data.Dataset.from_tensor_slices((dict(dataframe), labels))\n",
    "    ds = ds.shuffle(buffer_size=len(dataframe))\n",
    "    return ds"
   ]
  },
  {
   "cell_type": "markdown",
   "id": "6ceb5938",
   "metadata": {},
   "source": [
    "## Preprocessing & encoding of features\n",
    "\n",
    "The next cells use `tf.keras.layers.Normalization()` to apply standard scaling on the features. Then, the `tf.keras.layers.StringLookup` and `tf.keras.layers.IntegerLookup` are used to encode categorical variables."
   ]
  },
  {
   "cell_type": "code",
   "execution_count": 7,
   "id": "996814d7",
   "metadata": {
    "ExecuteTime": {
     "end_time": "2021-10-05T18:25:53.099883Z",
     "start_time": "2021-10-05T18:25:53.094250Z"
    },
    "execution": {
     "iopub.execute_input": "2021-10-05T13:20:10.938147Z",
     "iopub.status.busy": "2021-10-05T13:20:10.937624Z",
     "iopub.status.idle": "2021-10-05T13:20:10.950587Z",
     "shell.execute_reply": "2021-10-05T13:20:10.949641Z",
     "shell.execute_reply.started": "2021-10-05T13:20:10.938088Z"
    }
   },
   "outputs": [],
   "source": [
    "def encode_numerical_feature(feature, name, dataset):\n",
    "    # Create a Normalization layer for our feature\n",
    "    normalizer = tf.keras.layers.Normalization()\n",
    "\n",
    "    # Prepare a Dataset that only yields our feature\n",
    "    feature_ds = dataset.map(lambda x, y: x[name])\n",
    "    feature_ds = feature_ds.map(lambda x: tf.expand_dims(x, -1))\n",
    "\n",
    "    # Learn the statistics of the data\n",
    "    normalizer.adapt(feature_ds)\n",
    "\n",
    "    # Normalize the input feature\n",
    "    encoded_feature = normalizer(feature)\n",
    "    return encoded_feature\n",
    "\n",
    "\n",
    "def encode_categorical_feature(feature, name, dataset, is_string):\n",
    "    lookup_class = (\n",
    "        tf.keras.layers.StringLookup if is_string else tf.keras.layers.IntegerLookup\n",
    "    )\n",
    "    # Create a lookup layer which will turn strings into integer indices\n",
    "    lookup = lookup_class(output_mode=\"binary\")\n",
    "\n",
    "    # Prepare a Dataset that only yields our feature\n",
    "    feature_ds = dataset.map(lambda x, y: x[name])\n",
    "    feature_ds = feature_ds.map(lambda x: tf.expand_dims(x, -1))\n",
    "\n",
    "    # Learn the set of possible string values and assign them a fixed integer index\n",
    "    lookup.adapt(feature_ds)\n",
    "\n",
    "    # Turn the string input into integer indices\n",
    "    encoded_feature = lookup(feature)\n",
    "    return encoded_feature"
   ]
  },
  {
   "cell_type": "markdown",
   "id": "c8743319",
   "metadata": {},
   "source": [
    "## Define the run-function\n",
    "\n",
    "The run-function defines how the objective that we want to maximize is computed. It takes a `config` dictionary as input and often returns a scalar value that we want to maximize. The `config` contains a sample value of hyperparameters to we want to tune. In this example we will search for:\n",
    "* `units` (default value: `32`)\n",
    "* `activation` (default value: `\"relu\"`)\n",
    "* `dropout_rate` (default value: `0.5`)\n",
    "* `num_epochs` (default value: `50`)\n",
    "* `batch_size` (default value: `32`)\n",
    "* `learning_rate` (default value: `1e-3`)\n",
    "A hyperparameter value can be acessed easily in the dictionary through the corresponding key, for example `config[\"units\"]`."
   ]
  },
  {
   "cell_type": "code",
   "execution_count": 8,
   "id": "2f99f031",
   "metadata": {
    "ExecuteTime": {
     "end_time": "2021-10-05T18:28:13.217339Z",
     "start_time": "2021-10-05T18:28:13.202697Z"
    },
    "execution": {
     "iopub.execute_input": "2021-10-05T13:20:14.252344Z",
     "iopub.status.busy": "2021-10-05T13:20:14.251894Z",
     "iopub.status.idle": "2021-10-05T13:20:14.269736Z",
     "shell.execute_reply": "2021-10-05T13:20:14.269026Z",
     "shell.execute_reply.started": "2021-10-05T13:20:14.252307Z"
    }
   },
   "outputs": [],
   "source": [
    "def run(config: dict):\n",
    "    tf.autograph.set_verbosity(0)\n",
    "    # Load data and split into validation set\n",
    "    train_dataframe, val_dataframe = load_data()\n",
    "    train_ds = dataframe_to_dataset(train_dataframe)\n",
    "    val_ds = dataframe_to_dataset(val_dataframe)\n",
    "    train_ds = train_ds.batch(config[\"batch_size\"])\n",
    "    val_ds = val_ds.batch(config[\"batch_size\"])\n",
    "\n",
    "    # Categorical features encoded as integers\n",
    "    sex = tf.keras.Input(shape=(1,), name=\"sex\", dtype=\"int64\")\n",
    "    cp = tf.keras.Input(shape=(1,), name=\"cp\", dtype=\"int64\")\n",
    "    fbs = tf.keras.Input(shape=(1,), name=\"fbs\", dtype=\"int64\")\n",
    "    restecg = tf.keras.Input(shape=(1,), name=\"restecg\", dtype=\"int64\")\n",
    "    exang = tf.keras.Input(shape=(1,), name=\"exang\", dtype=\"int64\")\n",
    "    ca = tf.keras.Input(shape=(1,), name=\"ca\", dtype=\"int64\")\n",
    "\n",
    "    # Categorical feature encoded as string\n",
    "    thal = tf.keras.Input(shape=(1,), name=\"thal\", dtype=\"string\")\n",
    "\n",
    "    # Numerical features\n",
    "    age = tf.keras.Input(shape=(1,), name=\"age\")\n",
    "    trestbps = tf.keras.Input(shape=(1,), name=\"trestbps\")\n",
    "    chol = tf.keras.Input(shape=(1,), name=\"chol\")\n",
    "    thalach = tf.keras.Input(shape=(1,), name=\"thalach\")\n",
    "    oldpeak = tf.keras.Input(shape=(1,), name=\"oldpeak\")\n",
    "    slope = tf.keras.Input(shape=(1,), name=\"slope\")\n",
    "\n",
    "    all_inputs = [\n",
    "        sex,\n",
    "        cp,\n",
    "        fbs,\n",
    "        restecg,\n",
    "        exang,\n",
    "        ca,\n",
    "        thal,\n",
    "        age,\n",
    "        trestbps,\n",
    "        chol,\n",
    "        thalach,\n",
    "        oldpeak,\n",
    "        slope,\n",
    "    ]\n",
    "\n",
    "    # Integer categorical features\n",
    "    sex_encoded = encode_categorical_feature(sex, \"sex\", train_ds, False)\n",
    "    cp_encoded = encode_categorical_feature(cp, \"cp\", train_ds, False)\n",
    "    fbs_encoded = encode_categorical_feature(fbs, \"fbs\", train_ds, False)\n",
    "    restecg_encoded = encode_categorical_feature(restecg, \"restecg\", train_ds, False)\n",
    "    exang_encoded = encode_categorical_feature(exang, \"exang\", train_ds, False)\n",
    "    ca_encoded = encode_categorical_feature(ca, \"ca\", train_ds, False)\n",
    "\n",
    "    # String categorical features\n",
    "    thal_encoded = encode_categorical_feature(thal, \"thal\", train_ds, True)\n",
    "\n",
    "    # Numerical features\n",
    "    age_encoded = encode_numerical_feature(age, \"age\", train_ds)\n",
    "    trestbps_encoded = encode_numerical_feature(trestbps, \"trestbps\", train_ds)\n",
    "    chol_encoded = encode_numerical_feature(chol, \"chol\", train_ds)\n",
    "    thalach_encoded = encode_numerical_feature(thalach, \"thalach\", train_ds)\n",
    "    oldpeak_encoded = encode_numerical_feature(oldpeak, \"oldpeak\", train_ds)\n",
    "    slope_encoded = encode_numerical_feature(slope, \"slope\", train_ds)\n",
    "\n",
    "    all_features = tf.keras.layers.concatenate(\n",
    "        [\n",
    "            sex_encoded,\n",
    "            cp_encoded,\n",
    "            fbs_encoded,\n",
    "            restecg_encoded,\n",
    "            exang_encoded,\n",
    "            slope_encoded,\n",
    "            ca_encoded,\n",
    "            thal_encoded,\n",
    "            age_encoded,\n",
    "            trestbps_encoded,\n",
    "            chol_encoded,\n",
    "            thalach_encoded,\n",
    "            oldpeak_encoded,\n",
    "        ]\n",
    "    )\n",
    "    x = tf.keras.layers.Dense(config[\"units\"], activation=config[\"activation\"])(\n",
    "        all_features\n",
    "    )\n",
    "    x = tf.keras.layers.Dropout(config[\"dropout_rate\"])(x)\n",
    "    output = tf.keras.layers.Dense(1, activation=\"sigmoid\")(x)\n",
    "    model = tf.keras.Model(all_inputs, output)\n",
    "\n",
    "    optimizer = tf.keras.optimizers.Adam(learning_rate=config[\"learning_rate\"])\n",
    "    model.compile(optimizer, \"binary_crossentropy\", metrics=[\"accuracy\"])\n",
    "\n",
    "    history = model.fit(\n",
    "        train_ds, epochs=config[\"num_epochs\"], validation_data=val_ds, verbose=0\n",
    "    )\n",
    "\n",
    "    return history.history[\"val_accuracy\"][-1]"
   ]
  },
  {
   "cell_type": "markdown",
   "id": "ea800ab1",
   "metadata": {},
   "source": [
    "<div class=\"alert alert-success\">\n",
    "    \n",
    "<b>Important</b>\n",
    "    \n",
    "The objective maximised by DeepHyper is the scalar value returned by the `run`-function. In this tutorial it corresponds to the validation accuracy of the last epoch of training which we retrieve in the `History` object returned by the `model.fit(...)` call.\n",
    "    \n",
    "```python\n",
    "...\n",
    "history = model.fit(\n",
    "    train_ds, epochs=config[\"num_epochs\"], validation_data=val_ds, verbose=0\n",
    ")\n",
    "\n",
    "return history.history[\"val_accuracy\"][-1]\n",
    "...\n",
    "```\n",
    "\n",
    "Using an objective like `max(history.history[\"val_accuracy\"])` can have undesired effect such as training curves passing by a local maximum and then dropping which will not generate a model in capacity of ingesting well more data in the future.\n",
    "    \n",
    "</div>\n",
    "\n"
   ]
  },
  {
   "cell_type": "markdown",
   "id": "9f1719e4",
   "metadata": {},
   "source": [
    "## Evaluate a default configuration\n",
    "\n",
    "We evaluate the performance of the default set of hyperparameters provided in the Keras tutorial."
   ]
  },
  {
   "cell_type": "code",
   "execution_count": 9,
   "id": "5ab7ab0c",
   "metadata": {
    "ExecuteTime": {
     "end_time": "2021-10-05T18:29:01.996881Z",
     "start_time": "2021-10-05T18:28:55.890583Z"
    },
    "execution": {
     "iopub.execute_input": "2021-10-05T13:20:17.560431Z",
     "iopub.status.busy": "2021-10-05T13:20:17.560135Z",
     "iopub.status.idle": "2021-10-05T13:20:33.100905Z",
     "shell.execute_reply": "2021-10-05T13:20:33.100179Z",
     "shell.execute_reply.started": "2021-10-05T13:20:17.560401Z"
    },
    "scrolled": true
   },
   "outputs": [
    {
     "name": "stderr",
     "output_type": "stream",
     "text": [
      "2021-10-05 13:28:57,341\tINFO services.py:1263 -- View the Ray dashboard at \u001b[1m\u001b[32mhttp://127.0.0.1:8265\u001b[39m\u001b[22m\n"
     ]
    },
    {
     "data": {
      "text/plain": [
       "{'node_ip_address': '192.168.4.31',\n",
       " 'raylet_ip_address': '192.168.4.31',\n",
       " 'redis_address': '192.168.4.31:6379',\n",
       " 'object_store_address': '/tmp/ray/session_2021-10-05_13-28-55_894881_8853/sockets/plasma_store',\n",
       " 'raylet_socket_name': '/tmp/ray/session_2021-10-05_13-28-55_894881_8853/sockets/raylet',\n",
       " 'webui_url': '127.0.0.1:8265',\n",
       " 'session_dir': '/tmp/ray/session_2021-10-05_13-28-55_894881_8853',\n",
       " 'metrics_export_port': 57493,\n",
       " 'node_id': 'f0411670c275009d69658b6d0d046d42d2d97cf9c3c97040d29934e5'}"
      ]
     },
     "execution_count": 9,
     "metadata": {},
     "output_type": "execute_result"
    },
    {
     "name": "stdout",
     "output_type": "stream",
     "text": [
      "Accuracy Default Configuration:  0.820\n"
     ]
    }
   ],
   "source": [
    "# We define a dictionnary for the default values\n",
    "default_config = {\n",
    "    \"units\": 32,\n",
    "    \"activation\": \"relu\",\n",
    "    \"dropout_rate\": 0.5,\n",
    "    \"num_epochs\": 50,\n",
    "    \"batch_size\": 32,\n",
    "    \"learning_rate\": 1e-3,\n",
    "}\n",
    "\n",
    "# We launch the Ray run-time depending of the detected local ressources\n",
    "# and execute the `run` function with the default configuration\n",
    "# WARNING: in the case of GPUs it is important to follow this scheme\n",
    "# to avoid multiple processes (Ray workers vs current process) to lock\n",
    "# the same GPU.\n",
    "if is_gpu_available:\n",
    "    if not(ray.is_initialized()):\n",
    "        ray.init(num_cpus=n_gpus, num_gpus=n_gpus, log_to_driver=False)\n",
    "    \n",
    "    run_default = ray.remote(num_cpus=1, num_gpus=1)(run)\n",
    "    objective_default = ray.get(run_default.remote(default_config))\n",
    "else:\n",
    "    if not(ray.is_initialized()):\n",
    "        ray.init(num_cpus=1, log_to_driver=False)\n",
    "    run_default = run\n",
    "    objective_default = run_default(default_config)\n",
    "    \n",
    "print(f\"Accuracy Default Configuration:  {objective_default:.3f}\")"
   ]
  },
  {
   "cell_type": "markdown",
   "id": "3ca589b5",
   "metadata": {},
   "source": [
    "## Define the Hyperparameter optimization problem\n",
    "\n",
    "Hyperparameter ranges are defined using the following syntax:\n",
    "\n",
    "* Discrete integer ranges are generated from a tuple `(lower: int, upper: int)`\n",
    "* Continuous prarameters are generated from a tuple `(lower: float, upper: float)`\n",
    "* Categorical or nonordinal hyperparameter ranges can be given as a list of possible values `[val1, val2, ...]`\n",
    "\n",
    "We provide the default configuration of hyperparameters as a starting point of the problem."
   ]
  },
  {
   "cell_type": "code",
   "execution_count": 10,
   "id": "5813bb59",
   "metadata": {
    "ExecuteTime": {
     "end_time": "2021-10-05T18:29:27.365331Z",
     "start_time": "2021-10-05T18:29:26.725150Z"
    },
    "execution": {
     "iopub.execute_input": "2021-10-05T13:20:33.102492Z",
     "iopub.status.busy": "2021-10-05T13:20:33.102220Z",
     "iopub.status.idle": "2021-10-05T13:20:33.802294Z",
     "shell.execute_reply": "2021-10-05T13:20:33.801558Z",
     "shell.execute_reply.started": "2021-10-05T13:20:33.102451Z"
    }
   },
   "outputs": [
    {
     "data": {
      "text/plain": [
       "units, Type: UniformInteger, Range: [8, 128], Default: 68"
      ]
     },
     "execution_count": 10,
     "metadata": {},
     "output_type": "execute_result"
    },
    {
     "data": {
      "text/plain": [
       "activation, Type: Categorical, Choices: {elu, gelu, hard_sigmoid, linear, relu, selu, sigmoid, softplus, softsign, swish, tanh}, Default: elu"
      ]
     },
     "execution_count": 10,
     "metadata": {},
     "output_type": "execute_result"
    },
    {
     "data": {
      "text/plain": [
       "dropout_rate, Type: UniformFloat, Range: [0.0, 0.6], Default: 0.3"
      ]
     },
     "execution_count": 10,
     "metadata": {},
     "output_type": "execute_result"
    },
    {
     "data": {
      "text/plain": [
       "num_epochs, Type: UniformInteger, Range: [10, 100], Default: 55"
      ]
     },
     "execution_count": 10,
     "metadata": {},
     "output_type": "execute_result"
    },
    {
     "data": {
      "text/plain": [
       "batch_size, Type: UniformInteger, Range: [8, 256], Default: 45, on log-scale"
      ]
     },
     "execution_count": 10,
     "metadata": {},
     "output_type": "execute_result"
    },
    {
     "data": {
      "text/plain": [
       "learning_rate, Type: UniformFloat, Range: [1e-05, 0.01], Default: 0.0003162278, on log-scale"
      ]
     },
     "execution_count": 10,
     "metadata": {},
     "output_type": "execute_result"
    },
    {
     "data": {
      "text/plain": [
       "Configuration space object:\n",
       "  Hyperparameters:\n",
       "    activation, Type: Categorical, Choices: {elu, gelu, hard_sigmoid, linear, relu, selu, sigmoid, softplus, softsign, swish, tanh}, Default: elu\n",
       "    batch_size, Type: UniformInteger, Range: [8, 256], Default: 45, on log-scale\n",
       "    dropout_rate, Type: UniformFloat, Range: [0.0, 0.6], Default: 0.3\n",
       "    learning_rate, Type: UniformFloat, Range: [1e-05, 0.01], Default: 0.0003162278, on log-scale\n",
       "    num_epochs, Type: UniformInteger, Range: [10, 100], Default: 55\n",
       "    units, Type: UniformInteger, Range: [8, 128], Default: 68\n",
       "\n",
       "\n",
       "  Starting Point:\n",
       "{0: {'activation': 'relu',\n",
       "     'batch_size': 32,\n",
       "     'dropout_rate': 0.5,\n",
       "     'learning_rate': 0.001,\n",
       "     'num_epochs': 50,\n",
       "     'units': 32}}"
      ]
     },
     "execution_count": 10,
     "metadata": {},
     "output_type": "execute_result"
    }
   ],
   "source": [
    "from deephyper.problem import HpProblem\n",
    "\n",
    "problem = HpProblem()\n",
    "# Discrete hyperparameter (sampled with uniform prior)\n",
    "problem.add_hyperparameter((8, 128), \"units\")\n",
    "# Categorical hyperparameter (sampled with uniform prior)\n",
    "ACTIVATIONS = [\"elu\", \"gelu\", \"hard_sigmoid\", \"linear\", \"relu\", \"selu\",\n",
    "    \"sigmoid\", \"softplus\", \"softsign\", \"swish\", \"tanh\",\n",
    "]\n",
    "problem.add_hyperparameter(ACTIVATIONS, \"activation\")\n",
    "# Real hyperparameter (sampled with uniform prior)\n",
    "problem.add_hyperparameter((0.0, 0.6), \"dropout_rate\")\n",
    "problem.add_hyperparameter((10, 100), \"num_epochs\")\n",
    "# Discrete and Real hyperparameters (sampled with log-uniform)\n",
    "problem.add_hyperparameter((8, 256, \"log-uniform\"), \"batch_size\")\n",
    "problem.add_hyperparameter((1e-5, 1e-2, \"log-uniform\"), \"learning_rate\")\n",
    "\n",
    "# Add a starting point to try first\n",
    "problem.add_starting_point(**default_config)\n",
    "problem"
   ]
  },
  {
   "cell_type": "markdown",
   "id": "596900f9",
   "metadata": {},
   "source": [
    "## Define the evaluator object\n",
    "\n",
    "The `Evaluator` object allows to change the parallelization backend used by DeepHyper.  \n",
    "It is a standalone object which schedules the execution of remote tasks. All evaluators needs a `run_function` to be instantiated.  \n",
    "Then a keyword `method` defines the backend (e.g., `\"ray\"`) and the `method_kwargs` corresponds to keyword arguments of this chosen `method`.\n",
    "\n",
    "```python\n",
    "evaluator = Evaluator.create(run_function, method, method_kwargs)\n",
    "```\n",
    "\n",
    "Once created the `evaluator.num_workers` gives access to the number of available parallel workers.\n",
    "\n",
    "Finally, to submit and collect tasks to the evaluator one just needs to use the following interface:\n",
    "\n",
    "```python\n",
    "configs = [...]\n",
    "evaluator.submit(configs)\n",
    "...\n",
    "tasks_done = evaluator.get(\"BATCH\", size=1) # For asynchronous\n",
    "tasks_done = evaluator.get(\"ALL\") # For batch synchronous\n",
    "```\n",
    "\n",
    "<div class=\"alert alert-warning\">\n",
    "\n",
    "<b>Warning</b>\n",
    "\n",
    "Each `Evaluator` saves its own state, therefore it is crutial to create a new evaluator when launching a fresh search.\n",
    "    \n",
    "</div>\n"
   ]
  },
  {
   "cell_type": "code",
   "execution_count": 11,
   "id": "b3f0be13",
   "metadata": {
    "ExecuteTime": {
     "end_time": "2021-10-05T18:32:17.520063Z",
     "start_time": "2021-10-05T18:32:17.510055Z"
    },
    "execution": {
     "iopub.execute_input": "2021-10-05T13:24:26.533483Z",
     "iopub.status.busy": "2021-10-05T13:24:26.533227Z",
     "iopub.status.idle": "2021-10-05T13:24:26.548067Z",
     "shell.execute_reply": "2021-10-05T13:24:26.547597Z",
     "shell.execute_reply.started": "2021-10-05T13:24:26.533457Z"
    }
   },
   "outputs": [
    {
     "name": "stdout",
     "output_type": "stream",
     "text": [
      "Created new evaluator with 1 worker and config: {'num_cpus': 1, 'num_cpus_per_task': 1, 'callbacks': [<deephyper.evaluator.callback.LoggerCallback object at 0x7fddf20d7220>]}\n"
     ]
    }
   ],
   "source": [
    "from deephyper.evaluator.evaluate import Evaluator\n",
    "from deephyper.evaluator.callback import LoggerCallback\n",
    "\n",
    "def get_evaluator(run_function):\n",
    "    # Default arguments for Ray: 1 worker and 1 worker per evaluation\n",
    "    method_kwargs = {\n",
    "        \"num_cpus\": 1, \n",
    "        \"num_cpus_per_task\": 1,\n",
    "        \"callbacks\": [LoggerCallback()]\n",
    "    }\n",
    "\n",
    "    # If GPU devices are detected then it will create 'n_gpus' workers\n",
    "    # and use 1 worker for each evaluation\n",
    "    if is_gpu_available:\n",
    "        method_kwargs[\"num_cpus\"] = n_gpus\n",
    "        method_kwargs[\"num_gpus\"] = n_gpus\n",
    "        method_kwargs[\"num_cpus_per_task\"] = 1\n",
    "        method_kwargs[\"num_gpus_per_task\"] = 1\n",
    "\n",
    "    evaluator = Evaluator.create(\n",
    "        run_function, \n",
    "        method=\"ray\", \n",
    "        method_kwargs=method_kwargs\n",
    "    )\n",
    "    print(f\"Created new evaluator with {evaluator.num_workers} worker{'s' if evaluator.num_workers > 1 else ''} and config: {method_kwargs}\", )\n",
    "    \n",
    "    return evaluator\n",
    "\n",
    "evaluator_1 = get_evaluator(run)"
   ]
  },
  {
   "cell_type": "markdown",
   "id": "392998bc",
   "metadata": {},
   "source": [
    "## Define and run the asynchronous model-based search (AMBS)\n",
    "\n",
    "A primary pillar of hyperparameter search in DeepHyper is given by an asynchronous parallel model-based search paradigm (henceforth AMBS). AMBS may be described in the following algorithm:\n",
    "\n",
    "### AMBS:\n",
    "<img src=\"Figures/AMBS.png\" width=30% align=\"right\">\n",
    "\n",
    "1. $\\mathcal{X}_{S}\\leftarrow$ `random_sample_configs`$(\\mathcal{D})$\n",
    "2. `add_eval_batch` $(\\mathcal{X}_{S})$\n",
    "3. **while** `stopping criterion not met` **do**:\n",
    "  - $(\\mathcal{X}_{r}, \\mathcal{Y}_{r})\\leftarrow$ `get_finished_evals()`\n",
    "  - $s\\leftarrow|\\mathcal{Y}_{r}|$\n",
    "  - **if** $s>0$ **then**:\n",
    "    - $\\mathcal{X}_{\\mathrm{out}}\\leftarrow \\mathcal{X}_{\\mathrm{out}}\\bigcup\\mathcal{X}_{r};\\,\\, \\mathcal{Y}_{\\mathrm{out}}\\leftarrow\\mathcal{Y}_{\\mathrm{out}}\\bigcup\\mathcal{Y}_{r}$\n",
    "    - $\\mathcal{M}\\leftarrow$ `Fit` $(\\mathcal{X}_{\\mathrm{out}}, \\mathcal{Y}_{\\mathrm{out}})$\n",
    "    - $\\mathcal{D}\\leftarrow \\mathcal{D}-\\mathcal{X}_{r}$\n",
    "    - $\\mathcal{X}_{s}\\leftarrow$ `sample_configs` $(\\mathcal{M}, \\mathcal{D})$\n",
    "    - `add_eval_batch` $(\\mathcal{X}_{s})$\n",
    "- **Output:** Best hyperparameter configuration(s) from $\\mathcal{X}_{\\mathrm{out}}$\n",
    "\n",
    "---\n",
    "\n",
    "Following the parallelized evaluation of these configurations, a low-fidelity and high efficiency model (henceforth \"the surrogate\") is devised to reproduce the relationship between the input variables involved in the model (i.e., the choice of hyperparameters) and the outputs (which are generally a measure of validation data accuracy).  \n",
    "\n",
    "After obtaining this surrogate of the validation accuracy, we may utilize ideas from classical methods in Bayesian optimization literature for adaptively sample the search space of hyperparameters.\n",
    "\n",
    "First, the surrogate is used to obtain an estimate for the mean value of the validation accuracy at a certain sampling location $x$ in addition to an estimated variance. The latter requirement restricts us to the use of high efficiency data-driven modeling strategies that have inbuilt variance estimates (such as a Gaussian process or Random Forest regressor).  \n",
    "\n",
    "Regions where the mean is high represent opportunities for exploitation and regions where the variance is high represent opportunities for exploration. An optimistic acquisition function called UCB can be constructed using these two quantities:\n",
    "\n",
    "$$L_{\\text{UCB}}(x) = \\mu(x) + \\kappa \\cdot \\sigma(x)$$\n",
    "\n",
    "The *unevaluated* hyperparameter configurations that *maximize* the acquisition function are chosen for the next batch of evaluations.  \n",
    "\n",
    "Note that the choice of the variance weighting parameter $\\kappa$ controls the degree of exploration in the hyperparameter search with zero indicating purely exploitation (unseen configurations where the predicted accuracy is highest will be sampled).  \n",
    "\n",
    "The top `s` configurations are selected for the new batch. The following schematic demonstrates this process:\n",
    "\n",
    "<img src=\"Figures/BO_AF.png\" width=50%>\n",
    "\n",
    "The process of obtaining `s` configurations relies on the \"constant-liar\" strategy where a sampled configuration is mapped to a dummy output given by a bulk metric of all the evaluated configurations thus far (such as the maximum, mean or median validation accuracy).  \n",
    "\n",
    "Prior to sampling the next configuration by acquisition function maximization, the surrogate is retrained with the dummy output as a data point. As the true validation accuracy becomes available for one of the sampled configurations, the dummy output is replaced and the surrogate is updated.\n",
    "\n",
    "This allows for scalable asynchronous (or batch synchronous) sampling of new hyperparameter configurations. \n",
    "\n",
    "####  Choice of surrogate model\n",
    "\n",
    "Users should note that our choice of the surrogate is given by the Random Forest regressor due to its ability to handle non-ordinal data (hyperparameter configurations may not be purely continuous or even numerical). Evidence for how they outperform other methods (such as Gaussian processes) is also available in [1]\n",
    "\n",
    "<img src=\"Figures/RFR.png\" width=33% align=left>\n",
    "\n",
    "<img src=\"Figures/RFR_Superior.png\" width=64% align=right>\n"
   ]
  },
  {
   "cell_type": "code",
   "execution_count": 15,
   "id": "09dc7abd",
   "metadata": {
    "ExecuteTime": {
     "end_time": "2021-10-05T18:42:59.756241Z",
     "start_time": "2021-10-05T18:42:59.753942Z"
    },
    "execution": {
     "iopub.execute_input": "2021-10-05T13:24:31.729788Z",
     "iopub.status.busy": "2021-10-05T13:24:31.729551Z",
     "iopub.status.idle": "2021-10-05T13:24:31.811538Z",
     "shell.execute_reply": "2021-10-05T13:24:31.810828Z",
     "shell.execute_reply.started": "2021-10-05T13:24:31.729764Z"
    }
   },
   "outputs": [],
   "source": [
    "from deephyper.search.hps import AMBS\n",
    "# Uncomment the following line to show the arguments of AMBS.\n",
    "# AMBS?"
   ]
  },
  {
   "cell_type": "code",
   "execution_count": 16,
   "id": "1e00f0f0",
   "metadata": {
    "ExecuteTime": {
     "end_time": "2021-10-05T18:43:01.037326Z",
     "start_time": "2021-10-05T18:43:01.034414Z"
    },
    "execution": {
     "iopub.execute_input": "2021-10-05T13:24:32.484543Z",
     "iopub.status.busy": "2021-10-05T13:24:32.484353Z",
     "iopub.status.idle": "2021-10-05T13:24:32.488491Z",
     "shell.execute_reply": "2021-10-05T13:24:32.487856Z",
     "shell.execute_reply.started": "2021-10-05T13:24:32.484521Z"
    }
   },
   "outputs": [],
   "source": [
    "# Instanciate the search with the problem and a specific evaluator\n",
    "search = AMBS(problem, evaluator_1)"
   ]
  },
  {
   "cell_type": "markdown",
   "id": "5fad52a5",
   "metadata": {},
   "source": [
    "<div class=\"alert alert-info\">\n",
    "    \n",
    "<b>Note</b>\n",
    "    \n",
    "All DeepHyper's search algorithm have two stopping criteria:\n",
    "    <ul> \n",
    "        <li> <code>max_evals (int)</code>: Defines the maximum number of evaluations that we want to perform. Default to <code>-1</code> for an infinite number.</li>\n",
    "        <li> <code>timeout (int)</code>: Defines a time budget (in seconds) before stopping the search. Default to <code>None</code> for an infinite time budget.</li>\n",
    "    </ul>\n",
    "    \n",
    "</div>"
   ]
  },
  {
   "cell_type": "code",
   "execution_count": 17,
   "id": "457546ce",
   "metadata": {
    "ExecuteTime": {
     "end_time": "2021-10-05T18:43:36.686502Z",
     "start_time": "2021-10-05T18:43:03.924711Z"
    },
    "execution": {
     "iopub.execute_input": "2021-10-05T13:24:34.026578Z",
     "iopub.status.busy": "2021-10-05T13:24:34.026364Z",
     "iopub.status.idle": "2021-10-05T13:25:38.142031Z",
     "shell.execute_reply": "2021-10-05T13:25:38.141494Z",
     "shell.execute_reply.started": "2021-10-05T13:24:34.026553Z"
    },
    "scrolled": true
   },
   "outputs": [
    {
     "name": "stdout",
     "output_type": "stream",
     "text": [
      "[00011] -- best objective: 0.8524590134620667 -- received objective: 0.8524590134620667\n",
      "[00012] -- best objective: 0.8524590134620667 -- received objective: 0.8196721076965332\n",
      "[00013] -- best objective: 0.8524590134620667 -- received objective: 0.8032786846160889\n",
      "[00014] -- best objective: 0.8524590134620667 -- received objective: 0.5737704634666443\n",
      "[00015] -- best objective: 0.8524590134620667 -- received objective: 0.6393442749977112\n",
      "[00016] -- best objective: 0.8524590134620667 -- received objective: 0.8196721076965332\n",
      "[00017] -- best objective: 0.8524590134620667 -- received objective: 0.7377049326896667\n",
      "[00018] -- best objective: 0.8524590134620667 -- received objective: 0.7868852615356445\n",
      "[00019] -- best objective: 0.8524590134620667 -- received objective: 0.8196721076965332\n",
      "[00020] -- best objective: 0.8524590134620667 -- received objective: 0.8032786846160889\n"
     ]
    }
   ],
   "source": [
    "results = search.search(max_evals=10)"
   ]
  },
  {
   "cell_type": "markdown",
   "id": "33c2dd77",
   "metadata": {},
   "source": [
    "<div class=\"alert alert-warning\">\n",
    "\n",
    "<b>Warning</b>\n",
    "    \n",
    "The <code>search</code> call does not output any information about the current status of the search. However, <code>results.csv</code> file is created in the local directly and can be visualized to see finished tasks.\n",
    "    \n",
    "</div>"
   ]
  },
  {
   "cell_type": "markdown",
   "id": "5c54414b",
   "metadata": {},
   "source": [
    "The returned `results` is a Pandas Dataframe where columns are hyperparameters and information stored by the evaluator:\n",
    "\n",
    "* `id` is a unique identifier corresponding to the order of creation of tasks\n",
    "* `objective` is the value returned by the run-function\n",
    "* `elapsed_sec` is the time (in seconds) when the task completed since the creation of the evaluator.\n",
    "* `duration` is the duration (in seconds) of the task to be computed."
   ]
  },
  {
   "cell_type": "code",
   "execution_count": 18,
   "id": "87bc93b8",
   "metadata": {
    "ExecuteTime": {
     "end_time": "2021-10-05T18:45:39.153459Z",
     "start_time": "2021-10-05T18:45:39.140740Z"
    },
    "execution": {
     "iopub.execute_input": "2021-10-05T13:26:06.857647Z",
     "iopub.status.busy": "2021-10-05T13:26:06.857404Z",
     "iopub.status.idle": "2021-10-05T13:26:06.897524Z",
     "shell.execute_reply": "2021-10-05T13:26:06.897125Z",
     "shell.execute_reply.started": "2021-10-05T13:26:06.857622Z"
    }
   },
   "outputs": [
    {
     "data": {
      "text/html": [
       "<div>\n",
       "<style scoped>\n",
       "    .dataframe tbody tr th:only-of-type {\n",
       "        vertical-align: middle;\n",
       "    }\n",
       "\n",
       "    .dataframe tbody tr th {\n",
       "        vertical-align: top;\n",
       "    }\n",
       "\n",
       "    .dataframe thead th {\n",
       "        text-align: right;\n",
       "    }\n",
       "</style>\n",
       "<table border=\"1\" class=\"dataframe\">\n",
       "  <thead>\n",
       "    <tr style=\"text-align: right;\">\n",
       "      <th></th>\n",
       "      <th>activation</th>\n",
       "      <th>batch_size</th>\n",
       "      <th>dropout_rate</th>\n",
       "      <th>learning_rate</th>\n",
       "      <th>num_epochs</th>\n",
       "      <th>units</th>\n",
       "      <th>id</th>\n",
       "      <th>objective</th>\n",
       "      <th>elapsed_sec</th>\n",
       "      <th>duration</th>\n",
       "    </tr>\n",
       "  </thead>\n",
       "  <tbody>\n",
       "    <tr>\n",
       "      <th>0</th>\n",
       "      <td>relu</td>\n",
       "      <td>32</td>\n",
       "      <td>0.500000</td>\n",
       "      <td>0.001000</td>\n",
       "      <td>50</td>\n",
       "      <td>32</td>\n",
       "      <td>1</td>\n",
       "      <td>0.819672</td>\n",
       "      <td>577.630132</td>\n",
       "      <td>7.254437</td>\n",
       "    </tr>\n",
       "    <tr>\n",
       "      <th>1</th>\n",
       "      <td>tanh</td>\n",
       "      <td>96</td>\n",
       "      <td>0.057024</td>\n",
       "      <td>0.000118</td>\n",
       "      <td>80</td>\n",
       "      <td>35</td>\n",
       "      <td>2</td>\n",
       "      <td>0.770492</td>\n",
       "      <td>582.129574</td>\n",
       "      <td>4.293740</td>\n",
       "    </tr>\n",
       "    <tr>\n",
       "      <th>2</th>\n",
       "      <td>relu</td>\n",
       "      <td>181</td>\n",
       "      <td>0.412795</td>\n",
       "      <td>0.000924</td>\n",
       "      <td>31</td>\n",
       "      <td>23</td>\n",
       "      <td>3</td>\n",
       "      <td>0.786885</td>\n",
       "      <td>585.370802</td>\n",
       "      <td>3.035438</td>\n",
       "    </tr>\n",
       "    <tr>\n",
       "      <th>3</th>\n",
       "      <td>elu</td>\n",
       "      <td>11</td>\n",
       "      <td>0.046230</td>\n",
       "      <td>0.004286</td>\n",
       "      <td>60</td>\n",
       "      <td>65</td>\n",
       "      <td>4</td>\n",
       "      <td>0.786885</td>\n",
       "      <td>590.549627</td>\n",
       "      <td>4.977015</td>\n",
       "    </tr>\n",
       "    <tr>\n",
       "      <th>4</th>\n",
       "      <td>tanh</td>\n",
       "      <td>33</td>\n",
       "      <td>0.229090</td>\n",
       "      <td>0.006191</td>\n",
       "      <td>98</td>\n",
       "      <td>18</td>\n",
       "      <td>5</td>\n",
       "      <td>0.803279</td>\n",
       "      <td>595.983445</td>\n",
       "      <td>5.230801</td>\n",
       "    </tr>\n",
       "    <tr>\n",
       "      <th>5</th>\n",
       "      <td>relu</td>\n",
       "      <td>24</td>\n",
       "      <td>0.554131</td>\n",
       "      <td>0.001396</td>\n",
       "      <td>39</td>\n",
       "      <td>112</td>\n",
       "      <td>6</td>\n",
       "      <td>0.786885</td>\n",
       "      <td>599.646395</td>\n",
       "      <td>3.462226</td>\n",
       "    </tr>\n",
       "    <tr>\n",
       "      <th>6</th>\n",
       "      <td>relu</td>\n",
       "      <td>9</td>\n",
       "      <td>0.104259</td>\n",
       "      <td>0.000214</td>\n",
       "      <td>71</td>\n",
       "      <td>26</td>\n",
       "      <td>7</td>\n",
       "      <td>0.836066</td>\n",
       "      <td>605.655892</td>\n",
       "      <td>5.812509</td>\n",
       "    </tr>\n",
       "    <tr>\n",
       "      <th>7</th>\n",
       "      <td>relu</td>\n",
       "      <td>12</td>\n",
       "      <td>0.240732</td>\n",
       "      <td>0.000071</td>\n",
       "      <td>49</td>\n",
       "      <td>120</td>\n",
       "      <td>8</td>\n",
       "      <td>0.836066</td>\n",
       "      <td>610.439230</td>\n",
       "      <td>4.588692</td>\n",
       "    </tr>\n",
       "    <tr>\n",
       "      <th>8</th>\n",
       "      <td>tanh</td>\n",
       "      <td>8</td>\n",
       "      <td>0.326349</td>\n",
       "      <td>0.000025</td>\n",
       "      <td>64</td>\n",
       "      <td>118</td>\n",
       "      <td>9</td>\n",
       "      <td>0.786885</td>\n",
       "      <td>616.518424</td>\n",
       "      <td>5.870369</td>\n",
       "    </tr>\n",
       "    <tr>\n",
       "      <th>9</th>\n",
       "      <td>elu</td>\n",
       "      <td>10</td>\n",
       "      <td>0.033548</td>\n",
       "      <td>0.000071</td>\n",
       "      <td>27</td>\n",
       "      <td>120</td>\n",
       "      <td>10</td>\n",
       "      <td>0.852459</td>\n",
       "      <td>620.449353</td>\n",
       "      <td>3.730647</td>\n",
       "    </tr>\n",
       "    <tr>\n",
       "      <th>10</th>\n",
       "      <td>swish</td>\n",
       "      <td>10</td>\n",
       "      <td>0.016661</td>\n",
       "      <td>0.000342</td>\n",
       "      <td>18</td>\n",
       "      <td>70</td>\n",
       "      <td>11</td>\n",
       "      <td>0.852459</td>\n",
       "      <td>646.413717</td>\n",
       "      <td>25.766318</td>\n",
       "    </tr>\n",
       "    <tr>\n",
       "      <th>11</th>\n",
       "      <td>relu</td>\n",
       "      <td>32</td>\n",
       "      <td>0.500000</td>\n",
       "      <td>0.001000</td>\n",
       "      <td>50</td>\n",
       "      <td>32</td>\n",
       "      <td>12</td>\n",
       "      <td>0.819672</td>\n",
       "      <td>650.394318</td>\n",
       "      <td>3.981401</td>\n",
       "    </tr>\n",
       "    <tr>\n",
       "      <th>12</th>\n",
       "      <td>gelu</td>\n",
       "      <td>10</td>\n",
       "      <td>0.193235</td>\n",
       "      <td>0.000091</td>\n",
       "      <td>31</td>\n",
       "      <td>65</td>\n",
       "      <td>13</td>\n",
       "      <td>0.803279</td>\n",
       "      <td>654.540896</td>\n",
       "      <td>7.900734</td>\n",
       "    </tr>\n",
       "    <tr>\n",
       "      <th>13</th>\n",
       "      <td>swish</td>\n",
       "      <td>28</td>\n",
       "      <td>0.016457</td>\n",
       "      <td>0.000013</td>\n",
       "      <td>19</td>\n",
       "      <td>94</td>\n",
       "      <td>14</td>\n",
       "      <td>0.573770</td>\n",
       "      <td>657.608141</td>\n",
       "      <td>6.997800</td>\n",
       "    </tr>\n",
       "    <tr>\n",
       "      <th>14</th>\n",
       "      <td>selu</td>\n",
       "      <td>8</td>\n",
       "      <td>0.213398</td>\n",
       "      <td>0.000016</td>\n",
       "      <td>12</td>\n",
       "      <td>29</td>\n",
       "      <td>15</td>\n",
       "      <td>0.639344</td>\n",
       "      <td>660.736129</td>\n",
       "      <td>5.962594</td>\n",
       "    </tr>\n",
       "    <tr>\n",
       "      <th>15</th>\n",
       "      <td>swish</td>\n",
       "      <td>112</td>\n",
       "      <td>0.416677</td>\n",
       "      <td>0.000338</td>\n",
       "      <td>72</td>\n",
       "      <td>29</td>\n",
       "      <td>16</td>\n",
       "      <td>0.819672</td>\n",
       "      <td>664.659960</td>\n",
       "      <td>6.833282</td>\n",
       "    </tr>\n",
       "    <tr>\n",
       "      <th>16</th>\n",
       "      <td>swish</td>\n",
       "      <td>13</td>\n",
       "      <td>0.413876</td>\n",
       "      <td>0.000052</td>\n",
       "      <td>13</td>\n",
       "      <td>104</td>\n",
       "      <td>17</td>\n",
       "      <td>0.737705</td>\n",
       "      <td>667.741743</td>\n",
       "      <td>6.798973</td>\n",
       "    </tr>\n",
       "    <tr>\n",
       "      <th>17</th>\n",
       "      <td>swish</td>\n",
       "      <td>13</td>\n",
       "      <td>0.079646</td>\n",
       "      <td>0.005733</td>\n",
       "      <td>20</td>\n",
       "      <td>72</td>\n",
       "      <td>18</td>\n",
       "      <td>0.786885</td>\n",
       "      <td>671.090764</td>\n",
       "      <td>6.224561</td>\n",
       "    </tr>\n",
       "    <tr>\n",
       "      <th>18</th>\n",
       "      <td>sigmoid</td>\n",
       "      <td>17</td>\n",
       "      <td>0.036074</td>\n",
       "      <td>0.000308</td>\n",
       "      <td>34</td>\n",
       "      <td>69</td>\n",
       "      <td>19</td>\n",
       "      <td>0.819672</td>\n",
       "      <td>674.783620</td>\n",
       "      <td>6.832809</td>\n",
       "    </tr>\n",
       "    <tr>\n",
       "      <th>19</th>\n",
       "      <td>tanh</td>\n",
       "      <td>12</td>\n",
       "      <td>0.001717</td>\n",
       "      <td>0.000173</td>\n",
       "      <td>45</td>\n",
       "      <td>17</td>\n",
       "      <td>20</td>\n",
       "      <td>0.803279</td>\n",
       "      <td>678.946639</td>\n",
       "      <td>7.645570</td>\n",
       "    </tr>\n",
       "  </tbody>\n",
       "</table>\n",
       "</div>"
      ],
      "text/plain": [
       "   activation  batch_size  dropout_rate  learning_rate  num_epochs  units  id  \\\n",
       "0        relu          32      0.500000       0.001000          50     32   1   \n",
       "1        tanh          96      0.057024       0.000118          80     35   2   \n",
       "2        relu         181      0.412795       0.000924          31     23   3   \n",
       "3         elu          11      0.046230       0.004286          60     65   4   \n",
       "4        tanh          33      0.229090       0.006191          98     18   5   \n",
       "5        relu          24      0.554131       0.001396          39    112   6   \n",
       "6        relu           9      0.104259       0.000214          71     26   7   \n",
       "7        relu          12      0.240732       0.000071          49    120   8   \n",
       "8        tanh           8      0.326349       0.000025          64    118   9   \n",
       "9         elu          10      0.033548       0.000071          27    120  10   \n",
       "10      swish          10      0.016661       0.000342          18     70  11   \n",
       "11       relu          32      0.500000       0.001000          50     32  12   \n",
       "12       gelu          10      0.193235       0.000091          31     65  13   \n",
       "13      swish          28      0.016457       0.000013          19     94  14   \n",
       "14       selu           8      0.213398       0.000016          12     29  15   \n",
       "15      swish         112      0.416677       0.000338          72     29  16   \n",
       "16      swish          13      0.413876       0.000052          13    104  17   \n",
       "17      swish          13      0.079646       0.005733          20     72  18   \n",
       "18    sigmoid          17      0.036074       0.000308          34     69  19   \n",
       "19       tanh          12      0.001717       0.000173          45     17  20   \n",
       "\n",
       "    objective  elapsed_sec   duration  \n",
       "0    0.819672   577.630132   7.254437  \n",
       "1    0.770492   582.129574   4.293740  \n",
       "2    0.786885   585.370802   3.035438  \n",
       "3    0.786885   590.549627   4.977015  \n",
       "4    0.803279   595.983445   5.230801  \n",
       "5    0.786885   599.646395   3.462226  \n",
       "6    0.836066   605.655892   5.812509  \n",
       "7    0.836066   610.439230   4.588692  \n",
       "8    0.786885   616.518424   5.870369  \n",
       "9    0.852459   620.449353   3.730647  \n",
       "10   0.852459   646.413717  25.766318  \n",
       "11   0.819672   650.394318   3.981401  \n",
       "12   0.803279   654.540896   7.900734  \n",
       "13   0.573770   657.608141   6.997800  \n",
       "14   0.639344   660.736129   5.962594  \n",
       "15   0.819672   664.659960   6.833282  \n",
       "16   0.737705   667.741743   6.798973  \n",
       "17   0.786885   671.090764   6.224561  \n",
       "18   0.819672   674.783620   6.832809  \n",
       "19   0.803279   678.946639   7.645570  "
      ]
     },
     "execution_count": 18,
     "metadata": {},
     "output_type": "execute_result"
    }
   ],
   "source": [
    "results"
   ]
  },
  {
   "cell_type": "markdown",
   "id": "dbd8b3e4",
   "metadata": {},
   "source": [
    "The search can be continued without any issue."
   ]
  },
  {
   "cell_type": "code",
   "execution_count": 19,
   "id": "f2e6af67",
   "metadata": {
    "ExecuteTime": {
     "end_time": "2021-10-05T18:45:54.673542Z",
     "start_time": "2021-10-05T18:45:42.817703Z"
    },
    "execution": {
     "iopub.execute_input": "2021-10-05T13:26:08.179747Z",
     "iopub.status.busy": "2021-10-05T13:26:08.179499Z",
     "iopub.status.idle": "2021-10-05T13:26:32.492749Z",
     "shell.execute_reply": "2021-10-05T13:26:32.492153Z",
     "shell.execute_reply.started": "2021-10-05T13:26:08.179721Z"
    }
   },
   "outputs": [
    {
     "name": "stdout",
     "output_type": "stream",
     "text": [
      "[00021] -- best objective: 0.8524590134620667 -- received objective: 0.8032786846160889\n",
      "[00022] -- best objective: 0.8524590134620667 -- received objective: 0.7868852615356445\n",
      "[00023] -- best objective: 0.8524590134620667 -- received objective: 0.8360655903816223\n",
      "[00024] -- best objective: 0.8524590134620667 -- received objective: 0.7049180269241333\n",
      "[00025] -- best objective: 0.8524590134620667 -- received objective: 0.21311475336551666\n"
     ]
    },
    {
     "data": {
      "text/html": [
       "<div>\n",
       "<style scoped>\n",
       "    .dataframe tbody tr th:only-of-type {\n",
       "        vertical-align: middle;\n",
       "    }\n",
       "\n",
       "    .dataframe tbody tr th {\n",
       "        vertical-align: top;\n",
       "    }\n",
       "\n",
       "    .dataframe thead th {\n",
       "        text-align: right;\n",
       "    }\n",
       "</style>\n",
       "<table border=\"1\" class=\"dataframe\">\n",
       "  <thead>\n",
       "    <tr style=\"text-align: right;\">\n",
       "      <th></th>\n",
       "      <th>activation</th>\n",
       "      <th>batch_size</th>\n",
       "      <th>dropout_rate</th>\n",
       "      <th>learning_rate</th>\n",
       "      <th>num_epochs</th>\n",
       "      <th>units</th>\n",
       "      <th>id</th>\n",
       "      <th>objective</th>\n",
       "      <th>elapsed_sec</th>\n",
       "      <th>duration</th>\n",
       "    </tr>\n",
       "  </thead>\n",
       "  <tbody>\n",
       "    <tr>\n",
       "      <th>0</th>\n",
       "      <td>relu</td>\n",
       "      <td>32</td>\n",
       "      <td>0.500000</td>\n",
       "      <td>0.001000</td>\n",
       "      <td>50</td>\n",
       "      <td>32</td>\n",
       "      <td>1</td>\n",
       "      <td>0.819672</td>\n",
       "      <td>577.630132</td>\n",
       "      <td>7.254437</td>\n",
       "    </tr>\n",
       "    <tr>\n",
       "      <th>1</th>\n",
       "      <td>tanh</td>\n",
       "      <td>96</td>\n",
       "      <td>0.057024</td>\n",
       "      <td>0.000118</td>\n",
       "      <td>80</td>\n",
       "      <td>35</td>\n",
       "      <td>2</td>\n",
       "      <td>0.770492</td>\n",
       "      <td>582.129574</td>\n",
       "      <td>4.293740</td>\n",
       "    </tr>\n",
       "    <tr>\n",
       "      <th>2</th>\n",
       "      <td>relu</td>\n",
       "      <td>181</td>\n",
       "      <td>0.412795</td>\n",
       "      <td>0.000924</td>\n",
       "      <td>31</td>\n",
       "      <td>23</td>\n",
       "      <td>3</td>\n",
       "      <td>0.786885</td>\n",
       "      <td>585.370802</td>\n",
       "      <td>3.035438</td>\n",
       "    </tr>\n",
       "    <tr>\n",
       "      <th>3</th>\n",
       "      <td>elu</td>\n",
       "      <td>11</td>\n",
       "      <td>0.046230</td>\n",
       "      <td>0.004286</td>\n",
       "      <td>60</td>\n",
       "      <td>65</td>\n",
       "      <td>4</td>\n",
       "      <td>0.786885</td>\n",
       "      <td>590.549627</td>\n",
       "      <td>4.977015</td>\n",
       "    </tr>\n",
       "    <tr>\n",
       "      <th>4</th>\n",
       "      <td>tanh</td>\n",
       "      <td>33</td>\n",
       "      <td>0.229090</td>\n",
       "      <td>0.006191</td>\n",
       "      <td>98</td>\n",
       "      <td>18</td>\n",
       "      <td>5</td>\n",
       "      <td>0.803279</td>\n",
       "      <td>595.983445</td>\n",
       "      <td>5.230801</td>\n",
       "    </tr>\n",
       "    <tr>\n",
       "      <th>5</th>\n",
       "      <td>relu</td>\n",
       "      <td>24</td>\n",
       "      <td>0.554131</td>\n",
       "      <td>0.001396</td>\n",
       "      <td>39</td>\n",
       "      <td>112</td>\n",
       "      <td>6</td>\n",
       "      <td>0.786885</td>\n",
       "      <td>599.646395</td>\n",
       "      <td>3.462226</td>\n",
       "    </tr>\n",
       "    <tr>\n",
       "      <th>6</th>\n",
       "      <td>relu</td>\n",
       "      <td>9</td>\n",
       "      <td>0.104259</td>\n",
       "      <td>0.000214</td>\n",
       "      <td>71</td>\n",
       "      <td>26</td>\n",
       "      <td>7</td>\n",
       "      <td>0.836066</td>\n",
       "      <td>605.655892</td>\n",
       "      <td>5.812509</td>\n",
       "    </tr>\n",
       "    <tr>\n",
       "      <th>7</th>\n",
       "      <td>relu</td>\n",
       "      <td>12</td>\n",
       "      <td>0.240732</td>\n",
       "      <td>0.000071</td>\n",
       "      <td>49</td>\n",
       "      <td>120</td>\n",
       "      <td>8</td>\n",
       "      <td>0.836066</td>\n",
       "      <td>610.439230</td>\n",
       "      <td>4.588692</td>\n",
       "    </tr>\n",
       "    <tr>\n",
       "      <th>8</th>\n",
       "      <td>tanh</td>\n",
       "      <td>8</td>\n",
       "      <td>0.326349</td>\n",
       "      <td>0.000025</td>\n",
       "      <td>64</td>\n",
       "      <td>118</td>\n",
       "      <td>9</td>\n",
       "      <td>0.786885</td>\n",
       "      <td>616.518424</td>\n",
       "      <td>5.870369</td>\n",
       "    </tr>\n",
       "    <tr>\n",
       "      <th>9</th>\n",
       "      <td>elu</td>\n",
       "      <td>10</td>\n",
       "      <td>0.033548</td>\n",
       "      <td>0.000071</td>\n",
       "      <td>27</td>\n",
       "      <td>120</td>\n",
       "      <td>10</td>\n",
       "      <td>0.852459</td>\n",
       "      <td>620.449353</td>\n",
       "      <td>3.730647</td>\n",
       "    </tr>\n",
       "    <tr>\n",
       "      <th>10</th>\n",
       "      <td>swish</td>\n",
       "      <td>10</td>\n",
       "      <td>0.016661</td>\n",
       "      <td>0.000342</td>\n",
       "      <td>18</td>\n",
       "      <td>70</td>\n",
       "      <td>11</td>\n",
       "      <td>0.852459</td>\n",
       "      <td>646.413717</td>\n",
       "      <td>25.766318</td>\n",
       "    </tr>\n",
       "    <tr>\n",
       "      <th>11</th>\n",
       "      <td>relu</td>\n",
       "      <td>32</td>\n",
       "      <td>0.500000</td>\n",
       "      <td>0.001000</td>\n",
       "      <td>50</td>\n",
       "      <td>32</td>\n",
       "      <td>12</td>\n",
       "      <td>0.819672</td>\n",
       "      <td>650.394318</td>\n",
       "      <td>3.981401</td>\n",
       "    </tr>\n",
       "    <tr>\n",
       "      <th>12</th>\n",
       "      <td>gelu</td>\n",
       "      <td>10</td>\n",
       "      <td>0.193235</td>\n",
       "      <td>0.000091</td>\n",
       "      <td>31</td>\n",
       "      <td>65</td>\n",
       "      <td>13</td>\n",
       "      <td>0.803279</td>\n",
       "      <td>654.540896</td>\n",
       "      <td>7.900734</td>\n",
       "    </tr>\n",
       "    <tr>\n",
       "      <th>13</th>\n",
       "      <td>swish</td>\n",
       "      <td>28</td>\n",
       "      <td>0.016457</td>\n",
       "      <td>0.000013</td>\n",
       "      <td>19</td>\n",
       "      <td>94</td>\n",
       "      <td>14</td>\n",
       "      <td>0.573770</td>\n",
       "      <td>657.608141</td>\n",
       "      <td>6.997800</td>\n",
       "    </tr>\n",
       "    <tr>\n",
       "      <th>14</th>\n",
       "      <td>selu</td>\n",
       "      <td>8</td>\n",
       "      <td>0.213398</td>\n",
       "      <td>0.000016</td>\n",
       "      <td>12</td>\n",
       "      <td>29</td>\n",
       "      <td>15</td>\n",
       "      <td>0.639344</td>\n",
       "      <td>660.736129</td>\n",
       "      <td>5.962594</td>\n",
       "    </tr>\n",
       "    <tr>\n",
       "      <th>15</th>\n",
       "      <td>swish</td>\n",
       "      <td>112</td>\n",
       "      <td>0.416677</td>\n",
       "      <td>0.000338</td>\n",
       "      <td>72</td>\n",
       "      <td>29</td>\n",
       "      <td>16</td>\n",
       "      <td>0.819672</td>\n",
       "      <td>664.659960</td>\n",
       "      <td>6.833282</td>\n",
       "    </tr>\n",
       "    <tr>\n",
       "      <th>16</th>\n",
       "      <td>swish</td>\n",
       "      <td>13</td>\n",
       "      <td>0.413876</td>\n",
       "      <td>0.000052</td>\n",
       "      <td>13</td>\n",
       "      <td>104</td>\n",
       "      <td>17</td>\n",
       "      <td>0.737705</td>\n",
       "      <td>667.741743</td>\n",
       "      <td>6.798973</td>\n",
       "    </tr>\n",
       "    <tr>\n",
       "      <th>17</th>\n",
       "      <td>swish</td>\n",
       "      <td>13</td>\n",
       "      <td>0.079646</td>\n",
       "      <td>0.005733</td>\n",
       "      <td>20</td>\n",
       "      <td>72</td>\n",
       "      <td>18</td>\n",
       "      <td>0.786885</td>\n",
       "      <td>671.090764</td>\n",
       "      <td>6.224561</td>\n",
       "    </tr>\n",
       "    <tr>\n",
       "      <th>18</th>\n",
       "      <td>sigmoid</td>\n",
       "      <td>17</td>\n",
       "      <td>0.036074</td>\n",
       "      <td>0.000308</td>\n",
       "      <td>34</td>\n",
       "      <td>69</td>\n",
       "      <td>19</td>\n",
       "      <td>0.819672</td>\n",
       "      <td>674.783620</td>\n",
       "      <td>6.832809</td>\n",
       "    </tr>\n",
       "    <tr>\n",
       "      <th>19</th>\n",
       "      <td>tanh</td>\n",
       "      <td>12</td>\n",
       "      <td>0.001717</td>\n",
       "      <td>0.000173</td>\n",
       "      <td>45</td>\n",
       "      <td>17</td>\n",
       "      <td>20</td>\n",
       "      <td>0.803279</td>\n",
       "      <td>678.946639</td>\n",
       "      <td>7.645570</td>\n",
       "    </tr>\n",
       "    <tr>\n",
       "      <th>20</th>\n",
       "      <td>elu</td>\n",
       "      <td>79</td>\n",
       "      <td>0.008499</td>\n",
       "      <td>0.006919</td>\n",
       "      <td>79</td>\n",
       "      <td>81</td>\n",
       "      <td>21</td>\n",
       "      <td>0.803279</td>\n",
       "      <td>805.302534</td>\n",
       "      <td>130.309338</td>\n",
       "    </tr>\n",
       "    <tr>\n",
       "      <th>21</th>\n",
       "      <td>softplus</td>\n",
       "      <td>39</td>\n",
       "      <td>0.095855</td>\n",
       "      <td>0.000049</td>\n",
       "      <td>30</td>\n",
       "      <td>125</td>\n",
       "      <td>22</td>\n",
       "      <td>0.786885</td>\n",
       "      <td>805.302713</td>\n",
       "      <td>126.136659</td>\n",
       "    </tr>\n",
       "    <tr>\n",
       "      <th>22</th>\n",
       "      <td>relu</td>\n",
       "      <td>32</td>\n",
       "      <td>0.500000</td>\n",
       "      <td>0.001000</td>\n",
       "      <td>50</td>\n",
       "      <td>32</td>\n",
       "      <td>23</td>\n",
       "      <td>0.836066</td>\n",
       "      <td>809.154026</td>\n",
       "      <td>3.852193</td>\n",
       "    </tr>\n",
       "    <tr>\n",
       "      <th>23</th>\n",
       "      <td>relu</td>\n",
       "      <td>118</td>\n",
       "      <td>0.149207</td>\n",
       "      <td>0.000028</td>\n",
       "      <td>100</td>\n",
       "      <td>38</td>\n",
       "      <td>24</td>\n",
       "      <td>0.704918</td>\n",
       "      <td>813.809128</td>\n",
       "      <td>8.101172</td>\n",
       "    </tr>\n",
       "  </tbody>\n",
       "</table>\n",
       "</div>"
      ],
      "text/plain": [
       "   activation  batch_size  dropout_rate  learning_rate  num_epochs  units  id  \\\n",
       "0        relu          32      0.500000       0.001000          50     32   1   \n",
       "1        tanh          96      0.057024       0.000118          80     35   2   \n",
       "2        relu         181      0.412795       0.000924          31     23   3   \n",
       "3         elu          11      0.046230       0.004286          60     65   4   \n",
       "4        tanh          33      0.229090       0.006191          98     18   5   \n",
       "5        relu          24      0.554131       0.001396          39    112   6   \n",
       "6        relu           9      0.104259       0.000214          71     26   7   \n",
       "7        relu          12      0.240732       0.000071          49    120   8   \n",
       "8        tanh           8      0.326349       0.000025          64    118   9   \n",
       "9         elu          10      0.033548       0.000071          27    120  10   \n",
       "10      swish          10      0.016661       0.000342          18     70  11   \n",
       "11       relu          32      0.500000       0.001000          50     32  12   \n",
       "12       gelu          10      0.193235       0.000091          31     65  13   \n",
       "13      swish          28      0.016457       0.000013          19     94  14   \n",
       "14       selu           8      0.213398       0.000016          12     29  15   \n",
       "15      swish         112      0.416677       0.000338          72     29  16   \n",
       "16      swish          13      0.413876       0.000052          13    104  17   \n",
       "17      swish          13      0.079646       0.005733          20     72  18   \n",
       "18    sigmoid          17      0.036074       0.000308          34     69  19   \n",
       "19       tanh          12      0.001717       0.000173          45     17  20   \n",
       "20        elu          79      0.008499       0.006919          79     81  21   \n",
       "21   softplus          39      0.095855       0.000049          30    125  22   \n",
       "22       relu          32      0.500000       0.001000          50     32  23   \n",
       "23       relu         118      0.149207       0.000028         100     38  24   \n",
       "\n",
       "    objective  elapsed_sec    duration  \n",
       "0    0.819672   577.630132    7.254437  \n",
       "1    0.770492   582.129574    4.293740  \n",
       "2    0.786885   585.370802    3.035438  \n",
       "3    0.786885   590.549627    4.977015  \n",
       "4    0.803279   595.983445    5.230801  \n",
       "5    0.786885   599.646395    3.462226  \n",
       "6    0.836066   605.655892    5.812509  \n",
       "7    0.836066   610.439230    4.588692  \n",
       "8    0.786885   616.518424    5.870369  \n",
       "9    0.852459   620.449353    3.730647  \n",
       "10   0.852459   646.413717   25.766318  \n",
       "11   0.819672   650.394318    3.981401  \n",
       "12   0.803279   654.540896    7.900734  \n",
       "13   0.573770   657.608141    6.997800  \n",
       "14   0.639344   660.736129    5.962594  \n",
       "15   0.819672   664.659960    6.833282  \n",
       "16   0.737705   667.741743    6.798973  \n",
       "17   0.786885   671.090764    6.224561  \n",
       "18   0.819672   674.783620    6.832809  \n",
       "19   0.803279   678.946639    7.645570  \n",
       "20   0.803279   805.302534  130.309338  \n",
       "21   0.786885   805.302713  126.136659  \n",
       "22   0.836066   809.154026    3.852193  \n",
       "23   0.704918   813.809128    8.101172  "
      ]
     },
     "execution_count": 19,
     "metadata": {},
     "output_type": "execute_result"
    }
   ],
   "source": [
    "results = search.search(max_evals=5)\n",
    "\n",
    "results"
   ]
  },
  {
   "cell_type": "markdown",
   "id": "53d673da",
   "metadata": {},
   "source": [
    "Now that the search is over, let us print the best configuration found during this run."
   ]
  },
  {
   "cell_type": "code",
   "execution_count": 18,
   "id": "f906a04f",
   "metadata": {
    "ExecuteTime": {
     "end_time": "2021-10-05T17:36:30.521967Z",
     "start_time": "2021-10-05T17:36:30.518126Z"
    },
    "execution": {
     "iopub.execute_input": "2021-10-05T13:28:16.309800Z",
     "iopub.status.busy": "2021-10-05T13:28:16.309564Z",
     "iopub.status.idle": "2021-10-05T13:28:16.316422Z",
     "shell.execute_reply": "2021-10-05T13:28:16.315876Z",
     "shell.execute_reply.started": "2021-10-05T13:28:16.309775Z"
    }
   },
   "outputs": [
    {
     "name": "stdout",
     "output_type": "stream",
     "text": [
      "The default configuration has an accuracy of 0.836. \n",
      "The best configuration found by DeepHyper has an accuracy 0.852, \n",
      "trained in 2.82 secondes and \n",
      "finished after 79.54 secondes of search.\n",
      "\n",
      "{\n",
      "    \"activation\": \"swish\",\n",
      "    \"batch_size\": 100,\n",
      "    \"dropout_rate\": 0.2500081073256757,\n",
      "    \"learning_rate\": 0.0041557838891496,\n",
      "    \"num_epochs\": 18,\n",
      "    \"units\": 21,\n",
      "    \"id\": 7\n",
      "}\n"
     ]
    }
   ],
   "source": [
    "i_max = results.objective.argmax()\n",
    "best_config = results.iloc[i_max][:-3].to_dict()\n",
    "\n",
    "print(f\"The default configuration has an accuracy of {objective_default:.3f}. \\n\" \n",
    "      f\"The best configuration found by DeepHyper has an accuracy {results['objective'].iloc[i_max]:.3f}, \\n\" \n",
    "      f\"trained in {results['duration'].iloc[i_max]:.2f} secondes and \\n\"\n",
    "      f\"finished after {results['elapsed_sec'].iloc[i_max]:.2f} secondes of search.\\n\")\n",
    "\n",
    "print(json.dumps(best_config, indent=4))"
   ]
  },
  {
   "cell_type": "markdown",
   "id": "b8349d84",
   "metadata": {},
   "source": [
    "## Restart from a checkpoint\n",
    "\n",
    "It can often be useful to continue the search from previous results. For example, if the allocation requested was not enough or if an unexpected crash happened. The `AMBS` searhc provides the `fit_surrogate(dataframe_of_results)` method for this use case. \n",
    "\n",
    "To simulate this we create a second evaluator `evaluator_2` and start a fresh AMBS search with strong explotation `kappa=0.001`."
   ]
  },
  {
   "cell_type": "code",
   "execution_count": 19,
   "id": "3e99249c",
   "metadata": {
    "ExecuteTime": {
     "end_time": "2021-10-05T17:36:34.067899Z",
     "start_time": "2021-10-05T17:36:33.987157Z"
    },
    "execution": {
     "iopub.execute_input": "2021-10-05T13:28:18.176620Z",
     "iopub.status.busy": "2021-10-05T13:28:18.176439Z",
     "iopub.status.idle": "2021-10-05T13:28:18.260776Z",
     "shell.execute_reply": "2021-10-05T13:28:18.260306Z",
     "shell.execute_reply.started": "2021-10-05T13:28:18.176598Z"
    }
   },
   "outputs": [
    {
     "name": "stdout",
     "output_type": "stream",
     "text": [
      "Created new evaluator with 1 worker and config: {'num_cpus': 1, 'num_cpus_per_task': 1, 'callbacks': [<deephyper.evaluator.callback.LoggerCallback object at 0x7f9c69908610>]}\n"
     ]
    }
   ],
   "source": [
    "evaluator_2 = get_evaluator(run)\n",
    "\n",
    "search_from_checkpoint = AMBS(problem, evaluator_2, kappa=0.001)\n",
    "\n",
    "# Initialize surrogate model of Bayesian optization (in AMBS)\n",
    "# With results of previous search\n",
    "search_from_checkpoint.fit_surrogate(results)"
   ]
  },
  {
   "cell_type": "code",
   "execution_count": 20,
   "id": "9baeb24f",
   "metadata": {
    "ExecuteTime": {
     "end_time": "2021-10-05T17:37:16.723961Z",
     "start_time": "2021-10-05T17:36:36.599237Z"
    },
    "execution": {
     "iopub.execute_input": "2021-10-05T13:28:19.996570Z",
     "iopub.status.busy": "2021-10-05T13:28:19.996390Z",
     "iopub.status.idle": "2021-10-05T13:29:18.566650Z",
     "shell.execute_reply": "2021-10-05T13:29:18.566114Z",
     "shell.execute_reply.started": "2021-10-05T13:28:19.996549Z"
    }
   },
   "outputs": [
    {
     "name": "stdout",
     "output_type": "stream",
     "text": [
      "[00001] -- best objective: 0.8360655903816223 -- received objective: 0.8360655903816223\n",
      "[00002] -- best objective: 0.8360655903816223 -- received objective: 0.8032786846160889\n",
      "[00003] -- best objective: 0.8360655903816223 -- received objective: 0.8032786846160889\n",
      "[00004] -- best objective: 0.8360655903816223 -- received objective: 0.8196721076965332\n",
      "[00005] -- best objective: 0.8360655903816223 -- received objective: 0.8032786846160889\n",
      "[00006] -- best objective: 0.8524590134620667 -- received objective: 0.8524590134620667\n",
      "[00007] -- best objective: 0.8524590134620667 -- received objective: 0.7868852615356445\n",
      "[00008] -- best objective: 0.8524590134620667 -- received objective: 0.8360655903816223\n",
      "[00009] -- best objective: 0.8524590134620667 -- received objective: 0.8196721076965332\n",
      "[00010] -- best objective: 0.8524590134620667 -- received objective: 0.8360655903816223\n"
     ]
    }
   ],
   "source": [
    "results_from_checkpoint = search_from_checkpoint.search(max_evals=10)"
   ]
  },
  {
   "cell_type": "code",
   "execution_count": 21,
   "id": "7f293587",
   "metadata": {
    "ExecuteTime": {
     "end_time": "2021-10-05T17:38:11.173723Z",
     "start_time": "2021-10-05T17:38:11.163430Z"
    },
    "execution": {
     "iopub.execute_input": "2021-10-05T13:31:00.645334Z",
     "iopub.status.busy": "2021-10-05T13:31:00.645102Z",
     "iopub.status.idle": "2021-10-05T13:31:00.657401Z",
     "shell.execute_reply": "2021-10-05T13:31:00.656830Z",
     "shell.execute_reply.started": "2021-10-05T13:31:00.645309Z"
    }
   },
   "outputs": [
    {
     "data": {
      "text/html": [
       "<div>\n",
       "<style scoped>\n",
       "    .dataframe tbody tr th:only-of-type {\n",
       "        vertical-align: middle;\n",
       "    }\n",
       "\n",
       "    .dataframe tbody tr th {\n",
       "        vertical-align: top;\n",
       "    }\n",
       "\n",
       "    .dataframe thead th {\n",
       "        text-align: right;\n",
       "    }\n",
       "</style>\n",
       "<table border=\"1\" class=\"dataframe\">\n",
       "  <thead>\n",
       "    <tr style=\"text-align: right;\">\n",
       "      <th></th>\n",
       "      <th>activation</th>\n",
       "      <th>batch_size</th>\n",
       "      <th>dropout_rate</th>\n",
       "      <th>learning_rate</th>\n",
       "      <th>num_epochs</th>\n",
       "      <th>units</th>\n",
       "      <th>id</th>\n",
       "      <th>objective</th>\n",
       "      <th>elapsed_sec</th>\n",
       "      <th>duration</th>\n",
       "    </tr>\n",
       "  </thead>\n",
       "  <tbody>\n",
       "    <tr>\n",
       "      <th>0</th>\n",
       "      <td>softplus</td>\n",
       "      <td>106</td>\n",
       "      <td>0.227496</td>\n",
       "      <td>0.003967</td>\n",
       "      <td>32</td>\n",
       "      <td>12</td>\n",
       "      <td>1</td>\n",
       "      <td>0.836066</td>\n",
       "      <td>6.608133</td>\n",
       "      <td>3.841218</td>\n",
       "    </tr>\n",
       "    <tr>\n",
       "      <th>1</th>\n",
       "      <td>swish</td>\n",
       "      <td>20</td>\n",
       "      <td>0.191578</td>\n",
       "      <td>0.009715</td>\n",
       "      <td>74</td>\n",
       "      <td>8</td>\n",
       "      <td>2</td>\n",
       "      <td>0.803279</td>\n",
       "      <td>11.954064</td>\n",
       "      <td>5.133910</td>\n",
       "    </tr>\n",
       "    <tr>\n",
       "      <th>2</th>\n",
       "      <td>linear</td>\n",
       "      <td>131</td>\n",
       "      <td>0.340741</td>\n",
       "      <td>0.001212</td>\n",
       "      <td>89</td>\n",
       "      <td>18</td>\n",
       "      <td>3</td>\n",
       "      <td>0.803279</td>\n",
       "      <td>16.986050</td>\n",
       "      <td>4.803767</td>\n",
       "    </tr>\n",
       "    <tr>\n",
       "      <th>3</th>\n",
       "      <td>sigmoid</td>\n",
       "      <td>71</td>\n",
       "      <td>0.233150</td>\n",
       "      <td>0.003110</td>\n",
       "      <td>68</td>\n",
       "      <td>24</td>\n",
       "      <td>4</td>\n",
       "      <td>0.819672</td>\n",
       "      <td>21.798814</td>\n",
       "      <td>4.582362</td>\n",
       "    </tr>\n",
       "    <tr>\n",
       "      <th>4</th>\n",
       "      <td>swish</td>\n",
       "      <td>160</td>\n",
       "      <td>0.547684</td>\n",
       "      <td>0.001544</td>\n",
       "      <td>20</td>\n",
       "      <td>23</td>\n",
       "      <td>5</td>\n",
       "      <td>0.803279</td>\n",
       "      <td>25.259305</td>\n",
       "      <td>3.222883</td>\n",
       "    </tr>\n",
       "    <tr>\n",
       "      <th>5</th>\n",
       "      <td>hard_sigmoid</td>\n",
       "      <td>224</td>\n",
       "      <td>0.163982</td>\n",
       "      <td>0.008048</td>\n",
       "      <td>19</td>\n",
       "      <td>12</td>\n",
       "      <td>6</td>\n",
       "      <td>0.852459</td>\n",
       "      <td>28.687167</td>\n",
       "      <td>3.187388</td>\n",
       "    </tr>\n",
       "    <tr>\n",
       "      <th>6</th>\n",
       "      <td>softplus</td>\n",
       "      <td>104</td>\n",
       "      <td>0.085007</td>\n",
       "      <td>0.004299</td>\n",
       "      <td>10</td>\n",
       "      <td>34</td>\n",
       "      <td>7</td>\n",
       "      <td>0.786885</td>\n",
       "      <td>32.008244</td>\n",
       "      <td>3.078923</td>\n",
       "    </tr>\n",
       "    <tr>\n",
       "      <th>7</th>\n",
       "      <td>linear</td>\n",
       "      <td>210</td>\n",
       "      <td>0.152951</td>\n",
       "      <td>0.006817</td>\n",
       "      <td>12</td>\n",
       "      <td>20</td>\n",
       "      <td>8</td>\n",
       "      <td>0.836066</td>\n",
       "      <td>35.318017</td>\n",
       "      <td>3.067709</td>\n",
       "    </tr>\n",
       "    <tr>\n",
       "      <th>8</th>\n",
       "      <td>sigmoid</td>\n",
       "      <td>46</td>\n",
       "      <td>0.100269</td>\n",
       "      <td>0.009121</td>\n",
       "      <td>17</td>\n",
       "      <td>31</td>\n",
       "      <td>9</td>\n",
       "      <td>0.819672</td>\n",
       "      <td>38.906989</td>\n",
       "      <td>3.347059</td>\n",
       "    </tr>\n",
       "    <tr>\n",
       "      <th>9</th>\n",
       "      <td>swish</td>\n",
       "      <td>114</td>\n",
       "      <td>0.154781</td>\n",
       "      <td>0.007169</td>\n",
       "      <td>16</td>\n",
       "      <td>20</td>\n",
       "      <td>10</td>\n",
       "      <td>0.836066</td>\n",
       "      <td>42.491771</td>\n",
       "      <td>3.212828</td>\n",
       "    </tr>\n",
       "  </tbody>\n",
       "</table>\n",
       "</div>"
      ],
      "text/plain": [
       "     activation  batch_size  dropout_rate  learning_rate  num_epochs  units  \\\n",
       "0      softplus         106      0.227496       0.003967          32     12   \n",
       "1         swish          20      0.191578       0.009715          74      8   \n",
       "2        linear         131      0.340741       0.001212          89     18   \n",
       "3       sigmoid          71      0.233150       0.003110          68     24   \n",
       "4         swish         160      0.547684       0.001544          20     23   \n",
       "5  hard_sigmoid         224      0.163982       0.008048          19     12   \n",
       "6      softplus         104      0.085007       0.004299          10     34   \n",
       "7        linear         210      0.152951       0.006817          12     20   \n",
       "8       sigmoid          46      0.100269       0.009121          17     31   \n",
       "9         swish         114      0.154781       0.007169          16     20   \n",
       "\n",
       "   id  objective  elapsed_sec  duration  \n",
       "0   1   0.836066     6.608133  3.841218  \n",
       "1   2   0.803279    11.954064  5.133910  \n",
       "2   3   0.803279    16.986050  4.803767  \n",
       "3   4   0.819672    21.798814  4.582362  \n",
       "4   5   0.803279    25.259305  3.222883  \n",
       "5   6   0.852459    28.687167  3.187388  \n",
       "6   7   0.786885    32.008244  3.078923  \n",
       "7   8   0.836066    35.318017  3.067709  \n",
       "8   9   0.819672    38.906989  3.347059  \n",
       "9  10   0.836066    42.491771  3.212828  "
      ]
     },
     "execution_count": 21,
     "metadata": {},
     "output_type": "execute_result"
    }
   ],
   "source": [
    "results_from_checkpoint"
   ]
  },
  {
   "cell_type": "code",
   "execution_count": 22,
   "id": "8f28d724",
   "metadata": {
    "ExecuteTime": {
     "end_time": "2021-10-05T17:38:12.789200Z",
     "start_time": "2021-10-05T17:38:12.783174Z"
    },
    "execution": {
     "iopub.execute_input": "2021-10-05T13:31:03.701630Z",
     "iopub.status.busy": "2021-10-05T13:31:03.701435Z",
     "iopub.status.idle": "2021-10-05T13:31:03.708209Z",
     "shell.execute_reply": "2021-10-05T13:31:03.707703Z",
     "shell.execute_reply.started": "2021-10-05T13:31:03.701608Z"
    }
   },
   "outputs": [
    {
     "name": "stdout",
     "output_type": "stream",
     "text": [
      "The default configuration has an accuracy of 0.836. The best configuration found by DeepHyper has an accuracy 0.852, trained in 3.19 secondes and finished after 28.69 secondes of search.\n"
     ]
    },
    {
     "data": {
      "text/plain": [
       "{'activation': 'hard_sigmoid',\n",
       " 'batch_size': 224,\n",
       " 'dropout_rate': 0.1639820688487694,\n",
       " 'learning_rate': 0.0080475585653966,\n",
       " 'num_epochs': 19,\n",
       " 'units': 12,\n",
       " 'id': 6}"
      ]
     },
     "execution_count": 22,
     "metadata": {},
     "output_type": "execute_result"
    }
   ],
   "source": [
    "i_max = results_from_checkpoint.objective.argmax()\n",
    "best_config = results_from_checkpoint.iloc[i_max][:-3].to_dict()\n",
    "\n",
    "print(f\"The default configuration has an accuracy of {objective_default:.3f}. \" \n",
    "      f\"The best configuration found by DeepHyper has an accuracy {results_from_checkpoint['objective'].iloc[i_max]:.3f}, \" \n",
    "      f\"trained in {results_from_checkpoint['duration'].iloc[i_max]:.2f} secondes and \"\n",
    "      f\"finished after {results_from_checkpoint['elapsed_sec'].iloc[i_max]:.2f} secondes of search.\")\n",
    "\n",
    "best_config"
   ]
  },
  {
   "cell_type": "markdown",
   "id": "8b535c9d",
   "metadata": {},
   "source": [
    "## Add conditional hyperparameters\n",
    "\n",
    "Now we want to add the possibility to search for a second fully-connected layer. We simply add two new lines:\n",
    "\n",
    "```python\n",
    "if config.get(\"dense_2\", False):\n",
    "    x = tf.keras.layers.Dense(config[\"dense_2:units\"], activation=config[\"dense_2:activation\"])(x)\n",
    "```"
   ]
  },
  {
   "cell_type": "code",
   "execution_count": 23,
   "id": "8a62e9f5",
   "metadata": {
    "ExecuteTime": {
     "end_time": "2021-10-05T17:38:19.065918Z",
     "start_time": "2021-10-05T17:38:19.052267Z"
    },
    "execution": {
     "iopub.execute_input": "2021-10-05T13:31:06.664412Z",
     "iopub.status.busy": "2021-10-05T13:31:06.664230Z",
     "iopub.status.idle": "2021-10-05T13:31:06.678681Z",
     "shell.execute_reply": "2021-10-05T13:31:06.678208Z",
     "shell.execute_reply.started": "2021-10-05T13:31:06.664391Z"
    }
   },
   "outputs": [],
   "source": [
    "def run_with_condition(config: dict):\n",
    "    tf.autograph.set_verbosity(0)\n",
    "    \n",
    "    train_dataframe, val_dataframe = load_data()\n",
    "\n",
    "    train_ds = dataframe_to_dataset(train_dataframe)\n",
    "    val_ds = dataframe_to_dataset(val_dataframe)\n",
    "\n",
    "    train_ds = train_ds.batch(config[\"batch_size\"])\n",
    "    val_ds = val_ds.batch(config[\"batch_size\"])\n",
    "\n",
    "    # Categorical features encoded as integers\n",
    "    sex = tf.keras.Input(shape=(1,), name=\"sex\", dtype=\"int64\")\n",
    "    cp = tf.keras.Input(shape=(1,), name=\"cp\", dtype=\"int64\")\n",
    "    fbs = tf.keras.Input(shape=(1,), name=\"fbs\", dtype=\"int64\")\n",
    "    restecg = tf.keras.Input(shape=(1,), name=\"restecg\", dtype=\"int64\")\n",
    "    exang = tf.keras.Input(shape=(1,), name=\"exang\", dtype=\"int64\")\n",
    "    ca = tf.keras.Input(shape=(1,), name=\"ca\", dtype=\"int64\")\n",
    "\n",
    "    # Categorical feature encoded as string\n",
    "    thal = tf.keras.Input(shape=(1,), name=\"thal\", dtype=\"string\")\n",
    "\n",
    "    # Numerical features\n",
    "    age = tf.keras.Input(shape=(1,), name=\"age\")\n",
    "    trestbps = tf.keras.Input(shape=(1,), name=\"trestbps\")\n",
    "    chol = tf.keras.Input(shape=(1,), name=\"chol\")\n",
    "    thalach = tf.keras.Input(shape=(1,), name=\"thalach\")\n",
    "    oldpeak = tf.keras.Input(shape=(1,), name=\"oldpeak\")\n",
    "    slope = tf.keras.Input(shape=(1,), name=\"slope\")\n",
    "\n",
    "    all_inputs = [\n",
    "        sex,\n",
    "        cp,\n",
    "        fbs,\n",
    "        restecg,\n",
    "        exang,\n",
    "        ca,\n",
    "        thal,\n",
    "        age,\n",
    "        trestbps,\n",
    "        chol,\n",
    "        thalach,\n",
    "        oldpeak,\n",
    "        slope,\n",
    "    ]\n",
    "\n",
    "    # Integer categorical features\n",
    "    sex_encoded = encode_categorical_feature(sex, \"sex\", train_ds, False)\n",
    "    cp_encoded = encode_categorical_feature(cp, \"cp\", train_ds, False)\n",
    "    fbs_encoded = encode_categorical_feature(fbs, \"fbs\", train_ds, False)\n",
    "    restecg_encoded = encode_categorical_feature(restecg, \"restecg\", train_ds, False)\n",
    "    exang_encoded = encode_categorical_feature(exang, \"exang\", train_ds, False)\n",
    "    ca_encoded = encode_categorical_feature(ca, \"ca\", train_ds, False)\n",
    "\n",
    "    # String categorical features\n",
    "    thal_encoded = encode_categorical_feature(thal, \"thal\", train_ds, True)\n",
    "\n",
    "    # Numerical features\n",
    "    age_encoded = encode_numerical_feature(age, \"age\", train_ds)\n",
    "    trestbps_encoded = encode_numerical_feature(trestbps, \"trestbps\", train_ds)\n",
    "    chol_encoded = encode_numerical_feature(chol, \"chol\", train_ds)\n",
    "    thalach_encoded = encode_numerical_feature(thalach, \"thalach\", train_ds)\n",
    "    oldpeak_encoded = encode_numerical_feature(oldpeak, \"oldpeak\", train_ds)\n",
    "    slope_encoded = encode_numerical_feature(slope, \"slope\", train_ds)\n",
    "\n",
    "    all_features = tf.keras.layers.concatenate(\n",
    "        [\n",
    "            sex_encoded,\n",
    "            cp_encoded,\n",
    "            fbs_encoded,\n",
    "            restecg_encoded,\n",
    "            exang_encoded,\n",
    "            slope_encoded,\n",
    "            ca_encoded,\n",
    "            thal_encoded,\n",
    "            age_encoded,\n",
    "            trestbps_encoded,\n",
    "            chol_encoded,\n",
    "            thalach_encoded,\n",
    "            oldpeak_encoded,\n",
    "        ]\n",
    "    )\n",
    "    x = tf.keras.layers.Dense(config[\"units\"], activation=config[\"activation\"])(\n",
    "        all_features\n",
    "    )\n",
    "    if config.get(\"dense_2\", False):\n",
    "        x = tf.keras.layers.Dense(config[\"dense_2:units\"], activation=config[\"dense_2:activation\"])(x)\n",
    "    x = tf.keras.layers.Dropout(config[\"dropout_rate\"])(x)\n",
    "    output = tf.keras.layers.Dense(1, activation=\"sigmoid\")(x)\n",
    "    model = tf.keras.Model(all_inputs, output)\n",
    "\n",
    "    optimizer = tf.keras.optimizers.Adam(learning_rate=config[\"learning_rate\"])\n",
    "    model.compile(optimizer, \"binary_crossentropy\", metrics=[\"accuracy\"])\n",
    "\n",
    "    history = model.fit(\n",
    "        train_ds, epochs=config[\"num_epochs\"], validation_data=val_ds, verbose=0\n",
    "    )\n",
    "\n",
    "    return history.history[\"val_accuracy\"][-1]"
   ]
  },
  {
   "cell_type": "markdown",
   "id": "5df1c9fb",
   "metadata": {},
   "source": [
    "To defined conditionnal hyperparameters we use [ConfigSpace](https://automl.github.io/ConfigSpace/master/index.html). We define `dense_2:units` and `dense_2:activation` as active hyperparameters only when `dense_2 == True`. The `cs.EqualsCondition` help us do that. Then we call\n",
    "\n",
    "```python\n",
    "problem_with_condition.add_condition(condition)\n",
    "```\n",
    "\n",
    "to register each new condition to the `HpProblem`."
   ]
  },
  {
   "cell_type": "code",
   "execution_count": 24,
   "id": "4cda0275",
   "metadata": {
    "ExecuteTime": {
     "end_time": "2021-10-05T17:38:29.308831Z",
     "start_time": "2021-10-05T17:38:29.288758Z"
    },
    "execution": {
     "iopub.execute_input": "2021-10-05T13:31:13.593610Z",
     "iopub.status.busy": "2021-10-05T13:31:13.593319Z",
     "iopub.status.idle": "2021-10-05T13:31:13.618632Z",
     "shell.execute_reply": "2021-10-05T13:31:13.618023Z",
     "shell.execute_reply.started": "2021-10-05T13:31:13.593579Z"
    }
   },
   "outputs": [
    {
     "data": {
      "text/plain": [
       "units, Type: UniformInteger, Range: [8, 128], Default: 68"
      ]
     },
     "execution_count": 24,
     "metadata": {},
     "output_type": "execute_result"
    },
    {
     "data": {
      "text/plain": [
       "activation, Type: Categorical, Choices: {elu, gelu, hard_sigmoid, linear, relu, selu, sigmoid, softplus, softsign, swish, tanh}, Default: elu"
      ]
     },
     "execution_count": 24,
     "metadata": {},
     "output_type": "execute_result"
    },
    {
     "data": {
      "text/plain": [
       "dropout_rate, Type: UniformFloat, Range: [0.0, 0.6], Default: 0.3"
      ]
     },
     "execution_count": 24,
     "metadata": {},
     "output_type": "execute_result"
    },
    {
     "data": {
      "text/plain": [
       "num_epochs, Type: UniformInteger, Range: [10, 100], Default: 55"
      ]
     },
     "execution_count": 24,
     "metadata": {},
     "output_type": "execute_result"
    },
    {
     "data": {
      "text/plain": [
       "batch_size, Type: UniformInteger, Range: [8, 256], Default: 45, on log-scale"
      ]
     },
     "execution_count": 24,
     "metadata": {},
     "output_type": "execute_result"
    },
    {
     "data": {
      "text/plain": [
       "learning_rate, Type: UniformFloat, Range: [1e-05, 0.01], Default: 0.0003162278, on log-scale"
      ]
     },
     "execution_count": 24,
     "metadata": {},
     "output_type": "execute_result"
    },
    {
     "data": {
      "text/plain": [
       "Configuration space object:\n",
       "  Hyperparameters:\n",
       "    activation, Type: Categorical, Choices: {elu, gelu, hard_sigmoid, linear, relu, selu, sigmoid, softplus, softsign, swish, tanh}, Default: elu\n",
       "    batch_size, Type: UniformInteger, Range: [8, 256], Default: 45, on log-scale\n",
       "    dense_2, Type: Categorical, Choices: {True, False}, Default: True\n",
       "    dense_2:activation, Type: Categorical, Choices: {elu, gelu, hard_sigmoid, linear, relu, selu, sigmoid, softplus, softsign, swish, tanh}, Default: elu\n",
       "    dense_2:units, Type: UniformInteger, Range: [8, 128], Default: 68\n",
       "    dropout_rate, Type: UniformFloat, Range: [0.0, 0.6], Default: 0.3\n",
       "    learning_rate, Type: UniformFloat, Range: [1e-05, 0.01], Default: 0.0003162278, on log-scale\n",
       "    num_epochs, Type: UniformInteger, Range: [10, 100], Default: 55\n",
       "    units, Type: UniformInteger, Range: [8, 128], Default: 68\n",
       "  Conditions:\n",
       "    dense_2:activation | dense_2 == True\n",
       "    dense_2:units | dense_2 == True"
      ]
     },
     "execution_count": 24,
     "metadata": {},
     "output_type": "execute_result"
    }
   ],
   "source": [
    "import ConfigSpace as cs\n",
    "\n",
    "# Define the same hyperparameters as before\n",
    "problem_with_condition = HpProblem()\n",
    "problem_with_condition.add_hyperparameter((8, 128), \"units\")\n",
    "problem_with_condition.add_hyperparameter(ACTIVATIONS, \"activation\")\n",
    "problem_with_condition.add_hyperparameter((0.0, 0.6), \"dropout_rate\")\n",
    "problem_with_condition.add_hyperparameter((10, 100), \"num_epochs\")\n",
    "problem_with_condition.add_hyperparameter((8, 256, \"log-uniform\"), \"batch_size\")\n",
    "problem_with_condition.add_hyperparameter((1e-5, 1e-2, \"log-uniform\"), \"learning_rate\")\n",
    "\n",
    "# Add a new hyperparameter \"dense_2 (bool)\" to decide if a second fully-connected layer should be created\n",
    "hp_dense_2 = problem_with_condition.add_hyperparameter([True, False], \"dense_2\")\n",
    "hp_dense_2_units = problem_with_condition.add_hyperparameter((8, 128), \"dense_2:units\")\n",
    "hp_dense_2_activation = problem_with_condition.add_hyperparameter(ACTIVATIONS, \"dense_2:activation\")\n",
    "\n",
    "problem_with_condition.add_condition(cs.EqualsCondition(hp_dense_2_units, hp_dense_2, True))\n",
    "problem_with_condition.add_condition(cs.EqualsCondition(hp_dense_2_activation, hp_dense_2, True))\n",
    "\n",
    "\n",
    "problem_with_condition"
   ]
  },
  {
   "cell_type": "markdown",
   "id": "fc027194",
   "metadata": {},
   "source": [
    "We create a new evaluator `evaluator_3` and start a fresh AMBS search with this new problem `problem_with_condition`."
   ]
  },
  {
   "cell_type": "code",
   "execution_count": 25,
   "id": "70192b13",
   "metadata": {
    "ExecuteTime": {
     "end_time": "2021-10-05T17:38:31.453976Z",
     "start_time": "2021-10-05T17:38:31.448874Z"
    },
    "execution": {
     "iopub.execute_input": "2021-10-05T13:31:15.311474Z",
     "iopub.status.busy": "2021-10-05T13:31:15.311234Z",
     "iopub.status.idle": "2021-10-05T13:31:15.318532Z",
     "shell.execute_reply": "2021-10-05T13:31:15.317880Z",
     "shell.execute_reply.started": "2021-10-05T13:31:15.311445Z"
    }
   },
   "outputs": [
    {
     "name": "stdout",
     "output_type": "stream",
     "text": [
      "Created new evaluator with 1 worker and config: {'num_cpus': 1, 'num_cpus_per_task': 1, 'callbacks': [<deephyper.evaluator.callback.LoggerCallback object at 0x7f9c8a5f4880>]}\n"
     ]
    }
   ],
   "source": [
    "evaluator_3 = get_evaluator(run_with_condition)\n",
    "\n",
    "search_with_condition = AMBS(problem_with_condition, evaluator_3)"
   ]
  },
  {
   "cell_type": "code",
   "execution_count": 26,
   "id": "7705a8a1",
   "metadata": {
    "ExecuteTime": {
     "end_time": "2021-10-05T17:39:39.208415Z",
     "start_time": "2021-10-05T17:38:35.828400Z"
    },
    "execution": {
     "iopub.execute_input": "2021-10-05T13:31:16.432178Z",
     "iopub.status.busy": "2021-10-05T13:31:16.431994Z",
     "iopub.status.idle": "2021-10-05T13:33:02.931919Z",
     "shell.execute_reply": "2021-10-05T13:33:02.931400Z",
     "shell.execute_reply.started": "2021-10-05T13:31:16.432154Z"
    }
   },
   "outputs": [
    {
     "name": "stdout",
     "output_type": "stream",
     "text": [
      "[00001] -- best objective: 0.8360655903816223 -- received objective: 0.8360655903816223\n",
      "[00002] -- best objective: 0.8524590134620667 -- received objective: 0.8524590134620667\n",
      "[00003] -- best objective: 0.8524590134620667 -- received objective: 0.8196721076965332\n",
      "[00004] -- best objective: 0.8524590134620667 -- received objective: 0.8524590134620667\n",
      "[00005] -- best objective: 0.8524590134620667 -- received objective: 0.7868852615356445\n",
      "[00006] -- best objective: 0.8524590134620667 -- received objective: 0.8360655903816223\n",
      "[00007] -- best objective: 0.8524590134620667 -- received objective: 0.7704917788505554\n",
      "[00008] -- best objective: 0.8524590134620667 -- received objective: 0.8032786846160889\n",
      "[00009] -- best objective: 0.8524590134620667 -- received objective: 0.6229507923126221\n",
      "[00010] -- best objective: 0.8524590134620667 -- received objective: 0.7704917788505554\n"
     ]
    }
   ],
   "source": [
    "results_with_condition = search_with_condition.search(max_evals=10)"
   ]
  },
  {
   "cell_type": "code",
   "execution_count": 27,
   "id": "4764b947",
   "metadata": {
    "ExecuteTime": {
     "end_time": "2021-10-05T17:39:39.253697Z",
     "start_time": "2021-10-05T17:39:39.235644Z"
    },
    "execution": {
     "iopub.execute_input": "2021-10-05T13:33:02.932935Z",
     "iopub.status.busy": "2021-10-05T13:33:02.932760Z",
     "iopub.status.idle": "2021-10-05T13:33:02.950032Z",
     "shell.execute_reply": "2021-10-05T13:33:02.949499Z",
     "shell.execute_reply.started": "2021-10-05T13:33:02.932912Z"
    }
   },
   "outputs": [
    {
     "data": {
      "text/html": [
       "<div>\n",
       "<style scoped>\n",
       "    .dataframe tbody tr th:only-of-type {\n",
       "        vertical-align: middle;\n",
       "    }\n",
       "\n",
       "    .dataframe tbody tr th {\n",
       "        vertical-align: top;\n",
       "    }\n",
       "\n",
       "    .dataframe thead th {\n",
       "        text-align: right;\n",
       "    }\n",
       "</style>\n",
       "<table border=\"1\" class=\"dataframe\">\n",
       "  <thead>\n",
       "    <tr style=\"text-align: right;\">\n",
       "      <th></th>\n",
       "      <th>activation</th>\n",
       "      <th>batch_size</th>\n",
       "      <th>dense_2</th>\n",
       "      <th>dropout_rate</th>\n",
       "      <th>learning_rate</th>\n",
       "      <th>num_epochs</th>\n",
       "      <th>units</th>\n",
       "      <th>dense_2:activation</th>\n",
       "      <th>dense_2:units</th>\n",
       "      <th>id</th>\n",
       "      <th>objective</th>\n",
       "      <th>elapsed_sec</th>\n",
       "      <th>duration</th>\n",
       "    </tr>\n",
       "  </thead>\n",
       "  <tbody>\n",
       "    <tr>\n",
       "      <th>0</th>\n",
       "      <td>elu</td>\n",
       "      <td>60</td>\n",
       "      <td>False</td>\n",
       "      <td>0.231924</td>\n",
       "      <td>0.004454</td>\n",
       "      <td>82</td>\n",
       "      <td>41</td>\n",
       "      <td>NaN</td>\n",
       "      <td>NaN</td>\n",
       "      <td>1</td>\n",
       "      <td>0.836066</td>\n",
       "      <td>9.154762</td>\n",
       "      <td>4.607573</td>\n",
       "    </tr>\n",
       "    <tr>\n",
       "      <th>1</th>\n",
       "      <td>tanh</td>\n",
       "      <td>16</td>\n",
       "      <td>True</td>\n",
       "      <td>0.499866</td>\n",
       "      <td>0.000145</td>\n",
       "      <td>86</td>\n",
       "      <td>15</td>\n",
       "      <td>selu</td>\n",
       "      <td>43.0</td>\n",
       "      <td>2</td>\n",
       "      <td>0.852459</td>\n",
       "      <td>15.484643</td>\n",
       "      <td>6.063258</td>\n",
       "    </tr>\n",
       "    <tr>\n",
       "      <th>2</th>\n",
       "      <td>selu</td>\n",
       "      <td>71</td>\n",
       "      <td>True</td>\n",
       "      <td>0.452123</td>\n",
       "      <td>0.000173</td>\n",
       "      <td>98</td>\n",
       "      <td>11</td>\n",
       "      <td>sigmoid</td>\n",
       "      <td>102.0</td>\n",
       "      <td>3</td>\n",
       "      <td>0.819672</td>\n",
       "      <td>22.013901</td>\n",
       "      <td>6.219160</td>\n",
       "    </tr>\n",
       "    <tr>\n",
       "      <th>3</th>\n",
       "      <td>selu</td>\n",
       "      <td>8</td>\n",
       "      <td>False</td>\n",
       "      <td>0.537031</td>\n",
       "      <td>0.000061</td>\n",
       "      <td>92</td>\n",
       "      <td>114</td>\n",
       "      <td>NaN</td>\n",
       "      <td>NaN</td>\n",
       "      <td>4</td>\n",
       "      <td>0.852459</td>\n",
       "      <td>32.043284</td>\n",
       "      <td>9.680874</td>\n",
       "    </tr>\n",
       "    <tr>\n",
       "      <th>4</th>\n",
       "      <td>gelu</td>\n",
       "      <td>89</td>\n",
       "      <td>False</td>\n",
       "      <td>0.201063</td>\n",
       "      <td>0.000076</td>\n",
       "      <td>100</td>\n",
       "      <td>17</td>\n",
       "      <td>NaN</td>\n",
       "      <td>NaN</td>\n",
       "      <td>5</td>\n",
       "      <td>0.786885</td>\n",
       "      <td>38.730723</td>\n",
       "      <td>6.338935</td>\n",
       "    </tr>\n",
       "    <tr>\n",
       "      <th>5</th>\n",
       "      <td>sigmoid</td>\n",
       "      <td>17</td>\n",
       "      <td>False</td>\n",
       "      <td>0.008029</td>\n",
       "      <td>0.000122</td>\n",
       "      <td>94</td>\n",
       "      <td>33</td>\n",
       "      <td>NaN</td>\n",
       "      <td>NaN</td>\n",
       "      <td>6</td>\n",
       "      <td>0.836066</td>\n",
       "      <td>46.566880</td>\n",
       "      <td>7.473156</td>\n",
       "    </tr>\n",
       "    <tr>\n",
       "      <th>6</th>\n",
       "      <td>gelu</td>\n",
       "      <td>11</td>\n",
       "      <td>False</td>\n",
       "      <td>0.390716</td>\n",
       "      <td>0.000073</td>\n",
       "      <td>19</td>\n",
       "      <td>113</td>\n",
       "      <td>NaN</td>\n",
       "      <td>NaN</td>\n",
       "      <td>7</td>\n",
       "      <td>0.770492</td>\n",
       "      <td>51.708892</td>\n",
       "      <td>4.775946</td>\n",
       "    </tr>\n",
       "    <tr>\n",
       "      <th>7</th>\n",
       "      <td>hard_sigmoid</td>\n",
       "      <td>12</td>\n",
       "      <td>False</td>\n",
       "      <td>0.543645</td>\n",
       "      <td>0.000226</td>\n",
       "      <td>20</td>\n",
       "      <td>127</td>\n",
       "      <td>NaN</td>\n",
       "      <td>NaN</td>\n",
       "      <td>8</td>\n",
       "      <td>0.803279</td>\n",
       "      <td>56.906062</td>\n",
       "      <td>4.797680</td>\n",
       "    </tr>\n",
       "    <tr>\n",
       "      <th>8</th>\n",
       "      <td>tanh</td>\n",
       "      <td>10</td>\n",
       "      <td>True</td>\n",
       "      <td>0.449498</td>\n",
       "      <td>0.000013</td>\n",
       "      <td>18</td>\n",
       "      <td>33</td>\n",
       "      <td>relu</td>\n",
       "      <td>85.0</td>\n",
       "      <td>9</td>\n",
       "      <td>0.622951</td>\n",
       "      <td>61.850387</td>\n",
       "      <td>4.578708</td>\n",
       "    </tr>\n",
       "    <tr>\n",
       "      <th>9</th>\n",
       "      <td>tanh</td>\n",
       "      <td>154</td>\n",
       "      <td>True</td>\n",
       "      <td>0.040223</td>\n",
       "      <td>0.002767</td>\n",
       "      <td>57</td>\n",
       "      <td>99</td>\n",
       "      <td>linear</td>\n",
       "      <td>112.0</td>\n",
       "      <td>10</td>\n",
       "      <td>0.770492</td>\n",
       "      <td>67.362867</td>\n",
       "      <td>5.134809</td>\n",
       "    </tr>\n",
       "  </tbody>\n",
       "</table>\n",
       "</div>"
      ],
      "text/plain": [
       "     activation  batch_size  dense_2  dropout_rate  learning_rate  num_epochs  \\\n",
       "0           elu          60    False      0.231924       0.004454          82   \n",
       "1          tanh          16     True      0.499866       0.000145          86   \n",
       "2          selu          71     True      0.452123       0.000173          98   \n",
       "3          selu           8    False      0.537031       0.000061          92   \n",
       "4          gelu          89    False      0.201063       0.000076         100   \n",
       "5       sigmoid          17    False      0.008029       0.000122          94   \n",
       "6          gelu          11    False      0.390716       0.000073          19   \n",
       "7  hard_sigmoid          12    False      0.543645       0.000226          20   \n",
       "8          tanh          10     True      0.449498       0.000013          18   \n",
       "9          tanh         154     True      0.040223       0.002767          57   \n",
       "\n",
       "   units dense_2:activation  dense_2:units  id  objective  elapsed_sec  \\\n",
       "0     41                NaN            NaN   1   0.836066     9.154762   \n",
       "1     15               selu           43.0   2   0.852459    15.484643   \n",
       "2     11            sigmoid          102.0   3   0.819672    22.013901   \n",
       "3    114                NaN            NaN   4   0.852459    32.043284   \n",
       "4     17                NaN            NaN   5   0.786885    38.730723   \n",
       "5     33                NaN            NaN   6   0.836066    46.566880   \n",
       "6    113                NaN            NaN   7   0.770492    51.708892   \n",
       "7    127                NaN            NaN   8   0.803279    56.906062   \n",
       "8     33               relu           85.0   9   0.622951    61.850387   \n",
       "9     99             linear          112.0  10   0.770492    67.362867   \n",
       "\n",
       "   duration  \n",
       "0  4.607573  \n",
       "1  6.063258  \n",
       "2  6.219160  \n",
       "3  9.680874  \n",
       "4  6.338935  \n",
       "5  7.473156  \n",
       "6  4.775946  \n",
       "7  4.797680  \n",
       "8  4.578708  \n",
       "9  5.134809  "
      ]
     },
     "execution_count": 27,
     "metadata": {},
     "output_type": "execute_result"
    }
   ],
   "source": [
    "results_with_condition"
   ]
  },
  {
   "cell_type": "markdown",
   "id": "63ca8219",
   "metadata": {},
   "source": [
    "Finally, let us print out the best configuration found from this conditionned search space."
   ]
  },
  {
   "cell_type": "code",
   "execution_count": 28,
   "id": "34f26be4",
   "metadata": {
    "ExecuteTime": {
     "end_time": "2021-10-05T17:39:41.791938Z",
     "start_time": "2021-10-05T17:39:41.784904Z"
    },
    "execution": {
     "iopub.execute_input": "2021-10-05T13:33:02.951023Z",
     "iopub.status.busy": "2021-10-05T13:33:02.950816Z",
     "iopub.status.idle": "2021-10-05T13:33:03.295308Z",
     "shell.execute_reply": "2021-10-05T13:33:03.294708Z",
     "shell.execute_reply.started": "2021-10-05T13:33:02.950999Z"
    }
   },
   "outputs": [
    {
     "name": "stdout",
     "output_type": "stream",
     "text": [
      "The default configuration has an accuracy of 0.836. The best configuration found by DeepHyper has an accuracy 0.852, trained in 6.06 seconds and finished after 15.48 seconds of search.\n"
     ]
    },
    {
     "data": {
      "text/plain": [
       "{'activation': 'tanh',\n",
       " 'batch_size': 16,\n",
       " 'dense_2': True,\n",
       " 'dropout_rate': 0.4998656504517818,\n",
       " 'learning_rate': 0.0001452225956542,\n",
       " 'num_epochs': 86,\n",
       " 'units': 15,\n",
       " 'dense_2:activation': 'selu',\n",
       " 'dense_2:units': 43.0,\n",
       " 'id': 2}"
      ]
     },
     "execution_count": 28,
     "metadata": {},
     "output_type": "execute_result"
    }
   ],
   "source": [
    "i_max = results_with_condition.objective.argmax()\n",
    "best_config = results_with_condition.iloc[i_max][:-3].to_dict()\n",
    "\n",
    "print(f\"The default configuration has an accuracy of {objective_default:.3f}. \" \n",
    "      f\"The best configuration found by DeepHyper has an accuracy {results_with_condition['objective'].iloc[i_max]:.3f}, \" \n",
    "      f\"trained in {results_with_condition['duration'].iloc[i_max]:.2f} seconds and \"\n",
    "      f\"finished after {results_with_condition['elapsed_sec'].iloc[i_max]:.2f} seconds of search.\")\n",
    "\n",
    "best_config"
   ]
  }
 ],
 "metadata": {
  "kernelspec": {
   "display_name": "dh-0.3.0",
   "language": "python",
   "name": "dh-0.3.0"
  },
  "language_info": {
   "codemirror_mode": {
    "name": "ipython",
    "version": 3
   },
   "file_extension": ".py",
   "mimetype": "text/x-python",
   "name": "python",
   "nbconvert_exporter": "python",
   "pygments_lexer": "ipython3",
   "version": "3.8.0"
  },
  "latex_envs": {
   "LaTeX_envs_menu_present": true,
   "autoclose": false,
   "autocomplete": true,
   "bibliofile": "biblio.bib",
   "cite_by": "apalike",
   "current_citInitial": 1,
   "eqLabelWithNumbers": true,
   "eqNumInitial": 1,
   "hotkeys": {
    "equation": ""
   },
   "labels_anchors": false,
   "latex_user_defs": false,
   "report_style_numbering": false,
   "user_envs_cfg": false
  },
  "nbTranslate": {
   "displayLangs": [
    "*"
   ],
   "hotkey": "alt-t",
   "langInMainMenu": true,
   "sourceLang": "en",
   "targetLang": "fr",
   "useGoogleTranslate": true
  },
  "toc": {
   "base_numbering": 1,
   "nav_menu": {},
   "number_sections": true,
   "sideBar": true,
   "skip_h1_title": false,
   "title_cell": "Table of Contents",
   "title_sidebar": "Contents",
   "toc_cell": false,
   "toc_position": {},
   "toc_section_display": true,
   "toc_window_display": false
  },
  "varInspector": {
   "cols": {
    "lenName": 16,
    "lenType": 16,
    "lenVar": 40
   },
   "kernels_config": {
    "python": {
     "delete_cmd_postfix": "",
     "delete_cmd_prefix": "del ",
     "library": "var_list.py",
     "varRefreshCmd": "print(var_dic_list())"
    },
    "r": {
     "delete_cmd_postfix": ") ",
     "delete_cmd_prefix": "rm(",
     "library": "var_list.r",
     "varRefreshCmd": "cat(var_dic_list()) "
    }
   },
   "types_to_exclude": [
    "module",
    "function",
    "builtin_function_or_method",
    "instance",
    "_Feature"
   ],
   "window_display": false
  }
 },
 "nbformat": 4,
 "nbformat_minor": 5
}
