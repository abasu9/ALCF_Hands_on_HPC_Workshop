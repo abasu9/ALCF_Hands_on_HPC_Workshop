{
 "cells": [
  {
   "cell_type": "markdown",
   "id": "44603166",
   "metadata": {},
   "source": [
    "# JAX\n",
    "\n",
    "https://jax.readthedocs.io/en/latest/index.html\n",
    "\n",
    "JAX is a newer machine learning and general accelerated computation framework, built by Google on top of XLA.  Jax takes a lot of the really nice things from Tensorflow/Pytorch and makes them easy to do:\n",
    "- `numpy` interface, including a lot of `scipy` functions\n",
    "- JIT Compilation with XLA for great performance.\n",
    "- Automatic differentiation\n",
    "- Easy GPU / Other device compilation\n",
    "\n",
    "On top of that, JAX extends into new directions that are really powerful:\n",
    "- Automatic vectorization\n",
    "- Function composition, including for vectorization/gradient calculation\n",
    "- Forward and Reverse mode AD\n",
    "    - The JAX autodiff cookbook is one of the very best references on the web to learn how AD is actually working, and figure out how to do new things. https://jax.readthedocs.io/en/latest/notebooks/autodiff_cookbook.html\n",
    "\n",
    "JAX has some key differences from TF/Torch/Numpy, too:\n",
    "- Pure functional.\n",
    "   - In particular, random numbers work differently! (https://jax.readthedocs.io/en/latest/jax.random.html)\n",
    "- Tracing and static variables can cause you unexpected issues if you aren't paying attention.\n",
    "\n",
    "Read more about the \"Sharp Bits\" here: https://jax.readthedocs.io/en/latest/notebooks/thinking_in_jax.html\n",
    "\n"
   ]
  },
  {
   "cell_type": "code",
   "execution_count": 1,
   "id": "cb733c72",
   "metadata": {},
   "outputs": [
    {
     "name": "stderr",
     "output_type": "stream",
     "text": [
      "2022-09-28 20:12:23.209586: I tensorflow/core/platform/cpu_feature_guard.cc:193] This TensorFlow binary is optimized with oneAPI Deep Neural Network Library (oneDNN) to use the following CPU instructions in performance-critical operations:  SSE3 SSE4.1 SSE4.2 AVX AVX2 FMA\n",
      "To enable them in other operations, rebuild TensorFlow with the appropriate compiler flags.\n",
      "2022-09-28 20:12:24.968744: E tensorflow/stream_executor/cuda/cuda_blas.cc:2981] Unable to register cuBLAS factory: Attempting to register factory for plugin cuBLAS when one has already been registered\n"
     ]
    }
   ],
   "source": [
    "# Let's get cifar10 again:\n",
    "import tensorflow as tf\n",
    "(x_train, y_train), (x_test, y_test) = tf.keras.datasets.cifar10.load_data()\n",
    "del tf"
   ]
  },
  {
   "cell_type": "code",
   "execution_count": 2,
   "id": "d73fa874",
   "metadata": {},
   "outputs": [],
   "source": [
    "import jax.numpy as numpy\n",
    "import jax.random as random\n",
    "\n",
    "from jax import tree_util\n",
    "from jax import jit, grad, vmap"
   ]
  },
  {
   "cell_type": "markdown",
   "id": "680152a8",
   "metadata": {},
   "source": [
    "JAX uses `DeviceArrays` as portable data types:"
   ]
  },
  {
   "cell_type": "code",
   "execution_count": 3,
   "id": "3e3889c4",
   "metadata": {},
   "outputs": [],
   "source": [
    "x_train = numpy.asarray(x_train)\n",
    "y_train = numpy.asarray(y_train)"
   ]
  },
  {
   "cell_type": "code",
   "execution_count": 4,
   "id": "92de5e71",
   "metadata": {},
   "outputs": [
    {
     "data": {
      "text/plain": [
       "GpuDevice(id=0, process_index=0)"
      ]
     },
     "execution_count": 4,
     "metadata": {},
     "output_type": "execute_result"
    }
   ],
   "source": [
    "x_train.device()"
   ]
  },
  {
   "cell_type": "markdown",
   "id": "a520bfb3",
   "metadata": {},
   "source": [
    "Device arrays are *immutable*, so updates in place are impossible:"
   ]
  },
  {
   "cell_type": "code",
   "execution_count": 5,
   "id": "a7fdb93f",
   "metadata": {},
   "outputs": [
    {
     "ename": "TypeError",
     "evalue": "'<class 'jaxlib.xla_extension.DeviceArray'>' object does not support item assignment. JAX arrays are immutable. Instead of ``x[idx] = y``, use ``x = x.at[idx].set(y)`` or another .at[] method: https://jax.readthedocs.io/en/latest/_autosummary/jax.numpy.ndarray.at.html",
     "output_type": "error",
     "traceback": [
      "\u001b[0;31m---------------------------------------------------------------------------\u001b[0m",
      "\u001b[0;31mTypeError\u001b[0m                                 Traceback (most recent call last)",
      "Cell \u001b[0;32mIn [5], line 2\u001b[0m\n\u001b[1;32m      1\u001b[0m \u001b[38;5;66;03m# This is meant to throw an error!\u001b[39;00m\n\u001b[0;32m----> 2\u001b[0m \u001b[43mx_train\u001b[49m\u001b[43m[\u001b[49m\u001b[43m:\u001b[49m\u001b[43m,\u001b[49m\u001b[43m:\u001b[49m\u001b[43m,\u001b[49m\u001b[43m:\u001b[49m\u001b[43m,\u001b[49m\u001b[38;5;241;43m0\u001b[39;49m\u001b[43m]\u001b[49m \u001b[38;5;241m=\u001b[39m \u001b[38;5;241m5\u001b[39m\n",
      "File \u001b[0;32m/soft/datascience/conda/2022-09-08/mconda3/lib/python3.8/site-packages/jax/_src/numpy/lax_numpy.py:4670\u001b[0m, in \u001b[0;36m_unimplemented_setitem\u001b[0;34m(self, i, x)\u001b[0m\n\u001b[1;32m   4665\u001b[0m \u001b[38;5;28;01mdef\u001b[39;00m \u001b[38;5;21m_unimplemented_setitem\u001b[39m(\u001b[38;5;28mself\u001b[39m, i, x):\n\u001b[1;32m   4666\u001b[0m   msg \u001b[38;5;241m=\u001b[39m (\u001b[38;5;124m\"\u001b[39m\u001b[38;5;124m'\u001b[39m\u001b[38;5;132;01m{}\u001b[39;00m\u001b[38;5;124m'\u001b[39m\u001b[38;5;124m object does not support item assignment. JAX arrays are \u001b[39m\u001b[38;5;124m\"\u001b[39m\n\u001b[1;32m   4667\u001b[0m          \u001b[38;5;124m\"\u001b[39m\u001b[38;5;124mimmutable. Instead of ``x[idx] = y``, use ``x = x.at[idx].set(y)`` \u001b[39m\u001b[38;5;124m\"\u001b[39m\n\u001b[1;32m   4668\u001b[0m          \u001b[38;5;124m\"\u001b[39m\u001b[38;5;124mor another .at[] method: \u001b[39m\u001b[38;5;124m\"\u001b[39m\n\u001b[1;32m   4669\u001b[0m          \u001b[38;5;124m\"\u001b[39m\u001b[38;5;124mhttps://jax.readthedocs.io/en/latest/_autosummary/jax.numpy.ndarray.at.html\u001b[39m\u001b[38;5;124m\"\u001b[39m)\n\u001b[0;32m-> 4670\u001b[0m   \u001b[38;5;28;01mraise\u001b[39;00m \u001b[38;5;167;01mTypeError\u001b[39;00m(msg\u001b[38;5;241m.\u001b[39mformat(\u001b[38;5;28mtype\u001b[39m(\u001b[38;5;28mself\u001b[39m)))\n",
      "\u001b[0;31mTypeError\u001b[0m: '<class 'jaxlib.xla_extension.DeviceArray'>' object does not support item assignment. JAX arrays are immutable. Instead of ``x[idx] = y``, use ``x = x.at[idx].set(y)`` or another .at[] method: https://jax.readthedocs.io/en/latest/_autosummary/jax.numpy.ndarray.at.html"
     ]
    }
   ],
   "source": [
    "# This is meant to throw an error!\n",
    "x_train[:,:,:,0] = 5"
   ]
  },
  {
   "cell_type": "code",
   "execution_count": 6,
   "id": "574dc19d",
   "metadata": {},
   "outputs": [],
   "source": [
    "# Works: \n",
    "x_train_changed = x_train.at[:,:,:,0].add(5)"
   ]
  },
  {
   "cell_type": "markdown",
   "id": "cbf62b9c",
   "metadata": {},
   "source": [
    "## Neural networks in Flax\n",
    "\n",
    "Neural networks in Flax are great, especially if you need to do any sort of unusual gradient.  Here, I'll include a calculation of the gradients _per example_, which is not trivial to do in the other frameworks."
   ]
  },
  {
   "cell_type": "code",
   "execution_count": 7,
   "id": "b6c974be",
   "metadata": {},
   "outputs": [],
   "source": [
    "import optax\n",
    "import flax.linen as nn\n",
    "# Flax is just one package for neural networks in JAX.  Optax includes lots of optimzers and other utilities."
   ]
  },
  {
   "cell_type": "code",
   "execution_count": 8,
   "id": "43201c83",
   "metadata": {},
   "outputs": [],
   "source": [
    "\n",
    "class ResidualBlock(nn.Module):\n",
    "    # This isn't a callable class for real: it's a template for creating a function to do this.\n",
    "    # It's designed to look just like tensorflow and pytorch.\n",
    "    def setup(self):\n",
    "        \n",
    "        self.conv1  = nn.Conv(features=16, kernel_size=[3,3], padding=\"same\")\n",
    "        self.conv2  = nn.Conv(features=16, kernel_size=[3,3], padding=\"same\")\n",
    "\n",
    "    def __call__(self, x):\n",
    "        out = self.conv1(x)\n",
    "        out = nn.relu(out)\n",
    "        out = self.conv2(out)\n",
    "        \n",
    "        x = x + out\n",
    "        \n",
    "        return nn.relu(x)\n",
    "\n"
   ]
  },
  {
   "cell_type": "code",
   "execution_count": 9,
   "id": "42ab1efa",
   "metadata": {},
   "outputs": [],
   "source": [
    "class MyModel(nn.Module):\n",
    "    \n",
    "    def setup(self):\n",
    "        \n",
    "        self.conv_init = nn.Conv(features=16, kernel_size=[1,1])\n",
    "        \n",
    "        self.res1 = ResidualBlock()\n",
    "        \n",
    "        self.res2 = ResidualBlock()\n",
    "        \n",
    "        # 10 filters for each class:\n",
    "        self.conv_final = nn.Conv(features=10, kernel_size=[1,1])\n",
    "        \n",
    "                \n",
    "    def __call__(self, inputs):\n",
    "        \n",
    "        x = self.conv_init(inputs)\n",
    "        \n",
    "        x = self.res1(x)\n",
    "        \n",
    "        x = self.res2(x)\n",
    "        \n",
    "        x = self.conv_final(x)\n",
    "        x = nn.avg_pool(x, (32,32))\n",
    "        return x.reshape((10))"
   ]
  },
  {
   "cell_type": "code",
   "execution_count": 10,
   "id": "06b18cc0",
   "metadata": {},
   "outputs": [],
   "source": [
    "# Model can be initialized as a class, but it's not callable:\n",
    "model = MyModel()"
   ]
  },
  {
   "cell_type": "code",
   "execution_count": 11,
   "id": "152a420e",
   "metadata": {},
   "outputs": [
    {
     "ename": "AttributeError",
     "evalue": "\"MyModel\" object has no attribute \"conv_init\"",
     "output_type": "error",
     "traceback": [
      "\u001b[0;31m---------------------------------------------------------------------------\u001b[0m",
      "\u001b[0;31mAttributeError\u001b[0m                            Traceback (most recent call last)",
      "Cell \u001b[0;32mIn [11], line 2\u001b[0m\n\u001b[1;32m      1\u001b[0m \u001b[38;5;66;03m#This should fail!\u001b[39;00m\n\u001b[0;32m----> 2\u001b[0m \u001b[43mmodel\u001b[49m\u001b[43m(\u001b[49m\u001b[43mx_train\u001b[49m\u001b[43m[\u001b[49m\u001b[38;5;241;43m0\u001b[39;49m\u001b[43m:\u001b[49m\u001b[38;5;241;43m5000\u001b[39;49m\u001b[43m]\u001b[49m\u001b[43m)\u001b[49m\n",
      "File \u001b[0;32m~/.local/polaris/conda/2022-09-08/lib/python3.8/site-packages/flax/linen/module.py:361\u001b[0m, in \u001b[0;36mwrap_method_once.<locals>.wrapped_module_method\u001b[0;34m(*args, **kwargs)\u001b[0m\n\u001b[1;32m    359\u001b[0m \u001b[38;5;28;01mif\u001b[39;00m args \u001b[38;5;129;01mand\u001b[39;00m \u001b[38;5;28misinstance\u001b[39m(args[\u001b[38;5;241m0\u001b[39m], Module):\n\u001b[1;32m    360\u001b[0m   \u001b[38;5;28mself\u001b[39m, args \u001b[38;5;241m=\u001b[39m args[\u001b[38;5;241m0\u001b[39m], args[\u001b[38;5;241m1\u001b[39m:]\n\u001b[0;32m--> 361\u001b[0m   \u001b[38;5;28;01mreturn\u001b[39;00m \u001b[38;5;28;43mself\u001b[39;49m\u001b[38;5;241;43m.\u001b[39;49m\u001b[43m_call_wrapped_method\u001b[49m\u001b[43m(\u001b[49m\u001b[43mfun\u001b[49m\u001b[43m,\u001b[49m\u001b[43m \u001b[49m\u001b[43margs\u001b[49m\u001b[43m,\u001b[49m\u001b[43m \u001b[49m\u001b[43mkwargs\u001b[49m\u001b[43m)\u001b[49m\n\u001b[1;32m    362\u001b[0m \u001b[38;5;28;01melse\u001b[39;00m:\n\u001b[1;32m    363\u001b[0m   \u001b[38;5;28;01mreturn\u001b[39;00m fun(\u001b[38;5;241m*\u001b[39margs, \u001b[38;5;241m*\u001b[39m\u001b[38;5;241m*\u001b[39mkwargs)\n",
      "File \u001b[0;32m~/.local/polaris/conda/2022-09-08/lib/python3.8/site-packages/flax/linen/module.py:657\u001b[0m, in \u001b[0;36mModule._call_wrapped_method\u001b[0;34m(self, fun, args, kwargs)\u001b[0m\n\u001b[1;32m    655\u001b[0m \u001b[38;5;28;01mif\u001b[39;00m _use_named_call:\n\u001b[1;32m    656\u001b[0m   \u001b[38;5;28;01mwith\u001b[39;00m jax\u001b[38;5;241m.\u001b[39mnamed_scope(_derive_profiling_name(\u001b[38;5;28mself\u001b[39m, fun)):\n\u001b[0;32m--> 657\u001b[0m     y \u001b[38;5;241m=\u001b[39m \u001b[43mfun\u001b[49m\u001b[43m(\u001b[49m\u001b[38;5;28;43mself\u001b[39;49m\u001b[43m,\u001b[49m\u001b[43m \u001b[49m\u001b[38;5;241;43m*\u001b[39;49m\u001b[43margs\u001b[49m\u001b[43m,\u001b[49m\u001b[43m \u001b[49m\u001b[38;5;241;43m*\u001b[39;49m\u001b[38;5;241;43m*\u001b[39;49m\u001b[43mkwargs\u001b[49m\u001b[43m)\u001b[49m\n\u001b[1;32m    658\u001b[0m \u001b[38;5;28;01melse\u001b[39;00m:\n\u001b[1;32m    659\u001b[0m   y \u001b[38;5;241m=\u001b[39m fun(\u001b[38;5;28mself\u001b[39m, \u001b[38;5;241m*\u001b[39margs, \u001b[38;5;241m*\u001b[39m\u001b[38;5;241m*\u001b[39mkwargs)\n",
      "Cell \u001b[0;32mIn [9], line 17\u001b[0m, in \u001b[0;36mMyModel.__call__\u001b[0;34m(self, inputs)\u001b[0m\n\u001b[1;32m     15\u001b[0m \u001b[38;5;28;01mdef\u001b[39;00m \u001b[38;5;21m__call__\u001b[39m(\u001b[38;5;28mself\u001b[39m, inputs):\n\u001b[0;32m---> 17\u001b[0m     x \u001b[38;5;241m=\u001b[39m \u001b[38;5;28;43mself\u001b[39;49m\u001b[38;5;241;43m.\u001b[39;49m\u001b[43mconv_init\u001b[49m(inputs)\n\u001b[1;32m     19\u001b[0m     x \u001b[38;5;241m=\u001b[39m \u001b[38;5;28mself\u001b[39m\u001b[38;5;241m.\u001b[39mres1(x)\n\u001b[1;32m     21\u001b[0m     x \u001b[38;5;241m=\u001b[39m \u001b[38;5;28mself\u001b[39m\u001b[38;5;241m.\u001b[39mres2(x)\n",
      "File \u001b[0;32m~/.local/polaris/conda/2022-09-08/lib/python3.8/site-packages/flax/linen/module.py:725\u001b[0m, in \u001b[0;36mModule.__getattr__\u001b[0;34m(self, name)\u001b[0m\n\u001b[1;32m    723\u001b[0m   \u001b[38;5;28;01mreturn\u001b[39;00m \u001b[38;5;28mself\u001b[39m\u001b[38;5;241m.\u001b[39m\u001b[38;5;18m__dict__\u001b[39m[name]\n\u001b[1;32m    724\u001b[0m \u001b[38;5;28;01melse\u001b[39;00m:\n\u001b[0;32m--> 725\u001b[0m   \u001b[38;5;28;01mraise\u001b[39;00m \u001b[38;5;167;01mAttributeError\u001b[39;00m(\n\u001b[1;32m    726\u001b[0m       \u001b[38;5;124mf\u001b[39m\u001b[38;5;124m'\u001b[39m\u001b[38;5;124m\"\u001b[39m\u001b[38;5;132;01m{\u001b[39;00m\u001b[38;5;28mself\u001b[39m\u001b[38;5;241m.\u001b[39m\u001b[38;5;18m__class__\u001b[39m\u001b[38;5;241m.\u001b[39m\u001b[38;5;18m__name__\u001b[39m\u001b[38;5;132;01m}\u001b[39;00m\u001b[38;5;124m\"\u001b[39m\u001b[38;5;124m object has no attribute \u001b[39m\u001b[38;5;124m\"\u001b[39m\u001b[38;5;132;01m{\u001b[39;00mname\u001b[38;5;132;01m}\u001b[39;00m\u001b[38;5;124m\"\u001b[39m\u001b[38;5;124m'\u001b[39m)\n",
      "\u001b[0;31mAttributeError\u001b[0m: \"MyModel\" object has no attribute \"conv_init\""
     ]
    }
   ],
   "source": [
    "#This should fail!\n",
    "model(x_train[0:5000])"
   ]
  },
  {
   "cell_type": "markdown",
   "id": "9814c1f3",
   "metadata": {},
   "source": [
    "To initialize the network, we need to provide a random number keep as well as example data.  The data could be random, but it defines the shapes of the weights:"
   ]
  },
  {
   "cell_type": "code",
   "execution_count": 12,
   "id": "f022c977",
   "metadata": {},
   "outputs": [
    {
     "name": "stdout",
     "output_type": "stream",
     "text": [
      "[0 0]\n"
     ]
    }
   ],
   "source": [
    "key = random.PRNGKey(0)\n",
    "print(key)"
   ]
  },
  {
   "cell_type": "code",
   "execution_count": 13,
   "id": "786fc188",
   "metadata": {},
   "outputs": [],
   "source": [
    "# Pass in one image as an example, get the network parameters back:\n",
    "params = model.init(key, x_train[0])"
   ]
  },
  {
   "cell_type": "code",
   "execution_count": 14,
   "id": "f4c54c96",
   "metadata": {},
   "outputs": [
    {
     "name": "stdout",
     "output_type": "stream",
     "text": [
      "<class 'flax.core.frozen_dict.FrozenDict'>\n"
     ]
    },
    {
     "data": {
      "text/plain": [
       "FrozenDict({\n",
       "    params: {\n",
       "        conv_final: {\n",
       "            bias: (10,),\n",
       "            kernel: (1, 1, 16, 10),\n",
       "        },\n",
       "        conv_init: {\n",
       "            bias: (16,),\n",
       "            kernel: (1, 1, 3, 16),\n",
       "        },\n",
       "        res1: {\n",
       "            conv1: {\n",
       "                bias: (16,),\n",
       "                kernel: (3, 3, 16, 16),\n",
       "            },\n",
       "            conv2: {\n",
       "                bias: (16,),\n",
       "                kernel: (3, 3, 16, 16),\n",
       "            },\n",
       "        },\n",
       "        res2: {\n",
       "            conv1: {\n",
       "                bias: (16,),\n",
       "                kernel: (3, 3, 16, 16),\n",
       "            },\n",
       "            conv2: {\n",
       "                bias: (16,),\n",
       "                kernel: (3, 3, 16, 16),\n",
       "            },\n",
       "        },\n",
       "    },\n",
       "})"
      ]
     },
     "execution_count": 14,
     "metadata": {},
     "output_type": "execute_result"
    }
   ],
   "source": [
    "# We can look at the parameters by using the tree_util component of jax:\n",
    "print(type(params))\n",
    "tree_util.tree_map(lambda x: x.shape, params)"
   ]
  },
  {
   "cell_type": "code",
   "execution_count": 15,
   "id": "fb5091f9",
   "metadata": {},
   "outputs": [
    {
     "name": "stdout",
     "output_type": "stream",
     "text": [
      "(10,)\n"
     ]
    }
   ],
   "source": [
    "# Use the apply function to call the network:\n",
    "results = model.apply(params, x_train[0])\n",
    "print(results.shape)"
   ]
  },
  {
   "cell_type": "markdown",
   "id": "65708641",
   "metadata": {},
   "source": [
    "To apply to a whole batch, just use `vmap`:"
   ]
  },
  {
   "cell_type": "code",
   "execution_count": 16,
   "id": "646e604e",
   "metadata": {},
   "outputs": [],
   "source": [
    "model_fn = vmap(model.apply, in_axes=(None, 0))\n",
    "results = model_fn(params, x_train[0:5000])"
   ]
  },
  {
   "cell_type": "code",
   "execution_count": 17,
   "id": "2c9bfce4",
   "metadata": {},
   "outputs": [
    {
     "name": "stdout",
     "output_type": "stream",
     "text": [
      "(5000, 10)\n"
     ]
    }
   ],
   "source": [
    "print(results.shape)"
   ]
  },
  {
   "cell_type": "markdown",
   "id": "bed61c63",
   "metadata": {},
   "source": [
    "How is performance of the model?"
   ]
  },
  {
   "cell_type": "code",
   "execution_count": 18,
   "id": "ab45aeb6",
   "metadata": {},
   "outputs": [
    {
     "name": "stdout",
     "output_type": "stream",
     "text": [
      "69.3 ms ± 732 µs per loop (mean ± std. dev. of 7 runs, 10 loops each)\n"
     ]
    }
   ],
   "source": [
    "%timeit model_fn(params, x_train[0:5000])"
   ]
  },
  {
   "cell_type": "markdown",
   "id": "5b9797dd",
   "metadata": {},
   "source": [
    "We can make it faster with JIT:"
   ]
  },
  {
   "cell_type": "code",
   "execution_count": 19,
   "id": "bfa3fd47",
   "metadata": {},
   "outputs": [
    {
     "name": "stdout",
     "output_type": "stream",
     "text": [
      "254 µs ± 44.3 µs per loop (mean ± std. dev. of 7 runs, 1 loop each)\n"
     ]
    }
   ],
   "source": [
    "model_fn = jit(model_fn)\n",
    "%timeit model_fn(params, x_train[0:5000])"
   ]
  },
  {
   "cell_type": "markdown",
   "id": "16005742",
   "metadata": {},
   "source": [
    "Writing the function to compute the gradients is similarly easy:"
   ]
  },
  {
   "cell_type": "code",
   "execution_count": 20,
   "id": "71844abc",
   "metadata": {},
   "outputs": [],
   "source": [
    "from jax.nn import one_hot"
   ]
  },
  {
   "cell_type": "markdown",
   "id": "89b111fb",
   "metadata": {},
   "source": [
    "This will work on the entire batch:"
   ]
  },
  {
   "cell_type": "code",
   "execution_count": 42,
   "id": "ddfc9f3b",
   "metadata": {},
   "outputs": [],
   "source": [
    "@jit \n",
    "def compute_loss(params, inputs, labels):\n",
    "    labels_onehot = one_hot(labels, num_classes=10)\n",
    "    logits = model_fn(params,inputs)\n",
    "    return optax.softmax_cross_entropy(logits=logits, labels=labels_onehot).mean()\n"
   ]
  },
  {
   "cell_type": "markdown",
   "id": "482a5afb",
   "metadata": {},
   "source": [
    "We can get to the same result case-by-case + vmap, too:"
   ]
  },
  {
   "cell_type": "code",
   "execution_count": 150,
   "id": "0fe6330a",
   "metadata": {},
   "outputs": [],
   "source": [
    "@jit # You can also JIT directly\n",
    "def compute_loss_single(params, inputs, labels):\n",
    "    labels_onehot = one_hot(labels, num_classes=10)\n",
    "    # Calling the original function!\n",
    "    logits = model.apply(params, inputs)\n",
    "    # Don't apply mean here, and we can get the jacobian:\n",
    "    return optax.softmax_cross_entropy(logits, labels_onehot).reshape()\n",
    "\n",
    "grad_fn_single = grad(compute_loss_single)"
   ]
  },
  {
   "cell_type": "code",
   "execution_count": 44,
   "id": "a3a0425b",
   "metadata": {},
   "outputs": [
    {
     "data": {
      "text/plain": [
       "DeviceArray(226.38292, dtype=float32)"
      ]
     },
     "execution_count": 44,
     "metadata": {},
     "output_type": "execute_result"
    }
   ],
   "source": [
    "compute_loss_single(params, x_train[0], y_train[0])"
   ]
  },
  {
   "cell_type": "code",
   "execution_count": 45,
   "id": "4eddc748",
   "metadata": {},
   "outputs": [],
   "source": [
    "compute_loss_2 = jit(vmap(compute_loss_single, in_axes=(None, 0,0)))"
   ]
  },
  {
   "cell_type": "code",
   "execution_count": 46,
   "id": "5af18209",
   "metadata": {},
   "outputs": [
    {
     "data": {
      "text/plain": [
       "DeviceArray(173.78802, dtype=float32)"
      ]
     },
     "execution_count": 46,
     "metadata": {},
     "output_type": "execute_result"
    }
   ],
   "source": [
    "compute_loss_2(params, x_train[0:5000], y_train[0:5000] ).mean()"
   ]
  },
  {
   "cell_type": "markdown",
   "id": "e1ed9ba0",
   "metadata": {},
   "source": [
    "Here's the intrinsically vectorized version:"
   ]
  },
  {
   "cell_type": "code",
   "execution_count": 47,
   "id": "308149e5",
   "metadata": {},
   "outputs": [
    {
     "data": {
      "text/plain": [
       "DeviceArray(175.85536, dtype=float32)"
      ]
     },
     "execution_count": 47,
     "metadata": {},
     "output_type": "execute_result"
    }
   ],
   "source": [
    "compute_loss(params, x_train[0:5000], y_train[0:5000]) "
   ]
  },
  {
   "cell_type": "markdown",
   "id": "29d1ca45",
   "metadata": {},
   "source": [
    "Which is faster?  "
   ]
  },
  {
   "cell_type": "code",
   "execution_count": 48,
   "id": "74c9f426",
   "metadata": {},
   "outputs": [
    {
     "name": "stdout",
     "output_type": "stream",
     "text": [
      "9.81 ms ± 906 ns per loop (mean ± std. dev. of 7 runs, 100 loops each)\n"
     ]
    }
   ],
   "source": [
    "%timeit compute_loss_2(params, x_train[0:5000], y_train[0:5000] ).mean()"
   ]
  },
  {
   "cell_type": "code",
   "execution_count": 49,
   "id": "4b169afb",
   "metadata": {},
   "outputs": [
    {
     "name": "stdout",
     "output_type": "stream",
     "text": [
      "9.98 ms ± 1.55 µs per loop (mean ± std. dev. of 7 runs, 100 loops each)\n"
     ]
    }
   ],
   "source": [
    "%timeit compute_loss(params, x_train[0:5000], y_train[0:5000]) "
   ]
  },
  {
   "cell_type": "markdown",
   "id": "feafd361",
   "metadata": {},
   "source": [
    "The two functions both come out approximately the same but surprisinly slow."
   ]
  },
  {
   "cell_type": "code",
   "execution_count": 54,
   "id": "a5c4e6f3",
   "metadata": {},
   "outputs": [
    {
     "name": "stdout",
     "output_type": "stream",
     "text": [
      "<class 'jaxlib.xla_extension.DeviceArray'>\n",
      "<class 'jaxlib.xla_extension.DeviceArray'>\n",
      "<class 'flax.core.frozen_dict.FrozenDict'>\n"
     ]
    }
   ],
   "source": [
    "print(type(x_train))\n",
    "print(type(y_train))\n",
    "print(type(params))"
   ]
  },
  {
   "cell_type": "markdown",
   "id": "c0338330",
   "metadata": {},
   "source": [
    "## Getting gradients\n",
    "\n",
    "Computing gradients is as simple as calling `grad` on the loss function.\n",
    "\n",
    "Note that like `jit` and `vmap`, grad operates on functions and not data.  And, it returns a function that takes the same inputs as whatever it operates on:"
   ]
  },
  {
   "cell_type": "code",
   "execution_count": 103,
   "id": "96c5f28b",
   "metadata": {},
   "outputs": [],
   "source": [
    "\n",
    "grad_fn = grad(compute_loss)"
   ]
  },
  {
   "cell_type": "code",
   "execution_count": 57,
   "id": "fa677d28",
   "metadata": {},
   "outputs": [],
   "source": [
    "gradients = grad_fn(params, x_train[0:5000], y_train[0:5000])"
   ]
  },
  {
   "cell_type": "code",
   "execution_count": 58,
   "id": "3f3b4ffa",
   "metadata": {},
   "outputs": [
    {
     "name": "stdout",
     "output_type": "stream",
     "text": [
      "FrozenDict({\n",
      "    params: {\n",
      "        conv_final: {\n",
      "            bias: DeviceArray([-0.10100005, -0.09199999, -0.10380004, -0.09719993,\n",
      "                          0.89579934, -0.09760001, -0.10380004, -0.09719993,\n",
      "                         -0.10359982, -0.09959987], dtype=float32),\n",
      "            kernel: DeviceArray([[[[-4.75847149e+00, -4.33445406e+00, -4.89039516e+00,\n",
      "                            -4.57946348e+00,  4.22055359e+01, -4.59829617e+00,\n",
      "                            -4.89039516e+00, -4.57946348e+00, -4.88200617e+00,\n",
      "                            -4.69253111e+00],\n",
      "                           [-2.10035934e+01, -1.91320553e+01, -2.15859604e+01,\n",
      "                            -2.02134438e+01,  1.86326111e+02, -2.02965679e+01,\n",
      "                            -2.15859604e+01, -2.02134438e+01, -2.15829220e+01,\n",
      "                            -2.07125072e+01],\n",
      "                           [-2.63003986e-02, -2.39567850e-02, -2.70295125e-02,\n",
      "                            -2.53108162e-02,  2.33239129e-01, -2.54150145e-02,\n",
      "                            -2.70295125e-02, -2.53108162e-02, -2.69507319e-02,\n",
      "                            -2.59357803e-02],\n",
      "                           [-1.33202225e-01, -1.21332556e-01, -1.36894926e-01,\n",
      "                            -1.28190741e-01,  1.18177056e+00, -1.28718585e-01,\n",
      "                            -1.36894926e-01, -1.28190741e-01, -1.36990145e-01,\n",
      "                            -1.31355911e-01],\n",
      "                           [-1.52527294e+01, -1.38935366e+01, -1.56755867e+01,\n",
      "                            -1.46788797e+01,  1.35306122e+02, -1.47392454e+01,\n",
      "                            -1.56755877e+01, -1.46788816e+01, -1.56705837e+01,\n",
      "                            -1.50412798e+01],\n",
      "                           [-1.19522591e+01, -1.08871708e+01, -1.22835846e+01,\n",
      "                            -1.15025558e+01,  1.06038345e+02, -1.15498877e+01,\n",
      "                            -1.22835846e+01, -1.15025568e+01, -1.22902050e+01,\n",
      "                            -1.17865429e+01],\n",
      "                           [-5.30742788e+00, -4.83448410e+00, -5.45457649e+00,\n",
      "                            -5.10773134e+00,  4.70863380e+01, -5.12876034e+00,\n",
      "                            -5.45457649e+00, -5.10773182e+00, -5.45713568e+00,\n",
      "                            -5.23386478e+00],\n",
      "                           [-2.25896168e+01, -2.05766754e+01, -2.32158508e+01,\n",
      "                            -2.17397003e+01,  2.00403778e+02, -2.18291817e+01,\n",
      "                            -2.32158508e+01, -2.17397003e+01, -2.32197914e+01,\n",
      "                            -2.22765598e+01],\n",
      "                           [-8.66312981e+00, -7.89116430e+00, -8.90328407e+00,\n",
      "                            -8.33720112e+00,  7.68536224e+01, -8.37150478e+00,\n",
      "                            -8.90328312e+00, -8.33720303e+00, -8.90370655e+00,\n",
      "                            -8.54304123e+00],\n",
      "                           [-5.40339202e-02, -4.92190681e-02, -5.55317476e-02,\n",
      "                            -5.20010144e-02,  4.79453504e-01, -5.22149466e-02,\n",
      "                            -5.55317476e-02, -5.20010181e-02, -5.56339286e-02,\n",
      "                            -5.32849021e-02],\n",
      "                           [-8.78514767e+00, -8.00231552e+00, -9.02868462e+00,\n",
      "                            -8.45460796e+00,  7.79261093e+01, -8.48943901e+00,\n",
      "                            -9.02868462e+00, -8.45460892e+00, -9.01913929e+00,\n",
      "                            -8.66339684e+00],\n",
      "                           [-1.24272490e+01, -1.13198872e+01, -1.27717733e+01,\n",
      "                            -1.19596825e+01,  1.10238464e+02, -1.20089083e+01,\n",
      "                            -1.27717733e+01, -1.19596834e+01, -1.27646923e+01,\n",
      "                            -1.22549791e+01],\n",
      "                           [-4.89315450e-01, -4.45712566e-01, -5.02881050e-01,\n",
      "                            -4.70906258e-01,  4.29922342e+00, -4.72845048e-01,\n",
      "                            -5.02881110e-01, -4.70906258e-01, -4.61240172e-01,\n",
      "                            -4.82534200e-01],\n",
      "                           [-6.27003336e+00, -5.71132946e+00, -6.44385052e+00,\n",
      "                            -6.03414059e+00,  5.56149940e+01, -6.05895329e+00,\n",
      "                            -6.44385004e+00, -6.03414106e+00, -6.43566084e+00,\n",
      "                            -6.18313313e+00],\n",
      "                           [-1.63601756e+00, -1.49023569e+00, -1.68137598e+00,\n",
      "                            -1.57446480e+00,  1.44783707e+01, -1.58094549e+00,\n",
      "                            -1.68137586e+00, -1.57446504e+00, -1.64617348e+00,\n",
      "                            -1.61334395e+00],\n",
      "                           [-1.91813641e+01, -1.74722004e+01, -1.97131844e+01,\n",
      "                            -1.84596996e+01,  1.70182602e+02, -1.85356941e+01,\n",
      "                            -1.97131844e+01, -1.84597015e+01, -1.97318592e+01,\n",
      "                            -1.89155025e+01]]]], dtype=float32),\n",
      "        },\n",
      "        conv_init: {\n",
      "            bias: DeviceArray([-0.66274834, -0.0025987 , -0.08283037, -0.01084352,\n",
      "                          0.02234331, -0.06398268, -0.01746904,  0.2913988 ,\n",
      "                          0.27052426, -0.02440035,  0.31091547,  0.03797595,\n",
      "                          0.04933838,  0.02915209,  0.19046053,  0.6424302 ],            dtype=float32),\n",
      "            kernel: DeviceArray([[[[-85.438065 ,  -1.4945116, -11.184359 ,  -1.3237144,\n",
      "                              3.1121378,  -7.116492 ,  -2.8092718,  38.581078 ,\n",
      "                             35.481403 ,  -2.9340665,  38.538876 ,   1.9739456,\n",
      "                              7.8735275,   2.2591555,  24.14613  ,  81.33522  ],\n",
      "                           [-82.66726  ,  -1.3386928, -11.130794 ,  -1.9549137,\n",
      "                              3.4550438,  -7.450379 ,  -2.656194 ,  37.440094 ,\n",
      "                             34.03952  ,  -1.8165058,  38.264896 ,   2.9111238,\n",
      "                              7.5753803,   1.7373707,  24.826765 ,  79.56915  ],\n",
      "                           [-75.98787  ,  -0.9938922, -10.13458  ,  -1.9130523,\n",
      "                              3.1888278,  -7.2290134,  -2.7390838,  34.763107 ,\n",
      "                             31.51226  ,  -0.9773681,  34.91166  ,   2.7970219,\n",
      "                              6.754433 ,   1.5483142,  23.636248 ,  73.0101   ]]]],            dtype=float32),\n",
      "        },\n",
      "        res1: {\n",
      "            conv1: {\n",
      "                bias: DeviceArray([ 2.9425647e-02, -8.1154890e-03,  1.0824547e-01,\n",
      "                              1.2014508e-01, -3.6096327e-02, -5.5265367e-02,\n",
      "                              9.4799902e-03, -2.5303441e-01,  7.1413931e-04,\n",
      "                             -6.0265157e-03, -2.1073410e-01,  1.9124168e-04,\n",
      "                             -1.6491156e-04, -1.2683750e-03,  9.6446849e-05,\n",
      "                              6.0154639e-02], dtype=float32),\n",
      "                kernel: DeviceArray([[[[-1.25937080e+00,  3.31273377e-02, -7.65472317e+00, ...,\n",
      "                                 3.16896699e-02, -2.39743642e-03, -4.79503059e+00],\n",
      "                               [-9.05944109e-01, -3.40642072e-02, -3.23329973e+00, ...,\n",
      "                                 7.03280885e-03, -1.05370944e-02, -1.72264791e+00],\n",
      "                               [-7.51240313e-01,  2.83036027e-02, -5.32893753e+00, ...,\n",
      "                                 2.38669012e-02,  1.25412957e-03, -3.32697058e+00],\n",
      "                               ...,\n",
      "                               [-2.83620691e+00,  3.38136479e-02, -1.54185572e+01, ...,\n",
      "                                 5.89110069e-02, -1.23168994e-02, -9.47372723e+00],\n",
      "                               [ 2.24251121e-01,  6.64767399e-02, -2.43218206e-02, ...,\n",
      "                                 5.08351438e-03,  6.73160842e-03, -5.83809257e-01],\n",
      "                               [ 1.26733506e+00, -9.35255513e-02,  8.94460106e+00, ...,\n",
      "                                -4.13522311e-02, -3.11483047e-03,  6.06444597e+00]],\n",
      "                \n",
      "                              [[-9.10253167e-01,  3.09369471e-02, -7.85887194e+00, ...,\n",
      "                                 5.84727824e-02, -3.11671314e-03, -4.87963486e+00],\n",
      "                               [-7.07884490e-01, -3.86004485e-02, -3.26494694e+00, ...,\n",
      "                                 1.36886425e-02, -1.13234799e-02, -1.82010818e+00],\n",
      "                               [-5.27267933e-01,  2.68126857e-02, -5.48516035e+00, ...,\n",
      "                                 4.34640646e-02,  8.58353917e-04, -3.36399603e+00],\n",
      "                               ...,\n",
      "                               [-2.09139276e+00,  2.71126889e-02, -1.57882080e+01, ...,\n",
      "                                 1.09442480e-01, -1.41230337e-02, -9.69417572e+00],\n",
      "                               [ 2.01632380e-01,  7.26822391e-02, -7.27098063e-02, ...,\n",
      "                                 1.00879706e-02,  7.21763168e-03, -5.50459623e-01],\n",
      "                               [ 8.81496668e-01, -9.60301235e-02,  9.22409630e+00, ...,\n",
      "                                -7.67938569e-02, -2.68743117e-03,  6.13274050e+00]],\n",
      "                \n",
      "                              [[-9.44271028e-01,  2.38064062e-02, -7.61641073e+00, ...,\n",
      "                                 7.91328251e-02, -1.02663133e-03, -4.71312809e+00],\n",
      "                               [-7.14339197e-01, -3.67581546e-02, -3.11734152e+00, ...,\n",
      "                                 2.24108249e-02, -5.89583768e-03, -1.77511847e+00],\n",
      "                               [-5.55099070e-01,  2.08290238e-02, -5.32381582e+00, ...,\n",
      "                                 5.80016971e-02,  9.23851389e-04, -3.24319839e+00],\n",
      "                               ...,\n",
      "                               [-2.15282202e+00,  1.63257476e-02, -1.52675819e+01, ...,\n",
      "                                 1.50974870e-01, -6.34281198e-03, -9.37722492e+00],\n",
      "                               [ 2.01761454e-01,  6.76252469e-02, -1.25709817e-01, ...,\n",
      "                                 9.63242725e-03,  3.99039779e-03, -5.22163093e-01],\n",
      "                               [ 9.21665788e-01, -8.34486261e-02,  8.98562813e+00, ...,\n",
      "                                -1.00533508e-01, -2.29264656e-03,  5.91483641e+00]]],\n",
      "                \n",
      "                \n",
      "                             [[[-1.79742980e+00,  6.25295460e-01, -8.04178905e+00, ...,\n",
      "                                 3.53402421e-02, -2.58582272e-03, -4.49137068e+00],\n",
      "                               [-1.20740926e+00,  2.95995384e-01, -3.41638660e+00, ...,\n",
      "                                 1.06705036e-02, -1.12086805e-02, -1.54636395e+00],\n",
      "                               [-1.10646307e+00,  4.12420541e-01, -5.59869576e+00, ...,\n",
      "                                 2.56257746e-02,  1.32237724e-03, -3.12833118e+00],\n",
      "                               ...,\n",
      "                               [-3.97656965e+00,  1.29129303e+00, -1.62103939e+01, ...,\n",
      "                                 6.79828748e-02, -1.31707108e-02, -8.82534599e+00],\n",
      "                               [ 2.86707371e-01,  2.40445342e-02,  9.59388539e-03, ...,\n",
      "                                 4.08626581e-03,  7.08965166e-03, -6.23614371e-01],\n",
      "                               [ 1.84098160e+00, -7.45281875e-01,  9.36835957e+00, ...,\n",
      "                                -4.46816273e-02, -3.21600493e-03,  5.74466467e+00]],\n",
      "                \n",
      "                              [[-1.64522433e+00,  6.41618252e-01, -8.27077866e+00, ...,\n",
      "                                 5.16434833e-02, -3.06221424e-03, -4.66195393e+00],\n",
      "                               [-1.10266507e+00,  2.98411965e-01, -3.46735811e+00, ...,\n",
      "                                 1.30392453e-02, -1.19229620e-02, -1.67879689e+00],\n",
      "                               [-1.01731491e+00,  4.23887223e-01, -5.76934719e+00, ...,\n",
      "                                 3.79374474e-02,  1.12291914e-03, -3.22591019e+00],\n",
      "                               ...,\n",
      "                               [-3.63593650e+00,  1.32130241e+00, -1.66371059e+01, ...,\n",
      "                                 9.74878967e-02, -1.45206852e-02, -9.21776485e+00],\n",
      "                               [ 2.73539275e-01,  3.15895230e-02, -3.31399068e-02, ...,\n",
      "                                 8.77933856e-03,  7.53732305e-03, -5.90503752e-01],\n",
      "                               [ 1.67670166e+00, -7.70472407e-01,  9.67180252e+00, ...,\n",
      "                                -6.76527247e-02, -3.04453238e-03,  5.91350412e+00]],\n",
      "                \n",
      "                              [[-1.78039134e+00,  6.38217270e-01, -8.05527687e+00, ...,\n",
      "                                 6.66493699e-02, -6.10841147e-04, -4.57820368e+00],\n",
      "                               [-1.15395510e+00,  3.00948471e-01, -3.34876728e+00, ...,\n",
      "                                 1.92310009e-02, -6.16129907e-03, -1.65427101e+00],\n",
      "                               [-1.11509848e+00,  4.20562565e-01, -5.62124729e+00, ...,\n",
      "                                 4.86393832e-02,  1.39258348e-03, -3.16664028e+00],\n",
      "                               ...,\n",
      "                               [-3.90267086e+00,  1.31744230e+00, -1.61847000e+01, ...,\n",
      "                                 1.27490580e-01, -5.87440981e-03, -9.05638218e+00],\n",
      "                               [ 2.75481135e-01,  2.78757066e-02, -7.41457120e-02, ...,\n",
      "                                 8.21354892e-03,  4.15422581e-03, -5.74495375e-01],\n",
      "                               [ 1.83325922e+00, -7.63342381e-01,  9.45419979e+00, ...,\n",
      "                                -8.47251713e-02, -2.93712970e-03,  5.80267239e+00]]],\n",
      "                \n",
      "                \n",
      "                             [[[-1.92272341e+00,  5.73486805e-01, -7.72057438e+00, ...,\n",
      "                                 2.65189214e-03, -3.25734587e-03, -3.97103357e+00],\n",
      "                               [-1.24134612e+00,  2.92241395e-01, -3.25454926e+00, ...,\n",
      "                                 4.51733707e-04, -1.15191275e-02, -1.37822127e+00],\n",
      "                               [-1.20326293e+00,  3.74073714e-01, -5.38417864e+00, ...,\n",
      "                                 1.72947510e-03,  8.20776622e-04, -2.74981022e+00],\n",
      "                               ...,\n",
      "                               [-4.21210241e+00,  1.19950378e+00, -1.55422592e+01, ...,\n",
      "                                 4.98084351e-03, -1.45226875e-02, -7.81806326e+00],\n",
      "                               [ 2.85623938e-01, -1.26476691e-04, -4.07968089e-03, ...,\n",
      "                                 1.57679536e-03,  7.25083193e-03, -5.86763918e-01],\n",
      "                               [ 1.98935151e+00, -6.64858222e-01,  9.00628662e+00, ...,\n",
      "                                -4.35889000e-03, -2.55940715e-03,  5.10555458e+00]],\n",
      "                \n",
      "                              [[-1.93125558e+00,  5.93495488e-01, -7.89675665e+00, ...,\n",
      "                                 7.42460508e-03, -3.46252834e-03, -4.21762276e+00],\n",
      "                               [-1.21188700e+00,  2.96379268e-01, -3.29373646e+00, ...,\n",
      "                                -1.65905966e-03, -1.20895719e-02, -1.53311455e+00],\n",
      "                               [-1.22411513e+00,  3.88262004e-01, -5.51572943e+00, ...,\n",
      "                                 6.03531487e-03,  8.21717549e-04, -2.90186310e+00],\n",
      "                               ...,\n",
      "                               [-4.20085382e+00,  1.23696005e+00, -1.58704014e+01, ...,\n",
      "                                 1.14950854e-02, -1.53139969e-02, -8.35671520e+00],\n",
      "                               [ 2.78460383e-01,  6.61291741e-03, -3.61602008e-02, ...,\n",
      "                                 5.47607243e-03,  7.60847423e-03, -5.65500438e-01],\n",
      "                               [ 2.00731087e+00, -6.93712652e-01,  9.23914051e+00, ...,\n",
      "                                -1.32428911e-02, -2.63242889e-03,  5.37289429e+00]],\n",
      "                \n",
      "                              [[-2.15638232e+00,  6.05147362e-01, -7.70954752e+00, ...,\n",
      "                                 1.82879474e-02, -5.76459686e-04, -4.17649269e+00],\n",
      "                               [-1.30989230e+00,  3.01839918e-01, -3.19792271e+00, ...,\n",
      "                                 2.33270880e-03, -6.03736099e-03, -1.51158905e+00],\n",
      "                               [-1.38132656e+00,  3.96286935e-01, -5.38550043e+00, ...,\n",
      "                                 1.40181324e-02,  1.37323712e-03, -2.87557793e+00],\n",
      "                               ...,\n",
      "                               [-4.65591526e+00,  1.26081276e+00, -1.54827356e+01, ...,\n",
      "                                 3.27860266e-02, -5.71421301e-03, -8.27005291e+00],\n",
      "                               [ 2.84491628e-01,  5.99842193e-03, -6.44833222e-02, ...,\n",
      "                                 5.12497965e-03,  4.11013467e-03, -5.64640522e-01],\n",
      "                               [ 2.26495457e+00, -7.06784487e-01,  9.04392433e+00, ...,\n",
      "                                -2.56842244e-02, -2.93494971e-03,  5.32458115e+00]]]],            dtype=float32),\n",
      "            },\n",
      "            conv2: {\n",
      "                bias: DeviceArray([-4.2784083e-01, -4.5942917e-02,  1.4108488e-03,\n",
      "                              2.8570805e-04,  1.0189484e-01,  7.1880125e-02,\n",
      "                              1.9581281e-02,  1.6539955e-01,  3.8041759e-01,\n",
      "                             -2.2019219e-02,  2.1826141e-01,  3.0493168e-02,\n",
      "                              6.6600222e-04,  1.7486360e-02,  1.9083539e-01,\n",
      "                              6.6508180e-01], dtype=float32),\n",
      "                kernel: DeviceArray([[[[-2.45599294e+00, -3.94655257e-01,  4.45610425e-03, ...,\n",
      "                                 1.90989338e-02,  1.35580504e+00,  4.56971359e+00],\n",
      "                               [-1.18827216e-01, -2.27876361e-02,  2.81226472e-04, ...,\n",
      "                                 8.71706009e-03,  5.17108999e-02,  2.35279262e-01],\n",
      "                               [-8.63976364e+01, -1.09260149e+01,  3.91468778e-02, ...,\n",
      "                                 1.41917872e+00,  3.83789101e+01,  1.33517166e+02],\n",
      "                               ...,\n",
      "                               [-1.60986744e-02, -1.10703835e-03,  3.76885619e-05, ...,\n",
      "                                 3.51620186e-03,  6.39065355e-03,  1.60246789e-02],\n",
      "                               [-2.95547489e-02, -1.65002959e-04,  3.58215626e-03, ...,\n",
      "                                 2.04577437e-03,  2.44966783e-02,  4.47884127e-02],\n",
      "                               [-3.94456139e+01, -4.97957659e+00,  1.76204573e-02, ...,\n",
      "                                 7.68014371e-01,  1.79423656e+01,  6.16693420e+01]],\n",
      "                \n",
      "                              [[-2.46015811e+00, -2.46124297e-01,  4.14469419e-03, ...,\n",
      "                                 1.34458005e-01,  1.39235282e+00,  4.05815840e+00],\n",
      "                               [-1.18359938e-01, -1.79684367e-02,  2.40526759e-04, ...,\n",
      "                                 1.15056969e-02,  4.98705767e-02,  2.31794506e-01],\n",
      "                               [-8.78203049e+01, -1.12269564e+01,  3.19749303e-02, ...,\n",
      "                                 1.15061677e+00,  4.00185623e+01,  1.37167053e+02],\n",
      "                               ...,\n",
      "                               [-1.65290274e-02, -1.22242444e-03,  8.48444106e-05, ...,\n",
      "                                 9.25132167e-03,  4.86113131e-03,  8.82533006e-03],\n",
      "                               [-4.20640856e-02, -7.21805700e-05,  5.67473657e-03, ...,\n",
      "                                 1.47988077e-03,  3.06680184e-02,  6.66037798e-02],\n",
      "                               [-3.94966011e+01, -4.69324541e+00,  1.44995758e-02, ...,\n",
      "                                 9.99979317e-01,  1.86601353e+01,  6.07398186e+01]],\n",
      "                \n",
      "                              [[-2.20169091e+00, -2.07575485e-01,  6.17051311e-03, ...,\n",
      "                                 3.46308082e-01,  1.17766345e+00,  3.61564732e+00],\n",
      "                               [-1.09702319e-01, -1.57883856e-02,  2.47224641e-04, ...,\n",
      "                                 1.20565761e-02,  4.24210355e-02,  2.06982315e-01],\n",
      "                               [-8.62198944e+01, -1.06772795e+01,  2.24993881e-02, ...,\n",
      "                                 1.36795950e+00,  4.12260361e+01,  1.34048691e+02],\n",
      "                               ...,\n",
      "                               [-1.21812792e-02, -1.12090155e-03,  1.65456426e-04, ...,\n",
      "                                 6.66283024e-03,  2.41633435e-03,  1.24503113e-02],\n",
      "                               [-4.05436605e-02, -5.04285490e-05,  3.74603714e-03, ...,\n",
      "                                 1.21700135e-03,  3.40061598e-02,  6.08210787e-02],\n",
      "                               [-3.88597183e+01, -4.37473202e+00,  1.44947572e-02, ...,\n",
      "                                 1.22126043e+00,  1.81904831e+01,  5.88305244e+01]]],\n",
      "                \n",
      "                \n",
      "                             [[[-2.44174886e+00, -7.31801763e-02,  3.46290357e-02, ...,\n",
      "                                 1.25916928e-01,  1.50244999e+00,  4.45201588e+00],\n",
      "                               [-1.21007718e-01, -2.96427887e-02,  1.38695631e-03, ...,\n",
      "                                 6.30716421e-03,  7.22156465e-02,  3.63420457e-01],\n",
      "                               [-8.75793915e+01, -1.04632044e+01,  1.00059755e-01, ...,\n",
      "                                 1.41862631e+00,  3.93687744e+01,  1.36262466e+02],\n",
      "                               ...,\n",
      "                               [-2.16499288e-02, -7.87129253e-03,  2.61935820e-05, ...,\n",
      "                                 2.15640920e-03,  8.72671697e-03,  4.16135713e-02],\n",
      "                               [-2.93425657e-02, -1.62302968e-04,  3.92241823e-03, ...,\n",
      "                                 1.19205739e-03,  2.50693355e-02,  4.44576405e-02],\n",
      "                               [-4.01707458e+01, -4.90637398e+00,  4.20429483e-02, ...,\n",
      "                                 7.49678552e-01,  1.84538708e+01,  6.33345070e+01]],\n",
      "                \n",
      "                              [[-2.39400673e+00,  4.04879600e-02,  2.79284120e-02, ...,\n",
      "                                 3.39618593e-01,  1.54876423e+00,  4.00418234e+00],\n",
      "                               [-1.15281120e-01, -3.19358446e-02,  8.16083106e-04, ...,\n",
      "                                 7.56466063e-03,  7.22990185e-02,  3.72444957e-01],\n",
      "                               [-8.90529327e+01, -1.07873201e+01,  9.59043577e-02, ...,\n",
      "                                 1.25107610e+00,  4.11295319e+01,  1.39930801e+02],\n",
      "                               ...,\n",
      "                               [-1.96920484e-02, -4.48577991e-03,  4.32315610e-05, ...,\n",
      "                                 7.06697209e-03,  6.23588124e-03,  2.25923527e-02],\n",
      "                               [-4.19159643e-02, -6.84865372e-05,  6.22702576e-03, ...,\n",
      "                                 6.73641451e-04,  3.16470377e-02,  6.66317791e-02],\n",
      "                               [-4.01426964e+01, -4.60913467e+00,  3.20690684e-02, ...,\n",
      "                                 1.07606447e+00,  1.93233852e+01,  6.25825081e+01]],\n",
      "                \n",
      "                              [[-2.11029053e+00,  4.92128208e-02,  3.02691367e-02, ...,\n",
      "                                 4.17057842e-01,  1.33830130e+00,  3.66379881e+00],\n",
      "                               [-1.07954875e-01, -3.33193392e-02,  8.75958824e-04, ...,\n",
      "                                 6.95912866e-03,  6.44909367e-02,  3.47266406e-01],\n",
      "                               [-8.74292603e+01, -1.02951984e+01,  7.23311976e-02, ...,\n",
      "                                 1.72254431e+00,  4.26424332e+01,  1.36778564e+02],\n",
      "                               ...,\n",
      "                               [-1.69001799e-02, -3.98130249e-03,  4.72599095e-05, ...,\n",
      "                                 6.04827376e-03,  3.17977788e-03,  1.46869645e-02],\n",
      "                               [-4.08510827e-02, -7.99593181e-05,  4.15398926e-03, ...,\n",
      "                                 5.64490503e-04,  3.50941606e-02,  6.02310114e-02],\n",
      "                               [-3.94110947e+01, -4.23560619e+00,  3.27979736e-02, ...,\n",
      "                                 1.34220910e+00,  1.88720436e+01,  6.06451683e+01]]],\n",
      "                \n",
      "                \n",
      "                             [[[-1.65228641e+00, -1.93017945e-01,  3.66201103e-02, ...,\n",
      "                                 4.20380801e-01,  9.25692260e-01,  2.64480543e+00],\n",
      "                               [-7.83872604e-02, -1.80831179e-03,  3.08320532e-03, ...,\n",
      "                                 1.53922476e-02,  4.20895629e-02,  1.36831582e-01],\n",
      "                               [-8.62150345e+01, -9.88223171e+00,  1.57015771e-01, ...,\n",
      "                                 1.72854662e+00,  3.89046898e+01,  1.32981918e+02],\n",
      "                               ...,\n",
      "                               [-2.59497482e-02, -2.56200030e-04,  4.01460456e-05, ...,\n",
      "                                 1.48159091e-03,  1.45461392e-02,  4.80491705e-02],\n",
      "                               [-2.78894193e-02, -2.59791384e-04,  3.61514557e-03, ...,\n",
      "                                 7.25529739e-04,  2.41137762e-02,  4.36426140e-02],\n",
      "                               [-3.95465927e+01, -4.62912607e+00,  7.51475990e-02, ...,\n",
      "                                 1.00614297e+00,  1.82980728e+01,  6.15277138e+01]],\n",
      "                \n",
      "                              [[-1.59574020e+00, -8.63575265e-02,  3.89312431e-02, ...,\n",
      "                                 5.20576537e-01,  9.54250276e-01,  2.25290322e+00],\n",
      "                               [-7.99799189e-02, -2.83737434e-03,  3.26547748e-03, ...,\n",
      "                                 1.54295163e-02,  4.16964516e-02,  1.43606752e-01],\n",
      "                               [-8.77820358e+01, -1.03169050e+01,  1.52559891e-01, ...,\n",
      "                                 1.80870032e+00,  4.07398872e+01,  1.36508606e+02],\n",
      "                               ...,\n",
      "                               [-2.40972955e-02,  8.43721675e-04,  5.55505176e-05, ...,\n",
      "                                 5.96664334e-03,  1.18375244e-02,  2.47600470e-02],\n",
      "                               [-4.02161889e-02, -1.64492725e-04,  6.14675134e-03, ...,\n",
      "                                 4.09953296e-04,  3.09021659e-02,  6.46503791e-02],\n",
      "                               [-3.94934807e+01, -4.33898878e+00,  6.28139973e-02, ...,\n",
      "                                 1.32787418e+00,  1.92383118e+01,  6.09307938e+01]],\n",
      "                \n",
      "                              [[-1.35519207e+00, -7.25810602e-02,  3.65821011e-02, ...,\n",
      "                                 3.54561150e-01,  7.33071685e-01,  2.04217124e+00],\n",
      "                               [-7.92936608e-02, -3.87231866e-03,  3.08729731e-03, ...,\n",
      "                                 1.37140919e-02,  4.23872471e-02,  1.43057883e-01],\n",
      "                               [-8.61721954e+01, -9.91240501e+00,  1.26395538e-01, ...,\n",
      "                                 2.35480785e+00,  4.23061333e+01,  1.33646133e+02],\n",
      "                               ...,\n",
      "                               [-1.95619594e-02,  2.84042762e-04,  1.00922196e-04, ...,\n",
      "                                 7.64200976e-03,  6.10188162e-03,  1.26770269e-02],\n",
      "                               [-3.95726338e-02, -2.31876969e-04,  3.99977854e-03, ...,\n",
      "                                 3.57861805e-04,  3.44528705e-02,  5.92218377e-02],\n",
      "                               [-3.87522469e+01, -3.95172644e+00,  5.96260540e-02, ...,\n",
      "                                 1.47957051e+00,  1.87999668e+01,  5.92515945e+01]]]],            dtype=float32),\n",
      "            },\n",
      "        },\n",
      "        res2: {\n",
      "            conv1: {\n",
      "                bias: DeviceArray([-0.0006292 ,  0.11392166, -0.2259111 ,  0.06616311,\n",
      "                              0.05765807, -0.01337008,  0.15597494,  0.02291206,\n",
      "                             -0.32613719, -0.00825225,  0.06412272, -0.17672756,\n",
      "                              0.30811316,  0.4569712 , -0.00247667,  0.05142635],            dtype=float32),\n",
      "                kernel: DeviceArray([[[[-2.28682943e-02,  9.55356407e+00, -1.92043190e+01, ...,\n",
      "                                 3.57515755e+01, -1.72999397e-01,  3.47981954e+00],\n",
      "                               [-2.26739533e-02,  3.73608088e+00, -8.43441772e+00, ...,\n",
      "                                 1.44870291e+01, -2.22264662e-01,  1.47163868e+00],\n",
      "                               [ 6.71049493e-05,  8.50004237e-03, -1.44952033e-02, ...,\n",
      "                                 4.27373052e-02, -2.28694989e-04,  4.66459384e-03],\n",
      "                               ...,\n",
      "                               [-3.28157214e-04,  5.13430052e-02, -6.97757453e-02, ...,\n",
      "                                 2.32288003e-01, -1.16881793e-02,  1.38270417e-02],\n",
      "                               [-1.98082104e-02,  4.82100773e+00, -8.07296562e+00, ...,\n",
      "                                 1.81403751e+01, -3.99770327e-02,  1.35738170e+00],\n",
      "                               [-3.74203920e-02,  1.11921206e+01, -2.37728367e+01, ...,\n",
      "                                 4.28426666e+01, -2.85969913e-01,  4.48309898e+00]],\n",
      "                \n",
      "                              [[-2.82644294e-02,  9.58472919e+00, -1.86567307e+01, ...,\n",
      "                                 3.69335938e+01, -1.20853014e-01,  3.20502687e+00],\n",
      "                               [-2.31203288e-02,  3.77547789e+00, -8.45138741e+00, ...,\n",
      "                                 1.50841951e+01, -2.37042040e-01,  1.35212243e+00],\n",
      "                               [ 4.49415296e-04,  9.86588281e-03, -1.83438770e-02, ...,\n",
      "                                 4.72017527e-02, -2.27621858e-04,  6.60356320e-03],\n",
      "                               ...,\n",
      "                               [-2.80347391e-04,  4.65790667e-02, -4.53063101e-02, ...,\n",
      "                                 2.18354821e-01, -1.32270977e-02,  1.35884490e-02],\n",
      "                               [-2.11612694e-02,  4.60833073e+00, -7.31455326e+00, ...,\n",
      "                                 1.81393948e+01,  9.16411355e-02,  1.22167158e+00],\n",
      "                               [-3.67189460e-02,  1.16467066e+01, -2.55176716e+01, ...,\n",
      "                                 4.49085541e+01, -2.69393921e-01,  4.68393373e+00]],\n",
      "                \n",
      "                              [[-2.86729839e-02,  9.17887878e+00, -1.80371094e+01, ...,\n",
      "                                 3.65445137e+01, -3.41930278e-02,  3.10907459e+00],\n",
      "                               [-2.23003924e-02,  3.62513423e+00, -8.14573193e+00, ...,\n",
      "                                 1.50168314e+01, -1.96003512e-01,  1.27770770e+00],\n",
      "                               [-2.26337230e-04,  1.11145098e-02, -1.78794581e-02, ...,\n",
      "                                 5.18399514e-02, -3.31857882e-04,  5.83179714e-03],\n",
      "                               ...,\n",
      "                               [-2.12285813e-04,  4.28913645e-02, -5.93304262e-02, ...,\n",
      "                                 2.06762284e-01, -1.14402855e-02,  2.43350267e-02],\n",
      "                               [-2.21472736e-02,  4.32377243e+00, -6.59649563e+00, ...,\n",
      "                                 1.70444851e+01,  6.53549656e-02,  1.20681846e+00],\n",
      "                               [-4.44988683e-02,  1.16731901e+01, -2.47773533e+01, ...,\n",
      "                                 4.61639214e+01, -1.77488208e-01,  4.08993340e+00]]],\n",
      "                \n",
      "                \n",
      "                             [[[-2.01349836e-02,  9.30334759e+00, -1.90198669e+01, ...,\n",
      "                                 3.53977318e+01, -1.42601579e-01,  4.09089470e+00],\n",
      "                               [-1.39430892e-02,  3.72459102e+00, -8.52772713e+00, ...,\n",
      "                                 1.45802889e+01, -1.85305506e-01,  1.78874886e+00],\n",
      "                               [ 3.02267836e-05,  2.92245625e-03, -7.43768131e-03, ...,\n",
      "                                 3.76046523e-02, -1.27327672e-04,  1.21876495e-02],\n",
      "                               ...,\n",
      "                               [-1.96386725e-04,  4.98747230e-02, -4.26492840e-02, ...,\n",
      "                                 2.22713947e-01, -1.41880484e-02,  1.63680129e-02],\n",
      "                               [-1.62649620e-02,  4.93010759e+00, -8.29776382e+00, ...,\n",
      "                                 1.87824440e+01, -3.87652814e-02,  1.63376999e+00],\n",
      "                               [-1.62385479e-02,  1.09017372e+01, -2.40315495e+01, ...,\n",
      "                                 4.30385818e+01, -2.27584466e-01,  5.81111383e+00]],\n",
      "                \n",
      "                              [[-2.33615767e-02,  9.30970573e+00, -1.85765209e+01, ...,\n",
      "                                 3.66131439e+01, -8.27893391e-02,  3.82282543e+00],\n",
      "                               [-1.55677702e-02,  3.76200604e+00, -8.46812153e+00, ...,\n",
      "                                 1.51485395e+01, -2.05869645e-01,  1.66985881e+00],\n",
      "                               [ 4.39733441e-04,  3.37426993e-03, -1.12217460e-02, ...,\n",
      "                                 4.13838699e-02, -1.45263257e-04,  1.46779828e-02],\n",
      "                               ...,\n",
      "                               [-2.18577552e-04,  4.76761274e-02, -3.62472050e-02, ...,\n",
      "                                 2.19491825e-01, -1.48429992e-02,  2.48857588e-02],\n",
      "                               [-1.74601935e-02,  4.73293877e+00, -7.64032936e+00, ...,\n",
      "                                 1.88013535e+01,  9.10945311e-02,  1.47668672e+00],\n",
      "                               [-1.35594513e-02,  1.13627453e+01, -2.59861946e+01, ...,\n",
      "                                 4.50254059e+01, -2.17449129e-01,  6.05603743e+00]],\n",
      "                \n",
      "                              [[-2.38721799e-02,  8.90547466e+00, -1.80336361e+01, ...,\n",
      "                                 3.62611694e+01,  1.06530054e-03,  3.69302630e+00],\n",
      "                               [-1.63671561e-02,  3.61763144e+00, -8.27013493e+00, ...,\n",
      "                                 1.50825338e+01, -1.73958406e-01,  1.57795990e+00],\n",
      "                               [-2.44337076e-04,  4.17102361e-03, -1.23819765e-02, ...,\n",
      "                                 4.41044904e-02, -2.60143104e-04,  1.52711906e-02],\n",
      "                               ...,\n",
      "                               [-2.59313587e-04,  4.15942632e-02, -6.07496910e-02, ...,\n",
      "                                 2.10056826e-01, -1.37235085e-02,  3.02054230e-02],\n",
      "                               [-1.95417088e-02,  4.46952438e+00, -6.89413118e+00, ...,\n",
      "                                 1.77141876e+01,  6.47382885e-02,  1.43486369e+00],\n",
      "                               [-2.14057378e-02,  1.14249191e+01, -2.50707493e+01, ...,\n",
      "                                 4.62054710e+01, -1.40233397e-01,  5.44365788e+00]]],\n",
      "                \n",
      "                \n",
      "                             [[[-1.32859638e-02,  8.99214458e+00, -1.87401161e+01, ...,\n",
      "                                 3.46616173e+01, -1.23620085e-01,  4.29549980e+00],\n",
      "                               [-1.33448071e-03,  3.44619083e+00, -8.27993965e+00, ...,\n",
      "                                 1.40902271e+01, -1.37910888e-01,  2.33131790e+00],\n",
      "                               [-7.84656513e-05,  4.73981537e-03, -4.77994001e-03, ...,\n",
      "                                 2.22869553e-02, -9.11686802e-05,  2.49696639e-03],\n",
      "                               ...,\n",
      "                               [-2.55680789e-04,  4.96872067e-02, -5.26049882e-02, ...,\n",
      "                                 2.09791720e-01, -1.61595810e-02,  2.50000004e-02],\n",
      "                               [-5.60625829e-03,  4.66995621e+00, -8.10346699e+00, ...,\n",
      "                                 1.82342911e+01, -9.32078343e-03,  2.08228612e+00],\n",
      "                               [-5.62351802e-03,  1.03032207e+01, -2.22012615e+01, ...,\n",
      "                                 4.12253876e+01, -1.42030701e-01,  5.88666964e+00]],\n",
      "                \n",
      "                              [[-1.53499618e-02,  9.02291203e+00, -1.83841171e+01, ...,\n",
      "                                 3.58834190e+01, -6.61984980e-02,  4.03431797e+00],\n",
      "                               [-1.90927228e-03,  3.47206783e+00, -8.33155823e+00, ...,\n",
      "                                 1.46094885e+01, -1.54538691e-01,  2.23165631e+00],\n",
      "                               [ 3.40089668e-04,  5.19048795e-03, -6.77717105e-03, ...,\n",
      "                                 2.40162835e-02, -1.10249042e-04,  3.06027476e-03],\n",
      "                               ...,\n",
      "                               [-4.33692621e-04,  4.77848984e-02, -5.46787865e-02, ...,\n",
      "                                 2.16156691e-01, -1.73729490e-02,  2.85890810e-02],\n",
      "                               [-8.09658784e-03,  4.49246740e+00, -7.53451586e+00, ...,\n",
      "                                 1.82376041e+01,  1.19135469e-01,  1.92193341e+00],\n",
      "                               [-3.02681210e-03,  1.06947641e+01, -2.40142021e+01, ...,\n",
      "                                 4.30457764e+01, -1.44351974e-01,  6.14067936e+00]],\n",
      "                \n",
      "                              [[-1.91478487e-02,  8.65650654e+00, -1.76815395e+01, ...,\n",
      "                                 3.55386505e+01,  1.15839243e-02,  3.89676833e+00],\n",
      "                               [-3.58031318e-03,  3.34167910e+00, -8.13609123e+00, ...,\n",
      "                                 1.45590458e+01, -1.21075332e-01,  2.15836787e+00],\n",
      "                               [-3.25519854e-04,  5.51499519e-03, -6.59457687e-03, ...,\n",
      "                                 2.54972018e-02, -2.02845447e-04,  3.01641598e-03],\n",
      "                               ...,\n",
      "                               [-8.60792061e-04,  4.34997156e-02, -7.39886165e-02, ...,\n",
      "                                 2.03824028e-01, -1.78758334e-02,  2.97487322e-02],\n",
      "                               [-1.12354495e-02,  4.24701691e+00, -6.84358692e+00, ...,\n",
      "                                 1.71849594e+01,  9.37838182e-02,  1.86163986e+00],\n",
      "                               [-5.25481720e-03,  1.07134695e+01, -2.34157734e+01, ...,\n",
      "                                 4.41168518e+01, -6.70352876e-02,  5.57449389e+00]]]],            dtype=float32),\n",
      "            },\n",
      "            conv2: {\n",
      "                bias: DeviceArray([-9.7046249e-02, -6.9683731e-02,  3.5376744e-03,\n",
      "                              5.0173616e-03, -1.0626161e-01, -4.5352045e-02,\n",
      "                             -1.1883819e-01,  5.7866156e-02,  1.4674446e-01,\n",
      "                              5.4852513e-04,  4.4969794e-01,  1.5222478e-01,\n",
      "                             -1.8395215e-02,  3.9681798e-01,  3.3548560e-02,\n",
      "                              5.7771182e-01], dtype=float32),\n",
      "                kernel: DeviceArray([[[[-1.40316486e-02, -9.90628079e-03,  2.95359036e-03, ...,\n",
      "                                 4.47910205e-02,  3.50679131e-03,  7.88182765e-02],\n",
      "                               [-8.61583900e+00, -5.58956003e+00,  3.33786011e-02, ...,\n",
      "                                 3.37026596e+01,  2.82910991e+00,  4.70210495e+01],\n",
      "                               [-1.27482224e+00, -8.64092886e-01,  9.69774835e-03, ...,\n",
      "                                 4.80663824e+00,  3.61168772e-01,  7.30025339e+00],\n",
      "                               ...,\n",
      "                               [-2.95706673e+01, -1.95878582e+01,  1.63372204e-01, ...,\n",
      "                                 1.19430878e+02,  9.86618900e+00,  1.65150574e+02],\n",
      "                               [-5.92841730e-02, -4.71086577e-02,  1.99455442e-03, ...,\n",
      "                                 3.53357717e-02,  1.54560776e-02,  3.94245684e-01],\n",
      "                               [-4.66142797e+00, -3.09446239e+00,  1.25380820e-02, ...,\n",
      "                                 1.91662006e+01,  1.59504044e+00,  2.61043949e+01]],\n",
      "                \n",
      "                              [[-1.43748401e-02, -1.00616226e-02,  4.05793311e-03, ...,\n",
      "                                 4.80270870e-02,  4.39285114e-03,  8.14972669e-02],\n",
      "                               [-8.57443047e+00, -5.70134974e+00,  1.96854457e-01, ...,\n",
      "                                 3.30459824e+01,  2.77567363e+00,  4.70822906e+01],\n",
      "                               [-1.38182437e+00, -9.98995185e-01,  1.10159129e-01, ...,\n",
      "                                 5.71113777e+00,  4.26420003e-01,  8.29232502e+00],\n",
      "                               ...,\n",
      "                               [-2.97374458e+01, -2.00234413e+01,  5.03842413e-01, ...,\n",
      "                                 1.17091835e+02,  9.69321442e+00,  1.66648804e+02],\n",
      "                               [-1.25703653e-02, -4.71107699e-02,  5.99778667e-02, ...,\n",
      "                                 2.47952472e-02,  1.46609126e-03,  2.73676425e-01],\n",
      "                               [-4.94310856e+00, -3.26651621e+00,  1.11950152e-02, ...,\n",
      "                                 2.00518894e+01,  1.69673800e+00,  2.76679745e+01]],\n",
      "                \n",
      "                              [[-1.43689625e-02, -9.88647342e-03,  3.50664463e-03, ...,\n",
      "                                 4.73690368e-02,  4.38434165e-03,  8.07134211e-02],\n",
      "                               [-8.27159882e+00, -5.57195616e+00,  2.60777265e-01, ...,\n",
      "                                 3.17974358e+01,  2.59226179e+00,  4.55725174e+01],\n",
      "                               [-1.38822353e+00, -9.48944509e-01,  4.17081751e-02, ...,\n",
      "                                 5.49432135e+00,  3.58493507e-01,  7.91584110e+00],\n",
      "                               ...,\n",
      "                               [-2.87333279e+01, -1.97924938e+01,  9.49255288e-01, ...,\n",
      "                                 1.12363182e+02,  9.18326855e+00,  1.62209381e+02],\n",
      "                               [-9.23050568e-03, -7.88472593e-03,  3.66828474e-03, ...,\n",
      "                                 2.82957926e-02,  1.15200155e-03,  6.54378310e-02],\n",
      "                               [-4.88435507e+00, -3.30018806e+00,  9.05107781e-02, ...,\n",
      "                                 1.94353008e+01,  1.55002856e+00,  2.74324036e+01]]],\n",
      "                \n",
      "                \n",
      "                             [[[-1.76711418e-02, -1.26262112e-02,  2.03301455e-03, ...,\n",
      "                                 7.18196258e-02,  6.30963454e-03,  1.03083976e-01],\n",
      "                               [-8.72907639e+00, -5.82967663e+00,  4.38490026e-02, ...,\n",
      "                                 3.53043900e+01,  2.97482514e+00,  4.90912132e+01],\n",
      "                               [-1.34555578e+00, -9.57344949e-01,  2.13878937e-02, ...,\n",
      "                                 5.37654877e+00,  4.01955307e-01,  8.09518528e+00],\n",
      "                               ...,\n",
      "                               [-2.93869705e+01, -2.01321907e+01,  1.50682241e-01, ...,\n",
      "                                 1.22609558e+02,  1.01774006e+01,  1.69737228e+02],\n",
      "                               [-6.34232312e-02, -5.17701209e-02,  3.10652936e-03, ...,\n",
      "                                 5.64102829e-02,  1.72067918e-02,  4.32667643e-01],\n",
      "                               [-4.62846327e+00, -3.19261575e+00,  2.27426197e-02, ...,\n",
      "                                 1.98092957e+01,  1.60441267e+00,  2.69563332e+01]],\n",
      "                \n",
      "                              [[-1.86413936e-02, -1.26720788e-02,  3.60508426e-03, ...,\n",
      "                                 7.35057071e-02,  7.10284803e-03,  1.05460584e-01],\n",
      "                               [-8.68004799e+00, -5.94947529e+00,  1.97152555e-01, ...,\n",
      "                                 3.46690750e+01,  2.93485379e+00,  4.92375946e+01],\n",
      "                               [-1.44446874e+00, -1.09874392e+00,  1.20893180e-01, ...,\n",
      "                                 6.25693798e+00,  4.51529026e-01,  9.15283775e+00],\n",
      "                               ...,\n",
      "                               [-2.95758533e+01, -2.05766182e+01,  4.62750196e-01, ...,\n",
      "                                 1.20148605e+02,  1.00656757e+01,  1.71340988e+02],\n",
      "                               [-1.70825217e-02, -5.17830476e-02,  5.96453212e-02, ...,\n",
      "                                 4.90665101e-02,  2.48158374e-03,  3.06286067e-01],\n",
      "                               [-4.88334942e+00, -3.37214303e+00,  2.06579398e-02, ...,\n",
      "                                 2.06834831e+01,  1.70205784e+00,  2.85802860e+01]],\n",
      "                \n",
      "                              [[-1.79643333e-02, -1.30273420e-02,  4.07707971e-03, ...,\n",
      "                                 7.18299970e-02,  7.15740491e-03,  1.03484377e-01],\n",
      "                               [-8.37286282e+00, -5.82060623e+00,  2.65599042e-01, ...,\n",
      "                                 3.33534737e+01,  2.77665186e+00,  4.76755180e+01],\n",
      "                               [-1.46836340e+00, -1.04699528e+00,  5.59140220e-02, ...,\n",
      "                                 6.03128147e+00,  3.92536700e-01,  8.74009514e+00],\n",
      "                               ...,\n",
      "                               [-2.86131954e+01, -2.03326073e+01,  8.80477130e-01, ...,\n",
      "                                 1.15298393e+02,  9.53629875e+00,  1.66858734e+02],\n",
      "                               [-1.27967354e-02, -1.18686892e-02,  4.92128311e-03, ...,\n",
      "                                 5.18312380e-02,  1.96192088e-03,  9.83185992e-02],\n",
      "                               [-4.83923531e+00, -3.40953779e+00,  9.99294743e-02, ...,\n",
      "                                 2.00059185e+01,  1.57658601e+00,  2.83591080e+01]]],\n",
      "                \n",
      "                \n",
      "                             [[[-1.69748385e-02, -1.25405537e-02,  3.84080922e-04, ...,\n",
      "                                 7.17106983e-02,  5.67386206e-03,  1.06682472e-01],\n",
      "                               [-8.42281151e+00, -5.83749390e+00,  1.13853579e-02, ...,\n",
      "                                 3.51316872e+01,  2.91960049e+00,  4.91425667e+01],\n",
      "                               [-1.30067635e+00, -9.35689390e-01,  4.04515723e-03, ...,\n",
      "                                 5.16238451e+00,  4.13622499e-01,  7.88656807e+00],\n",
      "                               ...,\n",
      "                               [-2.84245872e+01, -1.98594666e+01,  7.72957131e-02, ...,\n",
      "                                 1.20331215e+02,  9.76839256e+00,  1.67405350e+02],\n",
      "                               [-6.27711266e-02, -5.00500426e-02,  3.69799178e-04, ...,\n",
      "                                 5.59096150e-02,  1.62408818e-02,  4.19373602e-01],\n",
      "                               [-4.38975334e+00, -3.11614633e+00,  1.40786273e-02, ...,\n",
      "                                 1.92333546e+01,  1.58771920e+00,  2.62745876e+01]],\n",
      "                \n",
      "                              [[-1.78047307e-02, -1.29406787e-02,  8.69161391e-04, ...,\n",
      "                                 7.50047490e-02,  6.20618323e-03,  1.09810255e-01],\n",
      "                               [-8.37274647e+00, -5.95567274e+00,  1.44579217e-01, ...,\n",
      "                                 3.44022827e+01,  2.86456943e+00,  4.93150253e+01],\n",
      "                               [-1.41545677e+00, -1.07384109e+00,  9.80369821e-02, ...,\n",
      "                                 5.99477339e+00,  4.47777361e-01,  8.90516663e+00],\n",
      "                               ...,\n",
      "                               [-2.86573124e+01, -2.02881393e+01,  3.31801265e-01, ...,\n",
      "                                 1.17925186e+02,  9.72309494e+00,  1.69018753e+02],\n",
      "                               [-1.92237757e-02, -5.00541106e-02,  5.14242165e-02, ...,\n",
      "                                 4.78785262e-02,  2.86537525e-03,  3.00675839e-01],\n",
      "                               [-4.63134050e+00, -3.29678082e+00,  8.83557182e-03, ...,\n",
      "                                 1.99810810e+01,  1.64351189e+00,  2.78941441e+01]],\n",
      "                \n",
      "                              [[-1.61629207e-02, -1.32043930e-02,  1.13246811e-03, ...,\n",
      "                                 7.29106441e-02,  6.59494847e-03,  1.08731113e-01],\n",
      "                               [-8.11357498e+00, -5.82077980e+00,  1.92522779e-01, ...,\n",
      "                                 3.31039391e+01,  2.69702053e+00,  4.77642326e+01],\n",
      "                               [-1.44917488e+00, -1.01812696e+00,  2.76504848e-02, ...,\n",
      "                                 5.80432558e+00,  4.00888026e-01,  8.49254704e+00],\n",
      "                               ...,\n",
      "                               [-2.77595177e+01, -2.00354099e+01,  7.06546068e-01, ...,\n",
      "                                 1.13260010e+02,  9.23168087e+00,  1.64630966e+02],\n",
      "                               [-1.35420673e-02, -1.17906211e-02,  1.40818406e-03, ...,\n",
      "                                 4.78343479e-02,  1.72016642e-03,  9.86291543e-02],\n",
      "                               [-4.63455772e+00, -3.32821584e+00,  7.16107041e-02, ...,\n",
      "                                 1.93296490e+01,  1.50198936e+00,  2.76764393e+01]]]],            dtype=float32),\n",
      "            },\n",
      "        },\n",
      "    },\n",
      "})\n"
     ]
    }
   ],
   "source": [
    "print(gradients)"
   ]
  },
  {
   "cell_type": "code",
   "execution_count": 59,
   "id": "407f739e",
   "metadata": {},
   "outputs": [
    {
     "name": "stdout",
     "output_type": "stream",
     "text": [
      "39.8 ms ± 8.6 µs per loop (mean ± std. dev. of 7 runs, 10 loops each)\n"
     ]
    }
   ],
   "source": [
    "%timeit grad_fn(params, x_train[0:5000], y_train[0:5000])"
   ]
  },
  {
   "cell_type": "markdown",
   "id": "ab6f0fe6",
   "metadata": {},
   "source": [
    "That timing is comparable to tensorflow before `tf.function`.  But, we need to JIT here too:"
   ]
  },
  {
   "cell_type": "code",
   "execution_count": 60,
   "id": "c990c357",
   "metadata": {},
   "outputs": [
    {
     "name": "stdout",
     "output_type": "stream",
     "text": [
      "540 µs ± 64.6 µs per loop (mean ± std. dev. of 7 runs, 1 loop each)\n"
     ]
    }
   ],
   "source": [
    "grad_fn = jit(grad_fn)\n",
    "%timeit grad_fn(params, x_train[0:5000], y_train[0:5000])"
   ]
  },
  {
   "cell_type": "markdown",
   "id": "7f2a71cc",
   "metadata": {},
   "source": [
    "That timing is again comparable to tensorflow + JIT!"
   ]
  },
  {
   "cell_type": "markdown",
   "id": "1fb59b5e",
   "metadata": {},
   "source": [
    "\n",
    "## Reduced Precision in JAX\n",
    "\n",
    "To use reduced precision in JAX is easy. Since everything is functional, you can typically cast your inputs to a lower precision and it will work:"
   ]
  },
  {
   "cell_type": "code",
   "execution_count": 110,
   "id": "6f648309",
   "metadata": {},
   "outputs": [],
   "source": [
    "x_train_reduced = x_train[0:5000].astype(\"bfloat16\")\n",
    "y_reduced = y_train[0:5000].astype(\"bfloat16\")\n",
    "params_reduced = tree_util.tree_map(lambda x : x.astype(\"bfloat16\"), params)"
   ]
  },
  {
   "cell_type": "code",
   "execution_count": 111,
   "id": "3f114c88",
   "metadata": {},
   "outputs": [
    {
     "data": {
      "text/plain": [
       "DeviceArray(176.05377, dtype=float32)"
      ]
     },
     "execution_count": 111,
     "metadata": {},
     "output_type": "execute_result"
    }
   ],
   "source": [
    "compute_loss(params_reduced, x_train_reduced, y_reduced)"
   ]
  },
  {
   "cell_type": "code",
   "execution_count": 112,
   "id": "613a864b",
   "metadata": {},
   "outputs": [
    {
     "name": "stdout",
     "output_type": "stream",
     "text": [
      "41 ms ± 2.51 ms per loop (mean ± std. dev. of 7 runs, 1 loop each)\n"
     ]
    }
   ],
   "source": [
    "%timeit grad_fn(params_reduced, x_train_reduced, y_reduced)"
   ]
  }
 ],
 "metadata": {
  "kernelspec": {
   "display_name": "Python 3 (ipykernel)",
   "language": "python",
   "name": "python3"
  },
  "language_info": {
   "codemirror_mode": {
    "name": "ipython",
    "version": 3
   },
   "file_extension": ".py",
   "mimetype": "text/x-python",
   "name": "python",
   "nbconvert_exporter": "python",
   "pygments_lexer": "ipython3",
   "version": "3.8.13"
  }
 },
 "nbformat": 4,
 "nbformat_minor": 5
}
