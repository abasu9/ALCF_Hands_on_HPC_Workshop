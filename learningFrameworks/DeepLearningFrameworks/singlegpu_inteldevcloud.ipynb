{
 "cells": [
  {
   "cell_type": "code",
   "execution_count": null,
   "id": "461518a4-2851-4b7e-8539-7e393e6e6b44",
   "metadata": {},
   "outputs": [],
   "source": [
    "import torch\n",
    "\n",
    "print(f\"PyTorch Version: {torch.__version__}\")\n",
    "\n",
    "device = torch.device('xpu' if torch.xpu.is_available() else 'cpu')\n",
    "print(f\"Using device: {device}\")\n",
    "import torchvision\n",
    "import torchvision.transforms as transforms"
   ]
  },
  {
   "cell_type": "markdown",
   "id": "eacb7c81",
   "metadata": {},
   "source": [
    "Initializing a simple convolutional network"
   ]
  },
  {
   "cell_type": "code",
   "execution_count": null,
   "id": "77e2eb31-4675-42b9-8826-48441546aa37",
   "metadata": {},
   "outputs": [],
   "source": [
    "#scripts based on https://github.com/argonne-lcf/ALCF_Hands_on_HPC_Workshop/blob/bd0d804c2701107840d6a3343200943bb13c8e43/learningFrameworks/PyTorch.ipynb\n",
    "\n",
    "class ResidualBlock(torch.nn.Module):\n",
    "\n",
    "    def __init__(self):\n",
    "        # Call the parent class's __init__ to make this class functional with training loops:\n",
    "        super().__init__()\n",
    "        self.conv1  = torch.nn.Conv2d(in_channels=16, out_channels=16, kernel_size=[3,3], padding=[1,1])\n",
    "        self.conv2  = torch.nn.Conv2d(in_channels=16, out_channels=16, kernel_size=[3,3], padding=[1,1])\n",
    "\n",
    "    def forward(self, inputs):\n",
    "    \n",
    "        # Apply the first weights + activation:\n",
    "        outputs = torch.nn.functional.relu(self.conv1(inputs))\n",
    "        \n",
    "        # Apply the second weights:\n",
    "        outputs = self.conv2(outputs)\n",
    "\n",
    "        # Perform the residual step:\n",
    "        outputs = outputs + inputs\n",
    "\n",
    "        # Second activation layer:\n",
    "        return torch.nn.functional.relu(outputs)\n",
    "\n",
    "class MyModel(torch.nn.Module):\n",
    "    \n",
    "    def __init__(self):\n",
    "        # Call the parent class's __init__ to make this class functional with training loops:\n",
    "        super().__init__()\n",
    "        \n",
    "        self.conv_init = torch.nn.Conv2d(in_channels=3, out_channels=16, kernel_size=1)\n",
    "        \n",
    "        self.res1 = ResidualBlock()\n",
    "        \n",
    "        self.res2 = ResidualBlock()\n",
    "        \n",
    "        # 10 filters, one for each possible label (classification):\n",
    "        self.conv_final = torch.nn.Conv2d(in_channels=16, out_channels=10, kernel_size=1)\n",
    "        \n",
    "        self.pool = torch.nn.AvgPool2d(32,32)\n",
    "        \n",
    "    def forward(self, inputs):\n",
    "        \n",
    "        x = self.conv_init(inputs)\n",
    "        \n",
    "        x = self.res1(x)\n",
    "        \n",
    "        x = self.res2(x)\n",
    "        \n",
    "        x = self.conv_final(x)\n",
    "        \n",
    "        return self.pool(x).reshape((-1,10))\n",
    "\n",
    "\n",
    "model = MyModel()\n",
    "\n",
    "print(model)\n",
    "_num_trainable_parameters = sum(p.numel() for p in model.parameters() if p.requires_grad)\n",
    "print(\"Number of Trainable Parameters: {:d}\".format(_num_trainable_parameters))"
   ]
  },
  {
   "cell_type": "code",
   "execution_count": null,
   "id": "0127c7f0-041e-4844-be01-d16974175b10",
   "metadata": {},
   "outputs": [],
   "source": [
    "#Unfortunately there seems to be an SSL error as of testing this on 10/2024\n",
    "#An unsafe workaround for a SSL cert error is to disable the certificate check:\n",
    "#import ssl\n",
    "#ssl._create_default_https_context = ssl._create_unverified_context\n",
    "\n",
    "#or download manually and unpack:\n",
    "#https://www.cs.toronto.edu/~kriz/cifar-10-python.tar.gz\n",
    "\n",
    "transform = transforms.Compose(\n",
    "    [transforms.ToTensor(),\n",
    "     transforms.Normalize((0.5, 0.5, 0.5), (0.5, 0.5, 0.5))])\n",
    "\n",
    "imagenet_data = torchvision.datasets.CIFAR10('cifar10', download=True,train=True,transform=transform)\n",
    "data_loader = torch.utils.data.DataLoader(imagenet_data,\n",
    "                                          batch_size=4,\n",
    "                                          shuffle=True,\n",
    "                                          num_workers=2)\n",
    "\n"
   ]
  },
  {
   "cell_type": "code",
   "execution_count": null,
   "id": "d737ca38-98d4-4a9f-a06a-3247adc0a9e2",
   "metadata": {},
   "outputs": [],
   "source": [
    "%%time\n",
    "def gradient_step():\n",
    "    img, label = next(iter(data_loader))\n",
    "    logits = model(img)\n",
    "    loss = torch.nn.functional.cross_entropy(logits, label.flatten())\n",
    "    gradients = torch.autograd.grad(loss, model.parameters())\n",
    "    return gradients\n",
    "\n",
    "gradient_step()\n",
    "\"\""
   ]
  },
  {
   "cell_type": "markdown",
   "id": "776d7acf-3035-4be0-87e6-505c94f1a99c",
   "metadata": {},
   "source": [
    "We need to install networkx to be able to use torch.compile with this model. If not installed run below:"
   ]
  },
  {
   "cell_type": "code",
   "execution_count": null,
   "id": "36552f27-4ea4-446b-85e6-0a4df79cd4b0",
   "metadata": {},
   "outputs": [],
   "source": [
    "pip install networkx"
   ]
  },
  {
   "cell_type": "code",
   "execution_count": 10,
   "id": "c32c9a2b-1ad0-4798-b476-c7eb2867eb67",
   "metadata": {},
   "outputs": [],
   "source": [
    "#Compiled version of the model\n",
    "model_c = torch.compile(model)"
   ]
  },
  {
   "cell_type": "code",
   "execution_count": null,
   "id": "2e8a4cee-7587-4724-bd88-dddb2d8cb620",
   "metadata": {},
   "outputs": [],
   "source": [
    "%%time\n",
    "def gradient_step_c():\n",
    "    img, label = next(iter(data_loader))\n",
    "    logits = model_c(img)\n",
    "    loss = torch.nn.functional.cross_entropy(logits, label.flatten())\n",
    "    gradients = torch.autograd.grad(loss, model.parameters())\n",
    "    return gradients\n",
    "gradient_step_c()\n",
    "\"\""
   ]
  }
 ],
 "metadata": {
  "kernelspec": {
   "display_name": "Python 3",
   "language": "python",
   "name": "python3"
  },
  "language_info": {
   "codemirror_mode": {
    "name": "ipython",
    "version": 3
   },
   "file_extension": ".py",
   "mimetype": "text/x-python",
   "name": "python",
   "nbconvert_exporter": "python",
   "pygments_lexer": "ipython3",
   "version": "3.9.6"
  }
 },
 "nbformat": 4,
 "nbformat_minor": 5
}
