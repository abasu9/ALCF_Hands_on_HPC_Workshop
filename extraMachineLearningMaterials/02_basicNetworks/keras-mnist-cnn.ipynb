{
 "cells": [
  {
   "cell_type": "markdown",
   "metadata": {},
   "source": [
    "# MNIST handwritten digits classification with CNNs\n",
    "\n",
    "In this notebook, we'll train a convolutional neural network (CNN, ConvNet) to classify MNIST digits using Keras (with Tensorflow as the compute backend).  Keras version $\\ge$ 2 is required. \n",
    "\n",
    "First, the needed imports. Note that there are a few new layers compared to the MNIST-MLP notebook: Flatten, MaxPooling2D, Conv2D."
   ]
  },
  {
   "cell_type": "code",
   "execution_count": 1,
   "metadata": {},
   "outputs": [
    {
     "name": "stderr",
     "output_type": "stream",
     "text": [
      "Using TensorFlow backend.\n"
     ]
    },
    {
     "name": "stdout",
     "output_type": "stream",
     "text": [
      "Using Keras version: 2.2.4 backend: tensorflow\n"
     ]
    }
   ],
   "source": [
    "%matplotlib inline\n",
    "\n",
    "from keras.models import Sequential\n",
    "from keras.layers import Dense, Activation, Dropout, Flatten, MaxPooling2D\n",
    "from keras.layers.convolutional import Conv2D \n",
    "from keras.utils import np_utils\n",
    "from keras import backend as K\n",
    "\n",
    "from distutils.version import LooseVersion as LV\n",
    "from keras import __version__\n",
    "\n",
    "from IPython.display import SVG, Image\n",
    "from keras.utils.vis_utils import model_to_dot\n",
    "\n",
    "import numpy as np\n",
    "import matplotlib.pyplot as plt\n",
    "import seaborn as sns\n",
    "sns.set()\n",
    "\n",
    "print('Using Keras version:', __version__, 'backend:', K.backend())\n",
    "assert(LV(__version__) >= LV(\"2.0.0\"))"
   ]
  },
  {
   "cell_type": "markdown",
   "metadata": {},
   "source": [
    "Let's load the MNIST or Fashion-MNIST dataset."
   ]
  },
  {
   "cell_type": "code",
   "execution_count": 2,
   "metadata": {},
   "outputs": [
    {
     "name": "stdout",
     "output_type": "stream",
     "text": [
      "\n",
      "MNIST data loaded: train: 60000 test: 10000\n",
      "X_train: (60000, 28, 28)\n",
      "y_train: (60000,)\n",
      "Y_train: (60000, 10)\n"
     ]
    }
   ],
   "source": [
    "from keras.datasets import mnist, fashion_mnist\n",
    "(X_train, y_train), (X_test, y_test) = mnist.load_data()\n",
    "\n",
    "nb_classes = 10\n",
    "\n",
    "X_train = X_train.astype('float32')\n",
    "X_test = X_test.astype('float32')\n",
    "X_train /= 255\n",
    "X_test /= 255\n",
    "\n",
    "# one-hot encoding:\n",
    "Y_train = np_utils.to_categorical(y_train, nb_classes)\n",
    "Y_test = np_utils.to_categorical(y_test, nb_classes)\n",
    "\n",
    "print()\n",
    "print('MNIST data loaded: train:',len(X_train),'test:',len(X_test))\n",
    "print('X_train:', X_train.shape)\n",
    "print('y_train:', y_train.shape)\n",
    "print('Y_train:', Y_train.shape)"
   ]
  },
  {
   "cell_type": "markdown",
   "metadata": {},
   "source": [
    "We'll have to do a bit of tensor manipulation:"
   ]
  },
  {
   "cell_type": "code",
   "execution_count": 3,
   "metadata": {},
   "outputs": [
    {
     "name": "stdout",
     "output_type": "stream",
     "text": [
      "X_train: (60000, 28, 28, 1)\n",
      "X_test: (10000, 28, 28, 1)\n"
     ]
    }
   ],
   "source": [
    "# input image dimensions\n",
    "img_rows, img_cols = 28, 28\n",
    "\n",
    "X_train = X_train.reshape(X_train.shape[0], img_rows, img_cols, 1)\n",
    "X_test = X_test.reshape(X_test.shape[0], img_rows, img_cols, 1)\n",
    "input_shape = (img_rows, img_cols, 1)\n",
    "    \n",
    "print('X_train:', X_train.shape)\n",
    "print('X_test:', X_test.shape)"
   ]
  },
  {
   "cell_type": "markdown",
   "metadata": {},
   "source": [
    "## Initialization\n",
    "\n",
    "Now we are ready to create a convolutional model.\n",
    "\n",
    " * The `Convolution2D` layers operate on 2D matrices so we input the digit images directly to the model.  \n",
    " * The `MaxPooling2D` layer reduces the spatial dimensions, that is, makes the image smaller.\n",
    " * The `Flatten` layer flattens the 2D matrices into vectors, so we can then switch to  `Dense` layers as in the MLP model. \n",
    "\n",
    "See https://keras.io/layers/convolutional/, https://keras.io/layers/pooling/ for more information."
   ]
  },
  {
   "cell_type": "code",
   "execution_count": 4,
   "metadata": {},
   "outputs": [
    {
     "name": "stdout",
     "output_type": "stream",
     "text": [
      "_________________________________________________________________\n",
      "Layer (type)                 Output Shape              Param #   \n",
      "=================================================================\n",
      "conv2d_1 (Conv2D)            (None, 26, 26, 32)        320       \n",
      "_________________________________________________________________\n",
      "conv2d_2 (Conv2D)            (None, 24, 24, 32)        9248      \n",
      "_________________________________________________________________\n",
      "max_pooling2d_1 (MaxPooling2 (None, 12, 12, 32)        0         \n",
      "_________________________________________________________________\n",
      "dropout_1 (Dropout)          (None, 12, 12, 32)        0         \n",
      "_________________________________________________________________\n",
      "flatten_1 (Flatten)          (None, 4608)              0         \n",
      "_________________________________________________________________\n",
      "dense_1 (Dense)              (None, 128)               589952    \n",
      "_________________________________________________________________\n",
      "dropout_2 (Dropout)          (None, 128)               0         \n",
      "_________________________________________________________________\n",
      "dense_2 (Dense)              (None, 10)                1290      \n",
      "=================================================================\n",
      "Total params: 600,810\n",
      "Trainable params: 600,810\n",
      "Non-trainable params: 0\n",
      "_________________________________________________________________\n",
      "None\n"
     ]
    }
   ],
   "source": [
    "# number of convolutional filters to use\n",
    "nb_filters = 32\n",
    "# convolution kernel size\n",
    "kernel_size = (3, 3)\n",
    "# size of pooling area for max pooling\n",
    "pool_size = (2, 2)\n",
    "\n",
    "model = Sequential()\n",
    "\n",
    "model.add(Conv2D(nb_filters, kernel_size,\n",
    "                 padding='valid',\n",
    "                 input_shape=input_shape,\n",
    "                 activation='relu'))\n",
    "model.add(Conv2D(nb_filters, kernel_size,\n",
    "                 activation='relu'))\n",
    "model.add(MaxPooling2D(pool_size=pool_size))\n",
    "model.add(Dropout(0.25))\n",
    "\n",
    "model.add(Flatten())\n",
    "model.add(Dense(units=128, activation='relu'))\n",
    "model.add(Dropout(0.5))\n",
    "model.add(Dense(units=nb_classes, activation='softmax'))\n",
    "\n",
    "model.compile(loss='categorical_crossentropy',\n",
    "              optimizer='rmsprop',\n",
    "              metrics=['accuracy'])\n",
    "\n",
    "print(model.summary())"
   ]
  },
  {
   "cell_type": "code",
   "execution_count": 5,
   "metadata": {},
   "outputs": [
    {
     "data": {
      "image/svg+xml": [
       "<svg height=\"693pt\" viewBox=\"0.00 0.00 393.93 693.00\" width=\"394pt\" xmlns=\"http://www.w3.org/2000/svg\" xmlns:xlink=\"http://www.w3.org/1999/xlink\">\n",
       "<g class=\"graph\" id=\"graph0\" transform=\"scale(1 1) rotate(0) translate(4 689)\">\n",
       "<title>G</title>\n",
       "<polygon fill=\"white\" points=\"-4,4 -4,-689 389.928,-689 389.928,4 -4,4\" stroke=\"none\"/>\n",
       "<!-- 112251025952 -->\n",
       "<g class=\"node\" id=\"node1\"><title>112251025952</title>\n",
       "<polygon fill=\"none\" points=\"42.7793,-567.5 42.7793,-611.5 343.148,-611.5 343.148,-567.5 42.7793,-567.5\" stroke=\"black\"/>\n",
       "<text font-family=\"Times,serif\" font-size=\"14.00\" text-anchor=\"middle\" x=\"105.805\" y=\"-585.3\">conv2d_1: Conv2D</text>\n",
       "<polyline fill=\"none\" points=\"168.831,-567.5 168.831,-611.5 \" stroke=\"black\"/>\n",
       "<text font-family=\"Times,serif\" font-size=\"14.00\" text-anchor=\"middle\" x=\"196.666\" y=\"-596.3\">input:</text>\n",
       "<polyline fill=\"none\" points=\"168.831,-589.5 224.5,-589.5 \" stroke=\"black\"/>\n",
       "<text font-family=\"Times,serif\" font-size=\"14.00\" text-anchor=\"middle\" x=\"196.666\" y=\"-574.3\">output:</text>\n",
       "<polyline fill=\"none\" points=\"224.5,-567.5 224.5,-611.5 \" stroke=\"black\"/>\n",
       "<text font-family=\"Times,serif\" font-size=\"14.00\" text-anchor=\"middle\" x=\"283.824\" y=\"-596.3\">(None, 28, 28, 1)</text>\n",
       "<polyline fill=\"none\" points=\"224.5,-589.5 343.148,-589.5 \" stroke=\"black\"/>\n",
       "<text font-family=\"Times,serif\" font-size=\"14.00\" text-anchor=\"middle\" x=\"283.824\" y=\"-574.3\">(None, 26, 26, 32)</text>\n",
       "</g>\n",
       "<!-- 112251023600 -->\n",
       "<g class=\"node\" id=\"node2\"><title>112251023600</title>\n",
       "<polygon fill=\"none\" points=\"42.7793,-486.5 42.7793,-530.5 343.148,-530.5 343.148,-486.5 42.7793,-486.5\" stroke=\"black\"/>\n",
       "<text font-family=\"Times,serif\" font-size=\"14.00\" text-anchor=\"middle\" x=\"105.805\" y=\"-504.3\">conv2d_2: Conv2D</text>\n",
       "<polyline fill=\"none\" points=\"168.831,-486.5 168.831,-530.5 \" stroke=\"black\"/>\n",
       "<text font-family=\"Times,serif\" font-size=\"14.00\" text-anchor=\"middle\" x=\"196.666\" y=\"-515.3\">input:</text>\n",
       "<polyline fill=\"none\" points=\"168.831,-508.5 224.5,-508.5 \" stroke=\"black\"/>\n",
       "<text font-family=\"Times,serif\" font-size=\"14.00\" text-anchor=\"middle\" x=\"196.666\" y=\"-493.3\">output:</text>\n",
       "<polyline fill=\"none\" points=\"224.5,-486.5 224.5,-530.5 \" stroke=\"black\"/>\n",
       "<text font-family=\"Times,serif\" font-size=\"14.00\" text-anchor=\"middle\" x=\"283.824\" y=\"-515.3\">(None, 26, 26, 32)</text>\n",
       "<polyline fill=\"none\" points=\"224.5,-508.5 343.148,-508.5 \" stroke=\"black\"/>\n",
       "<text font-family=\"Times,serif\" font-size=\"14.00\" text-anchor=\"middle\" x=\"283.824\" y=\"-493.3\">(None, 24, 24, 32)</text>\n",
       "</g>\n",
       "<!-- 112251025952&#45;&gt;112251023600 -->\n",
       "<g class=\"edge\" id=\"edge2\"><title>112251025952-&gt;112251023600</title>\n",
       "<path d=\"M192.964,-567.329C192.964,-559.183 192.964,-549.699 192.964,-540.797\" fill=\"none\" stroke=\"black\"/>\n",
       "<polygon fill=\"black\" points=\"196.464,-540.729 192.964,-530.729 189.464,-540.729 196.464,-540.729\" stroke=\"black\"/>\n",
       "</g>\n",
       "<!-- 112251061528 -->\n",
       "<g class=\"node\" id=\"node3\"><title>112251061528</title>\n",
       "<polygon fill=\"none\" points=\"0,-405.5 0,-449.5 385.928,-449.5 385.928,-405.5 0,-405.5\" stroke=\"black\"/>\n",
       "<text font-family=\"Times,serif\" font-size=\"14.00\" text-anchor=\"middle\" x=\"105.805\" y=\"-423.3\">max_pooling2d_1: MaxPooling2D</text>\n",
       "<polyline fill=\"none\" points=\"211.61,-405.5 211.61,-449.5 \" stroke=\"black\"/>\n",
       "<text font-family=\"Times,serif\" font-size=\"14.00\" text-anchor=\"middle\" x=\"239.445\" y=\"-434.3\">input:</text>\n",
       "<polyline fill=\"none\" points=\"211.61,-427.5 267.279,-427.5 \" stroke=\"black\"/>\n",
       "<text font-family=\"Times,serif\" font-size=\"14.00\" text-anchor=\"middle\" x=\"239.445\" y=\"-412.3\">output:</text>\n",
       "<polyline fill=\"none\" points=\"267.279,-405.5 267.279,-449.5 \" stroke=\"black\"/>\n",
       "<text font-family=\"Times,serif\" font-size=\"14.00\" text-anchor=\"middle\" x=\"326.604\" y=\"-434.3\">(None, 24, 24, 32)</text>\n",
       "<polyline fill=\"none\" points=\"267.279,-427.5 385.928,-427.5 \" stroke=\"black\"/>\n",
       "<text font-family=\"Times,serif\" font-size=\"14.00\" text-anchor=\"middle\" x=\"326.604\" y=\"-412.3\">(None, 12, 12, 32)</text>\n",
       "</g>\n",
       "<!-- 112251023600&#45;&gt;112251061528 -->\n",
       "<g class=\"edge\" id=\"edge3\"><title>112251023600-&gt;112251061528</title>\n",
       "<path d=\"M192.964,-486.329C192.964,-478.183 192.964,-468.699 192.964,-459.797\" fill=\"none\" stroke=\"black\"/>\n",
       "<polygon fill=\"black\" points=\"196.464,-459.729 192.964,-449.729 189.464,-459.729 196.464,-459.729\" stroke=\"black\"/>\n",
       "</g>\n",
       "<!-- 112251231088 -->\n",
       "<g class=\"node\" id=\"node4\"><title>112251231088</title>\n",
       "<polygon fill=\"none\" points=\"42.0034,-324.5 42.0034,-368.5 343.924,-368.5 343.924,-324.5 42.0034,-324.5\" stroke=\"black\"/>\n",
       "<text font-family=\"Times,serif\" font-size=\"14.00\" text-anchor=\"middle\" x=\"105.805\" y=\"-342.3\">dropout_1: Dropout</text>\n",
       "<polyline fill=\"none\" points=\"169.607,-324.5 169.607,-368.5 \" stroke=\"black\"/>\n",
       "<text font-family=\"Times,serif\" font-size=\"14.00\" text-anchor=\"middle\" x=\"197.441\" y=\"-353.3\">input:</text>\n",
       "<polyline fill=\"none\" points=\"169.607,-346.5 225.276,-346.5 \" stroke=\"black\"/>\n",
       "<text font-family=\"Times,serif\" font-size=\"14.00\" text-anchor=\"middle\" x=\"197.441\" y=\"-331.3\">output:</text>\n",
       "<polyline fill=\"none\" points=\"225.276,-324.5 225.276,-368.5 \" stroke=\"black\"/>\n",
       "<text font-family=\"Times,serif\" font-size=\"14.00\" text-anchor=\"middle\" x=\"284.6\" y=\"-353.3\">(None, 12, 12, 32)</text>\n",
       "<polyline fill=\"none\" points=\"225.276,-346.5 343.924,-346.5 \" stroke=\"black\"/>\n",
       "<text font-family=\"Times,serif\" font-size=\"14.00\" text-anchor=\"middle\" x=\"284.6\" y=\"-331.3\">(None, 12, 12, 32)</text>\n",
       "</g>\n",
       "<!-- 112251061528&#45;&gt;112251231088 -->\n",
       "<g class=\"edge\" id=\"edge4\"><title>112251061528-&gt;112251231088</title>\n",
       "<path d=\"M192.964,-405.329C192.964,-397.183 192.964,-387.699 192.964,-378.797\" fill=\"none\" stroke=\"black\"/>\n",
       "<polygon fill=\"black\" points=\"196.464,-378.729 192.964,-368.729 189.464,-378.729 196.464,-378.729\" stroke=\"black\"/>\n",
       "</g>\n",
       "<!-- 112251061136 -->\n",
       "<g class=\"node\" id=\"node5\"><title>112251061136</title>\n",
       "<polygon fill=\"none\" points=\"50.1724,-243.5 50.1724,-287.5 335.755,-287.5 335.755,-243.5 50.1724,-243.5\" stroke=\"black\"/>\n",
       "<text font-family=\"Times,serif\" font-size=\"14.00\" text-anchor=\"middle\" x=\"105.805\" y=\"-261.3\">flatten_1: Flatten</text>\n",
       "<polyline fill=\"none\" points=\"161.438,-243.5 161.438,-287.5 \" stroke=\"black\"/>\n",
       "<text font-family=\"Times,serif\" font-size=\"14.00\" text-anchor=\"middle\" x=\"189.272\" y=\"-272.3\">input:</text>\n",
       "<polyline fill=\"none\" points=\"161.438,-265.5 217.107,-265.5 \" stroke=\"black\"/>\n",
       "<text font-family=\"Times,serif\" font-size=\"14.00\" text-anchor=\"middle\" x=\"189.272\" y=\"-250.3\">output:</text>\n",
       "<polyline fill=\"none\" points=\"217.107,-243.5 217.107,-287.5 \" stroke=\"black\"/>\n",
       "<text font-family=\"Times,serif\" font-size=\"14.00\" text-anchor=\"middle\" x=\"276.431\" y=\"-272.3\">(None, 12, 12, 32)</text>\n",
       "<polyline fill=\"none\" points=\"217.107,-265.5 335.755,-265.5 \" stroke=\"black\"/>\n",
       "<text font-family=\"Times,serif\" font-size=\"14.00\" text-anchor=\"middle\" x=\"276.431\" y=\"-250.3\">(None, 4608)</text>\n",
       "</g>\n",
       "<!-- 112251231088&#45;&gt;112251061136 -->\n",
       "<g class=\"edge\" id=\"edge5\"><title>112251231088-&gt;112251061136</title>\n",
       "<path d=\"M192.964,-324.329C192.964,-316.183 192.964,-306.699 192.964,-297.797\" fill=\"none\" stroke=\"black\"/>\n",
       "<polygon fill=\"black\" points=\"196.464,-297.729 192.964,-287.729 189.464,-297.729 196.464,-297.729\" stroke=\"black\"/>\n",
       "</g>\n",
       "<!-- 112251230416 -->\n",
       "<g class=\"node\" id=\"node6\"><title>112251230416</title>\n",
       "<polygon fill=\"none\" points=\"67.6792,-162.5 67.6792,-206.5 318.249,-206.5 318.249,-162.5 67.6792,-162.5\" stroke=\"black\"/>\n",
       "<text font-family=\"Times,serif\" font-size=\"14.00\" text-anchor=\"middle\" x=\"119.805\" y=\"-180.3\">dense_1: Dense</text>\n",
       "<polyline fill=\"none\" points=\"171.931,-162.5 171.931,-206.5 \" stroke=\"black\"/>\n",
       "<text font-family=\"Times,serif\" font-size=\"14.00\" text-anchor=\"middle\" x=\"199.766\" y=\"-191.3\">input:</text>\n",
       "<polyline fill=\"none\" points=\"171.931,-184.5 227.6,-184.5 \" stroke=\"black\"/>\n",
       "<text font-family=\"Times,serif\" font-size=\"14.00\" text-anchor=\"middle\" x=\"199.766\" y=\"-169.3\">output:</text>\n",
       "<polyline fill=\"none\" points=\"227.6,-162.5 227.6,-206.5 \" stroke=\"black\"/>\n",
       "<text font-family=\"Times,serif\" font-size=\"14.00\" text-anchor=\"middle\" x=\"272.924\" y=\"-191.3\">(None, 4608)</text>\n",
       "<polyline fill=\"none\" points=\"227.6,-184.5 318.249,-184.5 \" stroke=\"black\"/>\n",
       "<text font-family=\"Times,serif\" font-size=\"14.00\" text-anchor=\"middle\" x=\"272.924\" y=\"-169.3\">(None, 128)</text>\n",
       "</g>\n",
       "<!-- 112251061136&#45;&gt;112251230416 -->\n",
       "<g class=\"edge\" id=\"edge6\"><title>112251061136-&gt;112251230416</title>\n",
       "<path d=\"M192.964,-243.329C192.964,-235.183 192.964,-225.699 192.964,-216.797\" fill=\"none\" stroke=\"black\"/>\n",
       "<polygon fill=\"black\" points=\"196.464,-216.729 192.964,-206.729 189.464,-216.729 196.464,-216.729\" stroke=\"black\"/>\n",
       "</g>\n",
       "<!-- 112298660752 -->\n",
       "<g class=\"node\" id=\"node7\"><title>112298660752</title>\n",
       "<polygon fill=\"none\" points=\"59.5034,-81.5 59.5034,-125.5 326.424,-125.5 326.424,-81.5 59.5034,-81.5\" stroke=\"black\"/>\n",
       "<text font-family=\"Times,serif\" font-size=\"14.00\" text-anchor=\"middle\" x=\"123.305\" y=\"-99.3\">dropout_2: Dropout</text>\n",
       "<polyline fill=\"none\" points=\"187.107,-81.5 187.107,-125.5 \" stroke=\"black\"/>\n",
       "<text font-family=\"Times,serif\" font-size=\"14.00\" text-anchor=\"middle\" x=\"214.941\" y=\"-110.3\">input:</text>\n",
       "<polyline fill=\"none\" points=\"187.107,-103.5 242.776,-103.5 \" stroke=\"black\"/>\n",
       "<text font-family=\"Times,serif\" font-size=\"14.00\" text-anchor=\"middle\" x=\"214.941\" y=\"-88.3\">output:</text>\n",
       "<polyline fill=\"none\" points=\"242.776,-81.5 242.776,-125.5 \" stroke=\"black\"/>\n",
       "<text font-family=\"Times,serif\" font-size=\"14.00\" text-anchor=\"middle\" x=\"284.6\" y=\"-110.3\">(None, 128)</text>\n",
       "<polyline fill=\"none\" points=\"242.776,-103.5 326.424,-103.5 \" stroke=\"black\"/>\n",
       "<text font-family=\"Times,serif\" font-size=\"14.00\" text-anchor=\"middle\" x=\"284.6\" y=\"-88.3\">(None, 128)</text>\n",
       "</g>\n",
       "<!-- 112251230416&#45;&gt;112298660752 -->\n",
       "<g class=\"edge\" id=\"edge7\"><title>112251230416-&gt;112298660752</title>\n",
       "<path d=\"M192.964,-162.329C192.964,-154.183 192.964,-144.699 192.964,-135.797\" fill=\"none\" stroke=\"black\"/>\n",
       "<polygon fill=\"black\" points=\"196.464,-135.729 192.964,-125.729 189.464,-135.729 196.464,-135.729\" stroke=\"black\"/>\n",
       "</g>\n",
       "<!-- 112298872448 -->\n",
       "<g class=\"node\" id=\"node8\"><title>112298872448</title>\n",
       "<polygon fill=\"none\" points=\"71.1792,-0.5 71.1792,-44.5 314.749,-44.5 314.749,-0.5 71.1792,-0.5\" stroke=\"black\"/>\n",
       "<text font-family=\"Times,serif\" font-size=\"14.00\" text-anchor=\"middle\" x=\"123.305\" y=\"-18.3\">dense_2: Dense</text>\n",
       "<polyline fill=\"none\" points=\"175.431,-0.5 175.431,-44.5 \" stroke=\"black\"/>\n",
       "<text font-family=\"Times,serif\" font-size=\"14.00\" text-anchor=\"middle\" x=\"203.266\" y=\"-29.3\">input:</text>\n",
       "<polyline fill=\"none\" points=\"175.431,-22.5 231.1,-22.5 \" stroke=\"black\"/>\n",
       "<text font-family=\"Times,serif\" font-size=\"14.00\" text-anchor=\"middle\" x=\"203.266\" y=\"-7.3\">output:</text>\n",
       "<polyline fill=\"none\" points=\"231.1,-0.5 231.1,-44.5 \" stroke=\"black\"/>\n",
       "<text font-family=\"Times,serif\" font-size=\"14.00\" text-anchor=\"middle\" x=\"272.924\" y=\"-29.3\">(None, 128)</text>\n",
       "<polyline fill=\"none\" points=\"231.1,-22.5 314.749,-22.5 \" stroke=\"black\"/>\n",
       "<text font-family=\"Times,serif\" font-size=\"14.00\" text-anchor=\"middle\" x=\"272.924\" y=\"-7.3\">(None, 10)</text>\n",
       "</g>\n",
       "<!-- 112298660752&#45;&gt;112298872448 -->\n",
       "<g class=\"edge\" id=\"edge8\"><title>112298660752-&gt;112298872448</title>\n",
       "<path d=\"M192.964,-81.3294C192.964,-73.1826 192.964,-63.6991 192.964,-54.7971\" fill=\"none\" stroke=\"black\"/>\n",
       "<polygon fill=\"black\" points=\"196.464,-54.729 192.964,-44.729 189.464,-54.729 196.464,-54.729\" stroke=\"black\"/>\n",
       "</g>\n",
       "<!-- 112251060576 -->\n",
       "<g class=\"node\" id=\"node9\"><title>112251060576</title>\n",
       "<polygon fill=\"none\" points=\"143.22,-648.5 143.22,-684.5 242.708,-684.5 242.708,-648.5 143.22,-648.5\" stroke=\"black\"/>\n",
       "<text font-family=\"Times,serif\" font-size=\"14.00\" text-anchor=\"middle\" x=\"192.964\" y=\"-662.3\">112251060576</text>\n",
       "</g>\n",
       "<!-- 112251060576&#45;&gt;112251025952 -->\n",
       "<g class=\"edge\" id=\"edge1\"><title>112251060576-&gt;112251025952</title>\n",
       "<path d=\"M192.964,-648.481C192.964,-640.653 192.964,-631.108 192.964,-622.039\" fill=\"none\" stroke=\"black\"/>\n",
       "<polygon fill=\"black\" points=\"196.464,-621.744 192.964,-611.744 189.464,-621.744 196.464,-621.744\" stroke=\"black\"/>\n",
       "</g>\n",
       "</g>\n",
       "</svg>"
      ],
      "text/plain": [
       "<IPython.core.display.SVG object>"
      ]
     },
     "execution_count": 5,
     "metadata": {},
     "output_type": "execute_result"
    }
   ],
   "source": [
    "# Image(model_to_dot(model, show_shapes=True).create(prog='dot', format='png'))\n",
    "SVG(model_to_dot(model, show_shapes=True, dpi=72).create(prog='dot', format='svg'))"
   ]
  },
  {
   "cell_type": "markdown",
   "metadata": {},
   "source": [
    "## Learning\n",
    "\n",
    "Now let's train the CNN model. Note that we do not need the `reshape()` function as in the MLP case. \n",
    "\n",
    "This is a relatively complex model, so training is considerably slower than with MLPs. "
   ]
  },
  {
   "cell_type": "code",
   "execution_count": null,
   "metadata": {},
   "outputs": [
    {
     "name": "stdout",
     "output_type": "stream",
     "text": [
      "Epoch 1/5\n",
      " - 136s - loss: 0.2292 - acc: 0.9305\n",
      "Epoch 2/5\n",
      " - 182s - loss: 0.0853 - acc: 0.9746\n",
      "Epoch 3/5\n",
      " - 160s - loss: 0.0670 - acc: 0.9798\n",
      "Epoch 4/5\n"
     ]
    }
   ],
   "source": [
    "%%time\n",
    "\n",
    "epochs = 5 # one epoch takes about 3 seconds on Google Colab GPU (NVIDIA T4) as of Aug 2020 \n",
    "# vs. ~90s on Colab 2 cores of CPU (Intel® Xeon® Broadwell Processor E5-2630 v4)\n",
    "\n",
    "history = model.fit(X_train, \n",
    "                    Y_train, \n",
    "                    epochs=epochs, \n",
    "                    batch_size=128,\n",
    "                    verbose=2)"
   ]
  },
  {
   "cell_type": "code",
   "execution_count": null,
   "metadata": {},
   "outputs": [],
   "source": [
    "plt.figure(figsize=(5,3))\n",
    "plt.plot(history.epoch,history.history['loss'])\n",
    "plt.title('loss')\n",
    "\n",
    "plt.figure(figsize=(5,3))\n",
    "plt.plot(history.epoch,history.history['accuracy'])\n",
    "plt.title('accuracy');"
   ]
  },
  {
   "cell_type": "markdown",
   "metadata": {},
   "source": [
    "## Inference\n",
    "\n",
    "With enough training epochs, the test accuracy should exceed 99%.  \n",
    "\n",
    "You can compare your result with the state-of-the art [here](http://rodrigob.github.io/are_we_there_yet/build/classification_datasets_results.html).  Even more results can be found [here](http://yann.lecun.com/exdb/mnist/). "
   ]
  },
  {
   "cell_type": "code",
   "execution_count": null,
   "metadata": {},
   "outputs": [],
   "source": [
    "%%time\n",
    "scores = model.evaluate(X_test, Y_test, verbose=2)\n",
    "print(\"%s: %.2f%%\" % (model.metrics_names[1], scores[1]*100))"
   ]
  },
  {
   "cell_type": "markdown",
   "metadata": {},
   "source": [
    "We can again take a closer look on the results. Let's begin by defining\n",
    "a helper function to show the failure cases of our classifier. "
   ]
  },
  {
   "cell_type": "code",
   "execution_count": null,
   "metadata": {
    "collapsed": true,
    "jupyter": {
     "outputs_hidden": true
    }
   },
   "outputs": [],
   "source": [
    "def show_failures(predictions, trueclass=None, predictedclass=None, maxtoshow=10):\n",
    "    rounded = np.argmax(predictions, axis=1)\n",
    "    errors = rounded!=y_test\n",
    "    print('Showing max', maxtoshow, 'first failures. '\n",
    "          'The predicted class is shown first and the correct class in parenthesis.')\n",
    "    ii = 0\n",
    "    plt.figure(figsize=(maxtoshow, 1))\n",
    "    for i in range(X_test.shape[0]):\n",
    "        if ii>=maxtoshow:\n",
    "            break\n",
    "        if errors[i]:\n",
    "            if trueclass is not None and y_test[i] != trueclass:\n",
    "                continue\n",
    "            if predictedclass is not None and predictions[i] != predictedclass:\n",
    "                continue\n",
    "            plt.subplot(1, maxtoshow, ii+1)\n",
    "            plt.axis('off')\n",
    "            plt.imshow(X_test[i,:,:,0], cmap=\"gray\")\n",
    "            plt.title(\"%d (%d)\" % (rounded[i], y_test[i]))\n",
    "            ii = ii + 1"
   ]
  },
  {
   "cell_type": "markdown",
   "metadata": {},
   "source": [
    "Here are the first 10 test digits the CNN classified to a wrong class:"
   ]
  },
  {
   "cell_type": "code",
   "execution_count": null,
   "metadata": {
    "scrolled": true
   },
   "outputs": [],
   "source": [
    "predictions = model.predict(X_test)\n",
    "\n",
    "show_failures(predictions)"
   ]
  },
  {
   "cell_type": "markdown",
   "metadata": {},
   "source": [
    "We can use `show_failures()` to inspect failures in more detail. For example, here are failures in which the true class was \"6\":"
   ]
  },
  {
   "cell_type": "code",
   "execution_count": null,
   "metadata": {},
   "outputs": [],
   "source": [
    "show_failures(predictions, trueclass=6)"
   ]
  },
  {
   "cell_type": "code",
   "execution_count": null,
   "metadata": {
    "collapsed": true,
    "jupyter": {
     "outputs_hidden": true
    }
   },
   "outputs": [],
   "source": []
  },
  {
   "cell_type": "markdown",
   "metadata": {},
   "source": [
    "---\n",
    "*Run this notebook in Google Colaboratory using [this link](https://colab.research.google.com/github/csc-training/intro-to-dl/blob/master/day1/keras-mnist-cnn.ipynb).*"
   ]
  }
 ],
 "metadata": {
  "kernelspec": {
   "display_name": "Python 3",
   "language": "python",
   "name": "python3"
  },
  "language_info": {
   "codemirror_mode": {
    "name": "ipython",
    "version": 3
   },
   "file_extension": ".py",
   "mimetype": "text/x-python",
   "name": "python",
   "nbconvert_exporter": "python",
   "pygments_lexer": "ipython3",
   "version": "3.6.5"
  }
 },
 "nbformat": 4,
 "nbformat_minor": 4
}
