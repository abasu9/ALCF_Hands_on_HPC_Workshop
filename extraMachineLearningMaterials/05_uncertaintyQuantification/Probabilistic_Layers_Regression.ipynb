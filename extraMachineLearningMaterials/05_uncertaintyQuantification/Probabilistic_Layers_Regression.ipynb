{
 "cells": [
  {
   "cell_type": "markdown",
   "metadata": {
    "colab_type": "text",
    "id": "ltPJCG6pAUoc"
   },
   "source": [
    "# TFP Probabilistic Layers: Regression\n"
   ]
  },
  {
   "cell_type": "markdown",
   "metadata": {
    "colab_type": "text",
    "id": "WRVR-tGTR31S"
   },
   "source": [
    "In this example we show how to fit regression models using TFP's \"probabilistic layers.\""
   ]
  },
  {
   "cell_type": "markdown",
   "metadata": {
    "colab_type": "text",
    "id": "uiR4-VOt9NFX"
   },
   "source": [
    "### Dependencies & Prerequisites\n"
   ]
  },
  {
   "cell_type": "code",
   "execution_count": 1,
   "metadata": {},
   "outputs": [
    {
     "name": "stdout",
     "output_type": "stream",
     "text": [
      "/usr/local/bin/python3\n",
      "['/Library/Frameworks/Python.framework/Versions/3.6/lib/python36.zip', '/Library/Frameworks/Python.framework/Versions/3.6/lib/python3.6', '/Library/Frameworks/Python.framework/Versions/3.6/lib/python3.6/lib-dynload', '', '/Users/jchilders/Library/Python/3.6/lib/python/site-packages', '/Users/jchilders/git/pointnet.pytorch', '/Library/Frameworks/Python.framework/Versions/3.6/lib/python3.6/site-packages', '/Library/Frameworks/Python.framework/Versions/3.6/lib/python3.6/site-packages/horovod-0.16.2-py3.6-macosx-10.9-x86_64.egg', '/Library/Frameworks/Python.framework/Versions/3.6/lib/python3.6/site-packages/IPython/extensions', '/Users/jchilders/.ipython']\n"
     ]
    }
   ],
   "source": [
    "import sys\n",
    "print(sys.executable)\n",
    "print(sys.path)"
   ]
  },
  {
   "cell_type": "code",
   "execution_count": 2,
   "metadata": {
    "colab": {
     "base_uri": "https://localhost:8080/",
     "height": 34
    },
    "colab_type": "code",
    "id": "gcJrUr0pF6qM",
    "outputId": "c04fc450-cf6a-4260-ae1d-f87bc1b66bc3"
   },
   "outputs": [
    {
     "name": "stdout",
     "output_type": "stream",
     "text": [
      "Installation of `tf-nightly-gpu-2.0-preview` complete.\n"
     ]
    }
   ],
   "source": [
    "#@title Install { display-mode: \"form\" }\n",
    "TF_Installation = 'TF2 Stable (GPU)' #@param ['TF2 Nightly (GPU)', 'TF2 Stable (GPU)','System']\n",
    "\n",
    "if TF_Installation == 'TF2 Nightly (GPU)':\n",
    "  !pip install -q --upgrade tf-nightly-gpu\n",
    "  print('Installation of `tf-nightly-gpu` complete.')\n",
    "elif TF_Installation == 'TF2 Stable (GPU)':\n",
    "  !pip install -q --upgrade tensorflow-gpu==2.3\n",
    "  print('Installation of `tensorflow-gpu==2.3` complete.')\n",
    "elif TF_Installation == 'System':\n",
    "  pass\n",
    "else:\n",
    "  raise ValueError('Selection Error: Please select a valid '\n",
    "                   'installation option.')"
   ]
  },
  {
   "cell_type": "code",
   "execution_count": 3,
   "metadata": {
    "colab": {
     "base_uri": "https://localhost:8080/",
     "height": 34
    },
    "colab_type": "code",
    "id": "9clSiUTiT3G1",
    "outputId": "00962296-4852-443e-d7ec-f30d97d91b8d"
   },
   "outputs": [
    {
     "name": "stdout",
     "output_type": "stream",
     "text": [
      "Installation of `tfp-nightly` complete.\n"
     ]
    }
   ],
   "source": [
    "#@title Install { display-mode: \"form\" }\n",
    "TFP_Installation = \"Stable\" #@param [\"Nightly\", \"Stable\", \"System\"]\n",
    "\n",
    "if TFP_Installation == \"Nightly\":\n",
    "  !pip install -q tfp-nightly\n",
    "  print(\"Installation of `tfp-nightly` complete.\")\n",
    "elif TFP_Installation == \"Stable\":\n",
    "  !pip install -q --upgrade tensorflow-probability\n",
    "  print(\"Installation of `tensorflow-probability` complete.\")\n",
    "elif TFP_Installation == \"System\":\n",
    "  pass\n",
    "else:\n",
    "  raise ValueError(\"Selection Error: Please select a valid \"\n",
    "                   \"installation option.\")\n",
    "\n",
    "print('install seaborn')\n",
    "!pip install -q --upgrade seaborn"
   ]
  },
  {
   "cell_type": "code",
   "execution_count": 7,
   "metadata": {
    "colab": {},
    "colab_type": "code",
    "id": "kZ0MdF1j8WJf"
   },
   "outputs": [
    {
     "name": "stdout",
     "output_type": "stream",
     "text": [
      "tensorflow version:  2.3.0\n",
      "tensorflow probability version:  0.11.0\n"
     ]
    }
   ],
   "source": [
    "#@title Import { display-mode: \"form\" }\n",
    "\n",
    "from __future__ import absolute_import\n",
    "from __future__ import division\n",
    "from __future__ import print_function\n",
    "\n",
    "from pprint import pprint\n",
    "import matplotlib.pyplot as plt\n",
    "import numpy as np\n",
    "import seaborn as sns\n",
    "\n",
    "import tensorflow as tf\n",
    "import tensorflow_probability as tfp\n",
    "print('tensorflow version: ',tf.__version__)\n",
    "print('tensorflow probability version: ',tfp.__version__)\n",
    "print('seaborn version: ',sns.__version__)\n",
    "\n",
    "sns.reset_defaults()\n",
    "#sns.set_style('whitegrid')\n",
    "#sns.set_context('talk')\n",
    "sns.set_context(context='talk',font_scale=0.7)\n",
    "\n",
    "%matplotlib inline\n",
    "\n",
    "tfd = tfp.distributions"
   ]
  },
  {
   "cell_type": "markdown",
   "metadata": {
    "colab_type": "text",
    "id": "7nnwjUdVoWN2"
   },
   "source": [
    "### Make things Fast!"
   ]
  },
  {
   "cell_type": "code",
   "execution_count": 4,
   "metadata": {
    "colab": {
     "base_uri": "https://localhost:8080/",
     "height": 34
    },
    "colab_type": "code",
    "id": "qP_4Xr8vpA42",
    "outputId": "d9ad692f-1100-4a55-f446-b9a5f47285a7"
   },
   "outputs": [
    {
     "name": "stdout",
     "output_type": "stream",
     "text": [
      "[PhysicalDevice(name='/physical_device:CPU:0', device_type='CPU'), PhysicalDevice(name='/physical_device:XLA_CPU:0', device_type='XLA_CPU')]\n",
      "Using a CPU\n"
     ]
    }
   ],
   "source": [
    "# Code can run seamlessly on a GPU, just change Colab runtime type\n",
    "# in the 'Runtime' menu.\n",
    "print(tf.config.list_physical_devices())\n",
    "if len(tf.config.list_physical_devices('GPU')) > 0:\n",
    "  print(\"Using GPU device\",tf.test.gpu_device_name())\n",
    "else:\n",
    "  print(\"Using a CPU\")"
   ]
  },
  {
   "cell_type": "markdown",
   "metadata": {
    "colab_type": "text",
    "id": "FJRBc_S0ppfE"
   },
   "source": [
    "Note: if for some reason you cannot access a GPU, this colab will still work. (Training will just take longer.)"
   ]
  },
  {
   "cell_type": "markdown",
   "metadata": {
    "colab_type": "text",
    "id": "xuqxMmryiduM"
   },
   "source": [
    "## Motivation"
   ]
  },
  {
   "cell_type": "markdown",
   "metadata": {
    "colab_type": "text",
    "id": "RtBLNF-tin2L"
   },
   "source": [
    "Wouldn't it be great if we could use TFP to specify a probabilistic model then simply minimize the negative log-likelihood, i.e.,"
   ]
  },
  {
   "cell_type": "code",
   "execution_count": 5,
   "metadata": {
    "colab": {},
    "colab_type": "code",
    "id": "3PFfNeJzifo7"
   },
   "outputs": [],
   "source": [
    "negloglik = lambda y, rv_y: -rv_y.log_prob(y)"
   ]
  },
  {
   "cell_type": "markdown",
   "metadata": {
    "colab_type": "text",
    "id": "cN4IP8n_jIvT"
   },
   "source": [
    "Well not only is it possible, but this colab shows how! (In context of linear regression problems.)"
   ]
  },
  {
   "cell_type": "code",
   "execution_count": 6,
   "metadata": {
    "cellView": "form",
    "colab": {},
    "colab_type": "code",
    "id": "5zCEYpzu7bDX"
   },
   "outputs": [],
   "source": [
    "#@title Synthesize dataset.\n",
    "w0 = 0.125\n",
    "b0 = 5.\n",
    "x_range = [-20, 60]\n",
    "\n",
    "def load_dataset(n=150, n_tst=150):\n",
    "  np.random.seed(43)\n",
    "  def s(x):\n",
    "    g = (x - x_range[0]) / (x_range[1] - x_range[0])\n",
    "    return 3 * (0.25 + g**2.)\n",
    "  x = (x_range[1] - x_range[0]) * np.random.rand(n) + x_range[0]\n",
    "  eps = np.random.randn(n) * s(x)\n",
    "  y = (w0 * x * (1. + np.sin(x)) + b0) + eps\n",
    "  x = x[..., np.newaxis]\n",
    "  x_tst = np.linspace(*x_range, num=n_tst).astype(np.float32)\n",
    "  x_tst = x_tst[..., np.newaxis]\n",
    "  return y, x, x_tst\n",
    "\n",
    "y, x, x_tst = load_dataset()"
   ]
  },
  {
   "cell_type": "markdown",
   "metadata": {
    "colab_type": "text",
    "id": "N8Shtn_e99XC"
   },
   "source": [
    "### Case 1: No Uncertainty"
   ]
  },
  {
   "cell_type": "code",
   "execution_count": 8,
   "metadata": {
    "colab": {},
    "colab_type": "code",
    "id": "RxKJ_RPI0K4N"
   },
   "outputs": [],
   "source": [
    "# Build model.\n",
    "model = tf.keras.Sequential([\n",
    "  tf.keras.layers.Dense(1),\n",
    "  tfp.layers.DistributionLambda(lambda t: tfd.Normal(loc=t, scale=1)),\n",
    "])\n",
    "\n",
    "# Do inference.\n",
    "model.compile(optimizer=tf.optimizers.Adam(learning_rate=0.01), loss=negloglik)\n",
    "model.fit(x, y, epochs=1000, verbose=False);\n",
    "\n",
    "# Profit.\n",
    "#[print(np.squeeze(w.numpy())) for w in model.weights];\n",
    "yhat = model(x_tst)\n",
    "assert isinstance(yhat, tfd.Distribution)\n",
    "#print(yhat.mean())"
   ]
  },
  {
   "cell_type": "code",
   "execution_count": 9,
   "metadata": {
    "cellView": "both",
    "colab": {
     "base_uri": "https://localhost:8080/",
     "height": 147
    },
    "colab_type": "code",
    "id": "1AE9ElaKI6Er",
    "outputId": "062470b7-9b0a-498b-e332-ecebfe24a0b3"
   },
   "outputs": [
    {
     "data": {
      "image/png": "[encoded data removed]",
      "text/plain": [
       "<Figure size 576x360 with 1 Axes>"
      ]
     },
     "metadata": {
      "needs_background": "light"
     },
     "output_type": "display_data"
    }
   ],
   "source": [
    "#@title Figure 1: No uncertainty.\n",
    "\n",
    "\n",
    "# plt.figure(figsize=[6, 1.5])  # inches\n",
    "plt.figure(figsize=[8, 5])  # inches\n",
    "plt.plot(x, y, 'b.', label='observed');\n",
    "plt.plot(x_tst, yhat.mean(),'r', label='mean', linewidth=4);\n",
    "plt.ylim(-0.,17);\n",
    "plt.yticks(np.linspace(0, 15, 4)[1:]);\n",
    "plt.xticks(np.linspace(*x_range, num=9));\n",
    "\n",
    "ax=plt.gca();\n",
    "ax.xaxis.set_ticks_position('bottom')\n",
    "ax.yaxis.set_ticks_position('left')\n",
    "ax.spines['left'].set_position(('data', 0))\n",
    "ax.spines['top'].set_visible(False)\n",
    "ax.spines['right'].set_visible(False)\n",
    "#ax.spines['left'].set_smart_bounds(True)\n",
    "#ax.spines['bottom'].set_smart_bounds(True)\n",
    "plt.legend(loc='center left', fancybox=True, framealpha=0., bbox_to_anchor=(1.05, 0.5))\n",
    "\n",
    "plt.savefig('/tmp/fig1.png', bbox_inches='tight', dpi=300)"
   ]
  },
  {
   "cell_type": "markdown",
   "metadata": {
    "colab_type": "text",
    "id": "91kwRqs4O5Yv"
   },
   "source": [
    "### Case 2: Statistical Uncertainty"
   ]
  },
  {
   "cell_type": "code",
   "execution_count": 0,
   "metadata": {
    "colab": {},
    "colab_type": "code",
    "id": "TLZ97_V4PP-f"
   },
   "outputs": [],
   "source": [
    "# Build model.\n",
    "model = tf.keras.Sequential([\n",
    "  tf.keras.layers.Dense(1 + 1),\n",
    "  tfp.layers.DistributionLambda(\n",
    "      lambda t: tfd.Normal(loc=t[..., :1],\n",
    "                           scale=1e-3 + tf.math.softplus(0.05 * t[...,1:]))),\n",
    "])\n",
    "\n",
    "# Do inference.\n",
    "model.compile(optimizer=tf.optimizers.Adam(learning_rate=0.01), loss=negloglik)\n",
    "model.fit(x, y, epochs=1000, verbose=False);\n",
    "\n",
    "# Profit.\n",
    "\n",
    "yhat = model(x_tst)\n"
   ]
  },
  {
   "cell_type": "code",
   "execution_count": 16,
   "metadata": {
    "cellView": "form",
    "colab": {
     "base_uri": "https://localhost:8080/",
     "height": 147
    },
    "colab_type": "code",
    "id": "JSSWw2-FPCiG",
    "outputId": "7fcafdc2-7796-40dc-b36e-a75a99f387ab"
   },
   "outputs": [
    {
     "data": {
      "image/png": "[encoded data removed]",
      "text/plain": [
       "<Figure size 432x108 with 1 Axes>"
      ]
     },
     "metadata": {
      "tags": []
     },
     "output_type": "display_data"
    }
   ],
   "source": [
    "\n",
    "plt.figure(figsize=[6, 1.5])  # inches\n",
    "plt.plot(x, y, 'b.', label='observed');\n",
    "\n",
    "m = yhat.mean()\n",
    "s = yhat.stddev()\n",
    "\n",
    "plt.plot(x_tst, m, 'r', linewidth=4, label='mean');\n",
    "plt.plot(x_tst, m + 2 * s, 'g', linewidth=2, label=r'mean + 2 stddev');\n",
    "plt.plot(x_tst, m - 2 * s, 'g', linewidth=2, label=r'mean - 2 stddev');\n",
    "\n",
    "plt.ylim(-0.,17);\n",
    "plt.yticks(np.linspace(0, 15, 4)[1:]);\n",
    "plt.xticks(np.linspace(*x_range, num=9));\n",
    "\n",
    "ax=plt.gca();\n",
    "ax.xaxis.set_ticks_position('bottom')\n",
    "ax.yaxis.set_ticks_position('left')\n",
    "ax.spines['left'].set_position(('data', 0))\n",
    "ax.spines['top'].set_visible(False)\n",
    "ax.spines['right'].set_visible(False)\n",
    "#ax.spines['left'].set_smart_bounds(True)\n",
    "#ax.spines['bottom'].set_smart_bounds(True)\n",
    "plt.legend(loc='center left', fancybox=True, framealpha=0., bbox_to_anchor=(1.05, 0.5))\n",
    "\n",
    "plt.savefig('/tmp/fig2.png', bbox_inches='tight', dpi=300)"
   ]
  },
  {
   "cell_type": "markdown",
   "metadata": {
    "colab_type": "text",
    "id": "xEvTd7ZJYvDx"
   },
   "source": [
    "### Case 3: Model Uncertainty"
   ]
  },
  {
   "cell_type": "code",
   "execution_count": 0,
   "metadata": {
    "cellView": "both",
    "colab": {},
    "colab_type": "code",
    "id": "VwzbWw3_CQ2z"
   },
   "outputs": [],
   "source": [
    "# Specify the surrogate posterior over `keras.layers.Dense` `kernel` and `bias`.\n",
    "def posterior_mean_field(kernel_size, bias_size=0, dtype=None):\n",
    "  n = kernel_size + bias_size\n",
    "  c = np.log(np.expm1(1.))\n",
    "  return tf.keras.Sequential([\n",
    "      tfp.layers.VariableLayer(2 * n, dtype=dtype),\n",
    "      tfp.layers.DistributionLambda(lambda t: tfd.Independent(\n",
    "          tfd.Normal(loc=t[..., :n],\n",
    "                     scale=1e-5 + tf.nn.softplus(c + t[..., n:])),\n",
    "          reinterpreted_batch_ndims=1)),\n",
    "  ])"
   ]
  },
  {
   "cell_type": "code",
   "execution_count": 0,
   "metadata": {
    "cellView": "both",
    "colab": {},
    "colab_type": "code",
    "id": "aAQhyK9Y_lm1"
   },
   "outputs": [],
   "source": [
    "# Specify the prior over `keras.layers.Dense` `kernel` and `bias`.\n",
    "def prior_trainable(kernel_size, bias_size=0, dtype=None):\n",
    "  n = kernel_size + bias_size\n",
    "  return tf.keras.Sequential([\n",
    "      tfp.layers.VariableLayer(n, dtype=dtype),\n",
    "      tfp.layers.DistributionLambda(lambda t: tfd.Independent(\n",
    "          tfd.Normal(loc=t, scale=1),\n",
    "          reinterpreted_batch_ndims=1)),\n",
    "  ])"
   ]
  },
  {
   "cell_type": "code",
   "execution_count": 20,
   "metadata": {
    "colab": {
     "base_uri": "https://localhost:8080/",
     "height": 51
    },
    "colab_type": "code",
    "id": "XI7ZCFzSnrWN",
    "outputId": "a963b67e-04f6-495e-c125-1db384f8b6fb"
   },
   "outputs": [
    {
     "name": "stdout",
     "output_type": "stream",
     "text": [
      "[ 0.13806224  5.126463   -3.9921103  -2.282041  ]\n",
      "[0.13211784 5.122428  ]\n"
     ]
    }
   ],
   "source": [
    "# Build model.\n",
    "model = tf.keras.Sequential([\n",
    "  tfp.layers.DenseVariational(1, posterior_mean_field, prior_trainable, kl_weight=1/x.shape[0]),\n",
    "  tfp.layers.DistributionLambda(lambda t: tfd.Normal(loc=t, scale=1)),\n",
    "])\n",
    "\n",
    "# Do inference.\n",
    "model.compile(optimizer=tf.optimizers.Adam(learning_rate=0.01), loss=negloglik)\n",
    "model.fit(x, y, epochs=1000, verbose=False);\n",
    "\n",
    "# Profit.\n",
    "[print(np.squeeze(w.numpy())) for w in model.weights];\n",
    "yhat = model(x_tst)\n",
    "assert isinstance(yhat, tfd.Distribution)"
   ]
  },
  {
   "cell_type": "code",
   "execution_count": 21,
   "metadata": {
    "cellView": "form",
    "colab": {
     "base_uri": "https://localhost:8080/",
     "height": 147
    },
    "colab_type": "code",
    "id": "Y4Bypix9UvTO",
    "outputId": "53a75798-ea00-4f58-fc54-86f485087e8b"
   },
   "outputs": [
    {
     "data": {
      "image/png": "[encoded data removed]",
      "text/plain": [
       "<Figure size 432x108 with 1 Axes>"
      ]
     },
     "metadata": {
      "tags": []
     },
     "output_type": "display_data"
    }
   ],
   "source": [
    "\n",
    "plt.figure(figsize=[6, 1.5])  # inches\n",
    "plt.clf();\n",
    "plt.plot(x, y, 'b.', label='observed');\n",
    "\n",
    "yhats = [model(x_tst) for _ in range(100)]\n",
    "avgm = np.zeros_like(x_tst[..., 0])\n",
    "for i, yhat in enumerate(yhats):\n",
    "  m = np.squeeze(yhat.mean())\n",
    "  s = np.squeeze(yhat.stddev())\n",
    "  if i < 25:\n",
    "    plt.plot(x_tst, m, 'r', label='ensemble means' if i == 0 else None, linewidth=0.5)\n",
    "  avgm += m\n",
    "plt.plot(x_tst, avgm/len(yhats), 'r', label='overall mean', linewidth=4)\n",
    "\n",
    "plt.ylim(-0.,17);\n",
    "plt.yticks(np.linspace(0, 15, 4)[1:]);\n",
    "plt.xticks(np.linspace(*x_range, num=9));\n",
    "\n",
    "ax=plt.gca();\n",
    "ax.xaxis.set_ticks_position('bottom')\n",
    "ax.yaxis.set_ticks_position('left')\n",
    "ax.spines['left'].set_position(('data', 0))\n",
    "ax.spines['top'].set_visible(False)\n",
    "ax.spines['right'].set_visible(False)\n",
    "#ax.spines['left'].set_smart_bounds(True)\n",
    "#ax.spines['bottom'].set_smart_bounds(True)\n",
    "plt.legend(loc='center left', fancybox=True, framealpha=0., bbox_to_anchor=(1.05, 0.5))\n",
    "\n",
    "plt.savefig('/tmp/fig3.png', bbox_inches='tight', dpi=300)"
   ]
  },
  {
   "cell_type": "code",
   "execution_count": 0,
   "metadata": {
    "colab": {},
    "colab_type": "code",
    "id": "ia5m31njXLNy"
   },
   "outputs": [],
   "source": []
  }
 ],
 "metadata": {
  "accelerator": "GPU",
  "colab": {
   "collapsed_sections": [],
   "name": "Probabilistic_Layers_Regression.ipynb",
   "provenance": [],
   "version": "0.3.2"
  },
  "kernelspec": {
   "display_name": "Python 3",
   "language": "python",
   "name": "python3"
  },
  "language_info": {
   "codemirror_mode": {
    "name": "ipython",
    "version": 3
   },
   "file_extension": ".py",
   "mimetype": "text/x-python",
   "name": "python",
   "nbconvert_exporter": "python",
   "pygments_lexer": "ipython3",
   "version": "3.6.5"
  }
 },
 "nbformat": 4,
 "nbformat_minor": 1
}
