{
 "cells": [
  {
   "cell_type": "markdown",
   "id": "55010f7b-229c-4a3c-9b75-0651cda29b21",
   "metadata": {},
   "source": [
    "# Accelerating Machine Learning Applications on Intel GPUs\n",
    "### Intel Extension for Scikit-learn\n",
    "  \n",
    "  *Scikit-learn*  is a popular Python library for machine learning. **Intel Extension**  for *scikit-learn* seamlessly speeds up your scikit-learn applications for Intel CPUs and GPUs across single and multi-node configurations. This extension package dynamically patches scikit-learn estimators while improving performance for machine learning algorithms.\n",
    "#### Using Scikit-learn with Intel extension, you can:\n",
    " * *Speed up training and inference by up to 100x with the equivalent mathematical accuracy.*  \n",
    " * *Continue to use the open source scikit-learn API.*\n",
    "* *Enable and disable the extension with a couple lines of code or at the command line.*\n",
    "\n",
    "### Installations\n",
    "* Intel Extension for Scikit-learn can be installed via the Python Package Index, on Anaconda Cloud in Conda-Forge channel and in Intel channel.\n",
    "* It is also available as a part of Intel AI Analytics Toolkit (AI Kit). If you already have AI Kit installed, you do not need to separately install the extension."
   ]
  },
  {
   "cell_type": "markdown",
   "id": "fbd883e5-f7f0-4ac1-a022-bf71fc7737d7",
   "metadata": {},
   "source": [
    "### Install from PyPI (recommended by default)\n",
    "\n",
    "1. **[Optional step] [Recommended] To prevent version conflicts, create and activate a new environment:**\n",
    "\n",
    "`python -m venv env` <br>\n",
    "`source env/bin/activate`\n",
    "\n",
    "2. **Install scikit-learn-intelex:** <br>\n",
    "\n",
    "`pip install scikit-learn-intelex`\n",
    "\n",
    "### Install from Anaconda cloud: Conda-Forge channel\n",
    "* **Into a newly created environment** <br> `conda create -n env -c conda-forge python=3.x scikit-learn-intelex` <br>\n",
    "* **Into your current environment** <br> `conda install scikit-learn-intelex -c conda-forge`"
   ]
  },
  {
   "cell_type": "code",
   "execution_count": 5,
   "id": "accb79e9-0028-4944-9756-e19659924cd3",
   "metadata": {},
   "outputs": [],
   "source": [
    "from timeit import default_timer as timer\n",
    "from sklearn.model_selection import train_test_split\n",
    "from sklearn.metrics import davies_bouldin_score\n",
    "from sklearn.datasets import fetch_openml\n",
    "from IPython.display import HTML\n",
    "import warnings\n",
    "\n",
    "warnings.filterwarnings(\"ignore\")"
   ]
  },
  {
   "cell_type": "markdown",
   "id": "b67ff05a-16c4-404e-911a-f3448056fc5e",
   "metadata": {},
   "source": [
    "**Download the data**"
   ]
  },
  {
   "cell_type": "code",
   "execution_count": 6,
   "id": "c188ec4a-39c1-47b6-8b47-7b5f434d85ca",
   "metadata": {},
   "outputs": [],
   "source": [
    "x, y = fetch_openml(name=\"spoken-arabic-digit\", return_X_y=True)"
   ]
  },
  {
   "cell_type": "markdown",
   "id": "37249d05-556a-47b0-b040-3dd4d3c44ad5",
   "metadata": {},
   "source": [
    "**Split the data into training and testing sets**"
   ]
  },
  {
   "cell_type": "code",
   "execution_count": 8,
   "id": "beaab848-7a37-4f7a-8d25-27d17009eb7c",
   "metadata": {},
   "outputs": [],
   "source": [
    "x_train, x_test, y_train, y_test = train_test_split(x, y, test_size=0.3, random_state=0)"
   ]
  },
  {
   "cell_type": "markdown",
   "id": "757a6bea-802e-462a-9fc9-75e20b78585e",
   "metadata": {},
   "source": [
    "**Normalize the data**"
   ]
  },
  {
   "cell_type": "code",
   "execution_count": 10,
   "id": "6770b5ee-1c39-468d-8b13-f1ad790ba74b",
   "metadata": {},
   "outputs": [],
   "source": [
    "from sklearn.preprocessing import MinMaxScaler\n",
    "\n",
    "scaler_x = MinMaxScaler()\n",
    "scaler_x.fit(x_train)\n",
    "x_train = scaler_x.transform(x_train)\n",
    "x_test = scaler_x.transform(x_test)"
   ]
  },
  {
   "cell_type": "markdown",
   "id": "ae480033-7122-4dde-8eb1-a7b7423db768",
   "metadata": {},
   "source": [
    "**Patch original scikit-learn with intel Extension for scikit-learn**"
   ]
  },
  {
   "cell_type": "code",
   "execution_count": null,
   "id": "4b12518a-7308-4c65-8db2-83b4730d6550",
   "metadata": {},
   "outputs": [],
   "source": [
    "from sklearnex import patch_sklearn\n",
    "\n",
    "patch_sklearn()"
   ]
  },
  {
   "cell_type": "markdown",
   "id": "c7f6716b-3e33-454a-8005-e5b8a772fa13",
   "metadata": {},
   "source": [
    "**Train DBSCAN algorithm with Intelex for Scikit-learn for spoken arabic digit dataset**"
   ]
  },
  {
   "cell_type": "code",
   "execution_count": null,
   "id": "dca7e3e6-98d6-4b63-86a9-bb34b9374842",
   "metadata": {},
   "outputs": [],
   "source": [
    "from sklearn.cluster import DBSCAN\n",
    "\n",
    "params = {\n",
    "    \"n_jobs\": -1,\n",
    "}\n",
    "start = timer()\n",
    "y_pred = DBSCAN(**params).fit_predict(x_train)\n",
    "train_patched = timer() - start\n",
    "f\"Intel® extension for Scikit-learn time: {train_patched:.2f} s\"\n"
   ]
  },
  {
   "cell_type": "markdown",
   "id": "909a929f-5537-4979-8df6-ec463595cada",
   "metadata": {},
   "source": [
    "**Evaluate DBSCAN performance with Intel Extension for Scikit-learn using Davies-Bouldin score**"
   ]
  },
  {
   "cell_type": "code",
   "execution_count": null,
   "id": "836cf3a3-c0ec-4b86-bd58-8cce6745df2a",
   "metadata": {},
   "outputs": [],
   "source": [
    "dbs_score = davies_bouldin_score(x_train, y_pred)\n",
    "f\"Intel® extension for Scikit-learn Davies-Bouldin score: {dbs_score}\""
   ]
  },
  {
   "cell_type": "markdown",
   "id": "4c2015ff-4683-448d-9007-15d9b5cc6b88",
   "metadata": {},
   "source": [
    "### Train the same algorithm with original Scikit-learn\n",
    "In order to cancel optimizations, we use unpatch_sklearn and reimport the class DBSCAN"
   ]
  },
  {
   "cell_type": "code",
   "execution_count": null,
   "id": "3ab9a4a5-8e73-49da-b658-5f4a96d4a032",
   "metadata": {},
   "outputs": [],
   "source": [
    "from sklearnex import unpatch_sklearn\n",
    "\n",
    "unpatch_sklearn()"
   ]
  },
  {
   "cell_type": "markdown",
   "id": "8435406a-84a0-4454-add5-bc93c5bfebd5",
   "metadata": {},
   "source": [
    "**Training of the DBSCAN algorithm with original Scikit-learn library for spoken arabic digit dataset**"
   ]
  },
  {
   "cell_type": "code",
   "execution_count": null,
   "id": "cb366c3b-72fd-48ab-b5ed-00bb5d71d7b0",
   "metadata": {},
   "outputs": [],
   "source": [
    "from sklearn.cluster import DBSCAN\n",
    "\n",
    "start = timer()\n",
    "y_pred = DBSCAN(**params).fit_predict(x_train)\n",
    "train_unpatched = timer() - start\n",
    "f\"Original Scikit-learn time: {train_unpatched:.2f} s\""
   ]
  },
  {
   "cell_type": "markdown",
   "id": "65f6d0c7-48e9-48ef-8172-552381aa33eb",
   "metadata": {},
   "source": [
    "**Evaluate performance using Davies-Bouldin score**"
   ]
  },
  {
   "cell_type": "code",
   "execution_count": null,
   "id": "e20a5cf5-dcab-4fa2-9c18-526c18ef7fc8",
   "metadata": {},
   "outputs": [],
   "source": [
    "score_original = davies_bouldin_score(x_train, y_pred)\n",
    "f\"Original Scikit-learn Davies-Bouldin score: {score_original}\""
   ]
  },
  {
   "cell_type": "markdown",
   "id": "531c946e-64f9-4145-bfce-b8f1195774a3",
   "metadata": {},
   "source": [
    "**For execution on GPU, DPC++ compiler runtime and driver are required**"
   ]
  },
  {
   "cell_type": "markdown",
   "id": "2c0e0d22-71bc-4a2a-8b25-4bf24e25e1eb",
   "metadata": {},
   "source": [
    "**Install from PyPI:**<br>\n",
    "`pip install dpcpp-cpp-rt`<br>\n",
    "**Install from Anaconda:**<br>\n",
    "`conda install dpcpp_cpp_rt -c intel`\n"
   ]
  },
  {
   "cell_type": "code",
   "execution_count": null,
   "id": "2300d533-de6e-4cbf-99cf-4022887e5975",
   "metadata": {},
   "outputs": [],
   "source": [
    "from sklearnex import patch_sklearn, config_context\n",
    "patch_sklearn()"
   ]
  },
  {
   "cell_type": "code",
   "execution_count": null,
   "id": "ad671d86-e87f-4a35-bd43-ae42104a716e",
   "metadata": {},
   "outputs": [],
   "source": [
    "X = np.array([[1., 2.], [2., 2.], [2., 3.],\n",
    "            [8., 7.], [8., 8.], [25., 80.]], dtype=np.float32) \n",
    "with config_context(target_offload=\"gpu:0\"):\n",
    "   clustering = DBSCAN(eps=3, min_samples=2).fit(X)"
   ]
  },
  {
   "cell_type": "markdown",
   "id": "1ba4b2ad-8db1-419b-aa42-d88826771c9b",
   "metadata": {},
   "source": [
    " Further Examples:\n",
    " 1. https://github.com/intel/scikit-learn-intelex/blob/main/examples/sklearnex/dbscan_spmd.py\n",
    " 2. https://github.com/IntelSoftware/Machine-Learning-using-oneAPI\n"
   ]
  },
  {
   "cell_type": "code",
   "execution_count": null,
   "id": "559416a3-0785-4ec9-958e-1db066822d41",
   "metadata": {},
   "outputs": [],
   "source": []
  }
 ],
 "metadata": {
  "kernelspec": {
   "display_name": "Python 3 (ipykernel)",
   "language": "python",
   "name": "python3"
  },
  "language_info": {
   "codemirror_mode": {
    "name": "ipython",
    "version": 3
   },
   "file_extension": ".py",
   "mimetype": "text/x-python",
   "name": "python",
   "nbconvert_exporter": "python",
   "pygments_lexer": "ipython3",
   "version": "3.11.10"
  }
 },
 "nbformat": 4,
 "nbformat_minor": 5
}
