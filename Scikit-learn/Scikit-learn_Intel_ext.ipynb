{
 "cells": [
  {
   "cell_type": "markdown",
   "id": "6e10c3dd-db78-40cd-a35d-5fd647f9031a",
   "metadata": {},
   "source": [
    "# Accelerating Machine Learning Applications on Intel GPUs\n",
    "### Intel Extension for Scikit-learn\n",
    "\n",
    "  *Scikit-learn*  is a popular Python library for machine learning. **Intel Extension**  for *scikit-learn* seamlessly speeds up your scikit-learn applications for Intel CPUs and GPUs across single and multi-node configurations. This extension package dynamically patches scikit-learn estimators while improving performance for machine learning algorithms.\n",
    "#### Using Scikit-learn with Intel extension, you can:\n",
    " * *Significantly speed up training and inference, with the equivalent mathematical accuracy.*  \n",
    " * *Continue to use the open source scikit-learn API.*\n",
    "* *Enable and disable the extension with a couple lines of code or at the command line.*\n",
    "\n",
    "### Installations\n",
    "1. **Install scikit-learn** <br>\n",
    "`pip install -U scikit-Learn`<br>\n",
    "\n",
    "2. **Install scikit-learn-intelex:** <br>\n",
    "\n",
    " `pip install scikit-learn-intelex`\n",
    "\n"
   ]
  },
  {
   "cell_type": "markdown",
   "id": "3c0affe9-019e-4228-8b47-1cdd5d9e1d86",
   "metadata": {},
   "source": [
    "## Intel Extension for Scikit-learn DBSCAN for spoken arabic digit dataset"
   ]
  },
  {
   "cell_type": "code",
   "execution_count": 2,
   "id": "50ff8028-3639-492f-9354-a931dbe29b9b",
   "metadata": {},
   "outputs": [],
   "source": [
    "# Import the necessary library\n",
    "from sklearn.model_selection import train_test_split\n",
    "from sklearn.metrics import davies_bouldin_score\n",
    "from sklearn.datasets import fetch_openml\n",
    "import time\n",
    "import warnings\n",
    "warnings.filterwarnings(\"ignore\")"
   ]
  },
  {
   "cell_type": "markdown",
   "id": "8a832802-5954-40ab-887e-b25550ab50a2",
   "metadata": {},
   "source": [
    "**Download the dataset**"
   ]
  },
  {
   "cell_type": "code",
   "execution_count": 3,
   "id": "bdc37591-4ae1-4892-b1f2-226121ea96d5",
   "metadata": {},
   "outputs": [],
   "source": [
    "x, y = fetch_openml(name=\"spoken-arabic-digit\", return_X_y=True)\n"
   ]
  },
  {
   "cell_type": "markdown",
   "id": "dc9f6857-2a00-4676-aadb-a53f000d6ff0",
   "metadata": {},
   "source": [
    "**Split the data into training and testing sets**"
   ]
  },
  {
   "cell_type": "code",
   "execution_count": 4,
   "id": "b30f7a07-6437-486d-864f-cd3d6adad411",
   "metadata": {},
   "outputs": [],
   "source": [
    "x_train, x_test, y_train, y_test = train_test_split(x, y, test_size=0.3, random_state=0)"
   ]
  },
  {
   "cell_type": "markdown",
   "id": "029c0ccb-b80f-4116-8630-9018ba00d858",
   "metadata": {},
   "source": [
    "**Normalize the data**\n"
   ]
  },
  {
   "cell_type": "code",
   "execution_count": 5,
   "id": "27bb2ea9-e3a4-41f4-bf56-810e8d8320a5",
   "metadata": {},
   "outputs": [],
   "source": [
    "from sklearn.preprocessing import MinMaxScaler\n",
    "\n",
    "scaler_x = MinMaxScaler()\n",
    "scaler_x.fit(x_train)\n",
    "x_train = scaler_x.transform(x_train)\n",
    "x_test = scaler_x.transform(x_test)"
   ]
  },
  {
   "cell_type": "markdown",
   "id": "b8d9594f-666d-4fff-836a-6bd0d42831e1",
   "metadata": {},
   "source": [
    "**Patch original scikit-learn with intel Extension for scikit-learn**"
   ]
  },
  {
   "cell_type": "code",
   "execution_count": null,
   "id": "28497424-fc75-4a1b-a45f-6e4551255073",
   "metadata": {},
   "outputs": [],
   "source": [
    "from sklearnex import patch_sklearn\n",
    "\n",
    "patch_sklearn()"
   ]
  },
  {
   "cell_type": "markdown",
   "id": "bf75fe7e-2fa9-4a30-8cba-6deb86142355",
   "metadata": {},
   "source": [
    "**Train DBSCAN algorithm with Intelex for Scikit-learn for spoken arabic digit dataset**\n"
   ]
  },
  {
   "cell_type": "code",
   "execution_count": null,
   "id": "3c03eded-d75c-40bd-b1cb-1657f5fd6a7b",
   "metadata": {},
   "outputs": [],
   "source": [
    "from sklearn.cluster import DBSCAN\n",
    "\n",
    "params = {\n",
    "    \"n_jobs\": -1,\n",
    "}\n",
    "start_time = time.time()\n",
    "y_pred = DBSCAN(**params).fit_predict(x_train)\n",
    "train_patched = time.time() - start_time\n",
    "f\"Intel® extension for Scikit-learn time: {train_patched:.2f} s\"\n"
   ]
  },
  {
   "cell_type": "markdown",
   "id": "a14bec58-182d-47be-9e93-51cf7a7c8211",
   "metadata": {},
   "source": [
    "**Evaluate DBSCAN performance with Intel Extension for Scikit-learn using Davies-Bouldin score**"
   ]
  },
  {
   "cell_type": "code",
   "execution_count": null,
   "id": "64f46e65-1183-4abc-b2c5-290dbfa8b430",
   "metadata": {},
   "outputs": [],
   "source": [
    "dbs_score = davies_bouldin_score(x_train, y_pred)\n",
    "f\"Intel® extension for Scikit-learn Davies-Bouldin score: {dbs_score:.4f}\""
   ]
  },
  {
   "cell_type": "markdown",
   "id": "11ec79e4-1fe7-4035-b5e7-9fa41b2616c6",
   "metadata": {},
   "source": [
    "### Train the same algorithm with original Scikit-learn\n",
    "In order to cancel optimizations, we use unpatch_sklearn and reimport DBSCAN"
   ]
  },
  {
   "cell_type": "code",
   "execution_count": 9,
   "id": "f2b5968d-0c3a-437c-b843-4642e4a031cb",
   "metadata": {},
   "outputs": [],
   "source": [
    "from sklearnex import unpatch_sklearn\n",
    "\n",
    "unpatch_sklearn()"
   ]
  },
  {
   "cell_type": "markdown",
   "id": "572bc0e5-952c-4ecb-ad86-d95fae0cb700",
   "metadata": {},
   "source": [
    "**Training of the DBSCAN algorithm with original Scikit-learn library for spoken arabic digit dataset**"
   ]
  },
  {
   "cell_type": "code",
   "execution_count": null,
   "id": "04ed00c5-178e-475e-a045-a4306eb51000",
   "metadata": {},
   "outputs": [],
   "source": [
    "from sklearn.cluster import DBSCAN\n",
    "\n",
    "start_time = time.time()\n",
    "y_pred = DBSCAN(**params).fit_predict(x_train)\n",
    "train_unpatched = time.time() - start_time\n",
    "f\"Original Scikit-learn time: {train_unpatched:.2f} s\"\n"
   ]
  },
  {
   "cell_type": "markdown",
   "id": "c7240c80-9a48-4165-a9a6-d52cc0c1f50b",
   "metadata": {},
   "source": [
    "**Evaluate performance using Davies-Bouldin score**"
   ]
  },
  {
   "cell_type": "code",
   "execution_count": null,
   "id": "80930edc-0520-4fea-b018-47a1a22ba8c1",
   "metadata": {},
   "outputs": [],
   "source": [
    "score_original = davies_bouldin_score(x_train, y_pred)\n",
    "f\"Original Scikit-learn Davies-Bouldin score: {score_original:.4f}\""
   ]
  },
  {
   "cell_type": "markdown",
   "id": "d9c09f11-72d7-498d-a6bf-4f134efb9a10",
   "metadata": {},
   "source": [
    "**For execution on GPU, DPC++ compiler runtime and driver are required**"
   ]
  },
  {
   "cell_type": "markdown",
   "id": "844bd077-617a-4542-907e-a3a3580c89cd",
   "metadata": {},
   "source": [
    "**Install from PyPI:**<br>\n",
    "`pip install dpcpp-cpp-rt`<br>\n",
    "**Install from Anaconda:**<br>\n",
    "`conda install dpcpp_cpp_rt -c intel`\n"
   ]
  },
  {
   "cell_type": "code",
   "execution_count": null,
   "id": "ebe0623e-808c-4f04-b3a8-e06f17d9c590",
   "metadata": {},
   "outputs": [],
   "source": [
    "from sklearnex import patch_sklearn, config_context\n",
    "patch_sklearn()"
   ]
  },
  {
   "cell_type": "code",
   "execution_count": null,
   "id": "03c47f35-02d7-4c64-9ea5-2c596592a4d7",
   "metadata": {},
   "outputs": [],
   "source": [
    "from sklearn.cluster import DBSCAN\n",
    "\n",
    "with config_context(target_offload=\"gpu:0\"):\n",
    "   start_time = time.time()\n",
    "   y_pred = DBSCAN().fit(x_train)\n",
    "   train_gpu_time = time.time() - start_time\n",
    "f\"Intel® extension for Scikit-learn time on GPU: {train_gpu_time:.2f} s\""
   ]
  },
  {
   "cell_type": "markdown",
   "id": "e38fa8a6-37fe-4101-a26e-a5c005a436f1",
   "metadata": {},
   "source": [
    " Further Examples:\n",
    " 1. https://github.com/intel/scikit-learn-intelex/blob/main/examples/sklearnex/dbscan_spmd.py\n",
    " 2. https://github.com/IntelSoftware/Machine-Learning-using-oneAPI"
   ]
  },
  {
   "cell_type": "code",
   "execution_count": null,
   "id": "e738d8c7-be4f-4ac2-bfea-4088a5f815f6",
   "metadata": {},
   "outputs": [],
   "source": []
  }
 ],
 "metadata": {
  "kernelspec": {
   "display_name": "Base",
   "language": "python",
   "name": "base"
  },
  "language_info": {
   "codemirror_mode": {
    "name": "ipython",
    "version": 3
   },
   "file_extension": ".py",
   "mimetype": "text/x-python",
   "name": "python",
   "nbconvert_exporter": "python",
   "pygments_lexer": "ipython3",
   "version": "3.9.19"
  }
 },
 "nbformat": 4,
 "nbformat_minor": 5
}
