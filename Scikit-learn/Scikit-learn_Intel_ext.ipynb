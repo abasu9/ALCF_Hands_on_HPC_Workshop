{
 "cells": [
  {
   "cell_type": "markdown",
   "id": "6e10c3dd-db78-40cd-a35d-5fd647f9031a",
   "metadata": {},
   "source": [
    "# Accelerating Machine Learning Applications on Intel GPUs\n",
    "### Intel Extension for Scikit-learn\n",
    "\n",
    "  *Scikit-learn*  is a popular Python library for machine learning. **Intel Extension**  for *scikit-learn* seamlessly speeds up your scikit-learn applications for Intel CPUs and GPUs across single and multi-node configurations. This extension package dynamically patches scikit-learn estimators while improving performance for machine learning algorithms.\n",
    "#### Using Scikit-learn with Intel extension, you can:\n",
    " * *Significantly speed up training and inference, with the equivalent mathematical accuracy.*  \n",
    " * *Continue to use the open source scikit-learn API.*\n",
    "* *Enable and disable the extension with a couple lines of code or at the command line.*\n",
    "\n",
    "### Installations\n",
    "* Intel Extension for Scikit-learn can be installed via the Python Package Index, on Anaconda Cloud in Conda-Forge channel and in Intel channel.\n",
    "* It is also available as part of Intel AI Analytics Toolkit (AI Kit). If you already have AI Kit installed, you do not need to separately install the extension.\n"
   ]
  },
  {
   "cell_type": "markdown",
   "id": "bdcd953b-a47a-41aa-9a10-fd01488192c3",
   "metadata": {},
   "source": [
    "### Install from PyPI (recommended by default)\n",
    "\n",
    "1. **[Optional step] [Recommended] To prevent version conflicts, create and activate a new environment:**\n",
    "\n",
    "`python -m venv env` <br>\n",
    "`source env/bin/activate`\n",
    "\n",
    "2. **Install scikit-learn-intelex:** <br>\n",
    "\n",
    "`pip install scikit-learn-intelex`\n",
    "\n",
    "### Install from Anaconda cloud: Conda-Forge channel\n",
    "* **Into a newly created environment** <br> `conda create -n env -c conda-forge python=3.x scikit-learn-intelex` <br>\n",
    "* **Into your current environment** <br> `conda install scikit-learn-intelex -c conda-forge`"
   ]
  },
  {
   "cell_type": "markdown",
   "id": "3c0affe9-019e-4228-8b47-1cdd5d9e1d86",
   "metadata": {},
   "source": [
    "## Intel Extension for Scikit-learn DBSCAN for spoken arabic digit dataset"
   ]
  },
  {
   "cell_type": "code",
   "execution_count": 1,
   "id": "50ff8028-3639-492f-9354-a931dbe29b9b",
   "metadata": {},
   "outputs": [],
   "source": [
    "# Import the necessary library\n",
    "from timeit import default_timer as timer\n",
    "from sklearn.model_selection import train_test_split\n",
    "from sklearn.metrics import davies_bouldin_score\n",
    "from sklearn.datasets import fetch_openml\n",
    "#from IPython.display import HTML\n",
    "import warnings\n",
    "warnings.filterwarnings(\"ignore\")"
   ]
  },
  {
   "cell_type": "markdown",
   "id": "8a832802-5954-40ab-887e-b25550ab50a2",
   "metadata": {},
   "source": [
    "**Download the dataset**"
   ]
  },
  {
   "cell_type": "code",
   "execution_count": 10,
   "id": "bdc37591-4ae1-4892-b1f2-226121ea96d5",
   "metadata": {},
   "outputs": [],
   "source": [
    "x, y = fetch_openml(name=\"spoken-arabic-digit\", return_X_y=True)\n"
   ]
  },
  {
   "cell_type": "markdown",
   "id": "dc9f6857-2a00-4676-aadb-a53f000d6ff0",
   "metadata": {},
   "source": [
    "**Split the data into training and testing sets**"
   ]
  },
  {
   "cell_type": "code",
   "execution_count": 3,
   "id": "b30f7a07-6437-486d-864f-cd3d6adad411",
   "metadata": {},
   "outputs": [],
   "source": [
    "x_train, x_test, y_train, y_test = train_test_split(x, y, test_size=0.2, random_state=0)"
   ]
  },
  {
   "cell_type": "markdown",
   "id": "029c0ccb-b80f-4116-8630-9018ba00d858",
   "metadata": {},
   "source": [
    "**Normalize the data**\n"
   ]
  },
  {
   "cell_type": "code",
   "execution_count": 4,
   "id": "27bb2ea9-e3a4-41f4-bf56-810e8d8320a5",
   "metadata": {},
   "outputs": [],
   "source": [
    "from sklearn.preprocessing import MinMaxScaler\n",
    "\n",
    "scaler_x = MinMaxScaler()\n",
    "scaler_x.fit(x_train)\n",
    "x_train = scaler_x.transform(x_train)\n",
    "x_test = scaler_x.transform(x_test)"
   ]
  },
  {
   "cell_type": "markdown",
   "id": "b8d9594f-666d-4fff-836a-6bd0d42831e1",
   "metadata": {},
   "source": [
    "**Patch original scikit-learn with intel Extension for scikit-learn**"
   ]
  },
  {
   "cell_type": "code",
   "execution_count": 5,
   "id": "3e0bb54b-e294-427b-a2fc-7f108ce2f2eb",
   "metadata": {},
   "outputs": [
    {
     "name": "stderr",
     "output_type": "stream",
     "text": [
      "Intel(R) Extension for Scikit-learn* enabled (https://github.com/intel/scikit-learn-intelex)\n"
     ]
    }
   ],
   "source": [
    "from sklearnex import patch_sklearn\n",
    "\n",
    "patch_sklearn()"
   ]
  },
  {
   "cell_type": "markdown",
   "id": "bf75fe7e-2fa9-4a30-8cba-6deb86142355",
   "metadata": {},
   "source": [
    "**Train DBSCAN algorithm with Intelex for Scikit-learn for spoken arabic digit dataset**\n"
   ]
  },
  {
   "cell_type": "code",
   "execution_count": 6,
   "id": "de9be419-e298-4c11-9ca1-e63d829f0db5",
   "metadata": {},
   "outputs": [
    {
     "data": {
      "text/plain": [
       "'Intel® extension for Scikit-learn time: 22.38 s'"
      ]
     },
     "execution_count": 6,
     "metadata": {},
     "output_type": "execute_result"
    }
   ],
   "source": [
    "from sklearn.cluster import DBSCAN\n",
    "\n",
    "params = {\n",
    "    \"n_jobs\": -1,\n",
    "}\n",
    "start = timer()\n",
    "y_pred = DBSCAN(**params).fit_predict(x_train)\n",
    "train_patched = timer() - start\n",
    "f\"Intel® extension for Scikit-learn time: {train_patched:.2f} s\"\n"
   ]
  },
  {
   "cell_type": "markdown",
   "id": "a14bec58-182d-47be-9e93-51cf7a7c8211",
   "metadata": {},
   "source": [
    "**Evaluate DBSCAN performance with Intel Extension for Scikit-learn using Davies-Bouldin score**"
   ]
  },
  {
   "cell_type": "code",
   "execution_count": 7,
   "id": "16546ba7-4127-4b5e-bb2f-0eac57dfcaec",
   "metadata": {},
   "outputs": [
    {
     "data": {
      "text/plain": [
       "'Intel® extension for Scikit-learn Davies-Bouldin score: 0.8506779263727179'"
      ]
     },
     "execution_count": 7,
     "metadata": {},
     "output_type": "execute_result"
    }
   ],
   "source": [
    "dbs_score = davies_bouldin_score(x_train, y_pred)\n",
    "f\"Intel® extension for Scikit-learn Davies-Bouldin score: {dbs_score}\""
   ]
  },
  {
   "cell_type": "markdown",
   "id": "11ec79e4-1fe7-4035-b5e7-9fa41b2616c6",
   "metadata": {},
   "source": [
    "### Train the same algorithm with original Scikit-learn\n",
    "In order to cancel optimizations, we use unpatch_sklearn and reimport DBSCAN"
   ]
  },
  {
   "cell_type": "code",
   "execution_count": 8,
   "id": "f2b5968d-0c3a-437c-b843-4642e4a031cb",
   "metadata": {},
   "outputs": [],
   "source": [
    "from sklearnex import unpatch_sklearn\n",
    "\n",
    "unpatch_sklearn()"
   ]
  },
  {
   "cell_type": "markdown",
   "id": "572bc0e5-952c-4ecb-ad86-d95fae0cb700",
   "metadata": {},
   "source": [
    "**Training of the DBSCAN algorithm with original Scikit-learn library for spoken arabic digit dataset**"
   ]
  },
  {
   "cell_type": "code",
   "execution_count": 9,
   "id": "9f263884-d725-4011-ae1e-db7d113a6fda",
   "metadata": {},
   "outputs": [
    {
     "data": {
      "text/plain": [
       "'Original Scikit-learn time: 400.32 s'"
      ]
     },
     "execution_count": 9,
     "metadata": {},
     "output_type": "execute_result"
    }
   ],
   "source": [
    "from sklearn.cluster import DBSCAN\n",
    "\n",
    "start = timer()\n",
    "y_pred = DBSCAN(**params).fit_predict(x_train)\n",
    "train_unpatched = timer() - start\n",
    "f\"Original Scikit-learn time: {train_unpatched:.2f} s\""
   ]
  },
  {
   "cell_type": "markdown",
   "id": "c7240c80-9a48-4165-a9a6-d52cc0c1f50b",
   "metadata": {},
   "source": [
    "**Evaluate performance using Davies-Bouldin score**"
   ]
  },
  {
   "cell_type": "code",
   "execution_count": 11,
   "id": "bc8f2a97-57c0-4e2e-886e-545a4d5e5b15",
   "metadata": {},
   "outputs": [
    {
     "data": {
      "text/plain": [
       "'Original Scikit-learn Davies-Bouldin score: 0.8506779263727179'"
      ]
     },
     "execution_count": 11,
     "metadata": {},
     "output_type": "execute_result"
    }
   ],
   "source": [
    "score_original = davies_bouldin_score(x_train, y_pred)\n",
    "f\"Original Scikit-learn Davies-Bouldin score: {score_original}\""
   ]
  },
  {
   "cell_type": "code",
   "execution_count": null,
   "id": "7d81467a-2cfe-445d-99b5-5be9ca518a47",
   "metadata": {},
   "outputs": [],
   "source": []
  }
 ],
 "metadata": {
  "kernelspec": {
   "display_name": "Tensorflow GPU",
   "language": "python",
   "name": "tensorflow-gpu"
  },
  "language_info": {
   "codemirror_mode": {
    "name": "ipython",
    "version": 3
   },
   "file_extension": ".py",
   "mimetype": "text/x-python",
   "name": "python",
   "nbconvert_exporter": "python",
   "pygments_lexer": "ipython3",
   "version": "3.9.19"
  }
 },
 "nbformat": 4,
 "nbformat_minor": 5
}
